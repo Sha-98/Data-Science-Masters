{
  "nbformat": 4,
  "nbformat_minor": 0,
  "metadata": {
    "colab": {
      "provenance": [],
      "authorship_tag": "ABX9TyMPC50O9XErQPzHf4qr/Ibx",
      "include_colab_link": true
    },
    "kernelspec": {
      "name": "python3",
      "display_name": "Python 3"
    },
    "language_info": {
      "name": "python"
    }
  },
  "cells": [
    {
      "cell_type": "markdown",
      "metadata": {
        "id": "view-in-github",
        "colab_type": "text"
      },
      "source": [
        "<a href=\"https://colab.research.google.com/github/Sha-98/Data-Science-Masters/blob/main/WebAPI_Assignment.ipynb\" target=\"_parent\"><img src=\"https://colab.research.google.com/assets/colab-badge.svg\" alt=\"Open In Colab\"/></a>"
      ]
    },
    {
      "cell_type": "markdown",
      "source": [
        "# **Web API Assignment**"
      ],
      "metadata": {
        "id": "vyJuPJA4wEXS"
      }
    },
    {
      "cell_type": "markdown",
      "source": [
        "## **Q1. What is an API? Give an example, where an API is used in real life.**\n"
      ],
      "metadata": {
        "id": "Esa1VUfDCMP8"
      }
    },
    {
      "cell_type": "markdown",
      "source": [
        "An API, or Application Programming Interface, is a set of rules and protocols that allows one software application to interact with another. It defines how software components should communicate and enables different applications or services to work together.\n",
        "\n",
        "A real life **example** of an API can be seen in all applications around us. For example, we try to login to chatgpt, and at the login page, it asks us if we would like to login through our gmail account. There, chatgpt is using the google api through which it can communicate with google server aboput our gmail credentials and let us log into chatgpt based on those credentials. Here, the communication and data sharing is through API. We use it quiet often, and now we know it."
      ],
      "metadata": {
        "id": "jEzJB2BMR8XJ"
      }
    },
    {
      "cell_type": "markdown",
      "source": [
        "## **Q2. Give advantages and disadvantages of using API.**"
      ],
      "metadata": {
        "id": "oeEWxyUECMTE"
      }
    },
    {
      "cell_type": "markdown",
      "source": [
        "There are certain advantages as well as disadvantages of using API. There are listed below:\n",
        "\n",
        "**01. ADVANTAGES OF API**\n",
        "\n",
        "* **Interoperability -** APIs allow different software systems to communicate with each other, promoting interoperability. This enables the integration of diverse applications and services.\n",
        "\n",
        "* **Reusability -** APIs promote code reusability by encapsulating specific functionalities. Developers can use existing APIs to add features without reinventing the wheel.\n",
        "\n",
        "* **Rapid Development -** APIs accelerate development by providing pre-built functionalities. Developers can focus on building specific features without having to create everything from scratch.\n",
        "\n",
        "* **Scalability -** APIs facilitate the scalability of applications. As demand grows, additional services or features can be integrated seamlessly by leveraging external APIs.\n",
        "\n",
        "* **Security -** APIs can enhance security by allowing controlled access to data and functionalities. Authentication and authorization mechanisms can be implemented to regulate API access.\n",
        "\n",
        "**02. DISADVANTAGES OF API**\n",
        "\n",
        "* **Dependency -** When relying on external APIs, applications become dependent on the availability and stability of those APIs. Changes or disruptions in external APIs can impact the functionality of dependent applications.\n",
        "\n",
        "* **Data Privacy and Security Concerns -** Exposing APIs can pose security challenges, and sensitive data might be at risk if proper security measures are not implemented. It is crucial to handle authentication, encryption, and access controls carefully.\n",
        "\n",
        "* **Costs -** Some APIs especially those provided by third party services, may involve costs based on usage. Developers need to be mindful of potential expenses, especially in high traffic applications.\n",
        "\n",
        "* **Versoning Challenges -** As APIs evolve, changes may occur that could break compatibility with existing applications. Proper versioning and backward compatibility are essential to mitigate these challenges.\n",
        "\n",
        "* **Limited Customization -** While APIs provide pre-built functionalities, they may not always align perfectly with the specific needs of an application. Customization options might be limited.\n",
        "\n"
      ],
      "metadata": {
        "id": "qUEJRzk4S3Mt"
      }
    },
    {
      "cell_type": "markdown",
      "source": [
        "## **Q3. What is a Web API? Differentiate between API and Web API.**\n"
      ],
      "metadata": {
        "id": "D7uLIPU0CMVs"
      }
    },
    {
      "cell_type": "markdown",
      "source": [
        "* **API (Application Programming Interface) -**\n",
        "\n",
        "An API, or Application Programming Interface, is a set of protocols, routines, tools, and definitions that allows different software applications to communicate with each other. It defines the methods and data formats that applications can use to request and exchange information. APIs can be used for various purposes, including accessing web services, libraries, or operating system functionality.\n",
        "\n",
        "* **Web API (Web Application Programming Interface) -**\n",
        "\n",
        "A Web API is a specific type of API that is designed to be accessed over the web using HTTP (Hypertext Transfer Protocol). It is a set of rules and tools for building software applications that can communicate with each other over the internet. Web APIs are commonly used to enable communication between a web server and a web client, allowing them to exchange data in a standardized format, often JSON (JavaScript Object Notation) or XML (eXtensible Markup Language).\n",
        "\n",
        "**DIFFERENCE btw API and WEB API -**\n",
        "\n",
        "**1. Scope of Communication -**\n",
        "\n",
        "* **API -** Broad, includes various types of interfaces\n",
        "* **Web API -** Specifically refers to web-based APIs\n",
        "\n",
        "**2. Communication Protocol -**\n",
        "\n",
        "* **API -** Can use various protocols, not limited\n",
        "* **Web API -** Primarily uses HTTP as the protocol\n",
        "\n",
        "**3. Usage -**\n",
        "\n",
        "* **API -**General term for any interface\n",
        "* **Web API -** Specifically used for web-based apps\n",
        "\n",
        "**4. Data Format -**\n",
        "\n",
        "* **API -** Can use various formats (JSON, XML, etc.)\n",
        "* **Web API -**Often uses JSON or XML for data exchange\n",
        "\n",
        "**5. Accessibility -**\n",
        "\n",
        "* **API -**\tCan be local or remote\n",
        "* **Web API -** Specifically designed for web access"
      ],
      "metadata": {
        "id": "a12fQ4pHYtug"
      }
    },
    {
      "cell_type": "markdown",
      "source": [
        "## **Q4. Explain REST and SOAP Architecture. Mention shortcomings of SOAP.**\n"
      ],
      "metadata": {
        "id": "rBxxoIOrCMY9"
      }
    },
    {
      "cell_type": "markdown",
      "source": [
        "**REST (Representational State Transfer) Architecture**\n",
        "\n",
        "REST is an architectural style for designing networked applications. It uses a stateless communication model, and interactions between clients and servers are based on standard HTTP methods (GET, POST, PUT, DELETE, etc.). RESTful APIs expose resources, and these resources are identified by URIs (Uniform Resource Identifiers). The key principles of REST include statelessness, a uniform interface, and the use of standard HTTP methods.\n",
        "\n",
        "**SOAP (Simple Object Access Protocol) Architecture**\n",
        "\n",
        "SOAP is a protocol for exchanging structured information in web services. It uses XML for message formatting and relies on other protocols such as HTTP and SMTP for message negotiation and transmission. SOAP is known for its strict standards and is designed to facilitate communication between applications over a network.\n",
        "\n",
        "**Shortcomings of SOAP:**\n",
        "\n",
        "* **Complexity:** SOAP messages are typically more complex than those in REST, making it more challenging to work with.\n",
        "\n",
        "* **Performance:** Due to its XML format and additional processing requirements, SOAP tends to have higher overhead, affecting performance.\n",
        "\n",
        "* **Resource Intensive:** SOAP requires more bandwidth and resources compared to REST, which can impact scalability.\n",
        "\n",
        "* **Statefulness:** SOAP services can be stateful, which can complicate interactions between clients and servers.\n"
      ],
      "metadata": {
        "id": "MFdiEkpfeBe4"
      }
    },
    {
      "cell_type": "markdown",
      "source": [
        "## **Q5. Differentiate between REST and SOAP.**"
      ],
      "metadata": {
        "id": "GrrEJipKCMb7"
      }
    },
    {
      "cell_type": "markdown",
      "source": [
        "**1. Protocol -**\n",
        "\n",
        "* **REST -** Uses standard HTTP methods (GET, POST, etc.)\n",
        "* **SOAP -** Has its own protocol and can use multiple protocols\n",
        "\n",
        "**2. Message Format -**\n",
        "\n",
        "* **REST -** Primarily uses JSON or XML for data interchange\n",
        "* **SOAP -** Strictly uses XML\n",
        "\n",
        "**3. Statefulness -**\n",
        "\n",
        "* **REST -** \tStateless (each request contains all information)\n",
        "* **SOAP -** Can be stateful or stateless depending on the application\n",
        "\n",
        "**4. Complexity -**\n",
        "\n",
        "* **REST -** Generally simpler and easier to implement\n",
        "* **SOAP -** More complex and rigid\n",
        "\n",
        "**5. Flexibility -**\n",
        "\n",
        "* **REST -** Flexible, suitable for a variety of applications\n",
        "* **SOAP -** Less flexible, adheres to strict standards\n"
      ],
      "metadata": {
        "id": "MQ1Yl7O3vh1m"
      }
    }
  ]
}