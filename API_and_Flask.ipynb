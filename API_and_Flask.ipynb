{
  "nbformat": 4,
  "nbformat_minor": 0,
  "metadata": {
    "colab": {
      "provenance": [],
      "authorship_tag": "ABX9TyP6/TZ/HEHaW++m4eM1jjJc",
      "include_colab_link": true
    },
    "kernelspec": {
      "name": "python3",
      "display_name": "Python 3"
    },
    "language_info": {
      "name": "python"
    }
  },
  "cells": [
    {
      "cell_type": "markdown",
      "metadata": {
        "id": "view-in-github",
        "colab_type": "text"
      },
      "source": [
        "<a href=\"https://colab.research.google.com/github/Sha-98/Data-Science-Masters/blob/main/API_and_Flask.ipynb\" target=\"_parent\"><img src=\"https://colab.research.google.com/assets/colab-badge.svg\" alt=\"Open In Colab\"/></a>"
      ]
    },
    {
      "cell_type": "markdown",
      "source": [
        "# API"
      ],
      "metadata": {
        "id": "1qKFNa-Kk8Fl"
      }
    },
    {
      "cell_type": "markdown",
      "source": [
        "API is the short for Application Programming Inerface, which is a set of rules that allows one software application to interact with another. It defines the mathods and data formats that applications can use to request and exchange information.\n",
        "\n",
        "APIs enable different softwares to communicate with each other by making the methods language independent as they are available via urls and can be accessed via http or https protocols on web.\n",
        "\n",
        "Some key points about APIs are as follows:\n",
        "\n",
        "**1. Communication Bridge for applications**\n",
        "\n",
        "**2. Standardized Interface for developers**\n",
        "\n",
        "**3. Request and Response gateway for inter application communication**\n",
        "\n",
        "### **What are Web APIs?**\n",
        "\n",
        "The APIs which are implemented using web technologies are known as web APIs. These use standard http or https methods such as GET, POST, PUT, DELETE for communication.\n",
        "\n",
        "The APIs often have specific endpoints or URLs for different functionalities."
      ],
      "metadata": {
        "id": "J-94L1PJmFBV"
      }
    },
    {
      "cell_type": "code",
      "source": [],
      "metadata": {
        "id": "_fGbj2yC9MFh"
      },
      "execution_count": null,
      "outputs": []
    },
    {
      "cell_type": "code",
      "source": [],
      "metadata": {
        "id": "nUw9c8pg9Nqu"
      },
      "execution_count": null,
      "outputs": []
    },
    {
      "cell_type": "code",
      "source": [],
      "metadata": {
        "id": "neU7jOav9RV9"
      },
      "execution_count": null,
      "outputs": []
    },
    {
      "cell_type": "code",
      "source": [],
      "metadata": {
        "id": "fedYy1HD9RZT"
      },
      "execution_count": null,
      "outputs": []
    }
  ]
}