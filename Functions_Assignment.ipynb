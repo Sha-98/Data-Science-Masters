{
 "cells": [
  {
   "cell_type": "markdown",
   "id": "2167f41f-da46-4437-b9f8-bbd151db319d",
   "metadata": {},
   "source": [
    "## Functions Assignment"
   ]
  },
  {
   "cell_type": "markdown",
   "id": "4280e1c9-4d27-4e3b-8121-47bbbb6713bd",
   "metadata": {},
   "source": [
    "### Question 1"
   ]
  },
  {
   "cell_type": "markdown",
   "id": "ca9ab338-9b6a-47d5-921e-53d6b79013e5",
   "metadata": {},
   "source": [
    "Which keyword is used to create a function? Create a function to return a list of odd numbers in the\n",
    "range of 1 to 25."
   ]
  },
  {
   "cell_type": "markdown",
   "id": "f1372d97-69c8-4881-a0b0-c5153662780e",
   "metadata": {},
   "source": [
    "We use 'def' keyword to create a function"
   ]
  },
  {
   "cell_type": "code",
   "execution_count": 1,
   "id": "db2e3d78-7ca8-4d8a-afeb-c98ba5556c40",
   "metadata": {},
   "outputs": [],
   "source": [
    "# function which returns a list of odd numbers in the range of 1 to 25\n",
    "def odd(n):\n",
    "    a = []\n",
    "    for i in range(n):\n",
    "        if i%2 !=0:\n",
    "            a.append(i)\n",
    "    return a"
   ]
  },
  {
   "cell_type": "code",
   "execution_count": 2,
   "id": "f70214f8-bf9c-4d7b-8686-7e38e43d3cdf",
   "metadata": {},
   "outputs": [
    {
     "data": {
      "text/plain": [
       "[1, 3, 5, 7, 9, 11, 13, 15, 17, 19, 21, 23]"
      ]
     },
     "execution_count": 2,
     "metadata": {},
     "output_type": "execute_result"
    }
   ],
   "source": [
    "odd(25)"
   ]
  },
  {
   "cell_type": "markdown",
   "id": "0f3396b2-dddb-487d-a41c-864016bbe91f",
   "metadata": {},
   "source": [
    "### Question 2"
   ]
  },
  {
   "cell_type": "markdown",
   "id": "7bcfecac-0efb-4b8e-beab-5968e3dd6ff3",
   "metadata": {},
   "source": [
    "Why *args and **kwargs is used in some functions? Create a function each for *args and **kwargs to\n",
    "demonstrate their use."
   ]
  },
  {
   "cell_type": "markdown",
   "id": "a4904fdb-c9b2-4a89-bf7b-2f7d67bdfc87",
   "metadata": {},
   "source": [
    "We use \"*args\" in function so that we can pass variable number of arguments into a function. Using \"*args\" does not set any single value to the number of variables that can be used in the function making the user or the programmer to use different number of variables as per the requirement. The only restriction in this one is that we cannot use keywords as a parameter to our function if we use \"*args\". For this, we have \"**kwargs\", which make us use variable number of keyword parameters into our function. For example, if we need to give some key and value pairs as the input parameters to our function, we would have to use \"**kwargs\" as \"*args\"  would not let us do so. This is the basic difference between \"*args\" and *\"\"kwargs*."
   ]
  },
  {
   "cell_type": "code",
   "execution_count": 3,
   "id": "de6c17fc-b7ba-496d-b472-df8fd2ab333c",
   "metadata": {},
   "outputs": [],
   "source": [
    "def fun(*args):\n",
    "    l = []\n",
    "    for i in args:\n",
    "        l.append(i)\n",
    "    return l"
   ]
  },
  {
   "cell_type": "code",
   "execution_count": 4,
   "id": "7aed6a8d-81d1-4bd8-976d-b43744b17f57",
   "metadata": {},
   "outputs": [
    {
     "data": {
      "text/plain": [
       "[1, 2, 3, 4, 5, 'Isha', 'Choudhary', 'Data Scientist']"
      ]
     },
     "execution_count": 4,
     "metadata": {},
     "output_type": "execute_result"
    }
   ],
   "source": [
    "fun(1,2,3,4,5, \"Isha\", \"Choudhary\", \"Data Scientist\")"
   ]
  },
  {
   "cell_type": "code",
   "execution_count": 5,
   "id": "0f2fe49b-4e07-472e-9508-0dec9bc14350",
   "metadata": {},
   "outputs": [],
   "source": [
    "def fun2(**kwargs):\n",
    "    total = 0\n",
    "    for amount in kwargs.values():\n",
    "        total += amount\n",
    "    return total"
   ]
  },
  {
   "cell_type": "code",
   "execution_count": 6,
   "id": "ea2d30aa-2ada-4bae-8cfe-0145401393fd",
   "metadata": {},
   "outputs": [
    {
     "data": {
      "text/plain": [
       "840"
      ]
     },
     "execution_count": 6,
     "metadata": {},
     "output_type": "execute_result"
    }
   ],
   "source": [
    "fun2(apple = 200, mango = 250, banana = 40, kiwi = 350)"
   ]
  },
  {
   "cell_type": "markdown",
   "id": "a33cf6ff-5aa9-4b44-af6b-5478f6f8cf94",
   "metadata": {},
   "source": [
    "### Question 3"
   ]
  },
  {
   "cell_type": "markdown",
   "id": "e1bfe642-2dcd-40a2-9825-4ab8835e4d1b",
   "metadata": {},
   "source": [
    "What is an iterator in python? Name the method used to initialise the iterator object and the method\n",
    "used for iteration. Use these methods to print the first five elements of the given list \n",
    "\n",
    "[2, 4, 6, 8, 10, 12, 14, 16, 18, 20]."
   ]
  },
  {
   "cell_type": "markdown",
   "id": "be9f05f8-17e2-4934-8f0a-736424ed552a",
   "metadata": {},
   "source": [
    "An iterator in python is an object which allows us to iterate over data present with us in the iterable objects like lists, dictionaries, sets, or tuples. The iterator allows us to access the elements of the data one by one and perform the desired operations on them as we go ahead. This process helps us performs various tasks in programming utilizing the memory in an optimized way and processing the problem statement in a systematic format. Iterators are an important part of computer programming as it allows us to traverse a container and access its elements one by one.\n",
    "\n",
    "The python iterator object is initialised using iter() method and the iteration is performed by using the next() method.\n",
    "__iter__(): This method returns the iterator object.\n",
    "__next__(): This method returns the next value for the iterable.\n",
    "\n",
    "For example, when we are using the \"for\" loop to iterate over a list (for example), internally, it is using iter() method to initialise the iterator which is then using the next() method to iterate over. Following cell showcase a simple example of how iter() and next() work to perform the iteration."
   ]
  },
  {
   "cell_type": "code",
   "execution_count": 7,
   "id": "bbd2c3b9-a647-4ba7-99ab-f11766716c0f",
   "metadata": {},
   "outputs": [
    {
     "name": "stdout",
     "output_type": "stream",
     "text": [
      "I\n",
      "s\n",
      "h\n",
      "a\n"
     ]
    }
   ],
   "source": [
    "#iterating over a string\n",
    "string = \"Isha\"\n",
    "ch_iterator = iter(string)\n",
    " \n",
    "print(next(ch_iterator))\n",
    "print(next(ch_iterator))\n",
    "print(next(ch_iterator))\n",
    "print(next(ch_iterator))"
   ]
  },
  {
   "cell_type": "code",
   "execution_count": 8,
   "id": "148f562c-9e84-4969-acdd-062fe5409bd8",
   "metadata": {},
   "outputs": [
    {
     "name": "stdout",
     "output_type": "stream",
     "text": [
      "1\n",
      "2\n",
      "3\n",
      "4\n",
      "5\n"
     ]
    }
   ],
   "source": [
    "#iterating over a list\n",
    "l = [1,2,3,4,5]\n",
    "\n",
    "list_iterator = iter(l)\n",
    "\n",
    "print(next(list_iterator))\n",
    "print(next(list_iterator))\n",
    "print(next(list_iterator))\n",
    "print(next(list_iterator))\n",
    "print(next(list_iterator))"
   ]
  },
  {
   "cell_type": "markdown",
   "id": "2c652aa7-5daa-4ea2-9506-cffc87d4f8c2",
   "metadata": {},
   "source": [
    "### Question 4"
   ]
  },
  {
   "cell_type": "markdown",
   "id": "c79287ff-38fc-4904-b927-1e2830eb0990",
   "metadata": {
    "tags": []
   },
   "source": [
    "What is a generator function in python? Why yield keyword is used? Give an example of a generator\n",
    "function."
   ]
  },
  {
   "cell_type": "markdown",
   "id": "f14dd89b-b8e5-4963-ba14-d38911c227af",
   "metadata": {},
   "source": [
    "Generator functions are different from normal functions and are specifically created with a vision of using minimum memory possible during run time. The main difference in the code among the normal function and the generator function is the use of key words \"return\" and \"yield\". The 'yield' keyword converts any expression which is given with it into a generator object and returns it to the caller.\n",
    "\n",
    "One of the best and famous examples of the generator functions is the Fibonacci Series. Following cell of code shows a different simple example of a generator function in python."
   ]
  },
  {
   "cell_type": "code",
   "execution_count": 9,
   "id": "624b3e9c-5d8e-4ffd-98c5-2670b1c2f92f",
   "metadata": {},
   "outputs": [],
   "source": [
    "def num_gen(n):\n",
    "    value = 0\n",
    "    while value < n:\n",
    "        yield value\n",
    "        value+=1"
   ]
  },
  {
   "cell_type": "code",
   "execution_count": 10,
   "id": "a2e98098-6d19-40db-9bb4-01041e79a851",
   "metadata": {},
   "outputs": [
    {
     "data": {
      "text/plain": [
       "<generator object num_gen at 0x7fce8ff55cb0>"
      ]
     },
     "execution_count": 10,
     "metadata": {},
     "output_type": "execute_result"
    }
   ],
   "source": [
    "num_gen(5)"
   ]
  },
  {
   "cell_type": "code",
   "execution_count": 11,
   "id": "306e0ae9-8f27-4dfa-9d6e-43ff686585b8",
   "metadata": {},
   "outputs": [
    {
     "name": "stdout",
     "output_type": "stream",
     "text": [
      "0\n",
      "1\n",
      "2\n",
      "3\n",
      "4\n"
     ]
    }
   ],
   "source": [
    "for i in num_gen(5):\n",
    "    print(i)"
   ]
  },
  {
   "cell_type": "code",
   "execution_count": 12,
   "id": "16dcd221-fa41-4eee-9580-223f254806ea",
   "metadata": {},
   "outputs": [],
   "source": [
    "def num_gen1(n):\n",
    "    value = 0\n",
    "    while value <= n:\n",
    "        yield value\n",
    "        value+=1"
   ]
  },
  {
   "cell_type": "code",
   "execution_count": 13,
   "id": "3c48621f-0ab9-465c-afdb-fa0f6b998c4b",
   "metadata": {},
   "outputs": [
    {
     "name": "stdout",
     "output_type": "stream",
     "text": [
      "0\n",
      "1\n",
      "2\n",
      "3\n",
      "4\n",
      "5\n"
     ]
    }
   ],
   "source": [
    "for i in num_gen1(5):\n",
    "    print(i)"
   ]
  },
  {
   "cell_type": "markdown",
   "id": "036c931d-c827-4662-8287-a4116aee5af4",
   "metadata": {},
   "source": [
    "### Question 5"
   ]
  },
  {
   "cell_type": "markdown",
   "id": "5f1e3f0f-e84e-40a2-ab55-30ac4f511615",
   "metadata": {},
   "source": [
    "Create a generator function for prime numbers less than 1000. Use the next() method to print the\n",
    "first 20 prime numbers."
   ]
  },
  {
   "cell_type": "markdown",
   "id": "8f71cfe0-d2a6-4041-a96f-0fc066828e13",
   "metadata": {},
   "source": [
    "To create a generator function for generating the prime numbers less than 1000 and using next() method for printing the first 20 prime numbers, the first step is to create the logic to itentify a prime number from the list of numbers.\n",
    "The definition of a prime number is that \"the number which is only divisible by 1 and itself is a prime number\". This is the core logic of the function written in the cells below.\n",
    "\n",
    "The next() method is used to iterate over the generated numbers till it prints the first 20 prime numbers."
   ]
  },
  {
   "cell_type": "code",
   "execution_count": 20,
   "id": "fa6b387d-b1ce-476d-8ee1-62d803a72b96",
   "metadata": {},
   "outputs": [],
   "source": [
    "def isPrime(num):\n",
    "    if (num==1 or num==0 or num>1000):\n",
    "        return False\n",
    "    else:\n",
    "        for i in range(2,num):\n",
    "            if num%i==0:\n",
    "                return False\n",
    "    return True"
   ]
  },
  {
   "cell_type": "code",
   "execution_count": 36,
   "id": "ad76daa0-df7b-4ea0-a5c9-a595e5deffad",
   "metadata": {},
   "outputs": [],
   "source": [
    "def gen_prime(n):\n",
    "    num=2\n",
    "    while n:\n",
    "        if isPrime(num):\n",
    "            # if num<1000:\n",
    "            yield num\n",
    "            n-=1\n",
    "        num+=1\n",
    "        if num>1000:\n",
    "            break"
   ]
  },
  {
   "cell_type": "code",
   "execution_count": 26,
   "id": "4d4d6b82-bdc3-4ce2-ac02-56c0282d7403",
   "metadata": {},
   "outputs": [
    {
     "data": {
      "text/plain": [
       "<generator object gen_prime at 0x7fce8c249150>"
      ]
     },
     "execution_count": 26,
     "metadata": {},
     "output_type": "execute_result"
    }
   ],
   "source": [
    "gen_prime(20)"
   ]
  },
  {
   "cell_type": "code",
   "execution_count": 34,
   "id": "fd9774eb-7e02-454a-921f-67f8cf3db9dc",
   "metadata": {},
   "outputs": [
    {
     "name": "stdout",
     "output_type": "stream",
     "text": [
      "2 3 5 7 11 13 17 19 23 29 31 37 41 43 47 53 59 61 67 71 "
     ]
    }
   ],
   "source": [
    "for i in gen_prime(20):\n",
    "    print(i, end=' ')"
   ]
  },
  {
   "cell_type": "code",
   "execution_count": 35,
   "id": "967bcddd-88a7-48b0-8cc5-0c03a94506ab",
   "metadata": {},
   "outputs": [
    {
     "name": "stdout",
     "output_type": "stream",
     "text": [
      "2 3 5 7 11 13 17 19 23 29 31 37 41 43 47 53 59 61 67 71 73 79 83 89 97 101 103 107 109 113 127 131 137 139 149 151 157 163 167 173 179 181 191 193 197 199 211 223 227 229 "
     ]
    }
   ],
   "source": [
    "for i in gen_prime(50):\n",
    "    print(i, end=' ')"
   ]
  },
  {
   "cell_type": "code",
   "execution_count": 28,
   "id": "217856ac-3b24-4c6a-a242-08d31f79443a",
   "metadata": {},
   "outputs": [
    {
     "name": "stdout",
     "output_type": "stream",
     "text": [
      "2 3 5 7 11 13 17 19 23 29 31 37 41 43 47 53 59 61 67 71 73 79 83 89 97 101 103 107 109 113 127 131 137 139 149 151 157 163 167 173 179 181 191 193 197 199 211 223 227 229 233 239 241 251 257 263 269 271 277 281 283 293 307 311 313 317 331 337 347 349 353 359 367 373 379 383 389 397 401 409 419 421 431 433 439 443 449 457 461 463 467 479 487 491 499 503 509 521 523 541 "
     ]
    }
   ],
   "source": [
    "for i in gen_prime(100):\n",
    "    print(i, end=' ')"
   ]
  },
  {
   "cell_type": "code",
   "execution_count": 37,
   "id": "be3ed96e-d3f8-4674-be20-605d24b3c036",
   "metadata": {},
   "outputs": [
    {
     "name": "stdout",
     "output_type": "stream",
     "text": [
      "2 3 5 7 11 13 17 19 23 29 31 37 41 43 47 53 59 61 67 71 73 79 83 89 97 101 103 107 109 113 127 131 137 139 149 151 157 163 167 173 179 181 191 193 197 199 211 223 227 229 233 239 241 251 257 263 269 271 277 281 283 293 307 311 313 317 331 337 347 349 353 359 367 373 379 383 389 397 401 409 419 421 431 433 439 443 449 457 461 463 467 479 487 491 499 503 509 521 523 541 547 557 563 569 571 577 587 593 599 601 607 613 617 619 631 641 643 647 653 659 661 673 677 683 691 701 709 719 727 733 739 743 751 757 761 769 773 787 797 809 811 821 823 827 829 839 853 857 859 863 877 881 883 887 907 911 919 929 937 941 947 953 967 971 977 983 991 997 "
     ]
    }
   ],
   "source": [
    "for i in gen_prime(200):\n",
    "    print(i, end=' ')"
   ]
  }
 ],
 "metadata": {
  "kernelspec": {
   "display_name": "Python 3 (ipykernel)",
   "language": "python",
   "name": "python3"
  },
  "language_info": {
   "codemirror_mode": {
    "name": "ipython",
    "version": 3
   },
   "file_extension": ".py",
   "mimetype": "text/x-python",
   "name": "python",
   "nbconvert_exporter": "python",
   "pygments_lexer": "ipython3",
   "version": "3.10.8"
  }
 },
 "nbformat": 4,
 "nbformat_minor": 5
}
