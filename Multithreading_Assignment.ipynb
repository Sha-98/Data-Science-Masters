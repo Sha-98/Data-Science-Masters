{
  "nbformat": 4,
  "nbformat_minor": 0,
  "metadata": {
    "colab": {
      "provenance": [],
      "include_colab_link": true
    },
    "kernelspec": {
      "name": "python3",
      "display_name": "Python 3"
    },
    "language_info": {
      "name": "python"
    }
  },
  "cells": [
    {
      "cell_type": "markdown",
      "metadata": {
        "id": "view-in-github",
        "colab_type": "text"
      },
      "source": [
        "<a href=\"https://colab.research.google.com/github/Sha-98/Data-Science-Masters/blob/main/Multithreading_Assignment.ipynb\" target=\"_parent\"><img src=\"https://colab.research.google.com/assets/colab-badge.svg\" alt=\"Open In Colab\"/></a>"
      ]
    },
    {
      "cell_type": "markdown",
      "source": [
        "# Multithreading Assignment\n"
      ],
      "metadata": {
        "id": "bJis2SSPKJ6p"
      }
    },
    {
      "cell_type": "markdown",
      "source": [
        "Q1. What is multithreading in python? Why is it used? Name the module used to handle threads in python\n",
        "\n",
        "Ans. Multithreading is a concurrent execution technique which allows a python program to perform multiple tasks concurrently. In simple words, we know that our computers have multiple cores, some have four (quad-core processor) while some have eight core (octa-core processor). The programs we develop and run are running on these cores, one program per core at one time. Now, if we want to run multiple programs on one single core, keeping rest of the cores free for other work, we can do that using the concept of threading.\n",
        "\n",
        "In multithreading, a program consists of multiple threads, each of which executes independently but shares the same resources like memory space. Python's threading module is used to create and manage threads.\n",
        "\n",
        "We use the 'threading' module in python to handle threads."
      ],
      "metadata": {
        "id": "-Vhd0IjhXPIZ"
      }
    },
    {
      "cell_type": "markdown",
      "source": [
        "Q2. Why threading module used? Write the use of the following functions\n",
        "\n",
        "a. activeCount\n",
        "b. currentThread\n",
        "c. enumerate\n",
        "\n",
        "Ans. The threading module in Python is used to create and manage threads, which are lightweight sub-processes that can run concurrently within a single process. Threads are useful for parallelizing tasks and taking advantage of multi-core processors. Here's an explanation of the functions you mentioned:\n",
        "\n",
        "\n",
        "* activeCount:\n",
        "\n",
        "The activeCount function is used to get the current number of Thread objects that are currently alive (i.e., running or in a runnable state).\n",
        "\n",
        "This function is helpful for monitoring the number of active threads in your program.\n"
      ],
      "metadata": {
        "id": "0G0A3KYBWon3"
      }
    },
    {
      "cell_type": "code",
      "source": [
        "import threading\n",
        "\n",
        "def worker():\n",
        "    pass\n",
        "\n",
        "# Create and start multiple threads\n",
        "threads = [threading.Thread(target=worker) for _ in range(5)]\n",
        "for thread in threads:\n",
        "    thread.start()\n",
        "\n",
        "# Check the number of active threads\n",
        "active_threads = threading.activeCount()\n",
        "print(f\"Number of active threads: {active_threads}\")\n"
      ],
      "metadata": {
        "colab": {
          "base_uri": "https://localhost:8080/"
        },
        "id": "kZcN1D4bZE8S",
        "outputId": "45226911-dcb7-4c15-be3a-238795cc257d"
      },
      "execution_count": null,
      "outputs": [
        {
          "output_type": "stream",
          "name": "stdout",
          "text": [
            "Number of active threads: 5\n"
          ]
        },
        {
          "output_type": "stream",
          "name": "stderr",
          "text": [
            "<ipython-input-5-3eefaeef35be>:12: DeprecationWarning: activeCount() is deprecated, use active_count() instead\n",
            "  active_threads = threading.activeCount()\n"
          ]
        }
      ]
    },
    {
      "cell_type": "markdown",
      "source": [
        "* currentThread:\n",
        "\n",
        "The currentThread function returns the currently executing Thread object.\n",
        "It allows you to obtain information about the currently running thread, such as its name or thread ID.\n"
      ],
      "metadata": {
        "id": "qKUQLRKzZLsa"
      }
    },
    {
      "cell_type": "code",
      "source": [
        "def worker():\n",
        "    current_thread = threading.currentThread()\n",
        "    print(f\"Current thread name: {current_thread.name}\")\n",
        "\n",
        "# Create and start a thread\n",
        "thread = threading.Thread(target=worker, name=\"WorkerThread\")\n",
        "thread.start()\n",
        "thread.join()"
      ],
      "metadata": {
        "colab": {
          "base_uri": "https://localhost:8080/"
        },
        "id": "CuDa2cwLZJnK",
        "outputId": "9aa0341f-00f1-48a9-a2f6-c6eba8bb6a5c"
      },
      "execution_count": null,
      "outputs": [
        {
          "output_type": "stream",
          "name": "stdout",
          "text": [
            "Current thread name: WorkerThread\n"
          ]
        },
        {
          "output_type": "stream",
          "name": "stderr",
          "text": [
            "<ipython-input-6-88792d48b01f>:2: DeprecationWarning: currentThread() is deprecated, use current_thread() instead\n",
            "  current_thread = threading.currentThread()\n"
          ]
        }
      ]
    },
    {
      "cell_type": "markdown",
      "source": [
        "* enumerate:\n",
        "\n",
        "The enumerate function returns a list of all currently alive Thread objects. It can be used to obtain a list of all running or active threads in your program.\n",
        "\n",
        "In the following example, we create five threads, enumerate them using enumerate, and print their names. The MainThread is the main program thread, and the other threads are the worker threads we created."
      ],
      "metadata": {
        "id": "YzZIUGZbZR6H"
      }
    },
    {
      "cell_type": "code",
      "source": [
        "import time\n",
        "\n",
        "def worker():\n",
        "    time.sleep(1)\n",
        "\n",
        "# Create and start multiple threads\n",
        "threads = [threading.Thread(target=worker) for _ in range(5)]\n",
        "for thread in threads:\n",
        "    thread.start()\n",
        "\n",
        "# Enumerate and print all currently active threads\n",
        "active_threads = threading.enumerate()\n",
        "for thread in active_threads:\n",
        "    print(f\"Active thread: {thread.name}\")\n",
        "\n",
        "# Wait for all threads to finish\n",
        "for thread in threads:\n",
        "    thread.join()"
      ],
      "metadata": {
        "colab": {
          "base_uri": "https://localhost:8080/"
        },
        "id": "GFkcAkcRZWEh",
        "outputId": "f6241207-e715-40c9-c536-bc718a69aff1"
      },
      "execution_count": null,
      "outputs": [
        {
          "output_type": "stream",
          "name": "stdout",
          "text": [
            "Active thread: MainThread\n",
            "Active thread: Thread-2 (_thread_main)\n",
            "Active thread: Thread-3\n",
            "Active thread: Thread-1\n",
            "Active thread: _colab_inspector_thread\n",
            "Active thread: Thread-15 (worker)\n",
            "Active thread: Thread-16 (worker)\n",
            "Active thread: Thread-17 (worker)\n",
            "Active thread: Thread-18 (worker)\n",
            "Active thread: Thread-19 (worker)\n"
          ]
        }
      ]
    },
    {
      "cell_type": "code",
      "source": [],
      "metadata": {
        "id": "tPqpmmABZawG"
      },
      "execution_count": null,
      "outputs": []
    },
    {
      "cell_type": "markdown",
      "source": [
        "Q3. Explain the following functions\n",
        "\n",
        "a. run\n",
        "\n",
        "The run method is where you place the code that you want a thread to execute when it's started.\n",
        "You should override this method in a subclass of Thread and define the thread's behavior.\n",
        "When you create an instance of a thread and call its start method, it internally calls the run method to execute the thread's code.\n",
        "\n"
      ],
      "metadata": {
        "id": "LCm1PBFBWqMd"
      }
    },
    {
      "cell_type": "code",
      "source": [
        "class MyThread(threading.Thread):\n",
        "    def run(self):\n",
        "        print(f\"Thread {self.getName()} is running\")\n",
        "\n",
        "# Create and start a custom thread\n",
        "thread = MyThread()\n",
        "thread.start()"
      ],
      "metadata": {
        "colab": {
          "base_uri": "https://localhost:8080/"
        },
        "id": "hYHss-f8aCTr",
        "outputId": "85eb618a-2fe1-44a9-e82c-16612477fc8f"
      },
      "execution_count": null,
      "outputs": [
        {
          "output_type": "stream",
          "name": "stderr",
          "text": [
            "<ipython-input-8-296b614aea0d>:3: DeprecationWarning: getName() is deprecated, get the name attribute instead\n",
            "  print(f\"Thread {self.getName()} is running\")\n"
          ]
        },
        {
          "output_type": "stream",
          "name": "stdout",
          "text": [
            "Thread Thread-20 is running\n"
          ]
        }
      ]
    },
    {
      "cell_type": "markdown",
      "source": [
        "b. start\n",
        "\n",
        "The start method is used to initiate the execution of a thread. It tells the operating system to create a new thread and start executing the run method.\n",
        "Once a thread is started, it runs independently of the main thread or other threads.\n",
        "It can only be called once for a given thread; subsequent calls will raise an RuntimeError."
      ],
      "metadata": {
        "id": "2KSw-MYoaCy-"
      }
    },
    {
      "cell_type": "code",
      "source": [
        "def worker():\n",
        "    print(\"Worker thread is working\")\n",
        "\n",
        "# Create and start a thread\n",
        "thread = threading.Thread(target=worker)\n",
        "thread.start()"
      ],
      "metadata": {
        "colab": {
          "base_uri": "https://localhost:8080/"
        },
        "id": "6252C4OsaLrg",
        "outputId": "0639324c-70e7-4f9d-c866-f0b218fff242"
      },
      "execution_count": null,
      "outputs": [
        {
          "output_type": "stream",
          "name": "stdout",
          "text": [
            "Worker thread is working\n"
          ]
        }
      ]
    },
    {
      "cell_type": "markdown",
      "source": [
        "c. join\n",
        "\n",
        "The join method is used to wait for a thread to finish its execution before proceeding with the main thread or other tasks.\n",
        "\n",
        "It allows us to synchronize the execution of threads and ensure that a thread has completed its work before continuing."
      ],
      "metadata": {
        "id": "RT_MPBRRaK32"
      }
    },
    {
      "cell_type": "code",
      "source": [
        "def worker():\n",
        "    time.sleep(2)\n",
        "    print(\"Worker thread has finished\")\n",
        "\n",
        "# Create and start a thread\n",
        "thread = threading.Thread(target=worker)\n",
        "thread.start()\n",
        "\n",
        "# Wait for the thread to finish\n",
        "thread.join()\n",
        "print(\"Main thread continues\")"
      ],
      "metadata": {
        "colab": {
          "base_uri": "https://localhost:8080/"
        },
        "id": "hHJWeEqZaTt2",
        "outputId": "d61d2cea-c52a-431f-d9b6-d2385d513173"
      },
      "execution_count": null,
      "outputs": [
        {
          "output_type": "stream",
          "name": "stdout",
          "text": [
            "Worker thread has finished\n",
            "Main thread continues\n"
          ]
        }
      ]
    },
    {
      "cell_type": "markdown",
      "source": [
        "d. isAlive\n",
        "\n",
        "The isAlive method checks whether a thread is currently running or alive.\n",
        "\n",
        "It returns True if the thread is still active (running), and False otherwise."
      ],
      "metadata": {
        "id": "-Z0zgwwFaS4L"
      }
    },
    {
      "cell_type": "code",
      "source": [
        "def worker():\n",
        "    time.sleep(2)\n",
        "\n",
        "# Create and start a thread\n",
        "thread = threading.Thread(target=worker)\n",
        "thread.start()\n",
        "\n",
        "# Check if the thread is alive\n",
        "alive = thread.is_alive()\n",
        "print(f\"Thread is alive: {alive}\")\n",
        "\n",
        "# Wait for the thread to finish\n",
        "thread.join()"
      ],
      "metadata": {
        "colab": {
          "base_uri": "https://localhost:8080/"
        },
        "id": "nfA5QLxnagoN",
        "outputId": "c9c909cb-62f0-4f89-a4a1-9030cfd3f2f0"
      },
      "execution_count": null,
      "outputs": [
        {
          "output_type": "stream",
          "name": "stdout",
          "text": [
            "Thread is alive: True\n"
          ]
        }
      ]
    },
    {
      "cell_type": "markdown",
      "source": [
        "Q4. Write a python program to create two threads. Thread one must print the list of squares and thread\n",
        "two must print the list of cubes\n",
        "\n"
      ],
      "metadata": {
        "id": "Swq_AgcmWryu"
      }
    },
    {
      "cell_type": "code",
      "source": [
        "def print_squares():\n",
        "    for i in range(1, 6):\n",
        "        print(f\"Square of {i}: {i**2}\")\n",
        "\n",
        "# Function to print a list of cubes\n",
        "def print_cubes():\n",
        "    for i in range(1, 6):\n",
        "        print(f\"Cube of {i}: {i**3}\")\n",
        "\n",
        "# Create two threads\n",
        "thread1 = threading.Thread(target=print_squares)\n",
        "thread2 = threading.Thread(target=print_cubes)\n",
        "\n",
        "# Start both threads\n",
        "thread1.start()\n",
        "thread2.start()\n",
        "\n",
        "# Wait for both threads to finish\n",
        "thread1.join()\n",
        "thread2.join()\n",
        "\n",
        "print(\"Both threads have finished.\")"
      ],
      "metadata": {
        "colab": {
          "base_uri": "https://localhost:8080/"
        },
        "id": "yChuNk5zcvQB",
        "outputId": "da0b4175-2436-4732-e064-af567f473ef5"
      },
      "execution_count": null,
      "outputs": [
        {
          "output_type": "stream",
          "name": "stdout",
          "text": [
            "Square of 1: 1\n",
            "Square of 2: 4\n",
            "Square of 3: 9\n",
            "Square of 4: 16\n",
            "Square of 5: 25\n",
            "Cube of 1: 1\n",
            "Cube of 2: 8\n",
            "Cube of 3: 27\n",
            "Cube of 4: 64\n",
            "Cube of 5: 125\n",
            "Both threads have finished.\n"
          ]
        }
      ]
    },
    {
      "cell_type": "markdown",
      "source": [
        "Q5. State advantages and disadvantages of multithreading\n",
        "\n",
        "Ans. Multithreading is a powerful technique used in software development to perform multiple tasks concurrently within a single process. However, it comes with its own set of advantages and disadvantages:\n",
        "\n",
        "* Advantages of Multithreading:\n",
        "\n",
        "1. Improved Performance: Multithreading can lead to improved performance, especially on multi-core processors. It allows multiple threads to execute tasks in parallel, making better use of available CPU resources.\n",
        "\n",
        "2. Responsiveness: Multithreading can enhance the responsiveness of an application. For example, in a graphical user interface (GUI) application, one thread can handle user input and events while another thread performs background tasks.\n",
        "\n",
        "3. Efficient Resource Utilization: Threads share the same process memory space, reducing the overhead of creating separate processes. This efficient resource sharing makes multithreading a lightweight solution\n",
        "\n",
        "* Disadvantages of Multithreading:\n",
        "\n",
        "1. Complexity: Multithreaded code can be challenging to write, debug, and maintain. Synchronization issues, race conditions, and deadlocks are common problems in multithreaded applications.\n",
        "\n",
        "2. Resource Contention: When multiple threads access shared resources (e.g., variables, data structures) concurrently, resource contention can occur, leading to unpredictable behavior and performance degradation.\n",
        "\n",
        "3. Difficulty in Debugging: Debugging multithreaded code can be complex and time-consuming. Issues may be intermittent and hard to reproduce.\n",
        "\n",
        "4. Platform Dependency: Multithreading behavior can vary across different platforms and operating systems, making it less portable.\n"
      ],
      "metadata": {
        "id": "pvCZ2vIOWugr"
      }
    },
    {
      "cell_type": "markdown",
      "source": [
        "Q6. Explain deadlocks and race conditions.\n",
        "\n",
        "Ans. Deadlocks and race conditions are two common concurrency-related issues that can occur in multithreaded or multiprocess applications. Let's explain each of them:\n",
        "\n",
        "1. Deadlock:\n",
        "\n",
        "A deadlock occurs when two or more threads or processes are unable to proceed because each is waiting for the other(s) to release a resource. In other words, they are stuck in a circular wait.\n",
        "\n",
        "Deadlocks typically happen when multiple threads compete for exclusive access to resources (e.g., locks, memory, or files) and they acquire resources in different orders.\n",
        "\n",
        "2. Race Condition:\n",
        "\n",
        "A race condition occurs when two or more threads or processes access shared data concurrently, and the final outcome depends on the timing or order of their execution. This can lead to unpredictable and incorrect results.\n",
        "\n",
        "Race conditions typically happen when multiple threads access shared resources or variables without proper synchronization, and at least one thread modifies the resource."
      ],
      "metadata": {
        "id": "dEXmYUDgWy1n"
      }
    },
    {
      "cell_type": "code",
      "source": [],
      "metadata": {
        "id": "EiZTAKdDXoHd"
      },
      "execution_count": null,
      "outputs": []
    },
    {
      "cell_type": "code",
      "source": [],
      "metadata": {
        "id": "_TCSxQRUdOCW"
      },
      "execution_count": null,
      "outputs": []
    },
    {
      "cell_type": "code",
      "source": [],
      "metadata": {
        "id": "FMqgjr0PdOFl"
      },
      "execution_count": null,
      "outputs": []
    },
    {
      "cell_type": "code",
      "source": [],
      "metadata": {
        "id": "agybOWrwdOIC"
      },
      "execution_count": null,
      "outputs": []
    },
    {
      "cell_type": "code",
      "source": [],
      "metadata": {
        "id": "TKOfXUMJdOMx"
      },
      "execution_count": null,
      "outputs": []
    },
    {
      "cell_type": "code",
      "source": [],
      "metadata": {
        "id": "hbm4cFyrdOPd"
      },
      "execution_count": null,
      "outputs": []
    },
    {
      "cell_type": "code",
      "source": [],
      "metadata": {
        "id": "yq9uK9gFdOR_"
      },
      "execution_count": null,
      "outputs": []
    },
    {
      "cell_type": "code",
      "source": [],
      "metadata": {
        "id": "UasPbU6YdOUy"
      },
      "execution_count": null,
      "outputs": []
    },
    {
      "cell_type": "code",
      "source": [],
      "metadata": {
        "id": "Wjq_FZdrdOXW"
      },
      "execution_count": null,
      "outputs": []
    },
    {
      "cell_type": "code",
      "source": [],
      "metadata": {
        "id": "vaBtvOZXdOaN"
      },
      "execution_count": null,
      "outputs": []
    },
    {
      "cell_type": "code",
      "source": [],
      "metadata": {
        "id": "Ye27fLLydOc4"
      },
      "execution_count": null,
      "outputs": []
    },
    {
      "cell_type": "code",
      "source": [],
      "metadata": {
        "id": "hRn6iy1WdOe8"
      },
      "execution_count": null,
      "outputs": []
    },
    {
      "cell_type": "code",
      "source": [],
      "metadata": {
        "id": "P8x0zBSpdOhW"
      },
      "execution_count": null,
      "outputs": []
    },
    {
      "cell_type": "code",
      "source": [],
      "metadata": {
        "id": "BkjLoyKudOjq"
      },
      "execution_count": null,
      "outputs": []
    },
    {
      "cell_type": "code",
      "source": [],
      "metadata": {
        "id": "pOSXgeYbdOl_"
      },
      "execution_count": null,
      "outputs": []
    },
    {
      "cell_type": "code",
      "source": [],
      "metadata": {
        "id": "GxHahuwjdOon"
      },
      "execution_count": null,
      "outputs": []
    },
    {
      "cell_type": "code",
      "source": [],
      "metadata": {
        "id": "p64JWEcZdOrM"
      },
      "execution_count": null,
      "outputs": []
    },
    {
      "cell_type": "code",
      "source": [],
      "metadata": {
        "id": "W7KtDsHwdOt9"
      },
      "execution_count": null,
      "outputs": []
    },
    {
      "cell_type": "code",
      "source": [],
      "metadata": {
        "id": "_-9G8OFvdOwq"
      },
      "execution_count": null,
      "outputs": []
    },
    {
      "cell_type": "code",
      "source": [],
      "metadata": {
        "id": "C9PhGDJ4dO0t"
      },
      "execution_count": null,
      "outputs": []
    },
    {
      "cell_type": "code",
      "source": [],
      "metadata": {
        "id": "jrxqzmordO3W"
      },
      "execution_count": null,
      "outputs": []
    },
    {
      "cell_type": "code",
      "source": [],
      "metadata": {
        "id": "odiaEo4ddO52"
      },
      "execution_count": null,
      "outputs": []
    },
    {
      "cell_type": "code",
      "source": [],
      "metadata": {
        "id": "Bozu9WfSdO8h"
      },
      "execution_count": null,
      "outputs": []
    },
    {
      "cell_type": "code",
      "source": [],
      "metadata": {
        "id": "iNhm2lW3dO_B"
      },
      "execution_count": null,
      "outputs": []
    },
    {
      "cell_type": "code",
      "source": [],
      "metadata": {
        "id": "EDxAzUjrdPCi"
      },
      "execution_count": null,
      "outputs": []
    },
    {
      "cell_type": "markdown",
      "source": [
        "Q1. What is multiprocessing in python? Why is it useful?\n",
        "\n",
        "Q2. What are the differences between multiprocessing and multithreading?\n",
        "\n",
        "Q3. Write a python code to create a process using the multiprocessing module.\n",
        "\n",
        "Q4. What is a multiprocessing pool in python? Why is it used?\n",
        "\n",
        "Q5. How can we create a pool of worker processes in python using the multiprocessing module?\n",
        "\n",
        "Q6. Write a python program to create 4 processes, each process should print a different number using the\n",
        "multiprocessing module in python."
      ],
      "metadata": {
        "id": "sD80hCM8Xow6"
      }
    },
    {
      "cell_type": "code",
      "source": [],
      "metadata": {
        "id": "soVUfSKuXulO"
      },
      "execution_count": null,
      "outputs": []
    }
  ]
}