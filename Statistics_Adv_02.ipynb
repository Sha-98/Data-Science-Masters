{
  "nbformat": 4,
  "nbformat_minor": 0,
  "metadata": {
    "colab": {
      "provenance": [],
      "authorship_tag": "ABX9TyPxkADz1eyiCAbxCIOxLoCQ",
      "include_colab_link": true
    },
    "kernelspec": {
      "name": "python3",
      "display_name": "Python 3"
    },
    "language_info": {
      "name": "python"
    }
  },
  "cells": [
    {
      "cell_type": "markdown",
      "metadata": {
        "id": "view-in-github",
        "colab_type": "text"
      },
      "source": [
        "<a href=\"https://colab.research.google.com/github/Sha-98/Data-Science-Masters/blob/main/Statistics_Adv_02.ipynb\" target=\"_parent\"><img src=\"https://colab.research.google.com/assets/colab-badge.svg\" alt=\"Open In Colab\"/></a>"
      ]
    },
    {
      "cell_type": "markdown",
      "source": [
        "# **Statistics Advance 02 - Assignment**"
      ],
      "metadata": {
        "id": "VJl8Re9mmM3o"
      }
    },
    {
      "cell_type": "markdown",
      "source": [
        "## **Q1. What are the Probability Mass Function (PMF) and Probability Density Function (PDF)? Explain with an example.**\n",
        "\n"
      ],
      "metadata": {
        "id": "ztdRfuD2PUH2"
      }
    },
    {
      "cell_type": "markdown",
      "source": [
        "The Probability Mass Function (PMF) and Probability Density Function (PDF) are statistical concepts used to describe the probability distribution of a discrete and continuous random variable, respectively.\n",
        "\n",
        "**1. Probability Mass Function (PMF):**\n",
        "\n",
        "- The PMF is applicable to discrete random variables.\n",
        "- It gives the probability of a discrete random variable taking a specific value.\n",
        "- Mathematically, for a discrete random variable X, the PMF is denoted as P(X=x), representing the probability that X is equal to x.\n",
        "\n",
        " **Example**\n",
        " Let's consider a fair six-sided die. The PMF for rolling the die and getting a specific number n is P(X=n)= 1/6, as each face has an equal probability of 1/6.\n",
        "\n",
        "**2. Probability Density Function (PDF):**\n",
        "\n",
        "- The PDF is applicable to continuous random variables.\n",
        "- It represents the likelihood of a continuous random variable falling within a particular range.\n",
        "- The probability is obtained by integrating the PDF over a range of values.\n",
        "- Unlike the PMF, the probability at a specific point in a continuous distribution is often zero, and probabilities are calculated over intervals.\n",
        "\n",
        " **Example**\n",
        " Consider a standard normal distribution (bell-shaped curve). The PDF at a specific point, say x=0, is technically zero. However, we can find the probability of X falling within a range, such as P(−1≤X≤1), by integrating the PDF over that interval.\n",
        "\n",
        "***In short, PMF is used for discrete random variables, providing probabilities for specific values, while PDF is used for continuous random variables, providing probabilities for intervals of values.***"
      ],
      "metadata": {
        "id": "7YyMe3UIGA1Q"
      }
    },
    {
      "cell_type": "markdown",
      "source": [
        "## **Q2: What is Cumulative Density Function (CDF)? Explain with an example. Why CDF is used?**\n"
      ],
      "metadata": {
        "id": "b6w3amOxEWGK"
      }
    },
    {
      "cell_type": "markdown",
      "source": [
        "The Cumulative Distribution Function (CDF) is a concept in probability theory and statistics that provides the probability that a random variable takes on a value less than or equal to a given point. It's a fundamental tool for describing the distribution of a random variable.\n",
        "\n",
        "**1. Mathematically, for a random variable X:**\n",
        "\n",
        "F(x)=P(X≤x)\n",
        "\n",
        "Here,\n",
        "F(x) is the CDF of X, and it gives the probability that X is less than or equal to x.\n",
        "\n",
        "**Example:**\n",
        "Consider a fair six-sided die. The CDF for rolling the die and obtaining a value less than or equal to n can be expressed as follows:\n",
        "\n",
        "F(n)=P(X≤n)\n",
        "\n",
        "For each value of n, the CDF accumulates the probabilities. For instance, if n=3, then F(3) is the probability of getting a 1, 2, or 3 on the die.\n",
        "\n",
        "**Why is CDF Used?**\n",
        "\n",
        "**1. Probability Calculation:** CDF simplifies the calculation of probabilities for ranges of values. Instead of calculating the probability of a single point, you can find the probability for an entire range by subtracting CDF values.\n",
        "\n",
        "**2. Distribution Characteristics:** CDF provides a comprehensive view of the distribution of a random variable. It shows how the probability is spread across different values.\n",
        "\n",
        "**3. Quantiles and Percentiles:** CDF helps in determining quantiles and percentiles, providing information about the probability distribution at specific points.\n",
        "\n",
        "**4. Statistical Analysis:** CDF is frequently used in statistical analysis and hypothesis testing, allowing for comparisons between distributions.\n",
        "\n",
        "***The Cumulative Distribution Function is a valuable tool in probability and statistics for understanding the distribution of random variables, facilitating probability calculations, and providing insights into the characteristics of a distribution.***"
      ],
      "metadata": {
        "id": "iFPnlTR8HKaa"
      }
    },
    {
      "cell_type": "markdown",
      "source": [
        "## **Q3: What are some examples of situations where the normal distribution might be used as a model? Explain how the parameters of the normal distribution relate to the shape of the distribution.**\n"
      ],
      "metadata": {
        "id": "9pxnUnl0EZhG"
      }
    },
    {
      "cell_type": "markdown",
      "source": [
        "The normal distribution, also known as the Gaussian distribution or bell curve, is commonly used as a model in various real-world situations due to its mathematical properties and prevalence in nature. Here are some examples where the normal distribution might be employed:\n",
        "\n",
        "**1. Height of a Population:**\n",
        "\n",
        "- **Model:** The heights of a population often follow a normal distribution.\n",
        "- **Parameters:** The mean (μ) represents the average height, and the standard deviation (σ) indicates how heights vary around the mean.\n",
        "\n",
        "**2. Test Scores:**\n",
        "\n",
        "- **Model:** Test scores in a large population often exhibit a normal distribution.\n",
        "- **Parameters:** The mean (μ) represents the average score, and the standard deviation (σ) indicates the spread of scores.\n",
        "\n",
        "**3. Measurement Errors:**\n",
        "\n",
        "- **Model:** Errors in measurements or observations are often assumed to be normally distributed.\n",
        "- **Parameters:** The mean (μ) is ideally zero, and the standard deviation (σ) reflects the precision of the measurements.\n",
        "\n",
        "**4. IQ Scores:**\n",
        "\n",
        "- **Model:** Intelligence quotient (IQ) scores in a population tend to follow a normal distribution.\n",
        "- **Parameters:** The mean (μ) is set at 100, and the standard deviation (σ) reflects the variability in IQ scores.\n",
        "\n",
        "**5. Financial Returns:**\n",
        "\n",
        "- **Model:** Daily or monthly financial returns of stocks may be modeled using a normal distribution.\n",
        "- **Parameters:** The mean (μ) represents the average return, and the standard deviation (σ) indicates the volatility.\n",
        "\n",
        "**Relationship between Parameters and Distribution Shape:**\n",
        "\n",
        "- **Mean (μ):** The mean determines the central location of the distribution. Shifting the mean left or right will change the position of the bell curve.\n",
        "\n",
        "- **Standard Deviation (σ):** The standard deviation controls the spread or width of the distribution. A larger standard deviation results in a wider and flatter curve, while a smaller standard deviation produces a narrower and taller curve.\n",
        "\n",
        "***The normal distribution is a versatile model used in diverse fields where data tend to cluster around a central value. The mean and standard deviation are crucial parameters that define the shape and characteristics of the normal distribution in specific contexts.***"
      ],
      "metadata": {
        "id": "uhKvyYO-KukI"
      }
    },
    {
      "cell_type": "markdown",
      "source": [
        "## **Q4: Explain the importance of Normal Distribution. Give a few real-life examples of Normal Distribution.**\n"
      ],
      "metadata": {
        "id": "_g2Z-5jcEdqG"
      }
    },
    {
      "cell_type": "markdown",
      "source": [
        "The Normal Distribution, also known as the Gaussian distribution, plays a crucial role in statistics and data analysis due to its mathematical properties and its prevalence in various real-life phenomena. Here are some key reasons for the importance of the Normal Distribution:\n",
        "\n",
        "**1. Central Limit Theorem:**\n",
        "\n",
        "The Normal Distribution is a key component of the Central Limit Theorem, which states that the distribution of the sum (or average) of a large number of independent, identically distributed random variables approaches a normal distribution, regardless of the original distribution of the variables. This makes the normal distribution a fundamental concept in inferential statistics.\n",
        "\n",
        "**2. Statistical Inference:**\n",
        "\n",
        "Many statistical methods and tests, such as hypothesis testing and confidence intervals, rely on the assumption of normality. This makes the Normal Distribution a foundation for statistical inference, providing a basis for making predictions and drawing conclusions about populations.\n",
        "\n",
        "**3. Parameter Estimation:**\n",
        "\n",
        "Maximum Likelihood Estimation (MLE), a common method for estimating parameters of a statistical model, often assumes a normal distribution. This simplifies the estimation process and facilitates the interpretation of results.\n",
        "\n",
        "**4. Risk Management in Finance:**\n",
        "\n",
        "In finance, the Normal Distribution is frequently used to model the distribution of asset returns. Tools like Value at Risk (VaR) and portfolio optimization rely on normality assumptions to manage and assess financial risks.\n",
        "\n",
        "**5. Quality Control in Manufacturing:**\n",
        "\n",
        "Processes in manufacturing are often monitored using control charts, and these charts assume that the measurements follow a normal distribution. Deviations from normality can indicate potential issues in the production process.\n",
        "\n",
        "**6. Biological and Physical Measurements:**\n",
        "\n",
        "Biological measurements such as height, weight, and blood pressure, as well as physical measurements like errors in scientific instruments, often exhibit a normal distribution. This allows for the establishment of norms and the identification of outliers.\n",
        "\n",
        "**7. Educational Testing:**\n",
        "\n",
        "Scores on standardized tests, such as the SAT or IQ tests, are often assumed to follow a normal distribution. This assumption helps in setting benchmarks and interpreting individual scores in a broader context.\n",
        "\n",
        "**8. Population Studies:**\n",
        "\n",
        "Characteristics of populations, such as the distribution of income, tend to exhibit normality, allowing researchers to make generalizations and predictions based on statistical analyses.\n",
        "\n",
        "***Normal Distribution is a powerful and widely applied concept in statistics and various fields. Its importance lies in its role as a fundamental assumption in statistical methods, facilitating analyses, predictions, and decision-making in diverse areas of study and practice.***"
      ],
      "metadata": {
        "id": "IVwm_92CNETV"
      }
    },
    {
      "cell_type": "markdown",
      "source": [
        "## **Q5: What is Bernaulli Distribution? Give an Example. What is the difference between Bernoulli Distribution and Binomial Distribution?**\n"
      ],
      "metadata": {
        "id": "3rXuPZH6EhN8"
      }
    },
    {
      "cell_type": "markdown",
      "source": [
        "**Bernoulli Distribution:**\n",
        "\n",
        "The Bernoulli Distribution is a discrete probability distribution representing a random experiment with two possible outcomes: success or failure. It is named after the Swiss mathematician Jacob Bernoulli. The distribution is characterized by a single parameter,\n",
        "p, which represents the probability of success. The probability mass function (PMF) of a Bernoulli random variable X is given by:"
      ],
      "metadata": {
        "id": "hEW8FsTDQzQS"
      }
    },
    {
      "cell_type": "markdown",
      "source": [
        "![image.png](data:image/png;base64,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)"
      ],
      "metadata": {
        "id": "Nvez9tq5RJGv"
      }
    },
    {
      "cell_type": "markdown",
      "source": [
        "Here, k is the outcome (1 for success, 0 for failure), and p is the probability of success.\n",
        "\n",
        "**Example:**\n",
        "Consider flipping a biased coin where the probability of landing heads (success) is p=0.7. The Bernoulli Distribution models the probability of getting heads (X=1) or tails (X=0) on a single flip.\n",
        "\n",
        "**Difference between Bernoulli and Binomial Distributions:**\n",
        "\n",
        "**1. Number of Trials:**\n",
        "\n",
        "- **Bernoulli Distribution:** Describes a single trial or experiment with two possible outcomes (success or failure).\n",
        "\n",
        "- **Binomial Distribution:** Describes the number of successes in a fixed number of independent and identical Bernoulli trials.\n",
        "\n",
        "**2. Number of Random Variables:**\n",
        "\n",
        "- **Bernoulli Distribution:** Deals with a single random variable representing one trial.\n",
        "\n",
        "-  **Binomial Distribution:** Involves multiple random variables, each representing the outcome of a different trial.\n",
        "\n",
        "**3. Probability Mass Function (PMF):**\n",
        "\n",
        "- **Bernoulli Distribution:** Has a simple PMF for a single trial, as shown above.\n",
        "- **Binomial Distribution:** The PMF gives the probability of obtaining k successes in n trials and is expressed as\n",
        "\n",
        "> **P(X=k)=(nCk)p^k(1−p)^(n−k)**\n",
        "\n",
        "\n",
        "**4. Parameters:**\n",
        "\n",
        "- **Bernoulli Distribution:** Characterized by a single parameter p (probability of success).\n",
        "\n",
        "- **Binomial Distribution:** Requires two parameters, n (number of trials) and p (probability of success in each trial).\n",
        "\n",
        "***The Bernoulli Distribution is a special case of the Binomial Distribution where there is only one trial (n=1). The Binomial Distribution extends the concept to multiple trials, providing the probability distribution for the number of successes in those trials.***"
      ],
      "metadata": {
        "id": "tV1Akq7RQ86w"
      }
    },
    {
      "cell_type": "markdown",
      "source": [
        "## **Q6. Consider a dataset with a mean of 50 and a standard deviation of 10. If we assume that the dataset is normally distributed, what is the probability that a randomly selected observation will be greater than 60? Use the appropriate formula and show your calculations.**\n"
      ],
      "metadata": {
        "id": "2FKwrNMmEknQ"
      }
    },
    {
      "cell_type": "markdown",
      "source": [
        "To find the probability that a randomly selected observation from a normally distributed dataset with a mean (μ) of 50 and a standard deviation (σ) of 10 will be greater than 60, we can use the Z-score formula and the standard normal distribution (Z-distribution).\n",
        "\n",
        "The Z-score is calculated as follows:"
      ],
      "metadata": {
        "id": "-yJ5vuZISunS"
      }
    },
    {
      "cell_type": "markdown",
      "source": [
        "![image.png](data:image/png;base64,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)"
      ],
      "metadata": {
        "id": "n6p3RrZmTTDO"
      }
    },
    {
      "cell_type": "markdown",
      "source": [
        "where:\n",
        "\n",
        "- X is the value we want to find the probability for (60 in this case),\n",
        "- μ is the mean of the distribution (50),\n",
        "- σ is the standard deviation of the distribution (10)\n",
        "\n",
        "So, in this case:\n",
        "\n",
        "Z= (60−50)/10 = 1\n",
        "\n",
        "Now, we consult a standard normal distribution table or use a calculator to find the probability associated with a Z-score of 1. The probability P(Z>1) represents the probability that a randomly selected observation is greater than 60.\n",
        "\n",
        "From a standard normal distribution table, P(Z>1) is approximately 0.1587.\n",
        "\n",
        "Therefore, the probability that a randomly selected observation from this dataset will be greater than 60 is approximately **0.1587** or **15.87%**."
      ],
      "metadata": {
        "id": "04cptwEHTTcS"
      }
    },
    {
      "cell_type": "markdown",
      "source": [
        "## **Q7: Explain uniform Distribution with an example.**\n"
      ],
      "metadata": {
        "id": "hR2MzbCNEovz"
      }
    },
    {
      "cell_type": "markdown",
      "source": [
        "The uniform distribution is a probability distribution in which every possible value of a random variable has an equal chance of occurring. It is characterized by a constant probability density function (PDF) between two specified values.\n",
        "\n",
        "Mathematically, the probability density function f(x) of a uniform distribution on the interval [a,b] is defined as:\n",
        "\n"
      ],
      "metadata": {
        "id": "altptGzyUfwo"
      }
    },
    {
      "cell_type": "markdown",
      "source": [
        "![image.png](data:image/png;base64,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)"
      ],
      "metadata": {
        "id": "WnljmuXUUyLz"
      }
    },
    {
      "cell_type": "markdown",
      "source": [
        "for a ≤ x ≤ b and f(x)=0 for x < a or x > b.\n",
        "\n",
        "Here's an example to illustrate the uniform distribution:\n",
        "\n",
        "**Example: Uniform Distribution of Dice Roll**\n",
        "\n",
        "Consider rolling a fair six-sided die. The outcome of each roll can be any of the numbers {1,2,3,4,5,6}, and each outcome has an equal probability of 1/6. This situation represents a discrete uniform distribution.\n",
        "\n",
        "For a continuous uniform distribution, let's imagine a random variable X representing the time it takes for a bus to arrive at a bus stop, where the buses are scheduled to arrive between 1:00 PM and 2:00 PM. The arrival time follows a continuous uniform distribution over the interval [1:00PM , 2:00PM].\n",
        "\n",
        "In this case, any minute within that interval is equally likely, and the probability density function is constant."
      ],
      "metadata": {
        "id": "1sZnGKDhUpsN"
      }
    },
    {
      "cell_type": "markdown",
      "source": [
        "## **Q8: What is the z score? State the importance of the z score.**\n"
      ],
      "metadata": {
        "id": "LtRTMkYtErfM"
      }
    },
    {
      "cell_type": "markdown",
      "source": [
        "The z-score, also known as the standard score, is a measure of how many standard deviations a particular data point is from the mean of a dataset. It is calculated using the formula:\n",
        "\n"
      ],
      "metadata": {
        "id": "NesD1u_-nf_r"
      }
    },
    {
      "cell_type": "markdown",
      "source": [
        "![image.png](data:image/png;base64,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)"
      ],
      "metadata": {
        "id": "gbU6Jwo3nmJ_"
      }
    },
    {
      "cell_type": "markdown",
      "source": [
        "where:\n",
        "- X is an individual data point,\n",
        "- μ is the mean of the dataset, and\n",
        "- σ is the standard deviation of the dataset.\n",
        "\n",
        "The z-score indicates how far a particular data point deviates from the mean in terms of standard deviations. A positive z-score suggests that the data point is above the mean, while a negative z-score suggests that the data point is below the mean.\n",
        "\n",
        "**Importance of Z Score:**\n",
        "\n",
        "**1. Standardization:**\n",
        "\n",
        "The z-score is used to standardize data, making it easier to compare different datasets or variables that may have different units or scales. It transforms the data into a standard normal distribution with a mean of 0 and a standard deviation of 1.\n",
        "\n",
        "**2. Outlier Detection:**\n",
        "\n",
        "Z-scores help in identifying outliers. Data points with z-scores significantly higher or lower than the mean may be considered outliers, indicating unusual or extreme observations.\n",
        "\n",
        "**3. Probability and Normal Distribution:**\n",
        "\n",
        "In statistics, the z-score is often used to find probabilities associated with a normal distribution. Z-tables or statistical software can be used to determine the probability of a data point falling within a certain range.\n",
        "\n",
        "**4. Comparisons:**\n",
        "\n",
        "Z-scores enable comparisons between data points from different datasets. It allows researchers to understand how individual values relate to the overall distribution of data.\n",
        "\n",
        "**5. Data Analysis:**\n",
        "\n",
        "Z-scores are widely used in hypothesis testing and statistical analyses. They provide a standardized measure that facilitates statistical inference.\n",
        "\n",
        "**6. Quality Control:**\n",
        "\n",
        "In manufacturing and quality control, z-scores can be used to monitor and control processes by identifying deviations from the standard.\n",
        "\n",
        "\n",
        "***z-score is a valuable statistical tool for standardizing and comparing data, identifying outliers, and making probabilistic assessments within the context of a normal distribution***"
      ],
      "metadata": {
        "id": "ZWefX6DJnmt8"
      }
    },
    {
      "cell_type": "markdown",
      "source": [
        "## **Q9: What is Central Limit Theorem? State the significance of the Central Limit Theorem.**\n"
      ],
      "metadata": {
        "id": "4rFQeNElEt00"
      }
    },
    {
      "cell_type": "markdown",
      "source": [
        "**Central Limit Theorem (CLT):**\n",
        "\n",
        "The Central Limit Theorem (CLT) is a fundamental concept in statistics that describes the shape of the sampling distribution of the sample mean (X-bar) for a sufficiently large sample size, regardless of the original distribution of the population.\n",
        "\n",
        "**Key Points of the Central Limit Theorem:**\n",
        "\n",
        "**1. Sampling Distribution of the Mean:**\n",
        "For a random sample of n observations drawn from a population with any distribution (regardless of its shape), the distribution of the sample mean tends to follow a normal distribution as the sample size increases.\n",
        "\n",
        "**2. Shape of the Normal Distribution:**\n",
        "The larger the sample size (n), the closer the sampling distribution of the mean will resemble a normal distribution, even if the original population distribution is not normal.\n",
        "\n",
        "**3. Population Variability:**\n",
        "The CLT does not require the population to be normal; it only requires that the population has a well-defined mean and finite variance.\n",
        "\n",
        "**Significance of the Central Limit Theorem:**\n",
        "\n",
        "**1. Statistical Inference:**\n",
        "\n",
        "The CLT is the foundation for many statistical inference procedures, such as confidence intervals and hypothesis tests, as it allows for the use of normal distribution properties in making statistical inferences about population parameters.\n",
        "\n",
        "**2. Sampling Strategies:**\n",
        "\n",
        "It provides guidance on sampling strategies. Even if the population distribution is unknown or not normal, the distribution of sample means will tend to be normal, allowing for the use of parametric statistical methods.\n",
        "\n",
        "**3. Understanding Variation:**\n",
        "\n",
        "It helps in understanding the behavior of sample means, emphasizing that, as sample size increases, the variability of the sample mean decreases, leading to more precise estimates.\n",
        "\n",
        "**4. Modeling Complex Systems:**\n",
        "\n",
        "The CLT enables the application of statistical methods to complex systems, even when the distribution of the underlying variables may not be well understood.\n",
        "\n",
        "**5. Quality Control:**\n",
        "\n",
        "In quality control and manufacturing processes, the CLT is utilized for assessing the distribution of sample averages, making it possible to set reliable quality standards.\n",
        "\n",
        "**6. Regression Analysis:**\n",
        "\n",
        "The CLT is a crucial assumption in many regression analyses, allowing for the use of normality assumptions in estimating parameters and making predictions.\n",
        "\n",
        "***Central Limit Theorem is a powerful statistical concept that facilitates statistical analysis and inference by providing insights into the behavior of sample means. Its practical implications extend across various fields, making it a cornerstone in statistical theory and application.***"
      ],
      "metadata": {
        "id": "fob4mdB5oYme"
      }
    },
    {
      "cell_type": "markdown",
      "source": [
        "## **Q10: State the assumptions of the Central Limit Theorem.**"
      ],
      "metadata": {
        "id": "gOydApPCEwFD"
      }
    }
  ]
}