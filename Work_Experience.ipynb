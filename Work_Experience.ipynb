{
  "nbformat": 4,
  "nbformat_minor": 0,
  "metadata": {
    "colab": {
      "provenance": [],
      "authorship_tag": "ABX9TyPvykDh2Z/EknrqYzXM2tAn",
      "include_colab_link": true
    },
    "kernelspec": {
      "name": "python3",
      "display_name": "Python 3"
    },
    "language_info": {
      "name": "python"
    }
  },
  "cells": [
    {
      "cell_type": "markdown",
      "metadata": {
        "id": "view-in-github",
        "colab_type": "text"
      },
      "source": [
        "<a href=\"https://colab.research.google.com/github/Sha-98/Data-Science-Masters/blob/main/Work_Experience.ipynb\" target=\"_parent\"><img src=\"https://colab.research.google.com/assets/colab-badge.svg\" alt=\"Open In Colab\"/></a>"
      ]
    },
    {
      "cell_type": "markdown",
      "source": [
        "## Detailed work experience @ EMBIBE\n",
        "\n",
        "* Worked in an edtech company as a data miner for one year. Throughout my tenure there I worked on 4 different project where my responsibilities ranged from research to quality checking, data mapping and databased update, team management, analytical reporting (ad-hoc for my team) and cross team communication among teams in ahmedabad and bangalore on behalf of mathematics team. At the very beginning I started working as a data miner for maths team where I was supposed to download the required documents for a particular project from project management boards in JIRA, and perform a thorough technical research on the topic of the video which included the technical research as well as creative research to provide assistance to SME and video modular both with topic details and creative references for video creation. On this position, I helped smoothining the complete production process and optimized the overall performance speed by 40% for my team as we were able to produce more videos because of my in depth research weeks before the starting date of the video production.\n",
        "\n",
        "* Later on, I was assigned the responsibilities of an SME to check all the videos produced in my team for quality and conceptual errors to make sure the final submissions are error free in all aspects, here I was working as a maths subject matter expert over all other sme along with providing the research but had the title as data miner only. In this duty, I managed to reduce the error rate in submitted videos by 86% and optimized the correction process of older videos by 90% under by supervision over the correction team for mathematics.\n",
        "\n",
        "* After this, I was temporarrily assigned to data mapping team on behalf on the mathematics team to map and upload the data on mysql server and cross check the functioning on our online website. This was the project for an international client from Turkey. In this project I was mappong all the data associated with 1000s of videos of mathematics subject topics for two languages English and Turkish using MySQL, Excel, and Microsoft word. I was using excel functions for data filtering and data mapping such as VlookUp, Text join, index match, If, sumifs and morer. In this project I contributed by optimizing the mapping task by indexing the mysql database and using joins and views to update and check the database. My contribution to the mapping team helped reducing the time for mapping the huge amount of data by 80% and helped us meet the sudden deadline on the weekend.\n",
        "\n",
        "* After the impressive performance in mapping task, I was assigned a team of 5 members for a new project and was working directly under the project manager. In this project I was providing the ad-hoc analysis of the performance of my team members, representing as the maths team person for cross team meatings on progress and change in process discussions. In this project, I assisted the project manager by performance analysis of the team, blocker analysis and my recommendations for optimizing production rate for the team. I worked with excel for daily, weekly and monthly data analysis, generated graphs, and reports for performance analysis and helped in responsibility assignmnet with the project manager along with being the one point contact from maths team for offices in other cities like bangalore."
      ],
      "metadata": {
        "id": "NvB7miSOfNBi"
      }
    },
    {
      "cell_type": "code",
      "execution_count": null,
      "metadata": {
        "id": "1-GgwyQ8fMd4"
      },
      "outputs": [],
      "source": []
    }
  ]
}