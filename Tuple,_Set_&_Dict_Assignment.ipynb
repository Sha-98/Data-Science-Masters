{
  "nbformat": 4,
  "nbformat_minor": 0,
  "metadata": {
    "colab": {
      "provenance": [],
      "authorship_tag": "ABX9TyMKZENtANg7tEMPiXSrpmdJ",
      "include_colab_link": true
    },
    "kernelspec": {
      "name": "python3",
      "display_name": "Python 3"
    },
    "language_info": {
      "name": "python"
    }
  },
  "cells": [
    {
      "cell_type": "markdown",
      "metadata": {
        "id": "view-in-github",
        "colab_type": "text"
      },
      "source": [
        "<a href=\"https://colab.research.google.com/github/Sha-98/Data-Science-Masters/blob/main/Tuple%2C_Set_%26_Dict_Assignment.ipynb\" target=\"_parent\"><img src=\"https://colab.research.google.com/assets/colab-badge.svg\" alt=\"Open In Colab\"/></a>"
      ]
    },
    {
      "cell_type": "markdown",
      "source": [
        "# Tuple, Set & Dict Assignment"
      ],
      "metadata": {
        "id": "X4wYKu4GGg9O"
      }
    },
    {
      "cell_type": "markdown",
      "source": [
        "#### Question 1\n"
      ],
      "metadata": {
        "id": "jnYaIP-6F6gx"
      }
    },
    {
      "cell_type": "markdown",
      "source": [
        "What are the characteristics of the tuples? Is tuple immutable?"
      ],
      "metadata": {
        "id": "3fZaC9JhF932"
      }
    },
    {
      "cell_type": "markdown",
      "source": [
        "Ans 01.\n",
        "\n",
        "Tuple is a datastructure in python and possess certain characterstics like, tuples are indexed, tuples are ordered and can contain duplicate items in it unlike sets.\n",
        "\n",
        "However, tuples are immutable. Which means we cannot make changes in a tuple once it is created."
      ],
      "metadata": {
        "id": "Nt88hHE9GAms"
      }
    },
    {
      "cell_type": "markdown",
      "source": [
        "#### Question 2"
      ],
      "metadata": {
        "id": "NnzXVFFuGG6c"
      }
    },
    {
      "cell_type": "markdown",
      "source": [
        "What are the two tuple methods in python? Give an example of each method. Give a reason why tuples have only two in-built methods as compared to Lists."
      ],
      "metadata": {
        "id": "jwg8Dxz9GJgt"
      }
    },
    {
      "cell_type": "markdown",
      "source": [
        "Ans 02.\n",
        "\n",
        "The two tuple methods in python are:\n",
        "\n",
        "01. count() - This method returns the count of elements in the tuple\n",
        "02. index() - This method returns the index of the element in the tuple\n",
        "\n",
        "The reason of tuples having only 2 methods while list having several methods in python is the immutability of tuples. As tuples cannot be altered once created, we do not have several methods on tuples except the count() and index().\n"
      ],
      "metadata": {
        "id": "HOBn5NoAGSXN"
      }
    },
    {
      "cell_type": "markdown",
      "source": [
        "#### Question 3"
      ],
      "metadata": {
        "id": "unt5WcGjFQ1x"
      }
    },
    {
      "cell_type": "markdown",
      "source": [
        "Which collection datatypes in python do not allow duplicate items? Write a code using a set to remove duplicates from the given list.\n",
        "\n",
        "List = [1, 1, 1, 2, 1, 3, 1, 4, 2, 1, 2, 2, 2, 3, 2, 4, 3, 1, 3, 2, 3, 3, 3, 4, 4, 1, 4, 2, 4, 3, 4, 4]"
      ],
      "metadata": {
        "id": "NT0JkU_TF2qc"
      }
    },
    {
      "cell_type": "markdown",
      "source": [
        "Ans. \"Set\" is a the collection datatype in python which do not allow duplicate item. Following cells shows how we can remove duplicates from the given list by creating a set of the given list."
      ],
      "metadata": {
        "id": "WJgNzVm0FaNI"
      }
    },
    {
      "cell_type": "code",
      "source": [
        "List = [1, 1, 1, 2, 1, 3, 1, 4, 2, 1, 2, 2, 2, 3, 2, 4, 3, 1, 3, 2, 3, 3, 3, 4, 4, 1, 4, 2, 4, 3, 4, 4]"
      ],
      "metadata": {
        "id": "FHHCthtFLi2n"
      },
      "execution_count": 3,
      "outputs": []
    },
    {
      "cell_type": "code",
      "source": [
        "s = set(List)"
      ],
      "metadata": {
        "id": "7c2jgdL2Li6B"
      },
      "execution_count": 4,
      "outputs": []
    },
    {
      "cell_type": "code",
      "source": [
        "s"
      ],
      "metadata": {
        "id": "tka8_20mLi9I",
        "colab": {
          "base_uri": "https://localhost:8080/"
        },
        "outputId": "8a2e51c0-8557-44bf-c0ff-63513170fb15"
      },
      "execution_count": 5,
      "outputs": [
        {
          "output_type": "execute_result",
          "data": {
            "text/plain": [
              "{1, 2, 3, 4}"
            ]
          },
          "metadata": {},
          "execution_count": 5
        }
      ]
    },
    {
      "cell_type": "markdown",
      "source": [
        "#### Question 4"
      ],
      "metadata": {
        "id": "t3aLKnwwJSBR"
      }
    },
    {
      "cell_type": "markdown",
      "source": [
        "Explain the difference between the union() and update() methods for a set. Give an example of each method."
      ],
      "metadata": {
        "id": "vKWP3cZDJVSo"
      }
    },
    {
      "cell_type": "markdown",
      "source": [
        "Ans 04. The two methods present in the python for a set as union() and update() are there to perform a different set of tasks.\n",
        "\n",
        "The union() method for set performs the union of two sets and generates a new set as a result.\n",
        "\n",
        "However, the update() method for set updates one of the already present sets and give that set as the final output.\n",
        "\n",
        "Examples for both are given below."
      ],
      "metadata": {
        "id": "wd3dbwaHJXKS"
      }
    },
    {
      "cell_type": "code",
      "source": [
        "s1 = {1,2,3,4,5}\n",
        "s2 = {6,7,8,9}\n",
        "\n",
        "s3 = s1.union(s2)\n",
        "print(\"The final situation of initial sets is as it is in Union()\")\n",
        "print(s1)\n",
        "print(s2)\n",
        "print(s3)\n",
        "print(\"\\n\")\n",
        "\n",
        "\n",
        "s4 = s1.update(s2)\n",
        "print(\"The final situation of the set s1 is changed after using Update()\")\n",
        "print(s1)\n",
        "print(s2)\n",
        "print(s4)"
      ],
      "metadata": {
        "colab": {
          "base_uri": "https://localhost:8080/"
        },
        "id": "DexfRXX4L7po",
        "outputId": "c43b436a-96b1-4af9-b906-955bc41e72d7"
      },
      "execution_count": 9,
      "outputs": [
        {
          "output_type": "stream",
          "name": "stdout",
          "text": [
            "The final situation of initial sets is as it is in Union()\n",
            "{1, 2, 3, 4, 5}\n",
            "{8, 9, 6, 7}\n",
            "{1, 2, 3, 4, 5, 6, 7, 8, 9}\n",
            "\n",
            "\n",
            "The final situation of the set s1 is changed after using Update()\n",
            "{1, 2, 3, 4, 5, 6, 7, 8, 9}\n",
            "{8, 9, 6, 7}\n",
            "None\n"
          ]
        }
      ]
    },
    {
      "cell_type": "markdown",
      "source": [
        "#### Question 5"
      ],
      "metadata": {
        "id": "4m8Jd1IsJfgB"
      }
    },
    {
      "cell_type": "markdown",
      "source": [
        "What is a dictionary? Give an example. Also, state whether a dictionary is ordered or unordered."
      ],
      "metadata": {
        "id": "n8cP-1enJhQ0"
      }
    },
    {
      "cell_type": "markdown",
      "source": [
        "Ans 05. Dictionary is a data sturucture in python which allows us to store the key-value pairs in a variable. We can create or define a dictionary using curly braces, \"{}\".\n",
        "\n",
        "Dictionary is a mutable data structure which means you can add, remove, or update the elements of a dictionary any time you want using the method update().\n",
        "\n",
        "Dictionary is ordered, which means the elements are ordered in a dictionary and this order does not change, the new element added to the list will always be added at the end of the dictionary."
      ],
      "metadata": {
        "id": "cUSKbk4oJj8R"
      }
    },
    {
      "cell_type": "code",
      "source": [
        "#dictionary storing fruits and their price\n",
        "d = {'apple': 200, 'mango': 250, 'banana' : 40, 'kiwi' : 350}\n",
        "print(\"Intitial Dictionary\")\n",
        "print(d)\n",
        "print('\\n')\n",
        "\n",
        "#update the value for apple from 200 to 150\n",
        "d['apple'] = 150\n",
        "print(\"Dictionary after first update\")\n",
        "print(d)\n",
        "print('\\n')\n",
        "\n",
        "#add a new pair to the dictionary\n",
        "d['papaya'] = 110\n",
        "print('Dictionary after adding a new element')\n",
        "print(d)"
      ],
      "metadata": {
        "colab": {
          "base_uri": "https://localhost:8080/"
        },
        "id": "XxWJHI6OL90M",
        "outputId": "88c8ad17-a9c9-4a84-af48-555cb4f09bb5"
      },
      "execution_count": 15,
      "outputs": [
        {
          "output_type": "stream",
          "name": "stdout",
          "text": [
            "Intitial Dictionary\n",
            "{'apple': 200, 'mango': 250, 'banana': 40, 'kiwi': 350}\n",
            "\n",
            "\n",
            "Dictionary after first update\n",
            "{'apple': 150, 'mango': 250, 'banana': 40, 'kiwi': 350}\n",
            "\n",
            "\n",
            "Dictionary after adding a new element\n",
            "{'apple': 150, 'mango': 250, 'banana': 40, 'kiwi': 350, 'papaya': 110}\n"
          ]
        }
      ]
    },
    {
      "cell_type": "markdown",
      "source": [
        "#### Question 6"
      ],
      "metadata": {
        "id": "C4uk-MsAJm2B"
      }
    },
    {
      "cell_type": "markdown",
      "source": [
        "Can we create a nested dictionary? If so, please give an example by creating a simple one-level nested dictionary."
      ],
      "metadata": {
        "id": "V4B5w92hJp26"
      }
    },
    {
      "cell_type": "markdown",
      "source": [
        "Ans 06. Yes, we can create a nested dictionary. Following cells shows the way we can create the nested dictionaries."
      ],
      "metadata": {
        "id": "ZpskUagXJtc6"
      }
    },
    {
      "cell_type": "code",
      "source": [
        "fnv = {'fruits': {'apple': 200, 'mango': 250, 'banana' : 40, 'kiwi' : 350}, 'vegetables' : {'onion': 20, 'carrot': 25, 'lady finger' : 40, 'capsicum' : 35}}\n",
        "\n",
        "print(fnv['fruits'])\n",
        "print(fnv['vegetables'])"
      ],
      "metadata": {
        "colab": {
          "base_uri": "https://localhost:8080/"
        },
        "id": "VDb3VPqRL_FJ",
        "outputId": "88fea2bc-cea0-43fd-a4b5-512dc8a4eb66"
      },
      "execution_count": 18,
      "outputs": [
        {
          "output_type": "stream",
          "name": "stdout",
          "text": [
            "{'apple': 200, 'mango': 250, 'banana': 40, 'kiwi': 350}\n",
            "{'onion': 20, 'carrot': 25, 'lady finger': 40, 'capsicum': 35}\n"
          ]
        }
      ]
    },
    {
      "cell_type": "markdown",
      "source": [
        "#### Question 7"
      ],
      "metadata": {
        "id": "6Yg2holKJvR_"
      }
    },
    {
      "cell_type": "markdown",
      "source": [
        "Using setdefault() method, create key named topics in the given dictionary and also add the value of the key as this list\n",
        "\n",
        "['Python', 'Machine Learning’, 'Deep Learning']\n",
        "\n",
        "dict1 = {'language' : 'Python', 'course': 'Data Science Masters'}"
      ],
      "metadata": {
        "id": "3sLPl9PVKUH3"
      }
    },
    {
      "cell_type": "markdown",
      "source": [
        "Ans 07."
      ],
      "metadata": {
        "id": "wXGgrAURKaMT"
      }
    },
    {
      "cell_type": "code",
      "source": [
        "dict1 = {'language' : 'Python', 'course': 'Data Science Masters'}\n",
        "\n",
        "# 'topics' key added with the value as the given list using setdefault() method\n",
        "dict1.setdefault('topics', ['Python', 'Machine Learning', 'Deep Learning'])\n",
        "\n",
        "dict1"
      ],
      "metadata": {
        "colab": {
          "base_uri": "https://localhost:8080/"
        },
        "id": "fBVA0iGIMACg",
        "outputId": "f5f55996-3185-4d88-dc90-4a34ace0ea07"
      },
      "execution_count": 29,
      "outputs": [
        {
          "output_type": "execute_result",
          "data": {
            "text/plain": [
              "{'language': 'Python',\n",
              " 'course': 'Data Science Masters',\n",
              " 'topics': ['Python', 'Machine Learning', 'Deep Learning']}"
            ]
          },
          "metadata": {},
          "execution_count": 29
        }
      ]
    },
    {
      "cell_type": "markdown",
      "source": [
        "#### Question 8"
      ],
      "metadata": {
        "id": "A9vcypG9KdAT"
      }
    },
    {
      "cell_type": "markdown",
      "source": [
        "What are the three view objects in dictionaries? Use the three in-built methods in python to display these three view objects for the given dictionary.\n",
        "\n",
        "dict1 = {'Sport': 'Cricket' , 'Teams': ['India', 'Australia', 'England', 'South Africa', 'Sri Lanka', 'New Zealand']}"
      ],
      "metadata": {
        "id": "EXWgYVOMKkFy"
      }
    },
    {
      "cell_type": "markdown",
      "source": [
        "Ans. The three view objects in dictionary in python are the 'keys', 'values', 'items'"
      ],
      "metadata": {
        "id": "2tuEr5Gwn3-n"
      }
    },
    {
      "cell_type": "code",
      "source": [
        "dict1 = {'Sport': 'Cricket' , 'Teams': ['India', 'Australia', 'England', 'South Africa', 'Sri Lanka', 'New Zealand']}\n",
        "\n",
        "d_keys = dict1.keys()\n",
        "\n",
        "print(d_keys)\n",
        "print(type(d_keys))"
      ],
      "metadata": {
        "id": "3CJKSuy2LjAU",
        "colab": {
          "base_uri": "https://localhost:8080/"
        },
        "outputId": "ec84c8b0-fde1-403f-ead2-c909ba139a56"
      },
      "execution_count": 32,
      "outputs": [
        {
          "output_type": "stream",
          "name": "stdout",
          "text": [
            "dict_keys(['Sport', 'Teams'])\n",
            "<class 'dict_keys'>\n"
          ]
        }
      ]
    },
    {
      "cell_type": "code",
      "source": [
        "d_values = dict1.values()\n",
        "\n",
        "print(d_values)\n",
        "print(type(d_values))"
      ],
      "metadata": {
        "id": "TE6NO_NLLjD1",
        "colab": {
          "base_uri": "https://localhost:8080/"
        },
        "outputId": "7492dc20-0560-4a26-e33f-ac4d6413afeb"
      },
      "execution_count": 33,
      "outputs": [
        {
          "output_type": "stream",
          "name": "stdout",
          "text": [
            "dict_values(['Cricket', ['India', 'Australia', 'England', 'South Africa', 'Sri Lanka', 'New Zealand']])\n",
            "<class 'dict_values'>\n"
          ]
        }
      ]
    },
    {
      "cell_type": "code",
      "source": [
        "d_items = dict1.items()\n",
        "\n",
        "print(d_items)\n",
        "print(type(d_items))"
      ],
      "metadata": {
        "colab": {
          "base_uri": "https://localhost:8080/"
        },
        "id": "nH-f1zvNqDu_",
        "outputId": "f3435aa8-8853-4522-c630-65d4c8ea2fa3"
      },
      "execution_count": 34,
      "outputs": [
        {
          "output_type": "stream",
          "name": "stdout",
          "text": [
            "dict_items([('Sport', 'Cricket'), ('Teams', ['India', 'Australia', 'England', 'South Africa', 'Sri Lanka', 'New Zealand'])])\n",
            "<class 'dict_items'>\n"
          ]
        }
      ]
    }
  ]
}