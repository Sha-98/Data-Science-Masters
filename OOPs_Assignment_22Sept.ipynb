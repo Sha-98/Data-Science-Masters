{
  "nbformat": 4,
  "nbformat_minor": 0,
  "metadata": {
    "colab": {
      "provenance": [],
      "include_colab_link": true
    },
    "kernelspec": {
      "name": "python3",
      "display_name": "Python 3"
    },
    "language_info": {
      "name": "python"
    }
  },
  "cells": [
    {
      "cell_type": "markdown",
      "metadata": {
        "id": "view-in-github",
        "colab_type": "text"
      },
      "source": [
        "<a href=\"https://colab.research.google.com/github/Sha-98/Data-Science-Masters/blob/main/OOPs_Assignment_22Sept.ipynb\" target=\"_parent\"><img src=\"https://colab.research.google.com/assets/colab-badge.svg\" alt=\"Open In Colab\"/></a>"
      ]
    },
    {
      "cell_type": "markdown",
      "source": [
        "# OOPs Assignment"
      ],
      "metadata": {
        "id": "bJis2SSPKJ6p"
      }
    },
    {
      "cell_type": "markdown",
      "source": [
        "Q1. Which function is used to open a file? What are the different modes of opening a file? Explain each mode\n",
        "of file opening.\n"
      ],
      "metadata": {
        "id": "iXRTmzYNvN5Z"
      }
    },
    {
      "cell_type": "markdown",
      "source": [
        "The function we use in python to open a file is open().\n",
        "There are several different modes of opening a file such as:\n",
        "1. read\n",
        "2. write\n",
        "3. append\n",
        "4. binary\n",
        "and more...\n",
        "\n",
        "Following cells shows some examples of opening a file in different modes."
      ],
      "metadata": {
        "id": "fIspOkJElxz4"
      }
    },
    {
      "cell_type": "code",
      "source": [
        "f = open('text.txt', 'w')\n",
        "\n",
        "f1 = open('text.txt', 'r')\n",
        "\n",
        "f3 = open('text.txt', 'a')"
      ],
      "metadata": {
        "id": "-rRKBIjPkW3b"
      },
      "execution_count": 71,
      "outputs": []
    },
    {
      "cell_type": "markdown",
      "source": [
        "Q2. Why close() function is used? Why is it important to close a file?"
      ],
      "metadata": {
        "id": "bbDwE-CCkKHn"
      }
    },
    {
      "cell_type": "markdown",
      "source": [
        "The close() function or method in python is used to close a file.\n",
        "Closing a file is important for several reasons such as:\n",
        "\n",
        "1. Resource Mangement:\n",
        "When we open a file, the os allocated resources to the file such as memory, to manage the interaction with that file. If we do not close the  file after performing the desired operations on it, the allocated resources to the file may not be released until the program exits. This can lead to resource leaks leading to potential performance issues.\n",
        "\n",
        "2. Data Integrity: Closing a file ensures that any changes made to the file are saved.\n",
        "\n",
        "3. File Locking: On some systems, an open file may be locked or inaccessible to other processes. Thus, closing the file releases the lock, allowing us to access the file for other processes.\n",
        "\n",
        "4. Preventing file corruption: closing the file after using it, or  editing it, helps in preventing corruption of the file."
      ],
      "metadata": {
        "id": "84RsIGxIt5Ip"
      }
    },
    {
      "cell_type": "code",
      "source": [],
      "metadata": {
        "id": "12hOaiAHkXoN"
      },
      "execution_count": null,
      "outputs": []
    },
    {
      "cell_type": "markdown",
      "source": [
        "Q3. Write a python program to create a text file. Write ‘I want to become a Data Scientist’ in that file. Then\n",
        "close the file. Open this file and read the content of the file.\n"
      ],
      "metadata": {
        "id": "p2cUbfJhkNnm"
      }
    },
    {
      "cell_type": "code",
      "source": [
        "f = open('text.txt', 'w')\n",
        "\n",
        "f.write(\"I want to become a Data Scientist\")"
      ],
      "metadata": {
        "colab": {
          "base_uri": "https://localhost:8080/"
        },
        "id": "XcgKXHYikYG7",
        "outputId": "f69a188e-2559-4348-a334-7aff8a74fe15"
      },
      "execution_count": 72,
      "outputs": [
        {
          "output_type": "execute_result",
          "data": {
            "text/plain": [
              "33"
            ]
          },
          "metadata": {},
          "execution_count": 72
        }
      ]
    },
    {
      "cell_type": "code",
      "source": [
        "f.close()"
      ],
      "metadata": {
        "id": "BB8XaC0itev6"
      },
      "execution_count": 73,
      "outputs": []
    },
    {
      "cell_type": "code",
      "source": [
        "f = open('text.txt', 'r')\n",
        "\n",
        "f.read()"
      ],
      "metadata": {
        "colab": {
          "base_uri": "https://localhost:8080/",
          "height": 35
        },
        "id": "-zdj7qpBtgTI",
        "outputId": "c171ef82-4ebe-4ce1-ae80-ad2a1d67f680"
      },
      "execution_count": 75,
      "outputs": [
        {
          "output_type": "execute_result",
          "data": {
            "text/plain": [
              "'I want to become a Data Scientist'"
            ],
            "application/vnd.google.colaboratory.intrinsic+json": {
              "type": "string"
            }
          },
          "metadata": {},
          "execution_count": 75
        }
      ]
    },
    {
      "cell_type": "markdown",
      "source": [
        "Q4. Explain the following with python code: read(), readline() and readlines().\n"
      ],
      "metadata": {
        "id": "rROn4BO9kQ78"
      }
    },
    {
      "cell_type": "markdown",
      "source": [
        "1. read()\n",
        "\n",
        "This method reads and returns the entire contents of a file as a single string or bytes (if the file is in binary mode). This function reads from the current file position till the end of the file."
      ],
      "metadata": {
        "id": "LmLsPUoax8Fu"
      }
    },
    {
      "cell_type": "code",
      "source": [
        "with open('text.txt', 'r') as file:\n",
        "    content = file.read()\n",
        "\n",
        "print(content)"
      ],
      "metadata": {
        "colab": {
          "base_uri": "https://localhost:8080/"
        },
        "id": "MMn3OzGOkYoI",
        "outputId": "c49cf495-6ca3-4fff-b6f1-22e38c0c3bd4"
      },
      "execution_count": 76,
      "outputs": [
        {
          "output_type": "stream",
          "name": "stdout",
          "text": [
            "I want to become a Data Scientist\n"
          ]
        }
      ]
    },
    {
      "cell_type": "markdown",
      "source": [
        "2. readline()\n",
        "\n",
        "This method reads a single line from the file and returns it as a string, along with the newline character. This function moves the file pointer to the beginning of the next line."
      ],
      "metadata": {
        "id": "tNck7KIfyZAp"
      }
    },
    {
      "cell_type": "code",
      "source": [
        "# Open a text file for writing (creates a new file or overwrites an existing one)\n",
        "with open('text1.txt', 'w') as file:\n",
        "    file.write(\"I am Isha Coudhary.\\n\")  # Write the first line with a newline character\n",
        "    file.write(\"I am 24 years old.\\n\")  # Write the second line with a newline character\n",
        "    file.write(\"I wwant to become a Data Scientist.\\n\")  # Write the third line with a newline character\n"
      ],
      "metadata": {
        "id": "kwpoN_gfysbo"
      },
      "execution_count": 91,
      "outputs": []
    },
    {
      "cell_type": "code",
      "source": [
        "with open('text1.txt', 'r') as file:\n",
        "    line1 = file.readline()\n",
        "    line2 = file.readline()\n",
        "\n",
        "print(\"Line 1:\", line1)\n",
        "print(\"Line 2:\", line2)"
      ],
      "metadata": {
        "colab": {
          "base_uri": "https://localhost:8080/"
        },
        "id": "f4kLvFMS1DGv",
        "outputId": "969f7961-2353-4e58-b642-bc15d6f572a7"
      },
      "execution_count": 92,
      "outputs": [
        {
          "output_type": "stream",
          "name": "stdout",
          "text": [
            "Line 1: I am Isha Coudhary.\n",
            "\n",
            "Line 2: I am 24 years old.\n",
            "\n"
          ]
        }
      ]
    },
    {
      "cell_type": "markdown",
      "source": [
        "3. readlines()\n",
        "This function or method reads all lines present in the file and return them as a list of strings, where each element of the list represents a line from the file."
      ],
      "metadata": {
        "id": "WF4meIqg0J4f"
      }
    },
    {
      "cell_type": "code",
      "source": [
        "with open('text1.txt', 'r') as file:\n",
        "    lines = file.readlines()\n",
        "\n",
        "for line in lines:\n",
        "    print(line.strip())  # Use strip() to remove newline characters"
      ],
      "metadata": {
        "colab": {
          "base_uri": "https://localhost:8080/"
        },
        "id": "7jKv0Oy40nan",
        "outputId": "705460ec-f727-4458-98a3-36c1cf62886c"
      },
      "execution_count": 95,
      "outputs": [
        {
          "output_type": "stream",
          "name": "stdout",
          "text": [
            "I am Isha Coudhary.\n",
            "I am 24 years old.\n",
            "I wwant to become a Data Scientist.\n"
          ]
        }
      ]
    },
    {
      "cell_type": "markdown",
      "source": [
        "Q5. Explain why with statement is used with open(). What is the advantage of using with statement and\n",
        "open() together?\n"
      ],
      "metadata": {
        "id": "v7BvU2t4kSNF"
      }
    },
    {
      "cell_type": "markdown",
      "source": [
        "The 'with' statement is used in conjunction with the 'open()' function in python. Using this statement is recommended as it is a convenient way to manage file resources and ensure that files are properly closed after they are used.\n",
        "\n",
        "The primary advantage of using the 'with' statement with 'open()' function is better file management, readability, and error handling.\n",
        "\n",
        "If we do not use the 'with' statement with open(), then we would have to explivitly open the file, check for exceptions, and ensure that the file is closed properly to avoid consequences or errors in future.\n",
        "\n",
        "Using 'with' discounts all this as makes things easier for the coder/developer."
      ],
      "metadata": {
        "id": "CEobqdeu8Vph"
      }
    },
    {
      "cell_type": "code",
      "source": [],
      "metadata": {
        "id": "7UxXTXzAkZPT"
      },
      "execution_count": null,
      "outputs": []
    },
    {
      "cell_type": "markdown",
      "source": [
        "Q6. Explain the write() and writelines() functions. Give a suitable example."
      ],
      "metadata": {
        "id": "P0DERyb4kTN_"
      }
    },
    {
      "cell_type": "markdown",
      "source": [
        "To write lines to a file in python, we can open the file in write mode using the mode = 'w' or append mode through mode = 'a' and then using the methods like, 'write()' or 'writelines()'.\n",
        "\n",
        "1. write():\n",
        "\n",
        "The write() method is used to write each line seperately. In this method, we are supposed to explicitly include newline characters ('\\n') to seperate the lines.\n",
        "\n",
        "\n",
        "2. writelines():\n",
        "\n",
        "This method allows us to write all the lines at once. One thing to note here is that we must include newline characters ('\\n') in each line to seperate them.\n",
        "\n",
        "Example can be seen in the cells below."
      ],
      "metadata": {
        "id": "rfaYy4tZ20AC"
      }
    },
    {
      "cell_type": "code",
      "source": [
        "# Open a text file for writing (creates a new file or overwrites an existing one)\n",
        "with open('test.txt', 'w') as file:\n",
        "    file.write(\"Hello\\n\")  # Write the first line with a newline character\n",
        "    file.write(\"Dear\\n\")  # Write the second line with a newline character\n",
        "    file.write(\"Hoe are you\\n\")  # Write the third line with a newline character"
      ],
      "metadata": {
        "id": "7OHXT6A9kZ9U"
      },
      "execution_count": 99,
      "outputs": []
    },
    {
      "cell_type": "code",
      "source": [
        "with open('test.txt', 'r') as file:\n",
        "    line1 = file.readline()\n",
        "    line2 = file.readline()\n",
        "    line3 = file.readline()\n",
        "\n",
        "print(\"Line 1:\", line1)\n",
        "print(\"Line 2:\", line2)\n",
        "print(\"Line 3:\", line3)"
      ],
      "metadata": {
        "colab": {
          "base_uri": "https://localhost:8080/"
        },
        "id": "v0HzEdk97n0W",
        "outputId": "e70eb071-0c78-483f-ee61-3cd37932850f"
      },
      "execution_count": 101,
      "outputs": [
        {
          "output_type": "stream",
          "name": "stdout",
          "text": [
            "Line 1: Hello\n",
            "\n",
            "Line 2: Dear\n",
            "\n",
            "Line 3: Hoe are you\n",
            "\n"
          ]
        }
      ]
    },
    {
      "cell_type": "code",
      "source": [
        "# Open a text file for writing (creates a new file or overwrites an existing one)\n",
        "lines = [\"Hello\\n\", \"Dear\\n\", \"Hoe are you\\n\"]\n",
        "\n",
        "with open('test01.txt', 'w') as file:\n",
        "    file.writelines(lines)"
      ],
      "metadata": {
        "id": "R525UaJV7eoL"
      },
      "execution_count": 103,
      "outputs": []
    },
    {
      "cell_type": "code",
      "source": [
        "with open('test01.txt', 'r') as file:\n",
        "    lines = file.readlines()\n",
        "\n",
        "for line in lines:\n",
        "    print(line.strip())  # Use strip() to remove newline characters"
      ],
      "metadata": {
        "colab": {
          "base_uri": "https://localhost:8080/"
        },
        "id": "a_SCf01h78Ok",
        "outputId": "9cef40a2-c87b-41ad-cc9c-d293a44513ab"
      },
      "execution_count": 104,
      "outputs": [
        {
          "output_type": "stream",
          "name": "stdout",
          "text": [
            "Hello\n",
            "Dear\n",
            "Hoe are you\n"
          ]
        }
      ]
    }
  ]
}