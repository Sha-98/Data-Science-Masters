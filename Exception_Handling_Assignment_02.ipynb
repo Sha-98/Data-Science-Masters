{
  "nbformat": 4,
  "nbformat_minor": 0,
  "metadata": {
    "colab": {
      "provenance": [],
      "include_colab_link": true
    },
    "kernelspec": {
      "name": "python3",
      "display_name": "Python 3"
    },
    "language_info": {
      "name": "python"
    }
  },
  "cells": [
    {
      "cell_type": "markdown",
      "metadata": {
        "id": "view-in-github",
        "colab_type": "text"
      },
      "source": [
        "<a href=\"https://colab.research.google.com/github/Sha-98/Data-Science-Masters/blob/main/Exception_Handling_Assignment_02.ipynb\" target=\"_parent\"><img src=\"https://colab.research.google.com/assets/colab-badge.svg\" alt=\"Open In Colab\"/></a>"
      ]
    },
    {
      "cell_type": "markdown",
      "source": [
        "# Exception Handling Assignment 02\n"
      ],
      "metadata": {
        "id": "bJis2SSPKJ6p"
      }
    },
    {
      "cell_type": "markdown",
      "source": [
        "Q1. Explain why we have to use the Exception class while creating a Custom Exception.\n",
        "\n",
        "Note: Here Exception class refers to the base class for all the exceptions."
      ],
      "metadata": {
        "id": "NTy1sshaXH2L"
      }
    },
    {
      "cell_type": "markdown",
      "source": [
        "Ans. Using the 'Exception' class as the base class when creating custom exceptions in python is a fundamental practice as it ensures consistency, compatibility, and proper error handling throughout our code.\n",
        "\n",
        "We inherit from 'Exception' class, so that our custom exception inherits all the necessary behavior and attributes of a standard exception, which includes features like message handling, traceback information, and the ability to be caught in 'try-except' blocks."
      ],
      "metadata": {
        "id": "c-GMAkfHyyL1"
      }
    },
    {
      "cell_type": "markdown",
      "source": [
        "Q2. Write a python program to print Python Exception Hierarchy."
      ],
      "metadata": {
        "id": "SSXUYWRIyG7x"
      }
    },
    {
      "cell_type": "code",
      "source": [
        "def print_exception_hierarchy(exception_class, level=0):\n",
        "    indent = \"  \" * level\n",
        "    print(f\"{indent}{exception_class.__name__}\")\n",
        "\n",
        "    # Recursively print subclasses\n",
        "    for subclass in exception_class.__subclasses__():\n",
        "        print_exception_hierarchy(subclass, level + 1)\n",
        "\n",
        "if __name__ == \"__main__\":\n",
        "    print(\"Python Exception Hierarchy:\")\n",
        "    print_exception_hierarchy(BaseException)"
      ],
      "metadata": {
        "colab": {
          "base_uri": "https://localhost:8080/"
        },
        "id": "TRtz0acdxj_g",
        "outputId": "982cd652-5214-45bc-e0d4-3af116c784b2"
      },
      "execution_count": 16,
      "outputs": [
        {
          "output_type": "stream",
          "name": "stdout",
          "text": [
            "Python Exception Hierarchy:\n",
            "BaseException\n",
            "  Exception\n",
            "    TypeError\n",
            "      MultipartConversionError\n",
            "      FloatOperation\n",
            "      UFuncTypeError\n",
            "        UFuncTypeError\n",
            "        UFuncTypeError\n",
            "        UFuncTypeError\n",
            "          UFuncTypeError\n",
            "          UFuncTypeError\n",
            "      ConversionError\n",
            "    StopAsyncIteration\n",
            "    StopIteration\n",
            "    ImportError\n",
            "      ModuleNotFoundError\n",
            "        PackageNotFoundError\n",
            "      ZipImportError\n",
            "    OSError\n",
            "      ConnectionError\n",
            "        BrokenPipeError\n",
            "        ConnectionAbortedError\n",
            "        ConnectionRefusedError\n",
            "        ConnectionResetError\n",
            "          RemoteDisconnected\n",
            "      BlockingIOError\n",
            "      ChildProcessError\n",
            "      FileExistsError\n",
            "      FileNotFoundError\n",
            "        ExecutableNotFoundError\n",
            "      IsADirectoryError\n",
            "      NotADirectoryError\n",
            "      InterruptedError\n",
            "        InterruptedSystemCall\n",
            "      PermissionError\n",
            "      ProcessLookupError\n",
            "      TimeoutError\n",
            "      UnsupportedOperation\n",
            "      itimer_error\n",
            "      Error\n",
            "        SameFileError\n",
            "      SpecialFileError\n",
            "      ExecError\n",
            "      ReadError\n",
            "      herror\n",
            "      gaierror\n",
            "      SSLError\n",
            "        SSLCertVerificationError\n",
            "        SSLZeroReturnError\n",
            "        SSLWantWriteError\n",
            "        SSLWantReadError\n",
            "        SSLSyscallError\n",
            "        SSLEOFError\n",
            "      URLError\n",
            "        HTTPError\n",
            "        ContentTooShortError\n",
            "      BadGzipFile\n",
            "      ProxyError\n",
            "        GeneralProxyError\n",
            "        ProxyConnectionError\n",
            "        SOCKS5AuthError\n",
            "        SOCKS5Error\n",
            "        SOCKS4Error\n",
            "        HTTPError\n",
            "      UnidentifiedImageError\n",
            "    EOFError\n",
            "      IncompleteReadError\n",
            "    RuntimeError\n",
            "      RecursionError\n",
            "      NotImplementedError\n",
            "        StdinNotImplementedError\n",
            "        ZMQVersionError\n",
            "      _DeadlockError\n",
            "      BrokenBarrierError\n",
            "      BrokenExecutor\n",
            "        BrokenThreadPool\n",
            "      SendfileNotAvailableError\n",
            "      RemovedCommandError\n",
            "      PackageDiscoveryError\n",
            "      TooHardError\n",
            "      ExtractionError\n",
            "      VariableError\n",
            "    NameError\n",
            "      UnboundLocalError\n",
            "    AttributeError\n",
            "      FrozenInstanceError\n",
            "    SyntaxError\n",
            "      IndentationError\n",
            "        TabError\n",
            "      ParseError\n",
            "    LookupError\n",
            "      IndexError\n",
            "        AxisError\n",
            "        OutOfBounds\n",
            "      KeyError\n",
            "        UnknownBackend\n",
            "        NoSuchKernel\n",
            "      CodecRegistryError\n",
            "    ValueError\n",
            "      UnicodeError\n",
            "        UnicodeEncodeError\n",
            "        UnicodeDecodeError\n",
            "        UnicodeTranslateError\n",
            "      UnsupportedOperation\n",
            "      JSONDecodeError\n",
            "      UnsupportedDigestmodError\n",
            "      Error\n",
            "      ClassNotFound\n",
            "      SSLCertVerificationError\n",
            "      ClipboardEmpty\n",
            "      MessageDefect\n",
            "        NoBoundaryInMultipartDefect\n",
            "        StartBoundaryNotFoundDefect\n",
            "        CloseBoundaryNotFoundDefect\n",
            "        FirstHeaderLineIsContinuationDefect\n",
            "        MisplacedEnvelopeHeaderDefect\n",
            "        MissingHeaderBodySeparatorDefect\n",
            "        MultipartInvariantViolationDefect\n",
            "        InvalidMultipartContentTransferEncodingDefect\n",
            "        UndecodableBytesDefect\n",
            "        InvalidBase64PaddingDefect\n",
            "        InvalidBase64CharactersDefect\n",
            "        InvalidBase64LengthDefect\n",
            "        HeaderDefect\n",
            "          InvalidHeaderDefect\n",
            "          HeaderMissingRequiredValue\n",
            "          NonPrintableDefect\n",
            "          ObsoleteHeaderDefect\n",
            "          NonASCIILocalPartDefect\n",
            "          InvalidDateDefect\n",
            "      IllegalMonthError\n",
            "      IllegalWeekdayError\n",
            "      MacroToEdit\n",
            "      ParserError\n",
            "      UnequalIterablesError\n",
            "      ELFInvalid\n",
            "      InvalidVersion\n",
            "      InvalidWheelFilename\n",
            "      InvalidSdistFilename\n",
            "      InvalidSpecifier\n",
            "      InvalidMarker\n",
            "      UndefinedComparison\n",
            "      UndefinedEnvironmentName\n",
            "      InvalidRequirement\n",
            "      DisabledFunctionError\n",
            "      InvalidVersion\n",
            "      AxisError\n",
            "      InvalidVersion\n",
            "      DefusedXmlException\n",
            "        DTDForbidden\n",
            "        EntitiesForbidden\n",
            "        ExternalReferenceForbidden\n",
            "        NotSupportedError\n",
            "      NonIntersectingPathException\n",
            "      InvalidFileException\n",
            "      UnequalIterablesError\n",
            "      InvalidVersion\n",
            "      ELFInvalid\n",
            "      InvalidWheelFilename\n",
            "      InvalidSdistFilename\n",
            "      InvalidSpecifier\n",
            "      InvalidMarker\n",
            "      UndefinedComparison\n",
            "      UndefinedEnvironmentName\n",
            "      InvalidRequirement\n",
            "        RequirementParseError\n",
            "    AssertionError\n",
            "    ArithmeticError\n",
            "      FloatingPointError\n",
            "      OverflowError\n",
            "      ZeroDivisionError\n",
            "        DivisionByZero\n",
            "        DivisionUndefined\n",
            "      DecimalException\n",
            "        Clamped\n",
            "        Rounded\n",
            "          Underflow\n",
            "          Overflow\n",
            "        Inexact\n",
            "          Underflow\n",
            "          Overflow\n",
            "        Subnormal\n",
            "          Underflow\n",
            "        DivisionByZero\n",
            "        FloatOperation\n",
            "        InvalidOperation\n",
            "          ConversionSyntax\n",
            "          DivisionImpossible\n",
            "          DivisionUndefined\n",
            "          InvalidContext\n",
            "    SystemError\n",
            "      CodecRegistryError\n",
            "    ReferenceError\n",
            "    MemoryError\n",
            "      MemoryError\n",
            "    BufferError\n",
            "    Warning\n",
            "      UserWarning\n",
            "        GetPassWarning\n",
            "        FormatterWarning\n",
            "        SetuptoolsWarning\n",
            "          InformationOnly\n",
            "          SetuptoolsDeprecationWarning\n",
            "            _AmbiguousMarker\n",
            "            _DeprecatedConfig\n",
            "            _WouldIgnoreField\n",
            "            DistDeprecationWarning\n",
            "          _BetaConfiguration\n",
            "          _InvalidFile\n",
            "        VisibleDeprecationWarning\n",
            "        RankWarning\n",
            "        ConversionWarning\n",
            "        RankWarning\n",
            "      EncodingWarning\n",
            "      DeprecationWarning\n",
            "        ProvisionalWarning\n",
            "        ModuleDeprecationWarning\n",
            "        MatplotlibDeprecationWarning\n",
            "      PendingDeprecationWarning\n",
            "      SyntaxWarning\n",
            "      RuntimeWarning\n",
            "        ProactorSelectorThreadWarning\n",
            "        UnknownTimezoneWarning\n",
            "        ComplexWarning\n",
            "        DecompressionBombWarning\n",
            "        PEP440Warning\n",
            "      FutureWarning\n",
            "        ProvisionalCompleterWarning\n",
            "        MaskedArrayFutureWarning\n",
            "      ImportWarning\n",
            "      UnicodeWarning\n",
            "      BytesWarning\n",
            "      ResourceWarning\n",
            "      DeprecatedTzFormatWarning\n",
            "      MathTextWarning\n",
            "      PkgResourcesDeprecationWarning\n",
            "    _OptionError\n",
            "    error\n",
            "    Verbose\n",
            "    Error\n",
            "    _Error\n",
            "    SubprocessError\n",
            "      CalledProcessError\n",
            "      TimeoutExpired\n",
            "    Error\n",
            "    TokenError\n",
            "    StopTokenizing\n",
            "    error\n",
            "    LZMAError\n",
            "    RegistryError\n",
            "    _GiveupOnFastCopy\n",
            "    ClassFoundException\n",
            "    EndOfBlock\n",
            "    TraitError\n",
            "    _GiveupOnSendfile\n",
            "    error\n",
            "    PickleError\n",
            "      PicklingError\n",
            "      UnpicklingError\n",
            "    _Stop\n",
            "    Empty\n",
            "    Full\n",
            "    ArgumentError\n",
            "    ArgumentTypeError\n",
            "    ConfigError\n",
            "      ConfigLoaderError\n",
            "        ArgumentError\n",
            "      ConfigFileNotFound\n",
            "    ConfigurableError\n",
            "      MultipleInstanceError\n",
            "    ApplicationError\n",
            "    ErrorDuringImport\n",
            "    BdbQuit\n",
            "    Restart\n",
            "    ExceptionPexpect\n",
            "      EOF\n",
            "      TIMEOUT\n",
            "    error\n",
            "    PtyProcessError\n",
            "    FindCmdError\n",
            "    HomeDirError\n",
            "    ProfileDirError\n",
            "    IPythonCoreError\n",
            "      TryNext\n",
            "      UsageError\n",
            "      StdinNotImplementedError\n",
            "    InputRejected\n",
            "    GetoptError\n",
            "    Incomplete\n",
            "    OptionError\n",
            "    ErrorToken\n",
            "    PrefilterError\n",
            "    AliasError\n",
            "      InvalidAliasError\n",
            "    Error\n",
            "      InterfaceError\n",
            "      DatabaseError\n",
            "        InternalError\n",
            "        OperationalError\n",
            "        ProgrammingError\n",
            "        IntegrityError\n",
            "        DataError\n",
            "        NotSupportedError\n",
            "    Warning\n",
            "    Error\n",
            "      CancelledError\n",
            "      TimeoutError\n",
            "      InvalidStateError\n",
            "    TimeoutError\n",
            "    InvalidStateError\n",
            "    LimitOverrunError\n",
            "    QueueEmpty\n",
            "    QueueFull\n",
            "    SpaceInInput\n",
            "    DOMException\n",
            "      IndexSizeErr\n",
            "      DomstringSizeErr\n",
            "      HierarchyRequestErr\n",
            "      WrongDocumentErr\n",
            "      InvalidCharacterErr\n",
            "      NoDataAllowedErr\n",
            "      NoModificationAllowedErr\n",
            "      NotFoundErr\n",
            "      NotSupportedErr\n",
            "      InuseAttributeErr\n",
            "      InvalidStateErr\n",
            "      SyntaxErr\n",
            "      InvalidModificationErr\n",
            "      NamespaceErr\n",
            "      InvalidAccessErr\n",
            "      ValidationErr\n",
            "    ValidationError\n",
            "    EditReadOnlyBuffer\n",
            "    _Retry\n",
            "    InvalidLayoutError\n",
            "    HeightIsUnknownError\n",
            "    MessageError\n",
            "      MessageParseError\n",
            "        HeaderParseError\n",
            "          _InvalidEwError\n",
            "        BoundaryError\n",
            "      MultipartConversionError\n",
            "      CharsetError\n",
            "    Error\n",
            "    HTTPException\n",
            "      NotConnected\n",
            "      InvalidURL\n",
            "      UnknownProtocol\n",
            "      UnknownTransferEncoding\n",
            "      UnimplementedFileMode\n",
            "      IncompleteRead\n",
            "      ImproperConnectionState\n",
            "        CannotSendRequest\n",
            "        CannotSendHeader\n",
            "        ResponseNotReady\n",
            "      BadStatusLine\n",
            "        RemoteDisconnected\n",
            "      LineTooLong\n",
            "    InteractivelyDefined\n",
            "    KillEmbedded\n",
            "    ArgumentError\n",
            "    ZMQBaseError\n",
            "      ZMQError\n",
            "        ContextTerminated\n",
            "        Again\n",
            "        InterruptedSystemCall\n",
            "      ZMQBindError\n",
            "      NotDone\n",
            "    NoIPAddresses\n",
            "    Error\n",
            "      NoSectionError\n",
            "      DuplicateSectionError\n",
            "      DuplicateOptionError\n",
            "      NoOptionError\n",
            "      InterpolationError\n",
            "        InterpolationMissingOptionError\n",
            "        InterpolationSyntaxError\n",
            "        InterpolationDepthError\n",
            "      ParsingError\n",
            "        MissingSectionHeaderError\n",
            "    InvalidPortNumber\n",
            "    DuplicateKernelError\n",
            "    error\n",
            "    ReturnValueIgnoredError\n",
            "    KeyReuseError\n",
            "    UnknownKeyError\n",
            "    LeakedCallbackError\n",
            "    BadYieldError\n",
            "    ReturnValueIgnoredError\n",
            "    Return\n",
            "    QueueEmpty\n",
            "    QueueFull\n",
            "    DistutilsError\n",
            "      DistutilsModuleError\n",
            "      DistutilsClassError\n",
            "      DistutilsGetoptError\n",
            "      DistutilsArgError\n",
            "      DistutilsFileError\n",
            "      DistutilsOptionError\n",
            "      DistutilsSetupError\n",
            "      DistutilsPlatformError\n",
            "      DistutilsExecError\n",
            "      DistutilsInternalError\n",
            "      DistutilsTemplateError\n",
            "      DistutilsByteCompileError\n",
            "      RemovedCommandError\n",
            "      PackageDiscoveryError\n",
            "    CCompilerError\n",
            "      PreprocessError\n",
            "      CompileError\n",
            "      LibError\n",
            "      LinkError\n",
            "      UnknownFileError\n",
            "    BadZipFile\n",
            "    LargeZipFile\n",
            "    Error\n",
            "    ParserSyntaxError\n",
            "    LinAlgError\n",
            "    ConverterError\n",
            "      ConverterLockError\n",
            "    MAError\n",
            "      MaskError\n",
            "    Error\n",
            "      AuthorizationError\n",
            "      RuntimeManagementError\n",
            "      MessageError\n",
            "    WidgetException\n",
            "    JsException\n",
            "    FormattedTracebackError\n",
            "    Error\n",
            "      NoSuchProcess\n",
            "        ZombieProcess\n",
            "      AccessDenied\n",
            "      TimeoutExpired\n",
            "    _Ipv6UnsupportedError\n",
            "    ParseBaseException\n",
            "      ParseException\n",
            "      ParseFatalException\n",
            "        ParseSyntaxException\n",
            "    RecursiveGrammarException\n",
            "    HttpLib2Error\n",
            "      HttpLib2ErrorWithResponse\n",
            "        RedirectMissingLocation\n",
            "        RedirectLimit\n",
            "        FailedToDecompressContent\n",
            "        UnimplementedDigestAuthOptionError\n",
            "        UnimplementedHmacDigestAuthOptionError\n",
            "      MalformedHeader\n",
            "      RelativeURIError\n",
            "      ServerNotFoundError\n",
            "      ProxiesUnavailableError\n",
            "    ExpatError\n",
            "    DecompressionBombError\n",
            "    FFIError\n",
            "    CDefError\n",
            "    VerificationError\n",
            "    VerificationMissing\n",
            "    PkgConfigError\n",
            "    BadRequiredStrength\n",
            "    DuplicateConstraint\n",
            "    DuplicateEditVariable\n",
            "    UnknownConstraint\n",
            "    UnknownEditVariable\n",
            "    UnsatisfiableConstraint\n",
            "    NonGuiException\n",
            "    InvalidIndexError\n",
            "    TerminateTrajectory\n",
            "    NoFreePortFoundError\n",
            "    DebuggerInitializationError\n",
            "    Error\n",
            "      ProtocolError\n",
            "      ResponseError\n",
            "      Fault\n",
            "    ParserSyntaxError\n",
            "    ResolutionError\n",
            "      VersionConflict\n",
            "        ContextualVersionConflict\n",
            "      DistributionNotFound\n",
            "      UnknownExtra\n",
            "    _Error\n",
            "    UnableToResolveVariableException\n",
            "    InvalidTypeInArgsException\n",
            "    validateage\n",
            "    CustomError\n",
            "  GeneratorExit\n",
            "  SystemExit\n",
            "  KeyboardInterrupt\n",
            "  CancelledError\n",
            "  AbortThread\n",
            "  AbortThread\n"
          ]
        }
      ]
    },
    {
      "cell_type": "markdown",
      "source": [
        "Q3. What errors are defined in the ArithmeticError class? Explain any two with an example."
      ],
      "metadata": {
        "id": "o0QRoQU00JjI"
      }
    },
    {
      "cell_type": "markdown",
      "source": [
        "The ArithmeticError class is a base class for exceptions that occur during arithmetic operations. It serves as a parent class for several specific arithmetic exception classes in Python. Two commonly used exceptions derived from ArithmeticError are 'ZeroDivisionError' and 'OverflowError'.\n",
        "\n",
        "01. ZeroDivisionError:\n",
        "\n",
        "ZeroDivisionError is raised when you attempt to divide a number by zero.\n",
        "Example is given in the cell below.\n",
        "\n",
        "02. Floating Point Error:\n",
        "\n",
        "\n",
        "A \"Floating-Point Error\" is a type of arithmetic error that occurs when performing operations on floating-point numbers. Floating-point numbers are used to represent real numbers with a decimal point, such as 3.14159, in computer programming. These errors arise due to the limitations of finite precision arithmetic used by computers. Here's an example of a floating-point error in Python:\n",
        "\n"
      ],
      "metadata": {
        "id": "p_ZMhTbr2W1A"
      }
    },
    {
      "cell_type": "code",
      "source": [
        "#ZeroDivisionError\n",
        "\n",
        "try:\n",
        "    result = 10 / 0  # Attempt to divide by zero\n",
        "except ZeroDivisionError as e:\n",
        "    print(f\"Zero Division Error: {e}\")"
      ],
      "metadata": {
        "colab": {
          "base_uri": "https://localhost:8080/"
        },
        "id": "aeY5O435xkCF",
        "outputId": "0df885e1-6e1f-4d05-a350-149ccf196083"
      },
      "execution_count": 17,
      "outputs": [
        {
          "output_type": "stream",
          "name": "stdout",
          "text": [
            "Zero Division Error: division by zero\n"
          ]
        }
      ]
    },
    {
      "cell_type": "code",
      "source": [
        "#Floating Point Error\n",
        "# Example 1: Rounding Error\n",
        "a = 1.0\n",
        "b = 0.1\n",
        "\n",
        "result = 0.0\n",
        "for _ in range(10):\n",
        "    result += b  # Add 0.1 to the result 10 times\n",
        "\n",
        "# Due to rounding errors, the result is not exactly 1.0\n",
        "if a == result:\n",
        "    print(\"Equal\")\n",
        "else:\n",
        "    print(\"Not Equal\")"
      ],
      "metadata": {
        "colab": {
          "base_uri": "https://localhost:8080/"
        },
        "id": "tdvRkjjR2w8Q",
        "outputId": "546c2fbe-c176-4f1d-9b5f-d9917c4bbaad"
      },
      "execution_count": 22,
      "outputs": [
        {
          "output_type": "stream",
          "name": "stdout",
          "text": [
            "Not Equal\n"
          ]
        }
      ]
    },
    {
      "cell_type": "markdown",
      "source": [
        "Q4. Why LookupError class is used? Explain with an example KeyError and IndexError.\n",
        "\n",
        "Ans. The 'LookupError' class is a base class for exceptions related to lookup operations, particulary when looking up elements in sequences or collections.\n",
        "\n",
        "Two common exceptions derived from 'LookupError' are 'KeyError' and 'IndexError'.\n",
        "\n",
        "01. KeyError\n",
        "It is raised when we try to access a dictionary key that does not exist.\n",
        "\n",
        "02. IndexError\n",
        "It is raised when we try to access an index that is out of range for a sequence (eg. a list or a string)\n",
        "\n",
        "Example for these are given in cells below."
      ],
      "metadata": {
        "id": "ncQNrQsP00TX"
      }
    },
    {
      "cell_type": "code",
      "source": [
        "my_dict = {'name': 'Alice', 'age': 30}\n",
        "\n",
        "try:\n",
        "    value = my_dict['city']  # Attempt to access a non-existent key\n",
        "except KeyError as e:\n",
        "    print(f\"KeyError: {e}\")"
      ],
      "metadata": {
        "colab": {
          "base_uri": "https://localhost:8080/"
        },
        "id": "v8yfgqctxkFS",
        "outputId": "39b90277-99bd-4482-9684-0b56b992c1f7"
      },
      "execution_count": 1,
      "outputs": [
        {
          "output_type": "stream",
          "name": "stdout",
          "text": [
            "KeyError: 'city'\n"
          ]
        }
      ]
    },
    {
      "cell_type": "code",
      "source": [
        "my_list = [10, 20, 30]\n",
        "\n",
        "try:\n",
        "    value = my_list[3]  # Attempt to access an index that is out of range\n",
        "except IndexError as e:\n",
        "    print(f\"IndexError: {e}\")"
      ],
      "metadata": {
        "colab": {
          "base_uri": "https://localhost:8080/"
        },
        "id": "pBlE18eXxkLz",
        "outputId": "7d5730f9-5d4f-4b5e-c056-ebe07b444852"
      },
      "execution_count": 2,
      "outputs": [
        {
          "output_type": "stream",
          "name": "stdout",
          "text": [
            "IndexError: list index out of range\n"
          ]
        }
      ]
    },
    {
      "cell_type": "markdown",
      "source": [
        "Q5. Explain ImportError. What is ModuleNotFoundError?\n",
        "\n",
        "Ans. ImportError and ModuleNotFoundError are both exceptions in Python that occur when there is an issue with importing modules or packages. They indicate problems related to module imports in our code.\n",
        "\n",
        "* #### ImportError:\n",
        "\n",
        "ImportError is a broad exception that can occur when there is a problem with importing a module or package. It can have various subtypes depending on the specific issue.\n",
        "It can occur in situations such as:\n",
        "\n",
        "* A module or package name is misspelled.\n",
        "* The module you are trying to import is not installed.\n",
        "* There is a circular import (when two or more modules depend on each other).\n",
        "* The module contains syntax errors.\n",
        "\n",
        "* #### ModuleNotFoundError\n",
        "\n",
        "ModuleNotFoundError is a specific subtype of ImportError introduced in Python 3.6. It occurs when the Python interpreter cannot find the module you are trying to import.\n",
        "It provides a more descriptive error message, making it easier to identify missing modules.\n",
        "\n",
        "Example for these can be seen in the cells below.\n",
        "\n"
      ],
      "metadata": {
        "id": "gTcGkFFTOWCy"
      }
    },
    {
      "cell_type": "code",
      "source": [
        "# ImportError\n",
        "try:\n",
        "    import non_existent_module  # Attempt to import a non-existent module\n",
        "except ImportError as e:\n",
        "    print(f\"ImportError: {e}\")"
      ],
      "metadata": {
        "colab": {
          "base_uri": "https://localhost:8080/"
        },
        "id": "Wj6GaiOUVSy0",
        "outputId": "ebaa199e-7d32-4fc3-8dc5-109b44bba1f5"
      },
      "execution_count": 3,
      "outputs": [
        {
          "output_type": "stream",
          "name": "stdout",
          "text": [
            "ImportError: No module named 'non_existent_module'\n"
          ]
        }
      ]
    },
    {
      "cell_type": "code",
      "source": [
        "# ModuleNotFoundError\n",
        "try:\n",
        "    import non_existent_module  # Attempt to import a non-existent module\n",
        "except ModuleNotFoundError as e:\n",
        "    print(f\"ModuleNotFoundError: {e}\")"
      ],
      "metadata": {
        "colab": {
          "base_uri": "https://localhost:8080/"
        },
        "id": "jHe9Ga56VaVt",
        "outputId": "e909e426-1b1c-4061-c59b-ceaa2711a9aa"
      },
      "execution_count": 4,
      "outputs": [
        {
          "output_type": "stream",
          "name": "stdout",
          "text": [
            "ModuleNotFoundError: No module named 'non_existent_module'\n"
          ]
        }
      ]
    },
    {
      "cell_type": "markdown",
      "source": [
        "Q6. List down some best practices for exception handling in python.\n",
        "\n",
        "Ans. Exception handling is a critical aspect of software development, and it should be employed when working in an organization or anyways to ensure your code to be robust, reliable, and maintainable code. Some of the best practices regarding exception handling are listed as follows:\n",
        "\n",
        "01. Use Exception Handling for errors:\n",
        "We should exception handling primarily to handle errors and exceptional situations, not for controlling normal program flow.\n",
        "\n",
        "02. Be Specific in Exception Handling:\n",
        "Catch only the exceptions you expect and can handle. We should avoid ‘except’ clause i.e., ‘except Exception’ , unless we have a good reason to do it.\n",
        "\n",
        "03. Handle Exceptions Gracefully:\n",
        "Exception handling allows us to gracefully recover from errors, and we should handle them in a way that provides useful feedback to users and helps maintain program stability.\n",
        "\n",
        "04. Provide Informative Error Message:\n",
        "Exception messages should always be informative and clear. They should help developers diagnose issues and provide users with actionable information.\n",
        "\n",
        "05. Log Exceptions:\n",
        "Logging exceptions is a crucial step for debugging and monitoring. We must use a logging framework to record exception details, including the stack trace, timestamp, and context.\n",
        "\n",
        "06. Documentation of Exception Handling:\n",
        "A proper documentation of exception handling your code can raise and how they should be handled. Good documentation helps other developers understand and use your code well."
      ],
      "metadata": {
        "id": "k4w1gWwcOXPE"
      }
    },
    {
      "cell_type": "code",
      "source": [],
      "metadata": {
        "id": "zwH_zpDaxkSS"
      },
      "execution_count": null,
      "outputs": []
    },
    {
      "cell_type": "code",
      "source": [],
      "metadata": {
        "id": "Ju-fyRwxV0Ru"
      },
      "execution_count": null,
      "outputs": []
    },
    {
      "cell_type": "code",
      "source": [],
      "metadata": {
        "id": "Bf5KgfGzV0UL"
      },
      "execution_count": null,
      "outputs": []
    },
    {
      "cell_type": "code",
      "source": [],
      "metadata": {
        "id": "nQ5GRm1uV0WF"
      },
      "execution_count": null,
      "outputs": []
    },
    {
      "cell_type": "code",
      "source": [],
      "metadata": {
        "id": "5iaRabtxV0YL"
      },
      "execution_count": null,
      "outputs": []
    },
    {
      "cell_type": "code",
      "source": [],
      "metadata": {
        "id": "P0G5W_X1V0aH"
      },
      "execution_count": null,
      "outputs": []
    },
    {
      "cell_type": "code",
      "source": [],
      "metadata": {
        "id": "pGg546hwV0cM"
      },
      "execution_count": null,
      "outputs": []
    },
    {
      "cell_type": "code",
      "source": [],
      "metadata": {
        "id": "vJ3LhTd8V0eu"
      },
      "execution_count": null,
      "outputs": []
    },
    {
      "cell_type": "code",
      "source": [],
      "metadata": {
        "id": "g-wPOOxvV0hO"
      },
      "execution_count": null,
      "outputs": []
    },
    {
      "cell_type": "code",
      "source": [],
      "metadata": {
        "id": "UmYckuRmV0jb"
      },
      "execution_count": null,
      "outputs": []
    },
    {
      "cell_type": "code",
      "source": [],
      "metadata": {
        "id": "uiqVOiUBV0l1"
      },
      "execution_count": null,
      "outputs": []
    },
    {
      "cell_type": "code",
      "source": [],
      "metadata": {
        "id": "OD6D1dnIV0n6"
      },
      "execution_count": null,
      "outputs": []
    },
    {
      "cell_type": "code",
      "source": [],
      "metadata": {
        "id": "sef_qr2-V0p5"
      },
      "execution_count": null,
      "outputs": []
    },
    {
      "cell_type": "code",
      "source": [],
      "metadata": {
        "id": "2VPTpSNSV0sH"
      },
      "execution_count": null,
      "outputs": []
    },
    {
      "cell_type": "code",
      "source": [],
      "metadata": {
        "id": "WzLmMWwMV0t4"
      },
      "execution_count": null,
      "outputs": []
    },
    {
      "cell_type": "code",
      "source": [],
      "metadata": {
        "id": "dmDr0FCdV0wb"
      },
      "execution_count": null,
      "outputs": []
    },
    {
      "cell_type": "code",
      "source": [],
      "metadata": {
        "id": "AwPk5BnhV0x_"
      },
      "execution_count": null,
      "outputs": []
    },
    {
      "cell_type": "code",
      "source": [],
      "metadata": {
        "id": "XX0uwihAV00a"
      },
      "execution_count": null,
      "outputs": []
    },
    {
      "cell_type": "code",
      "source": [],
      "metadata": {
        "id": "Mw1f3DuAV03D"
      },
      "execution_count": null,
      "outputs": []
    },
    {
      "cell_type": "code",
      "source": [],
      "metadata": {
        "id": "F3r9NfnCV05u"
      },
      "execution_count": null,
      "outputs": []
    },
    {
      "cell_type": "code",
      "source": [],
      "metadata": {
        "id": "4zagcMqfV08y"
      },
      "execution_count": null,
      "outputs": []
    },
    {
      "cell_type": "code",
      "source": [],
      "metadata": {
        "id": "Q6d_IY4DV0_p"
      },
      "execution_count": null,
      "outputs": []
    },
    {
      "cell_type": "code",
      "source": [],
      "metadata": {
        "id": "zW8Xe3OMV1Bw"
      },
      "execution_count": null,
      "outputs": []
    },
    {
      "cell_type": "code",
      "source": [],
      "metadata": {
        "id": "DbpsciqpV1Eg"
      },
      "execution_count": null,
      "outputs": []
    },
    {
      "cell_type": "code",
      "source": [],
      "metadata": {
        "id": "Yobc6RTeV1HI"
      },
      "execution_count": null,
      "outputs": []
    },
    {
      "cell_type": "code",
      "source": [],
      "metadata": {
        "id": "2AlvYT2UV1Ka"
      },
      "execution_count": null,
      "outputs": []
    },
    {
      "cell_type": "code",
      "source": [],
      "metadata": {
        "id": "uKuuhq7Zxl55"
      },
      "execution_count": null,
      "outputs": []
    },
    {
      "cell_type": "code",
      "source": [],
      "metadata": {
        "id": "w15DxzjDXO31"
      },
      "execution_count": null,
      "outputs": []
    },
    {
      "cell_type": "markdown",
      "source": [
        "Q1. What is multithreading in python? hy is it used? Name the module used to handle threads in python\n",
        "\n",
        "Q2. Why threading module used? rite the use of the following functions\n",
        "\n",
        "a. activeCount\n",
        "b. currentThread\n",
        "c. enumerate\n",
        "\n",
        "Q3. Explain the following functions\n",
        "a. run\n",
        "b. start\n",
        "c. join\n",
        "d. isAlive\n",
        "\n",
        "4. rite a python program to create two threads. Thread one must print the list of squares and thread\n",
        "two must print the list of cubes\n",
        "\n",
        "5. State advantages and disadvantages of multithreading\n",
        "\n",
        "6. Explain deadlocks and race conditions."
      ],
      "metadata": {
        "id": "-Vhd0IjhXPIZ"
      }
    },
    {
      "cell_type": "code",
      "source": [],
      "metadata": {
        "id": "EiZTAKdDXoHd"
      },
      "execution_count": null,
      "outputs": []
    },
    {
      "cell_type": "markdown",
      "source": [
        "Q1. What is multiprocessing in python? Why is it useful?\n",
        "\n",
        "Q2. What are the differences between multiprocessing and multithreading?\n",
        "\n",
        "Q3. Write a python code to create a process using the multiprocessing module.\n",
        "\n",
        "Q4. What is a multiprocessing pool in python? Why is it used?\n",
        "\n",
        "Q5. How can we create a pool of worker processes in python using the multiprocessing module?\n",
        "\n",
        "Q6. Write a python program to create 4 processes, each process should print a different number using the\n",
        "multiprocessing module in python."
      ],
      "metadata": {
        "id": "sD80hCM8Xow6"
      }
    },
    {
      "cell_type": "code",
      "source": [],
      "metadata": {
        "id": "soVUfSKuXulO"
      },
      "execution_count": null,
      "outputs": []
    }
  ]
}