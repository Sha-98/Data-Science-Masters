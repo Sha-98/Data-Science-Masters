{
  "nbformat": 4,
  "nbformat_minor": 0,
  "metadata": {
    "colab": {
      "provenance": [],
      "authorship_tag": "ABX9TyPlplEkA1lwYiWbpUyzgT9y",
      "include_colab_link": true
    },
    "kernelspec": {
      "name": "python3",
      "display_name": "Python 3"
    },
    "language_info": {
      "name": "python"
    }
  },
  "cells": [
    {
      "cell_type": "markdown",
      "metadata": {
        "id": "view-in-github",
        "colab_type": "text"
      },
      "source": [
        "<a href=\"https://colab.research.google.com/github/Sha-98/Data-Science-Masters/blob/main/Statistics_Adv_03.ipynb\" target=\"_parent\"><img src=\"https://colab.research.google.com/assets/colab-badge.svg\" alt=\"Open In Colab\"/></a>"
      ]
    },
    {
      "cell_type": "markdown",
      "source": [
        "# **Statistics Advance 03 - Assignment**"
      ],
      "metadata": {
        "id": "VJl8Re9mmM3o"
      }
    },
    {
      "cell_type": "markdown",
      "source": [
        "## **Q1: What is Estimation Statistics? Explain point estimate and interval estimate.**\n"
      ],
      "metadata": {
        "id": "Py39rUcYOh5y"
      }
    },
    {
      "cell_type": "markdown",
      "source": [
        "Estimation statistics is a branch of statistics that deals with estimating unknown population parameters based on sample data. It involves two main types of estimation:\n",
        "\n",
        "**1. point estimation**\n",
        "\n",
        "**2. interval estimation.**\n",
        "\n",
        "Point estimation is the simplest form of estimation, which involves estimating a population parameter by using a single value, called a **point estimator**.\n",
        "\n",
        "For example, the sample mean can be used as a point estimator of the population mean, and the sample proportion can be used as a point estimator of the population proportion. ***A good point estimator should have three desirable properties: unbiasedness, consistency, and efficiency.***\n",
        "\n",
        "***Interval estimation***, on the other hand, involves constructing a range of values, called a **confidence interval**, that is likely to contain the unknown population parameter with a certain level of confidence.\n",
        "\n",
        "For example, a **95% confidence interval** for the population mean would contain the true population mean in 95% of all possible samples. The formula for a confidence interval for the population mean is:\n",
        "\n",
        "***x̄ ± zα/2 * σ / √n***\n",
        "\n",
        "where\n",
        "- **x̄** is the sample mean,\n",
        "\n",
        "- **zα/2** is the z-score that corresponds to the desired level of confidence,\n",
        "\n",
        "- **σ** is the population standard deviation (if known) or the sample standard deviation (if unknown), and\n",
        "\n",
        "- **n** is the sample size.\n",
        "\n",
        "Interval estimation provides more information than point estimation, as it gives a range of values that are likely to contain the true population parameter, rather than just a single value. However, it requires more calculations and assumptions than point estimation.\n",
        "\n",
        "***In summary, estimation statistics involves estimating unknown population parameters based on sample data, using either point estimation or interval estimation. Point estimation provides a single value estimate for the population parameter, while interval estimation provides a range of values that the population parameter is likely to fall within. Both methods have their own advantages and limitations, and the choice between them depends on the specific research question, sample size, level of precision, and confidence level desired by the researcher.***"
      ],
      "metadata": {
        "id": "VxeYNwp4Qlez"
      }
    },
    {
      "cell_type": "markdown",
      "source": [
        "## **Q2. Write a Python function to estimate the population mean using a sample mean and standard deviation.**\n"
      ],
      "metadata": {
        "id": "hzH2fsGtPBJL"
      }
    },
    {
      "cell_type": "markdown",
      "source": [
        "To estimate the population mean using a sample mean and standard deviation, you can use the **t-distribution** since you're working with a sample.\n",
        "\n",
        "Here's a Python function that calculates the confidence interval for the population mean:"
      ],
      "metadata": {
        "id": "Ihvknex4WlJw"
      }
    },
    {
      "cell_type": "code",
      "source": [
        "import scipy.stats as stats\n",
        "import math\n",
        "\n",
        "def estimate_population_mean(sample_mean, sample_std, sample_size, confidence_level=0.95):\n",
        "    \"\"\"\n",
        "    Estimate the population mean using a sample mean and standard deviation.\n",
        "\n",
        "    Parameters:\n",
        "    - sample_mean: The mean of the sample.\n",
        "    - sample_std: The standard deviation of the sample.\n",
        "    - sample_size: The size of the sample.\n",
        "    - confidence_level: The confidence level for the interval (default is 0.95).\n",
        "\n",
        "    Returns:\n",
        "    - Tuple: (lower_bound, upper_bound), the confidence interval for the population mean.\n",
        "    \"\"\"\n",
        "\n",
        "    # Calculate the standard error of the mean\n",
        "    standard_error = sample_std / math.sqrt(sample_size)\n",
        "\n",
        "    # Calculate the degrees of freedom for the t-distribution\n",
        "    degrees_of_freedom = sample_size - 1\n",
        "\n",
        "    # Find the critical value for the two-tailed t-distribution\n",
        "    t_critical = stats.t.ppf((1 + confidence_level) / 2, df=degrees_of_freedom)\n",
        "\n",
        "    # Calculate the margin of error\n",
        "    margin_of_error = t_critical * standard_error\n",
        "\n",
        "    # Calculate the confidence interval\n",
        "    lower_bound = sample_mean - margin_of_error\n",
        "    upper_bound = sample_mean + margin_of_error\n",
        "\n",
        "    return lower_bound, upper_bound\n",
        "\n",
        "# Example Usage:\n",
        "sample_mean = 70.5\n",
        "sample_std = 10.2\n",
        "sample_size = 25\n",
        "confidence_level = 0.95\n",
        "\n",
        "interval = estimate_population_mean(sample_mean, sample_std, sample_size, confidence_level)\n",
        "print(f\"Estimated Population Mean Interval: {interval}\")\n"
      ],
      "metadata": {
        "colab": {
          "base_uri": "https://localhost:8080/"
        },
        "id": "6Ju1UsIlTBYh",
        "outputId": "5a39a77a-92e5-47eb-bef7-e42a3aa02da4"
      },
      "execution_count": 2,
      "outputs": [
        {
          "output_type": "stream",
          "name": "stdout",
          "text": [
            "Estimated Population Mean Interval: (66.28964693427884, 74.71035306572116)\n"
          ]
        }
      ]
    },
    {
      "cell_type": "markdown",
      "source": [
        "## **Q3: What is Hypothesis testing? Why is it used? State the importance of Hypothesis testing.**\n"
      ],
      "metadata": {
        "id": "Qfx0FRQVPEY0"
      }
    },
    {
      "cell_type": "markdown",
      "source": [
        "Hypothesis testing is important because it allows us to make informed decisions and draw conclusions about a population based on sample data. It involves formulating two hypotheses,\n",
        "\n",
        "**1. The null hypothesis (H0)**\n",
        "\n",
        "**2. The alternative hypothesis (Ha)**\n",
        "\n",
        "and then assessing the evidence to determine whether to **reject H0 in favor of Ha** or not. This process helps us to evaluate whether the sample data support our idea about the population or not.\n",
        "\n",
        "For example, if we have a sample with a mean of 30 and a standard deviation of 10, we can use this information to estimate the population mean. However, we cannot be entirely sure that the population mean is exactly 30 based on the sample data alone. Hypothesis testing allows us to evaluate the likelihood that the population mean is different from 30, based on the sample data.\n",
        "\n",
        "For example, we could formulate the null hypothesis as\n",
        "**H0: μ = 30**, where **μ** is the population mean, and the alternative hypothesis as **Ha: μ ≠ 30**.\n",
        "\n",
        "We could then use a statistical test, such as a t-test, to assess the evidence and determine whether to reject H0 in favor of Ha or not. If the test statistic is in the rejection region, we would reject H0 and conclude that the population mean is significantly different from 30. If the test statistic is not in the rejection region, we would **fail to reject H0** and conclude that the sample data do not provide sufficient evidence to conclude that the population mean is significantly different from 30.\n",
        "\n",
        "***Overall, hypothesis testing is an important tool for making informed decisions and drawing conclusions based on sample data. It allows us to evaluate the evidence and determine whether our sample data support our idea about the population or not.***"
      ],
      "metadata": {
        "id": "JXr8My4dVR16"
      }
    },
    {
      "cell_type": "markdown",
      "source": [
        "## **Q4. Create a hypothesis that states whether the average weight of male college students is greater than the average weight of female college students.**\n"
      ],
      "metadata": {
        "id": "iqZk646JPHO3"
      }
    },
    {
      "cell_type": "markdown",
      "source": [
        "The Hypothesis that states whether the average weight of male college students is greater than the average weight of female college student is as follows:-\n",
        "\n",
        "**Null Hypothesis (H0): μ_male - μ_female = 0      \n",
        " (the average weight of male and female college students is the same)**\n",
        "\n",
        "**Alternate Hypothesis (H1): μ_male - μ_female > 0\n",
        " (the average weight of male college students is greater than that of female college students)**\n",
        "\n",
        "where,\n",
        "\n",
        "μ_male and μ_female are the population means for the weight of male and female college students, respectively."
      ],
      "metadata": {
        "id": "VGoei3imW9u2"
      }
    },
    {
      "cell_type": "markdown",
      "source": [
        "## **Q5. Write a Python script to conduct a hypothesis test on the difference between two population means, given a sample from each population.**\n"
      ],
      "metadata": {
        "id": "njnCpEqYPK-5"
      }
    },
    {
      "cell_type": "code",
      "source": [
        "# sample mean\n",
        "# sample std_dev\n",
        "# sample size and degree of freedom\n",
        "# condifence level of the interval\n",
        "# critical value for decision making\n",
        "\n",
        "# comparision among 2 data --> double sample t-test\n",
        "\n",
        "import scipy.stats as stats\n",
        "\n",
        "def two_sample_t_test(sample1, sample2, alpha=0.05):\n",
        "    \"\"\"\n",
        "    Perform a two-sample t-test for the difference between two population means.\n",
        "\n",
        "    Parameters:\n",
        "    - sample1: The first sample.\n",
        "    - sample2: The second sample.\n",
        "    - alpha: The significance level (default is 0.05).\n",
        "\n",
        "    Returns:\n",
        "    - Tuple: (t_statistic, p_value)\n",
        "    \"\"\"\n",
        "\n",
        "    # Perform a two-sample t-test\n",
        "    t_statistic, p_value = stats.ttest_ind(sample1, sample2)\n",
        "\n",
        "    # Check for statistical significance\n",
        "    if p_value < alpha:\n",
        "        print(f\"Reject the null hypothesis. There is enough evidence to suggest a significant difference.\")\n",
        "    else:\n",
        "        print(\"Fail to reject the null hypothesis. There is not enough evidence to suggest a significant difference.\")\n",
        "\n",
        "    return t_statistic, p_value\n",
        "\n",
        "sample1 = [22, 25, 28, 30, 32, 35, 38, 40, 42, 45]\n",
        "sample2 = [18, 21, 25, 28, 30, 32, 35, 38, 40, 42]\n",
        "\n",
        "two_sample_t_test(sample1, sample2, alpha=0.05)"
      ],
      "metadata": {
        "colab": {
          "base_uri": "https://localhost:8080/"
        },
        "id": "qCn13b7QX3Ux",
        "outputId": "cbaab329-ac20-44e9-b4f5-803263f615ad"
      },
      "execution_count": 3,
      "outputs": [
        {
          "output_type": "stream",
          "name": "stdout",
          "text": [
            "Fail to reject the null hypothesis. There is not enough evidence to suggest a significant difference.\n"
          ]
        },
        {
          "output_type": "execute_result",
          "data": {
            "text/plain": [
              "(0.8005447736416162, 0.43383499047285135)"
            ]
          },
          "metadata": {},
          "execution_count": 3
        }
      ]
    },
    {
      "cell_type": "markdown",
      "source": [
        "So, for our example, we failed to reject the null hypothesis. and our **t-statistics** is **0.800**, while the **p-value** is **0.433**"
      ],
      "metadata": {
        "id": "xWokj8T-ZeAR"
      }
    },
    {
      "cell_type": "markdown",
      "source": [
        "## **Q6: What is a null and alternative hypothesis? Give some examples.**\n"
      ],
      "metadata": {
        "id": "wOq4uAdtPOjw"
      }
    },
    {
      "cell_type": "markdown",
      "source": [
        "A **null hypothesis** is a statement that assumes there is no significant difference or relationship between variables in a population. It is a hypothesis that is tested and is considered to be true until there is sufficient evidence to reject it.\n",
        "\n",
        "The **alternative hypothesis**, on the other hand, is a statement that assumes there is a significant difference or relationship between variables in a population. It is the hypothesis that the researcher tries to support with evidence.\n",
        "\n",
        "For example, if a **medical trial** is conducted to test whether a new medicine reduces cholesterol by 25%, the **null hypothesis** would be that the **drug reduces cholesterol by 25%*** (H0: p = 0.25), and the **alternative hypothesis** would be that the **drug does not reduce cholesterol by 25%** (Ha: p ≠ 0.25)."
      ],
      "metadata": {
        "id": "54SnEbH-hxZV"
      }
    },
    {
      "cell_type": "markdown",
      "source": [
        "## **Q7: Write down the steps involved in hypothesis testing.**\n"
      ],
      "metadata": {
        "id": "E2u3IdNXPRYg"
      }
    },
    {
      "cell_type": "markdown",
      "source": [
        "The steps involved in Hypothesis testing are listed as follows:\n",
        "\n",
        "**1. State the null and alternative hypotheses:** The null hypothesis (H0) is a statement of no effect or no difference, while the alternative hypothesis (Ha) is the researcher's preferred outcome. For example, if you want to know whether a new drug is effective in reducing blood pressure, your null hypothesis might be that there is no difference in blood pressure between patients who take the drug and those who don't, while your alternative hypothesis would be that the drug does lower blood pressure.\n",
        "\n",
        "**2. Choose a significance level:** The significance level (often denoted as alpha or α) is the probability of rejecting the null hypothesis when it is actually true. Common significance levels are 0.05, 0.01, and 0.10. This level is set by the researcher before conducting the test.\n",
        "\n",
        "**3. Select a test statistic:** A test statistic is a value calculated from the sample data that is used to determine whether to reject the null hypothesis. Common test statistics include the t-test, z-test, and chi-square test.\n",
        "\n",
        "**4. Determine the critical value(s):** The critical value(s) are the value(s) that define the rejection region(s) of the test statistic. If the test statistic falls in the rejection region(s), the null hypothesis is rejected.\n",
        "\n",
        "**5. Calculate the p-value:** The p-value is the probability of observing a test statistic as extreme or more extreme than the one calculated, assuming the null hypothesis is true. The p-value is compared to the significance level to determine whether to reject the null hypothesis.\n",
        "\n",
        "**6. Make a decision:** Based on the p-value and the significance level, the researcher makes a decision to reject or fail to reject the null hypothesis. If the p-value is less than the significance level, the null hypothesis is rejected in favor of the alternative hypothesis. If the p-value is greater than or equal to the significance level, the null hypothesis is not rejected.\n",
        "\n",
        "\n",
        "***It's important to note that hypothesis testing is a formal procedure for making decisions based on data, but it does not prove or disprove a hypothesis with certainty. Instead, it provides evidence for or against the null hypothesis, and the decision to reject or fail to reject the null hypothesis is based on the chosen significance level and the p-value.***"
      ],
      "metadata": {
        "id": "NXdzUsBzihpP"
      }
    },
    {
      "cell_type": "markdown",
      "source": [
        "## **Q8. Define p-value and explain its significance in hypothesis testing.**\n"
      ],
      "metadata": {
        "id": "CZYciZMfPTzN"
      }
    },
    {
      "cell_type": "markdown",
      "source": [
        "The **p-value** is a key component in the steps of **hypothesis testing**, as it provides a **measure of the probability of obtaining the observed results** (or more extreme results) under the assumption that the null hypothesis is true. .\n",
        "\n",
        "The p-value is compared to a predetermined significance level (often denoted as alpha, or α) to decide whether to reject or fail to reject the null hypothesis. If the p-value is less than or equal to the significance level, then the null hypothesis is rejected, indicating that the observed results are statistically significant and provide evidence against the null hypothesis. Conversely, if the p-value is greater than the significance level, then the null hypothesis is not rejected, indicating that the observed results are not statistically significant and do not provide enough evidence to reject the null hypothesis.\n",
        "\n",
        "***In summary, the p-value is used to evaluate the evidence against the null hypothesis and helps determine whether the observed results are statistically significant or not. It is an important tool in hypothesis testing, as it allows researchers to draw conclusions about population parameters based on sample data.***"
      ],
      "metadata": {
        "id": "5wR13FdYjSe0"
      }
    },
    {
      "cell_type": "markdown",
      "source": [
        "## **Q9. Generate a Student's t-distribution plot using Python's matplotlib library, with the degrees of freedom parameter set to 10.**\n"
      ],
      "metadata": {
        "id": "-9hnNUNbPV7R"
      }
    },
    {
      "cell_type": "code",
      "source": [
        "import numpy as np\n",
        "import matplotlib.pyplot as plt\n",
        "from scipy.stats import t\n",
        "\n",
        "# Degrees of freedom of our data\n",
        "df = 10\n",
        "\n",
        "# Generating 1000 data points\n",
        "x = np.linspace(-3, 3, 1000)\n",
        "\n",
        "# Calculate the probability density function (PDF) for the t-distribution\n",
        "pdf = t.pdf(x, df)\n",
        "\n",
        "# Plot the t-distribution\n",
        "plt.plot(x, pdf, label=f'Student\\'s t-distribution (df={df})')\n",
        "plt.title('Student\\'s t-distribution')\n",
        "plt.xlabel('x')\n",
        "plt.ylabel('Probability Density Function (PDF)')\n",
        "plt.legend()\n",
        "plt.show()"
      ],
      "metadata": {
        "colab": {
          "base_uri": "https://localhost:8080/",
          "height": 472
        },
        "id": "fZKlrTJxjxSt",
        "outputId": "be29fb18-d4fa-4f2b-bd4a-a7211f4305a4"
      },
      "execution_count": 4,
      "outputs": [
        {
          "output_type": "display_data",
          "data": {
            "text/plain": [
              "<Figure size 640x480 with 1 Axes>"
            ],
            "image/png": "[encoded data removed]"
          },
          "metadata": {}
        }
      ]
    },
    {
      "cell_type": "markdown",
      "source": [
        "## **Q10. Write a Python program to calculate the two-sample t-test for independent samples, given two random samples of equal size and a null hypothesis that the population means are equal.**"
      ],
      "metadata": {
        "id": "FPGaLrEfPZCZ"
      }
    },
    {
      "cell_type": "code",
      "source": [
        "import numpy as np\n",
        "from scipy.stats import ttest_ind\n",
        "\n",
        "def two_sample_t(sample1, sample2, alpha):\n",
        "  t_statistic, p_value = stats.ttest_ind(sample1, sample2)\n",
        "\n",
        "  if p_value > alpha:\n",
        "    print(\"Reject the null Hypothesis\")\n",
        "  else:\n",
        "    print(\"Failed to reject the Null Hypothesis\")\n",
        "\n",
        "  print(\"T-statistic:\", t_statistic)\n",
        "  print(\"P-value:\", p_value)\n",
        "\n",
        "  return\n",
        "\n",
        "# Generate two random samples\n",
        "np.random.seed(42)  # Setting seed for reproducibility\n",
        "\n",
        "sample1 = np.random.normal(loc=5, scale=2, size=100)\n",
        "sample2 = np.random.normal(loc=5.5, scale=2, size=100)\n",
        "alpha = 0.5\n",
        "\n",
        "two_sample_t(sample1, sample2, alpha)"
      ],
      "metadata": {
        "colab": {
          "base_uri": "https://localhost:8080/"
        },
        "id": "4Y_CPOuWl7SI",
        "outputId": "59f9f759-119b-4eaa-80de-6b423110be7a"
      },
      "execution_count": 5,
      "outputs": [
        {
          "output_type": "stream",
          "name": "stdout",
          "text": [
            "Failed to reject the Null Hypothesis\n",
            "T-statistic: -2.856313943633568\n",
            "P-value: 0.004743226541487439\n"
          ]
        }
      ]
    },
    {
      "cell_type": "markdown",
      "source": [
        "## **Q11: What is Student’s t distribution? When to use the t-Distribution.**\n"
      ],
      "metadata": {
        "id": "0nObnMakPd2I"
      }
    },
    {
      "cell_type": "markdown",
      "source": [
        "**Student's t-distribution** is appropriate to use when you want to make inferences about the population mean and the sample size is small (typically less than 30 observations) and/or the population standard deviation is unknown.\n",
        "\n",
        "It is **commonly used in hypothesis testing**, such as in t-tests, to compare the means of two samples, or in the **construction of confidence intervals** for the difference between two population means.\n",
        "\n",
        "Additionally, the t-distribution is **used in linear regression analysis** as the distribution of the estimator of the slope coefficient when the variance of the errors is unknown. It is **also used in Bayesian analysis as a compound distribution when marginalizing over the variance parameter**, as in Bayesian analysis, the t-distribution can be used as a compound distribution, where it is combined with another distribution, such as the inverse gamma distribution, over the variance parameter of a normal distribution.\n",
        "\n",
        "This allows for the marginalization of the variance parameter, which results in the location-scale t-distribution. This distribution is useful in Bayesian inference problems because the inverse gamma distribution is the conjugate prior distribution of the variance of a normal distribution. This means that the location-scale t-distribution arises naturally in many Bayesian inference problems, making it a useful tool for making probabilistic statements about unknown parameters in a statistical model."
      ],
      "metadata": {
        "id": "nhcxLrjsncWB"
      }
    },
    {
      "cell_type": "markdown",
      "source": [
        "## **Q12: What is t-statistic? State the formula for t-statistic.**\n"
      ],
      "metadata": {
        "id": "F32hipFhPguX"
      }
    },
    {
      "cell_type": "markdown",
      "source": [
        "The t-statistic, also known as the t-value, is a statistical measure used in the hypothesis testing of regression models. It is **calculated as the difference between the sample mean and the population mean, divided by the sample standard deviation divided by the square root of the sample size***.\n",
        "\n",
        "The formula for the t-statistic is:\n",
        "\n",
        "**t = (sample mean - population mean) / (sample standard deviation / √sample size)**\n",
        "\n",
        "This measure is important because it **helps to determine the statistical significance of the estimated coefficients in the regression model**. If the calculated t-value is significantly different from 0, it indicates that the coefficients are not equal to 0, suggesting a significant relationship between the predictor variables and the response variable.\n",
        "\n",
        "To interpret the t-value, it is common to look at the **t-distribution table** or use statistical software to determine the associated **p-value**. If the p-value is less than the chosen significance level (typically 0.05), it suggests that the estimated coefficients are statistically significant and that there is a significant relationship between the predictor variables and the response variable.\n",
        "\n",
        "Remember that the **t-statistic is not distribution-free**. The distribution of the t-statistic depends on the sample size, which in turn affects the power of the test to detect an effect of interest. The distribution of the t-statistic also depends on the assumed form of the error term.\n",
        "\n",
        "For example, if the errors are assumed to be normally distributed, the t-statistic follows a t-distribution with a large sample size. However, if the errors are not normally distributed, the distribution of the t-statistic may deviate from the t-distribution."
      ],
      "metadata": {
        "id": "VH_PShaqohJ-"
      }
    },
    {
      "cell_type": "markdown",
      "source": [
        "## **Q13. A coffee shop owner wants to estimate the average daily revenue for their shop. They take a random sample of 50 days and find the sample mean revenue to be 500 dollar with a standard deviation of  50 dollar. Estimate the population mean revenue with a 95% confidence interval.**\n"
      ],
      "metadata": {
        "id": "9GZh9N9kPjQx"
      }
    },
    {
      "cell_type": "markdown",
      "source": [
        "o estimate the population mean revenue with a 95% confidence interval, you can use the formula for the confidence interval for the mean in the case of a known standard deviation. The formula is:"
      ],
      "metadata": {
        "id": "oKiKqwn2q6yH"
      }
    },
    {
      "cell_type": "markdown",
      "source": [
        "![image.png](data:image/png;base64,iVBORw0KGgoAAAANSUhEUgAAAb0AAABBCAYAAABFCXqSAAAaJUlEQVR4Ae1d/UuczXo+/9X+5A9LA4L0FJcXVtKjBN9jeqQ29mgD2rTZk7JNwJrqMRxrMJA9BBYCCynb81ZtfFODOSZ9a6yH7RHWpmitihIMSVUCK8JVZp6Zeeb5mOdjP8y6uQXZ52NmnplrPq65Z+77nh+B/ggBQoAQIAQIga8EgR99JeWkYhIChAAhQAgQAiDSo0ZACBAChAAh8NUgQKT31VQ1FZQQIAQIAUKASI/aACFACBAChMBXgwCR3ldT1VRQQoAQIARCEHi/hdXyx5BAX+r1KfbXyzg6r+37RHq14UexCQFCgBBoDQT25jDS0Yupt6dNW579Z6O4cj2HzZPqs0ikVz12FJMQIAQIgdZAYG8OQ+1pDD07bPLynKI02Yu2GoiPSK/Jq5iyRwgQAoRAQxE4KWEqnULXZAmVhn6oTomfH6I4mEbb4Bz2q1jqJNKrUz1QMoQAIUAIXDoEBIEk0jlsVkEgX6y8XDJNoethOXYWiPRiQ0YRCAFCgBBoDQS2n9xAItmL3MblK89+YZTnfWb9LFbmifRiwUWBCQFCgBBoEQS2CuhLptCWfXM5ljXdsJ+XkUunkEjPovTZ/dJ8T6RnxobeEAKEACHQoggcojiQQiJ5A4Wdy1vEyssJtCVT6HuyG7kQRHqRoaKAhAAhQAi0BgKVVxZZtN27pFKerAYm7XWmkGjPYumDfBj8S6QXjA+9JQQIAUKgxRDYReFbJuV1I1e6/EXbf8r2JaMrtRDpXf46pxIQAoQAIRAdgVIOqWQKie4CtqPHat6QHxYxwsrTPoHVCHt7RHrNW5WUM0KAECAE6ozAGVbvpblk1Pc0+j5YnTNR5+ROsTTCJNcURubDXagR6dUZfkqOECAECIGmReDzG4wzqSjZj8JW0+YydsaOn2c56SUG5nAUErtupFc52cXm6zWs8v8y9k+8thOVnRK2I242huS7Ia8rH7ZQkvmvt2uCihePhhSCEiUEghA4P0PlMhkhB5WF3sVGgGk7Moko0ZnDZuzYMSKcf8T2iwJmHsz6/M/V5DvTNxcHcxjiZD6K4oFvCPWwNtI7P8Xm/DSGOi1xmYPJP2yJmleuTaBYFs5LT9Yw1ZnC1Fv17ea5eL+GXH8aifZuDGUnMPBjtj48iuIeUNkrY3V9F8exBoqPWLrTjx4dlwgzkOYBpHE5OZofQ093f/D/o/heFhqX40ue8sEiMt396Gi3+iTro03ZB5sV5vMzHNd7Auwu63kZ+f6QPuHXZ+6/wbE7rZD70qQYq8fWQkJW/7pSLmKkI4VERy96rnZzk4JEMo2Oq6KM/dNYqbvwI7Q4k6lQ/6HVk97OIu5eFQB2DCM3X8a+vonImX4Wfe29uDu/xn2lNWWHYzMENiB0TmP1E4ANscmbTCF19+/RJUi87fZyjAZ2itLTWczcz6JHDjZEerwXHa8XxcxvGhnZfhjG6Qym5KzweavsNVQ/cNQt5tYyx3ucTepEWybSi47uUXEUickGqzhqYw6royvfDCNz30dCmsyiRwkV1ZyGoBFDMXzvKzpKWkjpuPrJli0o7BW5FJZ53tjTG1bHxMRuJHisror0Km9n1WDedXsx2Omn8JHWnB3O3tRVG6A7Re6lgM1MRu7dVANFon0W1TR9VRFEelrPsC6PnjE3QqKhNnpgWc+h585i6Hq/J5Ot8uB8DVOXmfQqpzj+FOW/vtsIvI02uG1uPuzm/aDt6pi9MuZpd9bpAlZ/qfI0hL0iBngb6G6Q2zFhCnFz0SUglHjba3tQzQjqAcL4gE9QWPlCxur4pKeRWFQv19JqnlVYU80yPy0jwxvBMF/KVGh+Zp3rDPjwBuPMzQ0jwGJ1R26UJsWgTqSn4JUXOun1xPCoIOPH+eXf+qrrwBp4mq4PRqxEva2oiZIgced9dZNTUzYaT3q7KHQLV1rGM+JOUXrQr5YJhwrVrYSo/bxkFktsVavef1xiTWP8lWviIZRnGt3HsT4rMHKN565yxiM95pGbu65hA3n4hqH9LWkM2WSkF2Pz0y5LvCsiPTNe+kDW6HO8uMRNpMcliqaaeJqbh/NNq0p6fGUp2OEzOziVudpi5F7L8T9SomyUEovVn30I9S0jowswhFfjeQrjL13Eq7WmWKQnXdcw8OO6rzmezzRfh1MgxSFwDb0Il0R6ZpAujPTYTJPtrRLpNV8fNDePpnjTaEmPp+9ZDrSLzraSlF5BlefHWanZtmyN6gdWf3ZL2qdYyVpn34WZEtilrvbKXs0YKJhX5mKQ3kcs3BRLdclgJvXN8laBb8I21SyTSM+3qi7q4cWQnrYXQqRHpBezcTeW9CwiMkkllVIOfUIRrm2wgG3j8meUQollVCYxNmqPspxHVzKDBU0z8+jlBLrSE1h5HyWPtYaJVsbopKf2vxjxBa+Z+mZdbKSbSO+4vIiZW8PoYqquUoPp8RqOPKYCZ9gsSs2maWSYqq9UUPi0i5X8BEa4eu8wMtNzKPnZbHwqocA0BcdGLXc8yW4Mjck0Z7G0BRy9yttahvo3/Ap3fsptUsaHpEpuFjPPSjzvkSS980Ossnx/I7VhezFwK4+VHae2U2VjTtm8TN0aRk/3GJZYY3J9f+BWDsW35pmOLMLR6wLGh3pxRSydtHX28++u+mHGIkXMp0w/7DeY9A6x8kjWiahTacpwUEJxOosBXs8ZjOeXse2zR1HZKWPhwbBaGkp0T2NB2ZKuYfWdQYMtYjmPf5B2SFo7FGY8vA0OTWNBmOwcb0kbVtfvfAn7EqiDMlb0/L1ew0rJWY9Hb+cwNdSv+gkzs+kZmo5Q3/Ys2NQHZTaa9ddqr6yPDSPzWKvzgzXkeX9gz/3GjOpL1FjSA/D51N9uUtOd4Efn1ER4rPx2/aeqOHg1KoL7xQw6rma5JvbUyA30Zeew6dM3o6YXL5y2/RYwwY1OemqTkJHSBFZ084R4OXOGPv+IlTG2SduLu09LllH7+RmO3i1j5noaiY4MCtLWj8e0bOAkOfJN7IEiSi+n0Xcti/x8Cds7W1h9OmYtCwh7O8dH3y/iLhsw/WxIuvuRLwGlRxHt7PaWhelGGgPTiyi9O8QxG2wfZ9HTOYyBa0I6NlUCi8+UZToyyL/d5R2gsrMsFGh6cfe5PehxGzdJjJyoRlFcf4OpazeQecy+vYvt10UrvWSAhtfJFgo3GcGm0XOniNKO0Ipbz4mllBtebw0x8unAOuAmmPTKyLvsyxKTy9h+mkFX/zSKL8rY10mNnanlGBis+MwmULUVRhC6vZMkUT2PMcrpbSN5FCd70XW7iJW88BCR7EW+DEj7RN1ejhNWd97WCi7lHPZ0/L2WR6adxvd2vs2j9OEMYDZkB2UUb/fyiWLX7eUATWp70Lt0pHd+iIWbaXQN5bGwvoXtjTmrf6RnsVqew1DHMGZebGG/PIfMj+NvvejV775uOOm5P8juT0qY4gp0tr2wX7BYz95L4+1wO7ZY6foFZu2Sado22r7R8+0zrGTFeHu9aE8mXeGik97bWd6xOMkk3eu2rlQj38qlpzQyz31m3bLy/YiLzV0eWKq+ifY02jyDnm2OYNx/jLC8uf243yq3H2kdLFpGmEmDzYw+W/OLL8vnd3KxsG3xPTJjfVZIqGm0tXu/rfZe/RywMmWkQUuidG+KG0mo2nyGtAPj9/R459qyensaVzz7GraSlMmXYCRpm32zynIeFa39at4OB4qceJT6dDKNmXWtQNI5bjKFuy+ckjwPJeq9a3LNtnPiL7RZrCBSlep5OAb6TD826R28QV7aUNb6+6wc88BSa4wwt9VuTP3AcDzEgmjXiajjkxycA0whNvPDSNxbDjeXqNcAf1JGjk322aS2fdQ14Vc1Hv9CjXUXQHrxc1e3GKqvB7SBL0p6ypSBucTxLGNaOEgFGL/NV3vQ9NcMUu9NLndUQzArsqg0PKT1EUsjonHeXjZ2ZFUJnvhnKE0K0va8Y2W3N549g7nKdwqpaR/vJeq91x6H+aizNMGca+8c7Y28ZX/Z3o/8hmyHNeRTJmH4VdiGeFFQGLr2C2Sy6r3BKFW998VZplJDObUJodqfOd+1lmeflVzkZddrwk+BgWnz+U1WAEgtvrarOc9J0fuFYWugNHrOr0HS+yC2A2ITXsG5nMyWbtcPjX1F1oTjdyOHrk7vydie8mqSTJuhHTjSBXD0XcZe+hZL/NakXkgLMZ5dub8Wr1zuzLB7bUKaME2k/eJFeabGhBSGGmWYHiUfDQ6j+nr9SW8aqwaSil4mbeYadFy9GlC8A7g9aPrnx35vkExVQ6iC9FTc4EakKsE94CrHrymY1ti3nwgp092JtW9P/eCDuP7e4fZNw9wk/rt9M9aST5+s6Y/s+gmefSoMDXlW790Yi4+FvefBaimnaqPmdqSXW0niPmY/TK28LUjRwLAHZGNpaOvank5sSU/P/AVfbz/uhWfSB3sZy8bqFNvzecw8WqzrHhLHNag+6oaHXPVihGvemqj4+DSOlAXVRpvMbCxS5qMHUn29LqTnUGSJ1rmdWT3D/vqa7XBaG2QCtYm0AdythhrW0cPeQ6VtLo9KwzWgKq/eIQb3qhJc8XV3Z0yBxLHXJPedpO9Od1yVb0MDNr3X6zBqR9ZcJMXOp7MBeO4UtlElPTcOIkUjxhHf82C1lFMNKCbCcRVdnvacTDkHdP7cf9XClQK4c/QXc3zZkStQybZi7Ow1SHruj3/x+xJmhFajkqwblCfeRqP2larzcIrtJ9IWL42+h4YlYNZGTatWYd9WbdQwZoTEr1YCriVeSJZ8X6uxwNgPgOjLm9CkBDbQ+0kYvtmQDw9RvK7tb2gDc1TSc4ezB03/wSbsfS2kZ6cd3IhUJbgHbK0RDuS3gvcM3LM7DTvfWbvpvfbcjaWsJc9vLfn0JOZ8oGMYZJxuxFAkV+t7nkwt5VRx/duhs9TW3ea0WNrWBjEuAX5r3oBnMY9e55XP0ivfMM3VRay+LmHlkVjeNHb2FiI9Yf7EHGQsNFgVnrfRBpOeXLZmBOHeu9TbTugqgB7Yfa3aaPB45Y522e7VWGDsB7FID1D7a8wZs99eUhBCXLLTGmnUAVgL5/bdZg+a/oNN2PsvSnqaNmzQgO8LqYZJw0mvlnz6Zt5+aNdPxOVN98RBJKUaesz3lU+aungt5VQDin87tEusXSkfr1KysxSvzG1Bc0XVPozcW6fil42lKQ+tQ3qqrMb9Sw3nGi/5txpIepGNz/kqQLp6N47aSkajpWMT5N+/XEGcf1M6Qc/VWFAv0gMDXqnSTmDFoSIelBXAO4u1lygS7j0rPSltMHJ76VaN31DAsPe1kB64ax1rwztI6lWV4B6QtaVGN5nrxfe9rpb0oGE+GH7YIv92Lfn0zbz90K6fL0F6jAS0Ze1aylkN6WkrJ1y7mGt1+igXCbjsfcA0xl96tT5tLAXpMbddDrOiGkhP64O1LFfxuFcL2LabQKSryok2OdEUvPz6zfG7NWzWUfrjuDaI9CrlgnXCC/NwddVtcuOEhiugGRScnCENd9qYYZ5YGeLW4fGfDt3GrTvjsf6r+awabw2cwNKMsbxpZUGfmQSJ4o4Mc5+dXrMEvyUeRzwAau+sPYslzdKfhfN0dFfksPc1kR6TXMW+QpAjVVUJbtKDbVKRCFrS2ihgQBrfy/JpDTiWpAdAYZ4cM09aygUMjMmzumrIp8yv4deunxTc+7V6FDOGVqjq3rtIr5b6qIr09JWTLHIPRwNd+5UeCE3hZDSlLe9gXQPpAWBScbRTDkLCxVLt16Rb2Uc0XQCPxCL3RJXmsd6Kqrv24lhdOp5YujmTx9zKFVqGDVL4c0Xx3GpjxkWT3ncL/4rOqz/zZKkRD9RYoG0buL8Tm/RYAszq3vLikcbQk60QVV1LK4mdyODxvXYiiUMu8bizJ/cR/bWZ7EHTf0kn7H1NpMdIVxoLM4D9tFmV3ZfB7yNriJw4pa2Ru/yW3zpPI9UacFzSw4dlZARZ+09aLNV9h8Zctfl0F8d1b9dPsGsk1ZA9EwcrwbD3ytGurv3JJTuXk4Vqy1kl6UGbODGNPd+6FJipMvg6htBsGcUM1ztY10Z6rqq7mFtN+k6IpUxb4u33OFBge2PMjtMzztSQWy+ONSQmo+rjgsEGWQY9lgeyVuP6USbCfrWjpYImmHqUel3/5Kc/x9zzl/VKLiAdyReG8VbErIr0WNyjl9PqTL0r/Tms+Ll0+rTFvUW0Xc8Zj4dXIn7adZYUcwXFXUil0fOgpBGrpQW6+noZhRGhDJAcRe4Fc+9U4gfZsiUO5/sbmJq331f2SlhlLp6eZJWR99CjZf5s9fUWjuHzjc4sCuwbup0R8yZzT3jDuLfsdJl2sMY9yrQJgkkkZR5Y+vafOpuwfRgzrw9tl0TMndUTqxPvC0L15juFoYdWvkt77CikLVe5UuibZIoOa+DvxWdtn35MU0yzIzs/w/b8GLrYzNOxNAbEyaddOu+VLIOzflgjzdkuuHhb+oht7pJrEVPSq03nBIr8mV5H+ntRR7wOtW8zWy9uc2V7mtkv+EtWccpptbM1LEzeEI4bejH+TLgZ09uJlhX3pTrJ2jRxkhEUITNlB81wXbSTnttj/KBO1s7yG4dYup0C3w4QbWJ1flacE2m3CaMbNvnNL/0rSE+dM8fJIo2B6xbeunH/0YsJdHVksLAXI9NfwjjdYYuXQt8DOe6IdiPafOGB5paQt13XBC1GMa2g2tZGg5Zr/bJU+n0ZfzJ4y+9VA55ppBcgFVdNejzHjNSyN5TvRn48fHcG4/ezGOAuvphrrgi+8PR0mKso4WqrrXMUude2Gy4LJa1gHuNRa49GzfwN7x0ShicMkxoDvuGWNtig82xMGHULN1dXu3GlcxT59VOsyvP01Hd8pNKDNeQGu4WhbBodV5k/TOYizHlAb1C+uTSoJA6vca1HWny/hvyIfUZXF3fXxb45Z3ZsGzGfQa05qAxqv4h3SlsyUc8dGAbUkc96vr460cXqJ2gPJWI5ze0seKbpwKeU4xMvh2TtCGDfVMpzGL9mLXNK85Guzm4MiT6ml7Fn7I01CQtoE5E1eO0sXPiVVaY0ZPscebqFyvkhlu6wtms97+lMg028V2Pu5dlec7z9xdvmgsO03ZHbAcEQqe0a1ZaD05X5MHqVCv6c9lbrL0E6FFqMelx2XbuBf/zN83okFSENe8zw2++VCdRGejKVyin2N5ZRVA6C85ZvxFjr90wEFz7b2P6BW01ffqtZf3ned7G5sevI+/HBrr0XEoYHUz7YKVv+O12SVsOKXc03q4nTsALESJjlm+9Nmc/acqR2QeU8erfl8triyIXnhil2HL0rY/tAV/AQwT67FVg80S/fA1YmVm+uPlE5OcT2xhaOLttY8YVqQE3S9GX+BuZl63/+F3928xcN/IIraW05PMjrTH1Iz/VtuiUECAFCgBBoLgTsVRZ/Zah65/Zq7yC+m39R72TN6Sn7Tc0e3Cc0kZ4PKPSIECAECIGWQ0CZnlRxNFxMMLiU9xc+Ut5JGfmbN9DXP4EiOz1HP4qrO4OpF7sxv2QHZ76creVgn9Pb7WDxTRa0uHRJCBAChAAhcFkQCDL3qHMZmJT38rdut11MMzyL4h7Al1o7s7h7ZwwLW2K7ge9ve30sR82a0nAOWb4lSS8qohSOECAECIFLjYCtzGJych+leJ/+75h7VjGFZVIeM0b3/DHS5VqV0mH4KCdAFW6viIEQX8YqrOfiIxYGLaWgsLIR6XnAoweEACFACLQmAvtPhXmNWws9YnH/67+30f/zv8ZPB0aMMZiUt7T8xvv+8yE2d5g3oTJynSkkxtYcYazlSa/9pSOQ6UZJscH2riw6kZ4JRHpOCBAChECrIaB8vgbve/kVe3nl39H/53+Fv/27X/G9s++XfusJxqQ8FibwT0h0TreSQvoL8KQSmKZ0C9k+i5KfoxAtMpGeBgZdEgKEACHQ2gjsovCttQzoJJ3opf7PjU1OekOjWU8kJgU+f/HK81x/YNkquiQ64Z0o9kEGImHpXtE+X1H/ovOaSM+JB90RAoQAIdDSCKjTcmowUr/1N/c58f3H736vsGJS3s8GQ6Q8AKtjKSRcEp21tCmUWM5LmIrjTo77XGVEbnJnqbLIL4j0nHjQHSFACBACrY2AkKoSSfOpHmEA/PD2d5z0fnHvlyro7ewE/vlfltS9/4X/fp6lzZnDJj9kYAx3nzuPzvJPSzyVS5vSKXlgYNrTC4GHXhMChAAh0HoIbD+xFFqiuL8zlT71x/2c+HZ298H+I/nYfD+HoWQa46+cXpEq67Poah/G3ftZjEzrvpZNX5fPLaf8zGG7O00Zwv1Lkp4bEbonBAgBQqDVEZAn3HR6nctHLfrLV//GSe/Bw1/jl/+Qw28iel+pfHISnvoec/sX16WcVMyJKOWxbxHpKcTpghAgBAiBrwcBeTSaxxl9DAiYB5Q/+MOf4PqNv4wRq15B5VmfvZhZNxCpz6eI9HxAoUeEACFACLQ8AvKYo/YJ84HSISA8+vVTLu3909z3ISEb8FocGeZ/Lqj5e0R6ZmzoDSFACBACrY2AOJU9LnHooPxR13X99mKuGWEPpJAIO3XeJzdEej6g0CNCgBAgBL4WBCo/TCOV7MXUW+Yt5XL8sUOgEyGnzptKQqRnQoaeEwKEACHwlSDASKSthmXOi4Sp8nYWXTWQNJHeRdYWfYsQIAQIgaZE4BSlB/24MljA9klTZtDKFF+O7cXd54dVZ5JIr2roKCIhQAgQAq2EwCk2H2fQ9zCOndxFln8XxcFhTL2MYbjukz0iPR9Q6BEhQAgQAoRAayJApNea9UqlIgQIAUKAEPBBgEjPBxR6RAgQAoQAIdCaCBDptWa9UqkIAUKAECAEfBAg0vMBhR4RAoQAIUAItCYCRHqtWa9UKkKAECAECAEfBIj0fEChR4QAIUAIEAKticD/A4Nukq1Hv9mXAAAAAElFTkSuQmCC)"
      ],
      "metadata": {
        "id": "xUxk68O7q7bI"
      }
    },
    {
      "cell_type": "markdown",
      "source": [
        "Where:\n",
        "- x-bar is the sample mean,\n",
        "- Z is the Z-score corresponding to the desired confidence level (for 95%, ≈ 1.96),\n",
        "- σ is the population standard deviation,\n",
        "- n is the sample size.\n",
        "\n",
        "In this case, you mentioned that the standard deviation σ is known and is $50. The sample mean x-bar is 500 dollar, and the sample size n is 50.\n",
        "\n",
        "Let's calculate the confidence interval:"
      ],
      "metadata": {
        "id": "7SVxK7BCq-tj"
      }
    },
    {
      "cell_type": "code",
      "source": [
        "# Given data\n",
        "sample_mean = 500  # sample mean\n",
        "population_std_dev = 50  # population standard deviation\n",
        "sample_size = 50\n",
        "\n",
        "# Z-score for 95% confidence interval\n",
        "confidence_level = 0.95\n",
        "z_score = stats.norm.ppf((1 + confidence_level) / 2)\n",
        "\n",
        "# Calculate confidence interval\n",
        "margin_of_error = z_score * (population_std_dev / (sample_size ** 0.5))\n",
        "confidence_interval = (sample_mean - margin_of_error, sample_mean + margin_of_error)\n",
        "\n",
        "print(\"Confidence Interval:\", confidence_interval)"
      ],
      "metadata": {
        "colab": {
          "base_uri": "https://localhost:8080/"
        },
        "id": "b_usGW2lq3WJ",
        "outputId": "12aca958-d6d4-4ddc-92e6-c4984780aaa4"
      },
      "execution_count": 6,
      "outputs": [
        {
          "output_type": "stream",
          "name": "stdout",
          "text": [
            "Confidence Interval: (486.1409617565032, 513.8590382434968)\n"
          ]
        }
      ]
    },
    {
      "cell_type": "code",
      "source": [
        "# critical value\n",
        "stats.norm.ppf(0.975)"
      ],
      "metadata": {
        "colab": {
          "base_uri": "https://localhost:8080/"
        },
        "id": "b-fTbx61syMA",
        "outputId": "a92382cb-9723-44b2-9642-2978b4481837"
      },
      "execution_count": 7,
      "outputs": [
        {
          "output_type": "execute_result",
          "data": {
            "text/plain": [
              "1.959963984540054"
            ]
          },
          "metadata": {},
          "execution_count": 7
        }
      ]
    },
    {
      "cell_type": "markdown",
      "source": [
        "Since, the given problem is a 2 tail test, we want to calculate the **z-score** with alpha as 0.05giving us the alpha for 2 tails as 0.025 each.\n",
        "\n",
        "Thus, to calculate the z-score for this, we are using the code\n",
        "\n",
        "**z_score = stats.norm.ppf((1 + confidence_level) / 2)**\n",
        "\n",
        "which would give us the z-score corresponding to the 97.5th percentile of a standard distribution. The Z-score represents the critical value that defines the boundaries of the confidence interval.\n",
        "\n",
        "***The stats.norm.ppf(q) function in the SciPy library is used to compute the quantile function (also known as the percent-point function or inverse cumulative distribution function) of the standard normal distribution. In other words, it gives you the value\n",
        "x such that P(Z≤x)=q, where Z is a random variable following a standard normal distribution.***\n",
        "\n",
        "***Here, q is the probability, and stats.norm.ppf(q) returns the x value corresponding to that probability in a standard normal distribution.***\n",
        "\n",
        "***For example, if you have a standard normal distribution (mean = 0, standard deviation = 1), stats.norm.ppf(0.95) will give you the x value such that 95% of the data falls below that value.******"
      ],
      "metadata": {
        "id": "ZnzPcT_8s946"
      }
    },
    {
      "cell_type": "markdown",
      "source": [
        "## **Q14. A researcher hypothesizes that a new drug will decrease blood pressure by 10 mmHg. They conduct a clinical trial with 100 patients and find that the sample mean decrease in blood pressure is 8 mmHg with a standard deviation of 3 mmHg. Test the hypothesis with a significance level of 0.05.**\n"
      ],
      "metadata": {
        "id": "8FVXDjDTPoK5"
      }
    },
    {
      "cell_type": "markdown",
      "source": [
        "To test the hypothesis about the decrease in blood pressure, we can perform a one-sample t-test.\n",
        "\n",
        "The null hypothesis **(H0) is that the mean decrease in blood pressure is 10 mmHg**,\n",
        "\n",
        "and the alternative hypothesis **(Ha) is that the mean decrease is not equal to 10 mmHg**."
      ],
      "metadata": {
        "id": "5jMfUcZK8far"
      }
    },
    {
      "cell_type": "code",
      "source": [
        "# Given data\n",
        "sample_mean = 8  # sample mean decrease in blood pressure\n",
        "hypothesized_mean = 10  # hypothesized population mean under the null hypothesis\n",
        "sample_std = 3  # sample standard deviation\n",
        "sample_size = 100  # sample size\n",
        "confidence_level = 0.95  # significance level\n",
        "\n",
        "# Calculate the test statistic\n",
        "test_statistic = (sample_mean - hypothesized_mean) / (sample_std / np.sqrt(sample_size))\n",
        "\n",
        "# Calculate the critical value for a two-tailed test\n",
        "critical_value = t.ppf((1 + confidence_level) / 2, df=sample_size - 1)\n",
        "\n",
        "# Compare the test statistic to the critical value\n",
        "p_value = 2 * (1 - t.cdf(np.abs(test_statistic), df=sample_size - 1))\n",
        "\n",
        "# Print the results\n",
        "print(f'Test Statistic: {test_statistic}')\n",
        "print(f'Critical Value: {critical_value}')\n",
        "print(f'P-value: {p_value}')\n",
        "\n",
        "# Check if we reject the null hypothesis\n",
        "if np.abs(test_statistic) > critical_value or p_value < 0.05:\n",
        "    print('Reject the null hypothesis')\n",
        "else:\n",
        "    print('Fail to reject the null hypothesis')"
      ],
      "metadata": {
        "colab": {
          "base_uri": "https://localhost:8080/"
        },
        "id": "-5m5ROwH37a8",
        "outputId": "049e897e-c407-4a9f-a8ef-a42a7139f522"
      },
      "execution_count": 10,
      "outputs": [
        {
          "output_type": "stream",
          "name": "stdout",
          "text": [
            "Test Statistic: -6.666666666666667\n",
            "Critical Value: 1.9842169515086827\n",
            "P-value: 1.5012289189542116e-09\n",
            "Reject the null hypothesis\n"
          ]
        }
      ]
    },
    {
      "cell_type": "markdown",
      "source": [
        "This script calculates the test statistic, critical value, and p-value and then checks whether to reject the null hypothesis based on the significance level of 0.05. If the absolute value of the test statistic is greater than the critical value or the p-value is less than 0.05, we reject the null hypothesis. Otherwise, we fail to reject the null hypothesis.\n",
        "\n",
        "***Here, the p_value is 1.5*10^(-9) which is less than 0. Thus, we reject the null hypothesis that the mean decrease in blood pressure is 10 mmHg***"
      ],
      "metadata": {
        "id": "s-dpfYGi8JI8"
      }
    },
    {
      "cell_type": "markdown",
      "source": [
        "## **Q15. An electronics company produces a certain type of product with a mean weight of 5 pounds and a standard deviation of 0.5 pounds. A random sample of 25 products is taken, and the sample mean weight is found to be 4.8 pounds. Test the hypothesis that the true mean weight of the products is less than 5 pounds with a significance level of 0.01.**\n"
      ],
      "metadata": {
        "id": "1X8RlZdHPtFh"
      }
    },
    {
      "cell_type": "markdown",
      "source": [
        "**Step 1:** State the null hypothesis (H0) and the alternative hypothesis (H1).\n",
        "\n",
        "- ***H0: The true mean weight of the products is less than or equal to 5 pounds.***\n",
        "- ***H1: The true mean weight of the products is greater than 5 pounds.***\n",
        "\n",
        "**Step 2:** Identify the test statistic and the corresponding p-value.\n",
        "\n",
        "In this case, the test statistic is the t-value. To find the p-value, we can use a t-distribution table or a calculator with t-distribution capabilities.\n",
        "\n",
        "**Step 3:** Make a decision based on the p-value and the significance level.\n",
        "\n",
        "Using the p-value obtained from the t-distribution table or calculator, compare it with the significance level of 0.01.\n",
        "\n",
        "***If the p-value is less than the significance level (0.01), we reject the null hypothesis in favor of the alternative hypothesis. This indicates that there is sufficient evidence to conclude that the true mean weight of the products is greater than 5 pounds.***\n",
        "\n",
        "***If the p-value is greater than the significance level, we fail to reject the null hypothesis. This means that there is not enough evidence to conclude that the true mean weight of the products is greater than 5 pounds.***"
      ],
      "metadata": {
        "id": "iYboE8VK6-P_"
      }
    },
    {
      "cell_type": "code",
      "source": [
        "# Given values\n",
        "sample_mean = 4.8\n",
        "mu = 5\n",
        "std_dev = 0.5\n",
        "sample_size = 25\n",
        "alpha = 0.01\n",
        "\n",
        "# Calculate t-statistic\n",
        "t_stat = (sample_mean - mu) / (std_dev / np.sqrt(sample_size))\n",
        "\n",
        "# Determine degrees of freedom\n",
        "df = sample_size - 1\n",
        "\n",
        "# Find critical value of t for a one-tailed test\n",
        "t_crit = t.ppf(1 - alpha, df)\n",
        "\n",
        "# Compare calculated t-statistic to critical value\n",
        "if t_stat < -t_crit:\n",
        "    print(\"Reject null hypothesis\")\n",
        "else:\n",
        "    print(\"Fail to reject null hypothesis\")"
      ],
      "metadata": {
        "colab": {
          "base_uri": "https://localhost:8080/"
        },
        "id": "UumMOUzY6YpU",
        "outputId": "a1c35990-f798-4157-9be9-4cdde79f4aa4"
      },
      "execution_count": 9,
      "outputs": [
        {
          "output_type": "stream",
          "name": "stdout",
          "text": [
            "Fail to reject null hypothesis\n"
          ]
        }
      ]
    },
    {
      "cell_type": "markdown",
      "source": [
        "## **Q16. Two groups of students are given different study materials to prepare for a test. The first group (n1 = 30) has a mean score of 80 with a standard deviation of 10, and the second group (n2 = 40) has a mean score of 75 with a standard deviation of 8. Test the hypothesis that the population means for the two groups are equal with a significance level of 0.01.**\n"
      ],
      "metadata": {
        "id": "pkdjNVi4PyCJ"
      }
    },
    {
      "cell_type": "markdown",
      "source": [
        "To test the hypothesis that the population means for the two groups are equal, we can use a two-sample t-test.\n",
        "\n",
        "**The null hypothesis is that the two population means are equal, and the alternative hypothesis is that they are not equal.**\n",
        "\n",
        "We can calculate the t-statistic using the formula:\n",
        "\n",
        "**t = (x̄1 - x̄2) / sqrt(s1^2/n1 + s2^2/n2)**\n",
        "\n",
        "where\n",
        "\n",
        "x̄1 and x̄2 are the sample means,\n",
        "s1 and s2 are the sample standard deviations, and n1 and n2 are the sample sizes.\n",
        "\n",
        "In this case,\n",
        "- x̄1 = 80,\n",
        "- x̄2 = 75,\n",
        "- s1 = 10,\n",
        "- s2 = 8,\n",
        "- n1 = 30, and\n",
        "- n2 = 40.\n",
        "\n",
        "Substituting these values into the formula, we get:\n",
        "\n",
        "**t = (80 - 75) / sqrt(10^2/30 + 8^2/40) = 2.549**\n",
        "\n",
        "Next, we need to determine the critical value of t for a significance level of 0.01 and a degrees of freedom of **n1 + n2 - 2 = 30 + 40 - 2 = 68**.\n",
        "\n",
        "We can find this value using a t-distribution table or a calculator. The **critical value** of t for a two-tailed test at a significance level of 0.01 and 68 degrees of freedom is approximately **±2.650**.\n",
        "\n",
        "Here is the Python code to perform the hypothesis test:"
      ],
      "metadata": {
        "id": "l9L7LSdm8-D8"
      }
    },
    {
      "cell_type": "code",
      "source": [
        "# Given values\n",
        "xbar1 = 80  #sample mean of dataset 1\n",
        "xbar2 = 75   #sample mean of dataset 2\n",
        "\n",
        "s1 = 10   #sample standard deviation of data 1\n",
        "s2 = 8    #sample standard deviation of data 2\n",
        "\n",
        "n1 = 30      #sample size of data 1\n",
        "n2 = 40      #sample size of data 2\n",
        "\n",
        "alpha = 0.01    #significance level\n",
        "\n",
        "# Calculate t-statistic\n",
        "t_stat = (xbar1 - xbar2) / np.sqrt(s1**2/n1 + s2**2/n2)\n",
        "\n",
        "# Determine degrees of freedom\n",
        "df = n1 + n2 - 2\n",
        "\n",
        "# Find critical value of t for a two-tailed test\n",
        "t_crit = t.ppf(1 - alpha/2, df)\n",
        "\n",
        "# Compare calculated t-statistic to critical value\n",
        "if abs(t_stat) > t_crit:\n",
        "    print(\"Reject null hypothesis\")\n",
        "else:\n",
        "    print(\"Fail to reject null hypothesis\")"
      ],
      "metadata": {
        "colab": {
          "base_uri": "https://localhost:8080/"
        },
        "id": "If6CQDia8_Ae",
        "outputId": "9cac6561-2389-4e29-ab86-7e8667952b74"
      },
      "execution_count": 12,
      "outputs": [
        {
          "output_type": "stream",
          "name": "stdout",
          "text": [
            "Fail to reject null hypothesis\n"
          ]
        }
      ]
    },
    {
      "cell_type": "markdown",
      "source": [
        "Since the calculated value of **t (2.549) is less than the critical value (2.650)**, **we fail to reject the null hypothesis**.\n",
        "\n",
        "***This means that there is not enough evidence to suggest that the population means for the two groups are not equal at a significance level of 0.01.***"
      ],
      "metadata": {
        "id": "t8eJS6kl-GQQ"
      }
    },
    {
      "cell_type": "markdown",
      "source": [
        "## **Q17. A marketing company wants to estimate the average number of ads watched by viewers during a TV program. They take a random sample of 50 viewers and find that the sample mean is 4 with a standard deviation of 1.5. Estimate the population mean with a 99% confidence interval.**"
      ],
      "metadata": {
        "id": "IDZNhk5WP2oX"
      }
    },
    {
      "cell_type": "markdown",
      "source": [
        "To estimate the population mean with a 99 confidence interval, we use the formula:\n",
        "\n",
        "**CI = x̄ ± z*(σ/√n)**\n",
        "\n",
        "where\n",
        "- x̄ is the sample mean,\n",
        "- σ is the population standard deviation (if known),\n",
        "- n is the sample size, and\n",
        "- z is the critical value from the standard normal distribution for the desired confidence level.\n",
        "\n",
        "In this case,\n",
        "- x̄ = 4,\n",
        "- σ = 1.5, and\n",
        "- n = 50.\n",
        "\n",
        "**Since the population standard deviation is known, we can use it directly in the formula. If it were unknown, we would have to estimate it using the sample standard deviation.**\n",
        "\n",
        "For a 99% confidence interval, the **critical value z is approximately 2.576** (from a standard normal distribution table).\n",
        "\n",
        "Substituting these values into the formula, we get:\n",
        "\n",
        "**CI = 4 ± 2.576*(1.5/√50)**\n",
        "\n",
        "Calculating the interval, we get:\n",
        "\n",
        "**CI = (3.45, 4.56)**\n",
        "\n",
        "***Therefore, we can estimate the population mean with a 99% confidence interval of (3.65, 4.35). This means that we are 99% confident that the true population mean number of ads watched during a TV program is between 3.65 and 4.35.***\n",
        "\n",
        "Here is the Python code to perform the calculation:"
      ],
      "metadata": {
        "id": "TrFwtzkk-frY"
      }
    },
    {
      "cell_type": "code",
      "source": [
        "from scipy.stats import norm\n",
        "\n",
        "# Given data\n",
        "sample_mean = 4  # sample mean\n",
        "sample_std = 1.5  # sample standard deviation\n",
        "sample_size = 50  # sample size\n",
        "confidence_level = 0.99  # confidence level\n",
        "\n",
        "# Calculate the z-score for the given confidence level\n",
        "z_score = norm.ppf((1 + confidence_level) / 2)\n",
        "\n",
        "# Calculate the margin of error\n",
        "margin_of_error = z_score * (sample_std / np.sqrt(sample_size))\n",
        "\n",
        "# Calculate the confidence interval\n",
        "confidence_interval_lower = sample_mean - margin_of_error\n",
        "confidence_interval_upper = sample_mean + margin_of_error\n",
        "\n",
        "# Print the results\n",
        "print(f'Confidence Interval: ({confidence_interval_lower}, {confidence_interval_upper})')\n"
      ],
      "metadata": {
        "colab": {
          "base_uri": "https://localhost:8080/"
        },
        "id": "hp5HnQyX_5QL",
        "outputId": "c93d1d56-a32c-490a-f32d-deb525fea6c2"
      },
      "execution_count": 21,
      "outputs": [
        {
          "output_type": "stream",
          "name": "stdout",
          "text": [
            "Confidence Interval: (3.4535840896844654, 4.546415910315535)\n"
          ]
        }
      ]
    },
    {
      "cell_type": "markdown",
      "source": [
        "Therefore, the 99% confidence interval for the population mean number of ads watched during a TV program is (3.45, 4.56)."
      ],
      "metadata": {
        "id": "RjnkXe4p-qCn"
      }
    }
  ]
}