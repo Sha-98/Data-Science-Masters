{
  "nbformat": 4,
  "nbformat_minor": 0,
  "metadata": {
    "colab": {
      "provenance": [],
      "include_colab_link": true
    },
    "kernelspec": {
      "name": "python3",
      "display_name": "Python 3"
    },
    "language_info": {
      "name": "python"
    }
  },
  "cells": [
    {
      "cell_type": "markdown",
      "metadata": {
        "id": "view-in-github",
        "colab_type": "text"
      },
      "source": [
        "<a href=\"https://colab.research.google.com/github/Sha-98/Data-Science-Masters/blob/main/Exception_Handling_Assignment_01.ipynb\" target=\"_parent\"><img src=\"https://colab.research.google.com/assets/colab-badge.svg\" alt=\"Open In Colab\"/></a>"
      ]
    },
    {
      "cell_type": "markdown",
      "source": [
        "# Exception Handling Assignment 01\n"
      ],
      "metadata": {
        "id": "bJis2SSPKJ6p"
      }
    },
    {
      "cell_type": "markdown",
      "source": [
        "#### Q 1 - What is an Exception in Python? Write the difference between Exceptions and Syntax errors.\n",
        "\n",
        "Ans. Exceptions is a term used for any abnormal or unexpected event happening. In python also, an exception is an abnormal or unexpection occurance of an event occured during program execution. Exceptions are a bad thing for a program as they disrupts the normal flow of the code and results in errors.\n",
        "\n",
        "There are various reason an exception may occur during program execution, these are generally sematical or logical errors.\n",
        "\n",
        "For example, an exception may occur when you are trying to open a file in read mode, when the file does not even exist. Some examples are:\n",
        "\n",
        "1. invalid input\n",
        "2. file not found\n",
        "3. division by zero\n",
        "4. attempting to access a non-existent variable.\n",
        "\n",
        "\n",
        "* #### Difference Between Exceptions and Syntax Error\n",
        "\n",
        "Syntax errors are detected by the interpreter or compiler during the parsing phase before the program is executed. These errors occur when the code violates the rules and structure of the programming language.\n",
        "\n",
        "However, exceptions are runtime errors that occur while the program is executing, not during the parsing phase. These errors typically resulted from unexpected conditions or events that the programmer may not have anticipated, such as division by zero, or trying to open a non-existent file, as explained above."
      ],
      "metadata": {
        "id": "2plNg15iWNIs"
      }
    },
    {
      "cell_type": "markdown",
      "source": [
        "#### Q 2 - What happens when an exception is not handled? Explain with an example.\n",
        "\n",
        "Ans. When an exception in a program is not handled well, it causes the program to terminate. If no exception is found, the program will typically terminate with an error message, revealing the details of the unhandled exception.\n",
        "\n",
        "An example for this can be seen below."
      ],
      "metadata": {
        "id": "NFeM96t1krxm"
      }
    },
    {
      "cell_type": "code",
      "source": [
        "# file not found error without exception\n",
        "f = open('text.txt', 'r')"
      ],
      "metadata": {
        "colab": {
          "base_uri": "https://localhost:8080/",
          "height": 193
        },
        "id": "LTbRryAHshpR",
        "outputId": "2c3906c1-38f7-446e-aaf8-fcbaacbaa150"
      },
      "execution_count": 1,
      "outputs": [
        {
          "output_type": "error",
          "ename": "FileNotFoundError",
          "evalue": "ignored",
          "traceback": [
            "\u001b[0;31m---------------------------------------------------------------------------\u001b[0m",
            "\u001b[0;31mFileNotFoundError\u001b[0m                         Traceback (most recent call last)",
            "\u001b[0;32m<ipython-input-1-7ff86c623329>\u001b[0m in \u001b[0;36m<cell line: 2>\u001b[0;34m()\u001b[0m\n\u001b[1;32m      1\u001b[0m \u001b[0;31m# file not found error without exception\u001b[0m\u001b[0;34m\u001b[0m\u001b[0;34m\u001b[0m\u001b[0m\n\u001b[0;32m----> 2\u001b[0;31m \u001b[0mf\u001b[0m \u001b[0;34m=\u001b[0m \u001b[0mopen\u001b[0m\u001b[0;34m(\u001b[0m\u001b[0;34m'text.txt'\u001b[0m\u001b[0;34m,\u001b[0m \u001b[0;34m'r'\u001b[0m\u001b[0;34m)\u001b[0m\u001b[0;34m\u001b[0m\u001b[0;34m\u001b[0m\u001b[0m\n\u001b[0m",
            "\u001b[0;31mFileNotFoundError\u001b[0m: [Errno 2] No such file or directory: 'text.txt'"
          ]
        }
      ]
    },
    {
      "cell_type": "markdown",
      "source": [
        "This code will return an error and will stop the execution of your entire program. This is not acceptable in a production grade code and can lead to disastorous consequences with your application if sent to production.\n",
        "\n",
        "A smart way to handle such risks is to use the concept of exception handling, by writing the code in a try and except block."
      ],
      "metadata": {
        "id": "fAsyPYJ2sosu"
      }
    },
    {
      "cell_type": "code",
      "source": [
        "try:\n",
        "  f = open('test.txt', 'r')\n",
        "except Exception as e:\n",
        "  print(\"There is some issue with my code \", e)"
      ],
      "metadata": {
        "colab": {
          "base_uri": "https://localhost:8080/"
        },
        "id": "g8VEptzisnfu",
        "outputId": "ce2c8db2-ee15-4aff-f3c5-b5c648edf344"
      },
      "execution_count": 2,
      "outputs": [
        {
          "output_type": "stream",
          "name": "stdout",
          "text": [
            "There is some issue with my code  [Errno 2] No such file or directory: 'test.txt'\n"
          ]
        }
      ]
    },
    {
      "cell_type": "markdown",
      "source": [
        "#### Q 3 - Which python statements are used to catch and handle exceptions? Explain with an example.\n",
        "\n",
        "Ans. In python, we can catch and handle exceptions using 'try' and 'except' statements. An example of this can be seen in the cell below.\n",
        "\n"
      ],
      "metadata": {
        "id": "KQA-KYmFsh45"
      }
    },
    {
      "cell_type": "code",
      "source": [
        "try:\n",
        "    # Code that may raise an exception\n",
        "    result = 10 / 0\n",
        "except Exception as e:\n",
        "    print(f\"This code is returning the following Error: {e}\")"
      ],
      "metadata": {
        "colab": {
          "base_uri": "https://localhost:8080/"
        },
        "id": "1_TrQrT5tS9C",
        "outputId": "1f12796a-987a-4067-cb80-9648b6184552"
      },
      "execution_count": 5,
      "outputs": [
        {
          "output_type": "stream",
          "name": "stdout",
          "text": [
            "This code is returning the following Error: division by zero\n"
          ]
        }
      ]
    },
    {
      "cell_type": "markdown",
      "source": [
        "In the try and except block, the code is executed in a certain manner, so that if the error is occured, the program execution must not stop, but allows us to log the error occured at any moment during the file execution.\n",
        "\n",
        "The 'try' block tries to execute the code written inside it. If any error is encountered during the execution of this code, the execution jumps to the 'except' block and executes the code written inside this block.\n",
        "\n",
        "Both the 'try' and except block can have the logic written under them using the conditional statements and loops like 'for' and 'while'. We can also write a simple 'print' statement inside the except block to print the encountered error while executing the 'try' block.\n",
        "\n",
        "A more formal definition of the try-except block in 3 points can be given as follows:\n",
        "\n",
        "The primary mechanism for handling exceptions in python is the 'try-except' block.\n",
        "We enclose the code that might raise an exception inside a 'try' block.\n",
        "If an exception occurs, python immediately jumps to the 'except' block, where we can handle the exception gracefully."
      ],
      "metadata": {
        "id": "LV3GRL1HtyDm"
      }
    },
    {
      "cell_type": "markdown",
      "source": [
        "#### Q4 - Explain with an example\n",
        "01. try and else\n",
        "\n",
        "In the try and except block, the code is executed in a certain manner, so that if the error is occured, the program execution must not stop, but allows us to log the error occured at any moment during the file execution.\n",
        "\n",
        "The 'try' block tries to execute the code written inside it. If any error is encountered during the execution of this code, the execution jumps to the 'except' block and executes the code written inside this block.\n",
        "\n",
        "Both the 'try' and except block can have the logic written under them using the conditional statements and loops like 'for' and 'while'. We can also write a simple 'print' statement inside the except block to print the encountered error while executing the 'try' block.\n",
        "\n",
        "A more formal definition of the try-except block in 3 points can be given as follows:\n",
        "\n",
        "The primary mechanism for handling exceptions in python is the 'try-except' block. We enclose the code that might raise an exception inside a 'try' block. If an exception occurs, python immediately jumps to the 'except' block, where we can handle the exception gracefully.\n",
        "\n",
        "The 'else' block in the code block we write for exception handling is used after the try-except block always.\n",
        "\n",
        "This block is executed if there is no exception found in the try-except block. Otherwise, if an exception is found, the except block is not executed.\n"
      ],
      "metadata": {
        "id": "_PfVcGDxt3S7"
      }
    },
    {
      "cell_type": "code",
      "source": [
        "# opening a new text file in read mode, this should throw us a 'FileNotFound' error\n",
        "try:\n",
        "  f = open(\"test.txt\", 'r')\n",
        "except Exception as e:\n",
        "  print(\"There is some issue with your code \", e)\n",
        "  print('\\n')\n",
        "else:\n",
        "  print(\"No Exception is found. The code is running fine!\")"
      ],
      "metadata": {
        "colab": {
          "base_uri": "https://localhost:8080/"
        },
        "id": "S1gCijiOtwxX",
        "outputId": "5189ce93-5b44-4b27-fa9b-c4373b4a55ff"
      },
      "execution_count": 6,
      "outputs": [
        {
          "output_type": "stream",
          "name": "stdout",
          "text": [
            "There is some issue with your code  [Errno 2] No such file or directory: 'test.txt'\n",
            "\n",
            "\n"
          ]
        }
      ]
    },
    {
      "cell_type": "code",
      "source": [
        "# openiing a new text file in write mode. This is an executable code\n",
        "try:\n",
        "  f = open(\"test.txt\", 'w')\n",
        "except Exception as e:\n",
        "  print(\"There is some issue with your code \", e)\n",
        "  print('\\n')\n",
        "else:\n",
        "  print(\"No Exception is found. The code is running fine!\")"
      ],
      "metadata": {
        "colab": {
          "base_uri": "https://localhost:8080/"
        },
        "id": "RjXrXV2aXIa5",
        "outputId": "afa99de2-56b1-48ee-a518-dcd1310e400c"
      },
      "execution_count": 7,
      "outputs": [
        {
          "output_type": "stream",
          "name": "stdout",
          "text": [
            "No Exception is found. The code is running fine!\n"
          ]
        }
      ]
    },
    {
      "cell_type": "markdown",
      "source": [
        "02. finally\n",
        "\n",
        "The 'finally' block is an optional block in the code structure for exception handling. It runs regardless of whether an exception occurs or not. This block is often used for cleanup operations, such as closing the files or network connections.\n"
      ],
      "metadata": {
        "id": "4MOjpFvZufWq"
      }
    },
    {
      "cell_type": "code",
      "source": [
        "# opening a new text file in read mode, this should throw us a 'FileNotFound' error\n",
        "try:\n",
        "  f = open(\"test1.txt\", 'r')\n",
        "except Exception as e:\n",
        "  print(\"There is some issue with your code \", e)\n",
        "  print('\\n')\n",
        "else:\n",
        "  print(\"No Exception is found. The code is running fine!\")\n",
        "finally:\n",
        "  f.close()\n",
        "  print(\"The file is closed\")"
      ],
      "metadata": {
        "colab": {
          "base_uri": "https://localhost:8080/"
        },
        "id": "oY9JzGNRugnm",
        "outputId": "57034096-712b-4efc-c08a-b5a0631e5115"
      },
      "execution_count": 8,
      "outputs": [
        {
          "output_type": "stream",
          "name": "stdout",
          "text": [
            "There is some issue with your code  [Errno 2] No such file or directory: 'test1.txt'\n",
            "\n",
            "\n",
            "The file is closed\n"
          ]
        }
      ]
    },
    {
      "cell_type": "code",
      "source": [
        "# openiing a new text file in write mode. This is an executable code\n",
        "try:\n",
        "  f = open(\"test1.txt\", 'w')\n",
        "except Exception as e:\n",
        "  print(\"There is some issue with your code \", e)\n",
        "  print('\\n')\n",
        "else:\n",
        "  print(\"No Exception is found. The code is running fine!\")\n",
        "finally:\n",
        "  f.close()\n",
        "  print(\"The file is closed\")\n",
        ""
      ],
      "metadata": {
        "colab": {
          "base_uri": "https://localhost:8080/"
        },
        "id": "1kMZGrabum9m",
        "outputId": "8ddf5c71-9b60-42ca-ce6b-642cc7596c05"
      },
      "execution_count": 9,
      "outputs": [
        {
          "output_type": "stream",
          "name": "stdout",
          "text": [
            "No Exception is found. The code is running fine!\n",
            "The file is closed\n"
          ]
        }
      ]
    },
    {
      "cell_type": "markdown",
      "source": [
        "\n",
        "03. raise\n",
        "\n",
        "'raise' is a keyword in python using which we can create custom exception handling.\n",
        "\n",
        "#### Q 5. What are Custom Exceptions in Python? Why do we need custom Exceptions? Explain with an example.\n",
        "\n",
        "When working on a project, we might come across a situation where the code we are writing does not really returns an error through python, but some cases are an exception for us as developers. An example of such situation can be explained as follows:\n",
        "\n",
        "For example, imagine that your application asks for the age of the user as an input, and the input value type is an integer. Now, the user may add the negative number or just zero, or a number much higher than 100 or 200. As per the system these are not errors, and thus the system will not be throwing an error to us. However, this situation is an unexpected or unwanted situation for us as developer.But, this cannot be handled with the traditional exception handling. So, how can we handle such situations through exception handling?\n",
        "\n",
        "Custom Exception Handling is the solution for such situation.\n",
        "\n",
        "The way to create a custom exception in python is through creating a class which inherits the custom class.\n",
        "\n",
        "Inside this class, we define the init function which has the message we want to show up whenever this exception occurs.\n",
        "\n",
        "Now, to use this custom exception, we can use the 'raise' keyword and call the custom exception. We can also use this custom exception is the try-except block.\n",
        "\n",
        "The following cells of code explains the use of 'raise' and what do we mean by custom exception handling in python."
      ],
      "metadata": {
        "id": "rcOvwhzSuhAu"
      }
    },
    {
      "cell_type": "code",
      "source": [
        "class validateage(Exception):\n",
        "  def __init__(self, msg):\n",
        "    self.msg = msg"
      ],
      "metadata": {
        "id": "vJ-JtHunu7xS"
      },
      "execution_count": 10,
      "outputs": []
    },
    {
      "cell_type": "code",
      "source": [
        "def age_validate(age):\n",
        "  if age<0:\n",
        "    raise validateage(\"Age should not be less than zero\")\n",
        "  elif age>200:\n",
        "    raise validateage(\"Age is too high\")\n",
        "  else:\n",
        "    print(\"Age is valid\")"
      ],
      "metadata": {
        "id": "e0vTL_1cu78C"
      },
      "execution_count": 11,
      "outputs": []
    },
    {
      "cell_type": "code",
      "source": [
        "try:\n",
        "  age = int(input(\"Enter You Age \"))\n",
        "  age_validate(age)\n",
        "except validateage as e:\n",
        "  print(e)"
      ],
      "metadata": {
        "colab": {
          "base_uri": "https://localhost:8080/"
        },
        "id": "K_zsRXBJu8EG",
        "outputId": "dce91fa9-2f8a-49fa-8efb-cb3587ad7a7a"
      },
      "execution_count": 12,
      "outputs": [
        {
          "output_type": "stream",
          "name": "stdout",
          "text": [
            "Enter You Age 23\n",
            "Age is valid\n"
          ]
        }
      ]
    },
    {
      "cell_type": "code",
      "source": [
        "try:\n",
        "  age = int(input(\"Enter You Age \"))\n",
        "  age_validate(age)\n",
        "except validateage as e:\n",
        "  print(e)"
      ],
      "metadata": {
        "colab": {
          "base_uri": "https://localhost:8080/"
        },
        "id": "CaCB02zDvFqt",
        "outputId": "e47d1bc8-228d-4a23-8ca6-e602f50f3cba"
      },
      "execution_count": 13,
      "outputs": [
        {
          "output_type": "stream",
          "name": "stdout",
          "text": [
            "Enter You Age 265\n",
            "Age is too high\n"
          ]
        }
      ]
    },
    {
      "cell_type": "code",
      "source": [
        "try:\n",
        "  age = int(input(\"Enter You Age \"))\n",
        "  age_validate(age)\n",
        "except validateage as e:\n",
        "  print(e)"
      ],
      "metadata": {
        "colab": {
          "base_uri": "https://localhost:8080/"
        },
        "id": "wOGRnN6dvJji",
        "outputId": "fcb31539-b853-43bd-d9a3-e0dd37324cce"
      },
      "execution_count": 14,
      "outputs": [
        {
          "output_type": "stream",
          "name": "stdout",
          "text": [
            "Enter You Age -23\n",
            "Age should not be less than zero\n"
          ]
        }
      ]
    },
    {
      "cell_type": "markdown",
      "source": [
        "#### Q 6 - Create a custom exception class. Use this class to handle an exception"
      ],
      "metadata": {
        "id": "MbYuXStFviob"
      }
    },
    {
      "cell_type": "code",
      "source": [
        "class CustomError(Exception):\n",
        "  def __init__(self, message):\n",
        "    self.message = message\n",
        "\n",
        "def divide(a,b):\n",
        "  if b == 0:\n",
        "    raise CustomError(\"Division by zero is not allowed\")\n",
        "  return a/b\n",
        "\n",
        "try:\n",
        "  result = divide(10,0)\n",
        "except CustomError as e:\n",
        "  print(\"Custom Error\", e)"
      ],
      "metadata": {
        "colab": {
          "base_uri": "https://localhost:8080/"
        },
        "id": "9o_Am1prwKCv",
        "outputId": "77779e88-9019-4a61-ad9b-c15894e75f2e"
      },
      "execution_count": 15,
      "outputs": [
        {
          "output_type": "stream",
          "name": "stdout",
          "text": [
            "Custom Error Division by zero is not allowed\n"
          ]
        }
      ]
    },
    {
      "cell_type": "code",
      "source": [],
      "metadata": {
        "id": "EMhtmgEjxjbT"
      },
      "execution_count": null,
      "outputs": []
    },
    {
      "cell_type": "code",
      "source": [],
      "metadata": {
        "id": "G3R3F6w1xjeD"
      },
      "execution_count": null,
      "outputs": []
    },
    {
      "cell_type": "code",
      "source": [],
      "metadata": {
        "id": "BIS4Yclqxjgf"
      },
      "execution_count": null,
      "outputs": []
    },
    {
      "cell_type": "code",
      "source": [],
      "metadata": {
        "id": "I7X9N55Nxjij"
      },
      "execution_count": null,
      "outputs": []
    },
    {
      "cell_type": "code",
      "source": [],
      "metadata": {
        "id": "9YiEzkgcxjk3"
      },
      "execution_count": null,
      "outputs": []
    },
    {
      "cell_type": "code",
      "source": [],
      "metadata": {
        "id": "BHJF9tBxxjmq"
      },
      "execution_count": null,
      "outputs": []
    },
    {
      "cell_type": "code",
      "source": [],
      "metadata": {
        "id": "z3CxDB8UxjpP"
      },
      "execution_count": null,
      "outputs": []
    },
    {
      "cell_type": "code",
      "source": [],
      "metadata": {
        "id": "oV9jqPf7xjrl"
      },
      "execution_count": null,
      "outputs": []
    },
    {
      "cell_type": "code",
      "source": [],
      "metadata": {
        "id": "Sp4BrQlMxjuf"
      },
      "execution_count": null,
      "outputs": []
    },
    {
      "cell_type": "code",
      "source": [],
      "metadata": {
        "id": "EGg7quuLxjxj"
      },
      "execution_count": null,
      "outputs": []
    },
    {
      "cell_type": "code",
      "source": [],
      "metadata": {
        "id": "8FCQGivVxj0P"
      },
      "execution_count": null,
      "outputs": []
    },
    {
      "cell_type": "code",
      "source": [],
      "metadata": {
        "id": "NkGxF6icxj25"
      },
      "execution_count": null,
      "outputs": []
    },
    {
      "cell_type": "code",
      "source": [],
      "metadata": {
        "id": "7Ytbj34oxj5s"
      },
      "execution_count": null,
      "outputs": []
    },
    {
      "cell_type": "code",
      "source": [],
      "metadata": {
        "id": "bgbst3wfxj8Q"
      },
      "execution_count": null,
      "outputs": []
    },
    {
      "cell_type": "code",
      "source": [],
      "metadata": {
        "id": "TRtz0acdxj_g"
      },
      "execution_count": null,
      "outputs": []
    },
    {
      "cell_type": "code",
      "source": [],
      "metadata": {
        "id": "aeY5O435xkCF"
      },
      "execution_count": null,
      "outputs": []
    },
    {
      "cell_type": "code",
      "source": [],
      "metadata": {
        "id": "v8yfgqctxkFS"
      },
      "execution_count": null,
      "outputs": []
    },
    {
      "cell_type": "code",
      "source": [],
      "metadata": {
        "id": "pBlE18eXxkLz"
      },
      "execution_count": null,
      "outputs": []
    },
    {
      "cell_type": "code",
      "source": [],
      "metadata": {
        "id": "zwH_zpDaxkSS"
      },
      "execution_count": null,
      "outputs": []
    },
    {
      "cell_type": "code",
      "source": [],
      "metadata": {
        "id": "uKuuhq7Zxl55"
      },
      "execution_count": null,
      "outputs": []
    },
    {
      "cell_type": "markdown",
      "source": [
        "Q1. Explain why we have to use the Exception class while creating a Custom Exception.\n",
        "\n",
        "Note: Here Exception class refers to the base class for all the exceptions.\n",
        "\n",
        "Q2. Write a python program to print Python Exception Hierarchy.\n",
        "\n",
        "Q3. What errors are defined in the ArithmeticError class? Explain any two with an example.\n",
        "\n",
        "Q4. Why LookupError class is used? Explain with an example KeyError and IndexError.\n",
        "\n",
        "Q5. Explain ImportError. What is ModuleNotFoundError?\n",
        "\n",
        "Q6. List down some best practices for exception handling in python."
      ],
      "metadata": {
        "id": "NTy1sshaXH2L"
      }
    },
    {
      "cell_type": "code",
      "source": [],
      "metadata": {
        "id": "w15DxzjDXO31"
      },
      "execution_count": null,
      "outputs": []
    },
    {
      "cell_type": "markdown",
      "source": [
        "Q1. What is multithreading in python? hy is it used? Name the module used to handle threads in python\n",
        "\n",
        "Q2. Why threading module used? rite the use of the following functions\n",
        "\n",
        "a. activeCount\n",
        "b. currentThread\n",
        "c. enumerate\n",
        "\n",
        "Q3. Explain the following functions\n",
        "a. run\n",
        "b. start\n",
        "c. join\n",
        "d. isAlive\n",
        "\n",
        "4. rite a python program to create two threads. Thread one must print the list of squares and thread\n",
        "two must print the list of cubes\n",
        "\n",
        "5. State advantages and disadvantages of multithreading\n",
        "\n",
        "6. Explain deadlocks and race conditions."
      ],
      "metadata": {
        "id": "-Vhd0IjhXPIZ"
      }
    },
    {
      "cell_type": "code",
      "source": [],
      "metadata": {
        "id": "EiZTAKdDXoHd"
      },
      "execution_count": null,
      "outputs": []
    },
    {
      "cell_type": "markdown",
      "source": [
        "Q1. What is multiprocessing in python? Why is it useful?\n",
        "\n",
        "Q2. What are the differences between multiprocessing and multithreading?\n",
        "\n",
        "Q3. Write a python code to create a process using the multiprocessing module.\n",
        "\n",
        "Q4. What is a multiprocessing pool in python? Why is it used?\n",
        "\n",
        "Q5. How can we create a pool of worker processes in python using the multiprocessing module?\n",
        "\n",
        "Q6. Write a python program to create 4 processes, each process should print a different number using the\n",
        "multiprocessing module in python."
      ],
      "metadata": {
        "id": "sD80hCM8Xow6"
      }
    },
    {
      "cell_type": "code",
      "source": [],
      "metadata": {
        "id": "soVUfSKuXulO"
      },
      "execution_count": null,
      "outputs": []
    }
  ]
}