{
 "cells": [
  {
   "cell_type": "markdown",
   "id": "e9e505f7-94da-4511-9527-23937d4b86bd",
   "metadata": {},
   "source": [
    "## Print Statement\n",
    "\n",
    "* f string\n",
    "* .format()"
   ]
  },
  {
   "cell_type": "code",
   "execution_count": 5,
   "id": "a3a40aeb-1ce0-4f7f-b802-ecf492e50726",
   "metadata": {},
   "outputs": [
    {
     "name": "stdout",
     "output_type": "stream",
     "text": [
      "My name is Isha and my age is 24. I have studied MSc Mathematics\n"
     ]
    }
   ],
   "source": [
    "name = \"Isha\"\n",
    "age = 24\n",
    "degree = \"MSc Mathematics\"\n",
    "\n",
    "print('My name is {firstname} and my age is {age}. I have studied {edu}'.format(firstname=name, age=age, edu=degree))"
   ]
  },
  {
   "cell_type": "code",
   "execution_count": 6,
   "id": "b649ef83-908b-4fc6-b0a7-ad72b5c0c8f6",
   "metadata": {},
   "outputs": [
    {
     "name": "stdout",
     "output_type": "stream",
     "text": [
      "My name is Isha and my age is 24. I have studied MSc Mathematics\n"
     ]
    }
   ],
   "source": [
    "print(f'My name is {name} and my age is {age}. I have studied {degree}')"
   ]
  },
  {
   "cell_type": "markdown",
   "id": "82f9608d-e06e-43fd-9f1a-0d0a3b4b15b4",
   "metadata": {},
   "source": [
    "# Control Flow\n",
    "\n",
    "### Decision Making Statements\n",
    " * It is kinda similar to making decisions during situations occuring at the time of program execution and action can be taken according to specified conditions.\n",
    " * Structure of Decision making evaluate several expressions that provide True or False as a result.\n",
    " * It is up to the programmer to decide which type of action is needed to take and execute the statements based upon True and False.\n",
    " \n",
    "#### There are several types of decision making and conditional statements as:\n",
    "\n",
    "1. if\n",
    "2. if else\n",
    "3. if elif else\n",
    "4. Nested if \n",
    "5. Single Statement Suites"
   ]
  },
  {
   "cell_type": "code",
   "execution_count": 8,
   "id": "d4a26188-6089-431a-9418-a4cf95836540",
   "metadata": {},
   "outputs": [
    {
     "name": "stdin",
     "output_type": "stream",
     "text": [
      "Please Enter Your Age Here: 22\n"
     ]
    },
    {
     "name": "stdout",
     "output_type": "stream",
     "text": [
      "You are a Young Blood\n"
     ]
    }
   ],
   "source": [
    "age = int(input('Please Enter Your Age Here:'))\n",
    "if age >=18 and age <=45:\n",
    "    print(\"You are a Young Blood\")\n",
    "elif age<18:\n",
    "    print('You are a Juviniel')\n",
    "else:\n",
    "    print('You are a Veteran')"
   ]
  },
  {
   "cell_type": "code",
   "execution_count": 12,
   "id": "97e77668-29db-4278-bd7f-070d143ff2f5",
   "metadata": {},
   "outputs": [
    {
     "name": "stdin",
     "output_type": "stream",
     "text": [
      "Please Enter the Product Price in Rs. : 900\n"
     ]
    },
    {
     "name": "stdout",
     "output_type": "stream",
     "text": [
      "CONGRATULATIONS! \n",
      "You have got 30% DISCOUNT \n",
      "The Final Price of the Product for You is: 630.0\n"
     ]
    }
   ],
   "source": [
    "price = int(input('Please Enter the Product Price in Rs. :'))\n",
    "if price >1000:\n",
    "    new_price = price*0.8\n",
    "    print(f'CONGRATULATIONS! \\nYou have got 20% DISCOUNT \\nThe Final Price of the Product for You is: {new_price}')\n",
    "else:\n",
    "    new_price = price*0.7\n",
    "    print(f'CONGRATULATIONS! \\nYou have got 30% DISCOUNT \\nThe Final Price of the Product for You is: {new_price}')"
   ]
  },
  {
   "cell_type": "code",
   "execution_count": 14,
   "id": "ecb054ff-f668-4062-ad1c-85730e5bf613",
   "metadata": {},
   "outputs": [
    {
     "name": "stdin",
     "output_type": "stream",
     "text": [
      "Please Enter the Product Price in Rs. : 900\n"
     ]
    },
    {
     "name": "stdout",
     "output_type": "stream",
     "text": [
      "CONGRATULATIONS! \n",
      "You have got 30% DISCOUNT \n",
      "The Final Price of the Product for You is: 630.0\n"
     ]
    }
   ],
   "source": [
    "price = int(input('Please Enter the Product Price in Rs. :'))\n",
    "if price >1000:\n",
    "    print('CONGRATULATIONS! \\nYou have got 20% DISCOUNT \\nThe Final Price of the Product for You is: {new_price}'.format(new_price=price*0.8))\n",
    "else:\n",
    "    print('CONGRATULATIONS! \\nYou have got 30% DISCOUNT \\nThe Final Price of the Product for You is: {new_price}'.format(new_price=price*0.7))"
   ]
  },
  {
   "cell_type": "code",
   "execution_count": 17,
   "id": "248528d5-0913-47e3-8f72-dc52995aab4e",
   "metadata": {},
   "outputs": [
    {
     "name": "stdin",
     "output_type": "stream",
     "text": [
      "Please Enter the Product Price in Rs. : 4000\n"
     ]
    },
    {
     "name": "stdout",
     "output_type": "stream",
     "text": [
      "CONGRATULATIONS! \n",
      "You have got 40% DISCOUNT \n",
      "The Final Price of the Product for You is: 2400.0\n"
     ]
    }
   ],
   "source": [
    "price = int(input('Please Enter the Product Price in Rs. :'))\n",
    "if price >3000:\n",
    "    print('CONGRATULATIONS! \\nYou have got 40% DISCOUNT \\nThe Final Price of the Product for You is: {new_price}'.format(new_price=price*0.6))\n",
    "elif price >=2000 and price<3000:\n",
    "    print('CONGRATULATIONS! \\nYou have got 30% DISCOUNT \\nThe Final Price of the Product for You is: {new_price}'.format(new_price=price*0.7))\n",
    "elif price >1000 and price < 2000:\n",
    "    print('CONGRATULATIONS! \\nYou have got 25% DISCOUNT \\nThe Final Price of the Product for You is: {new_price}'.format(new_price=price*0.75))\n",
    "else:\n",
    "    print('CONGRATULATIONS! \\nYou have got 20% DISCOUNT \\nThe Final Price of the Product for You is: {new_price}'.format(new_price=price*0.8))"
   ]
  },
  {
   "cell_type": "code",
   "execution_count": 20,
   "id": "dc6ead44-19a1-4b68-a004-3e46aec5c1b0",
   "metadata": {},
   "outputs": [
    {
     "name": "stdout",
     "output_type": "stream",
     "text": [
      "26\n",
      "27\n",
      "28\n",
      "29\n",
      "30\n",
      "31\n",
      "32\n",
      "33\n",
      "34\n",
      "35\n",
      "36\n",
      "37\n",
      "38\n",
      "39\n",
      "40\n",
      "41\n",
      "42\n",
      "43\n",
      "44\n",
      "45\n",
      "46\n",
      "47\n",
      "48\n",
      "49\n",
      "50\n",
      "51\n",
      "52\n",
      "53\n",
      "54\n",
      "55\n",
      "56\n",
      "57\n",
      "58\n",
      "59\n",
      "60\n",
      "61\n",
      "Sorry its time for tetirement\n"
     ]
    }
   ],
   "source": [
    "joining_age = 25\n",
    "while joining_age<=60:\n",
    "    joining_age+=1\n",
    "    print(joining_age)\n",
    "else:\n",
    "    print('Sorry its time for tetirement')"
   ]
  },
  {
   "cell_type": "markdown",
   "id": "7f815100-44a8-4166-bf61-7ec806f1f4b9",
   "metadata": {},
   "source": [
    "## Nested Loop\n",
    "* Star triangles"
   ]
  },
  {
   "cell_type": "code",
   "execution_count": 22,
   "id": "e2456b8d-f142-4cbd-94ae-e04eb54ceb3a",
   "metadata": {},
   "outputs": [
    {
     "name": "stdout",
     "output_type": "stream",
     "text": [
      "****************************"
     ]
    }
   ],
   "source": [
    "n = 7    # this is the width of the triangle\n",
    "\n",
    "for i in range (0,n):\n",
    "    for j in range (0, i+1):\n",
    "        print('*', end = '')"
   ]
  },
  {
   "cell_type": "code",
   "execution_count": 23,
   "id": "bfa5e7eb-3ff0-4221-82c6-2cf57430f054",
   "metadata": {
    "tags": []
   },
   "outputs": [
    {
     "name": "stdout",
     "output_type": "stream",
     "text": [
      "*\n",
      "*\n",
      "*\n",
      "*\n",
      "*\n",
      "*\n",
      "*\n",
      "*\n",
      "*\n",
      "*\n",
      "*\n",
      "*\n",
      "*\n",
      "*\n",
      "*\n",
      "*\n",
      "*\n",
      "*\n",
      "*\n",
      "*\n",
      "*\n",
      "*\n",
      "*\n",
      "*\n",
      "*\n",
      "*\n",
      "*\n",
      "*\n"
     ]
    }
   ],
   "source": [
    "n = 7    # this is the width of the triangle\n",
    "\n",
    "for i in range (0,n):\n",
    "    for j in range (0, i+1):\n",
    "        print('*')"
   ]
  },
  {
   "cell_type": "code",
   "execution_count": 26,
   "id": "0302cb11-f8aa-44f6-a427-4caaf6d4d65f",
   "metadata": {},
   "outputs": [
    {
     "name": "stdout",
     "output_type": "stream",
     "text": [
      "*\n",
      "\n",
      "**\n",
      "\n",
      "***\n",
      "\n",
      "****\n",
      "\n",
      "*****\n",
      "\n",
      "******\n",
      "\n",
      "*******\n",
      "\n"
     ]
    }
   ],
   "source": [
    "n = 7    # this is the width of the triangle\n",
    "\n",
    "for i in range (0,n):\n",
    "    for j in range (0, i+1):\n",
    "        print('*', end = '')\n",
    "    print(\"\\n\")      # \\r shifts your cursor to the beginning of the string or linea"
   ]
  },
  {
   "cell_type": "markdown",
   "id": "ac8bf262-6ee8-496b-a292-68500e0f94b5",
   "metadata": {},
   "source": [
    "* \\r will just work as you have shifted your cursor to the beginning of the string or line"
   ]
  },
  {
   "cell_type": "code",
   "execution_count": 24,
   "id": "4d741c9b-5c6d-484a-9a56-afe27247235e",
   "metadata": {},
   "outputs": [
    {
     "name": "stdout",
     "output_type": "stream",
     "text": [
      "*\n",
      "**\n",
      "***\n",
      "****\n",
      "*****\n",
      "******\n",
      "*******\n"
     ]
    }
   ],
   "source": [
    "n = 7    # this is the width of the triangle\n",
    "\n",
    "for i in range (0,n):\n",
    "    for j in range (0, i+1):\n",
    "        print('*', end = '')\n",
    "    print(\"\\r\")      # \\r shifts your cursor to the beginning of the string or linea"
   ]
  },
  {
   "cell_type": "markdown",
   "id": "7668c2c2-875b-49b1-a18b-0a13a1377e65",
   "metadata": {},
   "source": [
    "## Loop Control\n",
    "\n",
    "* Break\n",
    "* Continue"
   ]
  },
  {
   "cell_type": "code",
   "execution_count": 31,
   "id": "fa931b2e-2ded-46e0-92d7-ef14f123cf48",
   "metadata": {},
   "outputs": [
    {
     "name": "stdout",
     "output_type": "stream",
     "text": [
      "Mango\n",
      "Cherry\n",
      "The Fruit is APPLE\n",
      "Apple\n",
      "Papaya\n",
      "Grapes\n"
     ]
    }
   ],
   "source": [
    "fruits = ['Mango', 'Cherry', 'Apple', 'Papaya', 'Grapes']\n",
    "\n",
    "for i in fruits:\n",
    "    if i=='Apple':\n",
    "        print('The Fruit is APPLE')\n",
    "    print(i)"
   ]
  },
  {
   "cell_type": "code",
   "execution_count": 32,
   "id": "ee715b10-3a74-419e-8e2d-5ed57c32b01e",
   "metadata": {},
   "outputs": [
    {
     "name": "stdout",
     "output_type": "stream",
     "text": [
      "Mango\n",
      "Cherry\n",
      "The Fruit is APPLE\n"
     ]
    }
   ],
   "source": [
    "fruits = ['Mango', 'Cherry', 'Apple', 'Papaya', 'Grapes']\n",
    "\n",
    "for i in fruits:\n",
    "    if i=='Apple':\n",
    "        print('The Fruit is APPLE')\n",
    "        break\n",
    "    print(i)"
   ]
  },
  {
   "cell_type": "code",
   "execution_count": 33,
   "id": "87807762-d82a-41a9-a8a5-dbb2d6c55f61",
   "metadata": {},
   "outputs": [
    {
     "name": "stdout",
     "output_type": "stream",
     "text": [
      "Mango\n",
      "Cherry\n",
      "The Fruit is APPLE\n",
      "Apple\n",
      "Papaya\n",
      "Grapes\n"
     ]
    }
   ],
   "source": [
    "fruits = ['Mango', 'Cherry', 'Apple', 'Papaya', 'Grapes']\n",
    "\n",
    "for i in fruits:\n",
    "    if i=='Apple':\n",
    "        print('The Fruit is APPLE')\n",
    "        pass\n",
    "    print(i)"
   ]
  },
  {
   "cell_type": "code",
   "execution_count": 34,
   "id": "75986ba3-d577-436a-b81b-8a4e695fcb50",
   "metadata": {},
   "outputs": [
    {
     "name": "stdout",
     "output_type": "stream",
     "text": [
      "Mango\n",
      "Cherry\n",
      "The Fruit is APPLE\n",
      "Papaya\n",
      "Grapes\n"
     ]
    }
   ],
   "source": [
    "fruits = ['Mango', 'Cherry', 'Apple', 'Papaya', 'Grapes']\n",
    "\n",
    "for i in fruits:\n",
    "    if i=='Apple':\n",
    "        print('The Fruit is APPLE')\n",
    "        continue\n",
    "    print(i)"
   ]
  },
  {
   "cell_type": "code",
   "execution_count": 29,
   "id": "06b01772-c232-4515-ae4e-ffc8484c0a51",
   "metadata": {},
   "outputs": [
    {
     "name": "stdout",
     "output_type": "stream",
     "text": [
      "Mango\n",
      "Cherry\n",
      "The Fruit is APPLE\n",
      "Papaya\n",
      "Grapes\n"
     ]
    }
   ],
   "source": [
    "fruits = ['Mango', 'Cherry', 'Apple', 'Papaya', 'Grapes']\n",
    "\n",
    "for i in fruits:\n",
    "    if i=='Apple':\n",
    "        print('The Fruit is APPLE')\n",
    "        # break\n",
    "    else: print(i)"
   ]
  },
  {
   "cell_type": "code",
   "execution_count": 30,
   "id": "a42311f1-b651-48ad-a937-bd42548f352b",
   "metadata": {},
   "outputs": [
    {
     "name": "stdout",
     "output_type": "stream",
     "text": [
      "Mango\n",
      "Cherry\n",
      "The Fruit is APPLE\n"
     ]
    }
   ],
   "source": [
    "fruits = ['Mango', 'Cherry', 'Apple', 'Papaya', 'Grapes']\n",
    "\n",
    "for i in fruits:\n",
    "    if i=='Apple':\n",
    "        print('The Fruit is APPLE')\n",
    "        break\n",
    "    else: print(i)"
   ]
  },
  {
   "cell_type": "code",
   "execution_count": 35,
   "id": "4728adf6-5510-439b-b2a2-f1e729131a4c",
   "metadata": {},
   "outputs": [
    {
     "name": "stdout",
     "output_type": "stream",
     "text": [
      "Mango\n",
      "Cherry\n",
      "The Fruit is APPLE\n",
      "Papaya\n",
      "Grapes\n"
     ]
    }
   ],
   "source": [
    "fruits = ['Mango', 'Cherry', 'Apple', 'Papaya', 'Grapes']\n",
    "\n",
    "for i in fruits:\n",
    "    if i=='Apple':\n",
    "        print('The Fruit is APPLE')\n",
    "        pass\n",
    "    else: print(i)"
   ]
  },
  {
   "cell_type": "code",
   "execution_count": 36,
   "id": "ce96ccb3-3c16-48cd-a70c-41d5e706112c",
   "metadata": {},
   "outputs": [
    {
     "name": "stdout",
     "output_type": "stream",
     "text": [
      "Mango\n",
      "Cherry\n",
      "The Fruit is APPLE\n",
      "Papaya\n",
      "Grapes\n"
     ]
    }
   ],
   "source": [
    "fruits = ['Mango', 'Cherry', 'Apple', 'Papaya', 'Grapes']\n",
    "\n",
    "for i in fruits:\n",
    "    if i=='Apple':\n",
    "        print('The Fruit is APPLE')\n",
    "        continue\n",
    "    else: print(i)"
   ]
  },
  {
   "cell_type": "code",
   "execution_count": null,
   "id": "9e6f45db-b632-439e-b9bc-9c0747348c90",
   "metadata": {},
   "outputs": [],
   "source": []
  },
  {
   "cell_type": "code",
   "execution_count": null,
   "id": "e9a0b5f1-84cc-43fe-84f5-526c240dc0f2",
   "metadata": {},
   "outputs": [],
   "source": []
  },
  {
   "cell_type": "code",
   "execution_count": null,
   "id": "a2e918bd-ae0e-4929-9a55-2cd59e27e8e6",
   "metadata": {},
   "outputs": [],
   "source": []
  },
  {
   "cell_type": "code",
   "execution_count": null,
   "id": "51b69b6c-2368-45de-93a1-66c9b0a9e1e4",
   "metadata": {},
   "outputs": [],
   "source": []
  },
  {
   "cell_type": "code",
   "execution_count": null,
   "id": "e2490163-25e7-40bd-923d-a1debeedefec",
   "metadata": {},
   "outputs": [],
   "source": []
  },
  {
   "cell_type": "code",
   "execution_count": null,
   "id": "3cdf2f50-3290-4c62-a5ae-a71b21aa8a1f",
   "metadata": {},
   "outputs": [],
   "source": []
  },
  {
   "cell_type": "code",
   "execution_count": null,
   "id": "92f7da9a-5738-41cf-ab76-40a7a0af2c6b",
   "metadata": {},
   "outputs": [],
   "source": []
  },
  {
   "cell_type": "code",
   "execution_count": null,
   "id": "1ce3392e-21cd-45f0-8f9d-6bda490ff9ef",
   "metadata": {},
   "outputs": [],
   "source": []
  },
  {
   "cell_type": "code",
   "execution_count": null,
   "id": "fb14c6f4-da27-4938-87c2-c16b7783ba5a",
   "metadata": {},
   "outputs": [],
   "source": []
  }
 ],
 "metadata": {
  "kernelspec": {
   "display_name": "Python 3 (ipykernel)",
   "language": "python",
   "name": "python3"
  },
  "language_info": {
   "codemirror_mode": {
    "name": "ipython",
    "version": 3
   },
   "file_extension": ".py",
   "mimetype": "text/x-python",
   "name": "python",
   "nbconvert_exporter": "python",
   "pygments_lexer": "ipython3",
   "version": "3.10.8"
  }
 },
 "nbformat": 4,
 "nbformat_minor": 5
}
