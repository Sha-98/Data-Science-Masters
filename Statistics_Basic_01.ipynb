{
  "nbformat": 4,
  "nbformat_minor": 0,
  "metadata": {
    "colab": {
      "provenance": [],
      "authorship_tag": "ABX9TyN7wuADzl3P5TF1D7QJWKrW",
      "include_colab_link": true
    },
    "kernelspec": {
      "name": "python3",
      "display_name": "Python 3"
    },
    "language_info": {
      "name": "python"
    }
  },
  "cells": [
    {
      "cell_type": "markdown",
      "metadata": {
        "id": "view-in-github",
        "colab_type": "text"
      },
      "source": [
        "<a href=\"https://colab.research.google.com/github/Sha-98/Data-Science-Masters/blob/main/Statistics_Basic_01.ipynb\" target=\"_parent\"><img src=\"https://colab.research.google.com/assets/colab-badge.svg\" alt=\"Open In Colab\"/></a>"
      ]
    },
    {
      "cell_type": "markdown",
      "source": [
        "# **Statistics Basic 01 - Assignment**"
      ],
      "metadata": {
        "id": "VJl8Re9mmM3o"
      }
    },
    {
      "cell_type": "markdown",
      "source": [
        "## **Q1. What is Statistics?**\n"
      ],
      "metadata": {
        "id": "f5E7dJllldE0"
      }
    },
    {
      "cell_type": "markdown",
      "source": [
        "Statistics is a branch of mathematics that deals with the collection, analysis, interpretation, presentation, and organization of data. It provides methods to draw meaningful conclusions and make informed decisions in the presence of uncertainty.\n",
        "\n",
        "Some key aspects of Statistics is as follows:\n",
        "\n",
        "**01. Data Collection:** Statistics begins with the collection of data. Data can be collected through various methods, such as surveys, experiments, observations, or by extracting information from existing sources.\n",
        "\n",
        "**02. Descriptive Statistics:** Descriptive statistics involve methods for summarizing and describing the main features of a dataset. Measures such as mean, median, mode, range, and standard deviation are used to provide a concise summary.\n",
        "\n",
        "**03. Inferential Statistics:** Inferential statistics involves making predictions or inferences about a population based on a sample of data. It uses probability theory to estimate parameters and test hypotheses.\n",
        "\n",
        "**04. Hypothesis Testing:** In hypothesis testing, statistical methods are used to assess the validity of assumptions or hypotheses about a population based on a sample. It helps determine whether observed differences or effects are statistically significant.\n",
        "\n",
        "**05. Probability:** Probability theory is a fundamental concept in statistics. It provides a framework for quantifying uncertainty and randomness. Probability distributions describe the likelihood of different outcomes.\n",
        "\n",
        "***Statistics plays a crucial role in various fields, including science, economics, finance, social sciences, medicine, and engineering. It provides valuable tools for decision-making, pattern recognition, and understanding the inherent variability in data.***"
      ],
      "metadata": {
        "id": "RJIt5KFYm6Bj"
      }
    },
    {
      "cell_type": "markdown",
      "source": [
        "## **Q2. Define the different types of statistics and give an example of when each type might be used.**\n"
      ],
      "metadata": {
        "id": "AJ0dUvfLldIa"
      }
    },
    {
      "cell_type": "markdown",
      "source": [
        "Statistics can be broadly categorized into two main types: descriptive statistics and inferential statistics.\n",
        "\n",
        "**1. Descriptive Statistics:**\n",
        "Descriptive statistics involves methods for summarizing and describing the main features of a dataset. It provides a clear and concise summary of the key aspects of the data.\n",
        "\n",
        "Examples:\n",
        "\n",
        "> **Mean (Average):** The mean is used to find the average value of a dataset. For example, calculating the average test score of students in a class.\n",
        "\n",
        "> **Median:** The median is the middle value in a dataset. It is useful when dealing with skewed distributions. For instance, finding the median income in a population.\n",
        "\n",
        "> **Mode:** The mode represents the most frequently occurring value in a dataset. It can be used to identify the most common category in a survey.\n",
        "\n",
        "> **Range:** The range is the difference between the maximum and minimum values in a dataset. It gives an idea of the spread of values. For instance, assessing the range of temperatures in a month.\n",
        "\n",
        "**2. Inferential Statistics:**\n",
        "Inferential statistics involves making predictions or inferences about a population based on a sample of data. It uses probability theory to estimate parameters and test hypotheses.\n",
        "\n",
        "\n",
        "Examples:\n",
        "\n",
        "> **Hypothesis Testing:** Inferential statistics can be used to test hypotheses about a population parameter. For example, testing whether a new drug has a significant effect on patient outcomes.\n",
        "\n",
        "> **Confidence Intervals:** Constructing confidence intervals helps estimate the range within which a population parameter is likely to fall. This could be applied to estimate the average height of a certain population.\n",
        "\n",
        "> **Regression Analysis:** Inferential statistics can be used to analyze the relationship between variables and make predictions. For instance, predicting future sales based on historical data.\n",
        "\n",
        "> **ANOVA (Analysis of Variance):** ANOVA is used to compare means across multiple groups. For example, determining if there are statistically significant differences in test scores among students in different teaching methods."
      ],
      "metadata": {
        "id": "SwZYDHMEn9IY"
      }
    },
    {
      "cell_type": "markdown",
      "source": [
        "## **Q3. What are the different types of data and how do they differ from each other? Provide an example of each type of data.**"
      ],
      "metadata": {
        "id": "aql__a5DldLK"
      }
    },
    {
      "cell_type": "markdown",
      "source": [
        "Data can be classified into different types based on its nature, characteristics, and the way it is represented and analyzed. The main types of data are categorical, numerical, ordinal, and nominal.\n",
        "\n",
        "**1. Nominal Data:**\n",
        "\n",
        "> **Definition:** Nominal data represents categories with no inherent order or ranking. It is used to label variables without any quantitative value.\n",
        "\n",
        "> **Example:** Colors, gender, or types of fruits are examples of nominal data. For instance, colors such as red, blue, and green represent categories without any inherent order.\n",
        "\n",
        "**2. Ordinal Data:**\n",
        "\n",
        "> **Definition:** Ordinal data represents categories with a meaningful order or ranking. However, the intervals between the categories are not consistent or measurable.\n",
        "\n",
        "> **Example:** Educational levels (e.g., high school, bachelor's, master's) or survey responses with Likert scales (e.g., strongly agree, agree, neutral, disagree, strongly disagree) are examples of ordinal data. The order of categories is meaningful, but the intervals between them may not be uniform.\n",
        "\n",
        "**3. Interval Data:**\n",
        "\n",
        "> **Definition:** Interval data has consistent and measurable intervals between values. However, it lacks a true zero point, meaning that a value of zero does not indicate the absence of the quantity being measured.\n",
        "\n",
        "> **Example:** Temperature measured in Celsius or Fahrenheit is an example of interval data. The difference between 20°C and 30°C is the same as the difference between 30°C and 40°C, but zero degrees does not represent the absence of temperature.\n",
        "\n",
        "**4. Ratio Data:**\n",
        "\n",
        "> **Definition:** Ratio data has consistent intervals between values and a true zero point, where zero indicates the absence of the quantity being measured.\n",
        "\n",
        "> **Example:** Height, weight, income, and age are examples of ratio data. For instance, a height of 0 cm indicates the absence of height, and a weight of 0 kg indicates the absence of weight.\n",
        "\n",
        "**5. Categorical Data:**\n",
        "\n",
        "> **Definition:** Categorical data represents groups or categories. It can be either nominal or ordinal and is often used for qualitative variables.\n",
        "\n",
        "> **Example:** Types of animals (e.g., dogs, cats, birds) or educational qualifications (e.g., high school, bachelor's, master's) are examples of categorical data.\n",
        "\n",
        "\n",
        "**6. Numerical Data:**\n",
        "\n",
        "> **Definition:** Numerical data represents measurable quantities and can be either interval or ratio. It is used for quantitative variables.\n",
        "\n",
        ". **Example:** Temperature in Celsius or Fahrenheit, height, weight, and income are examples of numerical data.\n",
        "\n",
        "\n",
        "\n",
        "***Understanding the type of data is crucial for selecting appropriate statistical methods, visualizations, and analyses. Different types of data require different approaches for interpretation and meaningful analysis.***"
      ],
      "metadata": {
        "id": "SXbfShFWpPV0"
      }
    },
    {
      "cell_type": "markdown",
      "source": [
        "## **Q4. Categorise the following datasets with respect to quantitative and qualitative data types:**\n",
        "\n",
        "**(i) Grading in exam: A+, A, B+, B, C+, C, D, E**\n",
        "\n",
        "**(ii) Colour of mangoes: yellow, green, orange, red**\n",
        "\n",
        "**(iii) Height data of a class:**\n",
        "\n",
        "**[178.9, 179, 179.5, 176, 177.2, 178.3, 175.8,...]**\n",
        "\n",
        "\n",
        "**(iv) Number of mangoes exported by a farm: [500, 600, 478, 672, ...]**"
      ],
      "metadata": {
        "id": "bAvR2P6-ldN2"
      }
    },
    {
      "cell_type": "markdown",
      "source": [
        "**Qualitative Data:**\n",
        "\n",
        "***(i). Grading in Exam:***\n",
        "\n",
        "> Categories: A+, A, B+, B, C+, C, D, E\n",
        "\n",
        "> Type: Qualitative (Ordinal)\n",
        "\n",
        "***(ii). Color of Mangoes:***\n",
        "\n",
        "> Categories: Yellow, Green, Orange, Red\n",
        "\n",
        "> Type: Qualitative (Nominal)\n",
        "\n",
        "*Grading in Exam and Color of Mangoes involve categories without consistent intervals or measurable differences, so they are qualitative.*\n",
        "\n",
        "**Quantitative Data:**\n",
        "\n",
        "***(iii). Height Data of a Class:***\n",
        "\n",
        "> Values: [178.9, 179, 179.5, 176, 177.2, 178.3, 175.8, ...]\n",
        "\n",
        "> Type: Quantitative (Ratio)\n",
        "\n",
        "***(iv). Number of Mangoes Exported by a Farm:***\n",
        "\n",
        "> Values: [500, 600, 478, 672, ...]\n",
        "\n",
        "> Type: Quantitative (Ratio)\n",
        "\n",
        "*Height Data and Number of Mangoes Exported involve numerical values with consistent intervals, so they are quantitative. Additionally, the presence of a true zero point (zero height, zero mangoes) classifies them as ratio data.*"
      ],
      "metadata": {
        "id": "vRM924-BtRFq"
      }
    },
    {
      "cell_type": "markdown",
      "source": [
        "## **Q5. Explain the concept of levels of measurement and give an example of a variable for each level.**\n"
      ],
      "metadata": {
        "id": "GESh_m2dldQa"
      }
    },
    {
      "cell_type": "markdown",
      "source": [
        "Levels of measurement, also known as scales of measurement, refer to the different ways in which variables can be measured or classified. There are four main levels of measurement: nominal, ordinal, interval, and ratio. Each level represents a higher degree of precision and sophistication in terms of the information conveyed by the data.\n",
        "\n",
        "**1. Nominal Level of Measurement:**\n",
        "\n",
        "> **Definition:** Nominal data represents categories or labels without any inherent order or ranking. Nominal variables are qualitative and have no numerical significance.\n",
        "\n",
        "> **Example:** Gender (Categories: Male, Female, Non-binary)\n",
        "\n",
        "**2. Ordinal Level of Measurement:**\n",
        "\n",
        "> **Definition:** Ordinal data represents categories with a meaningful order or ranking. However, the intervals between the categories are not consistent or measurable.\n",
        "\n",
        ". **Example:** Educational Level (Categories: High School, Bachelor's, Master's, Doctorate)\n",
        "\n",
        "**3. Interval Level of Measurement:**\n",
        "\n",
        "> **Definition:** Interval data has consistent and measurable intervals between values. It lacks a true zero point, meaning that a value of zero does not indicate the absence of the quantity being measured.\n",
        "\n",
        "> **Example:** Temperature in Celsius or Fahrenheit (Intervals are consistent, but zero does not represent the absence of temperature.)\n",
        "\n",
        "**4. Ratio Level of Measurement:**\n",
        "\n",
        "> **Definition:** Ratio data has consistent intervals between values and a true zero point, where zero indicates the absence of the quantity being measured.\n",
        "\n",
        "> **Example:** Height in centimeters (Zero height indicates the absence of height.)\n",
        "\n",
        "\n",
        "*Understanding the level of measurement is crucial because it determines the types of statistical analyses and operations that can be performed on the data. Higher levels of measurement allow for more sophisticated statistical analysis and interpretation.*"
      ],
      "metadata": {
        "id": "MvN54YmZvgfa"
      }
    },
    {
      "cell_type": "markdown",
      "source": [
        "## **Q6. Why is it important to understand the level of measurement when analyzing data? Provide an example to illustrate your answer.**\n"
      ],
      "metadata": {
        "id": "I3CASBl-l7Yo"
      }
    },
    {
      "cell_type": "markdown",
      "source": [
        "Understanding the level of measurement is crucial when analyzing data because it dictates the types of statistical analyses and operations that can be appropriately applied. Different levels of measurement have different characteristics, and applying an analysis method that is not suitable for the level of the variable can lead to misinterpretations and inaccurate conclusions.\n",
        "\n",
        "Some key reasons of why is it important to understand the level of measurement while analyzing the data are:\n",
        "\n",
        "**01. Appropriate Statistical Analysis:**\n",
        "\n",
        "* Each level of measurement has implications for the types of statistical analyses that can be performed.\n",
        "\n",
        "* Nominal and ordinal data may require non-parametric tests, while interval and ratio data can often be analyzed using parametric tests.\n",
        "\n",
        "**02. Meaningful Interpretation:**\n",
        "\n",
        "* The level of measurement determines the meaning of numerical operations and relationships between variables.\n",
        "\n",
        "* For example, taking the average of nominal or ordinal data (e.g., averaging categories like red and blue) doesn't have meaningful interpretation.\n",
        "\n",
        "**03. Validity of Measures:**\n",
        "\n",
        "* Certain statistical measures, such as the mean or standard deviation, are appropriate only for interval and ratio data.\n",
        "\n",
        "* Applying these measures to nominal or ordinal data may lead to incorrect assessments of central tendency or variability.\n",
        "\n",
        "\n",
        "**04. Selection of Visualization Techniques:**\n",
        "\n",
        "* Different levels of measurement may require different visualization techniques.\n",
        "\n",
        "* Bar charts and pie charts are suitable for nominal and ordinal data, while histograms and scatter plots are more appropriate for interval and ratio data.\n",
        "\n",
        "***Example:***\n",
        "\n",
        "Consider a dataset that includes information on students' satisfaction levels with a course, measured on a scale from 1 to 5 (1 = Very Dissatisfied, 5 = Very Satisfied).\n",
        "\n",
        "* If the variable is treated as nominal data, you might mistakenly try to calculate the mean satisfaction level, which doesn't make sense for categories.\n",
        "\n",
        "* If recognized as ordinal data, you can use non-parametric tests to assess whether there are significant differences in satisfaction levels between different groups.\n",
        "\n",
        "* If treated as interval data, you may incorrectly assume that the difference between a satisfaction level of 3 and 4 is the same as the difference between 4 and 5.\n",
        "\n",
        "*Understanding the level of measurement ensures that the appropriate statistical methods are employed, leading to accurate analyses and meaningful interpretations of the data.*"
      ],
      "metadata": {
        "id": "POnufzB6wQWx"
      }
    },
    {
      "cell_type": "markdown",
      "source": [
        "## **Q7. How nominal data type is different from ordinal data type.**\n"
      ],
      "metadata": {
        "id": "KaVdGbtml-jQ"
      }
    },
    {
      "cell_type": "markdown",
      "source": [
        "Nominal and ordinal data types are both categorical variables, but they differ in the nature of their categories and the level of measurement. Here's a breakdown of the differences between nominal and ordinal data types:\n",
        "\n",
        "**Nominal Data:**\n",
        "\n",
        "**01. Categories:**\n",
        "\n",
        "* Nominal data consists of categories or labels without any inherent order or ranking.\n",
        "* Categories are distinct and have no implied relationships in terms of magnitude or order.\n",
        "\n",
        "**02. Measurement Level:**\n",
        "\n",
        "* Nominal data is at the lowest level of measurement.\n",
        "* It represents qualitative information where categories are used to classify items.\n",
        "\n",
        "**03. Examples:**\n",
        "\n",
        "* Examples include gender (Male, Female), colors (Red, Blue, Green), or types of animals (Dog, Cat, Bird).\n",
        "\n",
        "**Ordinal Data:**\n",
        "\n",
        "**01. Categories:**\n",
        "\n",
        "* Ordinal data also consists of categories, but these categories have a meaningful order or ranking.\n",
        "* The order of categories reflects a qualitative distinction in terms of magnitude.\n",
        "\n",
        "**02. Measurement Level:**\n",
        "\n",
        "* Ordinal data is at a higher level of measurement compared to nominal data.\n",
        "* It represents qualitative information with an inherent order.\n",
        "\n",
        "**03. Examples:**\n",
        "\n",
        "* Examples include educational levels (High School, Bachelor's, Master's), socioeconomic status (Low, Medium, High), or customer satisfaction ratings (Poor, Fair, Good, Excellent).\n",
        "\n",
        "**Key Differences:**\n",
        "\n",
        "**01. Order:**\n",
        "\n",
        "* Nominal data: Categories have no inherent order or ranking.\n",
        "* Ordinal data: Categories have a meaningful order or ranking.\n",
        "\n",
        "**02. Magnitude:**\n",
        "\n",
        "* Nominal data: Categories are distinct with no implied differences in magnitude.\n",
        "* Ordinal data: Differences in order represent qualitative distinctions in magnitude.\n",
        "\n",
        "**03. Measurement Level:**\n",
        "\n",
        "* Nominal data: Lowest level of measurement.\n",
        "* Ordinal data: Higher level of measurement compared to nominal data.\n",
        "\n",
        "**04. Examples:**\n",
        "\n",
        "* Nominal data: Gender, Colors.\n",
        "* Ordinal data: Educational levels, Satisfaction ratings.\n",
        "\n",
        "*In summary, while both nominal and ordinal data involve categories, ordinal data introduces a meaningful order or ranking among those categories. This ordinal relationship implies a qualitative distinction in magnitude between the categories, making ordinal data a higher level of measurement than nominal data.*"
      ],
      "metadata": {
        "id": "THMVN1P819t2"
      }
    },
    {
      "cell_type": "markdown",
      "source": [
        "## **Q8. Which type of plot can be used to display data in terms of range?**\n"
      ],
      "metadata": {
        "id": "nR1ubyDmmAy-"
      }
    },
    {
      "cell_type": "markdown",
      "source": [
        "A box plot, also known as a box-and-whisker plot, is commonly used to display data in terms of range. Box plots provide a visual representation of the distribution and spread of a dataset, including the minimum, first quartile (Q1), median, third quartile (Q3), and maximum values. The \"box\" in the plot represents the interquartile range (IQR), which is the range between Q1 and Q3, and the \"whiskers\" extend to the minimum and maximum values."
      ],
      "metadata": {
        "id": "WFpx2STk58yr"
      }
    },
    {
      "cell_type": "code",
      "source": [
        "import matplotlib.pyplot as plt\n",
        "import numpy as np\n",
        "\n",
        "# Generate sample data with an outlier\n",
        "np.random.seed(42)\n",
        "data = np.concatenate([np.random.normal(0, 1, 50), np.random.normal(8, 1, 50), [15]])\n",
        "\n",
        "# Create a box plot\n",
        "plt.boxplot(data, vert=False, labels=['Data'], widths=0.7)\n",
        "\n",
        "# Set plot labels and title\n",
        "plt.xlabel('Values')\n",
        "plt.title('Box Plot with Outlier')\n",
        "\n",
        "# Show the plot\n",
        "plt.show()"
      ],
      "metadata": {
        "colab": {
          "base_uri": "https://localhost:8080/",
          "height": 472
        },
        "id": "Y--10MF-59U2",
        "outputId": "eb59bd0f-d93d-4b49-e0a0-96b3a7c48ae0"
      },
      "execution_count": 14,
      "outputs": [
        {
          "output_type": "display_data",
          "data": {
            "text/plain": [
              "<Figure size 640x480 with 1 Axes>"
            ],
            "image/png": "[encoded data removed]"
          },
          "metadata": {}
        }
      ]
    },
    {
      "cell_type": "markdown",
      "source": [
        "## **Q9. Describe the difference between descriptive and inferential statistics. Give an example of each type of statistics and explain how they are used.**\n"
      ],
      "metadata": {
        "id": "usqnJRynl7b6"
      }
    },
    {
      "cell_type": "markdown",
      "source": [
        "**Descriptive Statistics:**\n",
        "\n",
        "* **Definition:** Descriptive statistics involves the analysis, summary, and presentation of data in a meaningful way. It focuses on providing a clear and concise description of the main features of a dataset.\n",
        "\n",
        "* **Purpose:** Descriptive statistics help to simplify and organize large amounts of data, making it more understandable. It involves measures of central tendency (mean, median, mode) and measures of variability (range, standard deviation) to describe the overall characteristics of the data.\n",
        "\n",
        "* **Example:** Consider a dataset of exam scores for a class of students. Descriptive statistics would include calculating the mean (average) score, the median (middle score), and the standard deviation (a measure of variability) to provide a summary of the overall performance of the class.\n",
        "\n"
      ],
      "metadata": {
        "id": "3Xk0A8Ox6aap"
      }
    },
    {
      "cell_type": "markdown",
      "source": [
        "**Inferential Statistics:**\n",
        "\n",
        "* **Definition:** Inferential statistics involves drawing conclusions or making inferences about a population based on a sample of data. It extends the findings from a sample to the entire population and assesses the likelihood that the observed patterns are not due to chance.\n",
        "\n",
        "* **Purpose:** Inferential statistics is used to make predictions, test hypotheses, and generalize findings from a sample to a larger population. It involves techniques such as hypothesis testing, confidence intervals, and regression analysis to infer characteristics of the population from the sample data.\n",
        "\n",
        "* **Example:** Suppose a researcher wants to know if a new teaching method improves students' test scores. They may select a sample of students, apply the new teaching method, and then use inferential statistics to determine whether any observed improvement in the sample is likely to generalize to the entire student population."
      ],
      "metadata": {
        "id": "eqqVt9aI60X1"
      }
    },
    {
      "cell_type": "markdown",
      "source": [
        "**Key Difference:**\n",
        "\n",
        "* Descriptive statistics describe and summarize data within a sample.\n",
        "\n",
        "* Inferential statistics make predictions or inferences about a population based on a sample.\n",
        "\n",
        "**Example Analogy:**\n",
        "\n",
        "* Descriptive: Taking a snapshot of a specific moment (sample) and describing what is seen in that snapshot.\n",
        "\n",
        "* Inferential: Using the information from the snapshot to make predictions about the entire movie (population)."
      ],
      "metadata": {
        "id": "t9t-xH4P63_U"
      }
    },
    {
      "cell_type": "markdown",
      "source": [
        "##  **Q10. What are some common measures of central tendency and variability used in statistics? Explain how each measure can be used to describe a dataset.**"
      ],
      "metadata": {
        "id": "JseWH58jl7fb"
      }
    },
    {
      "cell_type": "markdown",
      "source": [
        "**Measures of Central Tendency:**\n",
        "\n",
        "Measures of central tendency summarize the center or average of a dataset, providing a representative value. Common measures include:\n",
        "\n",
        "**1. Mean:**\n",
        "\n",
        "* Definition: The mean is the arithmetic average of a set of values.\n",
        "* Calculation: Sum of all values divided by the number of values.\n",
        "* Use: It represents the central value and is sensitive to extreme values.\n",
        "\n",
        "**2. Median:**\n",
        "\n",
        "* Definition: The median is the middle value in a sorted dataset.\n",
        "* Calculation: Arrange data in ascending order and find the middle value.\n",
        "* Use: It is robust to extreme values and provides the middle point of the distribution.\n",
        "\n",
        "**3. Mode:**\n",
        "\n",
        "* Definition: The mode is the most frequently occurring value.\n",
        "* Calculation: Identify the value(s) with the highest frequency.\n",
        "* Use: It indicates the most common value(s) in the dataset.\n",
        "\n"
      ],
      "metadata": {
        "id": "xkDLF0nP7Jcj"
      }
    },
    {
      "cell_type": "markdown",
      "source": [
        "**Measures of Variability:**\n",
        "\n",
        "Measures of variability describe the spread or dispersion of values in a dataset:\n",
        "\n",
        "**1. Range:**\n",
        "\n",
        "* Definition: The range is the difference between the maximum and minimum values.\n",
        "* Calculation: Max value - Min value.\n",
        "* Use: It gives a quick sense of the overall spread.\n",
        "\n",
        "**2. Variance:**\n",
        "\n",
        "* Definition: Variance measures how much each data point deviates from the mean.\n",
        "* Calculation: Average of squared differences from the mean.\n",
        "* Use: Provides a measure of the overall variability in the dataset.\n",
        "\n",
        "**3. Standard Deviation:**\n",
        "\n",
        "* Definition: Standard deviation is the square root of the variance.\n",
        "* Calculation: Square root of the variance.\n",
        "* Use: It quantifies the amount of variation or dispersion in a set of values.\n",
        "\n",
        "**4. Interquartile Range (IQR):**\n",
        "\n",
        "* Definition: IQR is the range of the middle 50% of values in a dataset.\n",
        "* Calculation: Q3 - Q1 (third quartile minus first quartile).\n",
        "* Use: It is robust to extreme values and provides a measure of variability."
      ],
      "metadata": {
        "id": "cVFpLT3K7qZj"
      }
    },
    {
      "cell_type": "markdown",
      "source": [
        "**How They Describe a Dataset:**\n",
        "\n",
        "**1. Central Tendency Measures:**\n",
        "\n",
        "* Mean: Describes the average value around which data points cluster.\n",
        "* Median: Describes the middle point, unaffected by extreme values.\n",
        "* Mode: Describes the most common values in the dataset.\n",
        "\n",
        "**2. Variability Measures:**\n",
        "\n",
        "* Range: Describes the overall spread by considering the difference between the extreme values.\n",
        "* Variance/Standard Deviation: Quantify how much individual values deviate from the mean.\n",
        "* Interquartile Range: Describes the spread within the middle 50% of values, ignoring extreme values.\n",
        "\n",
        "*By using these measures together, analysts gain a comprehensive understanding of both the central tendency and variability in a dataset, providing a more nuanced picture of the distribution of values.*"
      ],
      "metadata": {
        "id": "r8IDNYAD7_iN"
      }
    }
  ]
}