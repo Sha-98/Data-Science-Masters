{
  "nbformat": 4,
  "nbformat_minor": 0,
  "metadata": {
    "colab": {
      "provenance": [],
      "include_colab_link": true
    },
    "kernelspec": {
      "name": "python3",
      "display_name": "Python 3"
    },
    "language_info": {
      "name": "python"
    }
  },
  "cells": [
    {
      "cell_type": "markdown",
      "metadata": {
        "id": "view-in-github",
        "colab_type": "text"
      },
      "source": [
        "<a href=\"https://colab.research.google.com/github/Sha-98/Data-Science-Masters/blob/main/Python_Assignment_21Sept.ipynb\" target=\"_parent\"><img src=\"https://colab.research.google.com/assets/colab-badge.svg\" alt=\"Open In Colab\"/></a>"
      ]
    },
    {
      "cell_type": "markdown",
      "source": [
        "# Python Assignment"
      ],
      "metadata": {
        "id": "bJis2SSPKJ6p"
      }
    },
    {
      "cell_type": "markdown",
      "source": [
        "Q1. You are writing code for a company. The requirement of the company is that you create a python\n",
        "function that will check whether the password entered by the user is correct or not. The function should\n",
        "take the password as input and return the string “Valid Password” if the entered password follows the\n",
        "below-given password guidelines else it should return “Invalid Password”.\n",
        "\n",
        "Note:\n",
        "1. The Password should contain at least two uppercase letters and at least two lowercase letters.\n",
        "2. The Password should contain at least a number and three special characters.\n",
        "3. The length of the password should be 10 characters long."
      ],
      "metadata": {
        "id": "iXRTmzYNvN5Z"
      }
    },
    {
      "cell_type": "code",
      "source": [
        "# password accepting\n",
        "\n",
        "# taking the input for password\n",
        "pswrd = str(input(\"Please Enter Your Password Here: \"))\n",
        "\n",
        "# count for uppercase char >= 2\n",
        "# count for lowercase char >= 2\n",
        "# count for int >= 1\n",
        "# count for special char >= 3\n",
        "# password length == 10\n",
        "\n",
        "def check_pass(password):\n",
        "\n",
        "  if len(password) != 10:\n",
        "    return \"Invalid Password! - Password Must be 10 Char long.\"\n",
        "\n",
        "  # counting the number of upper and lower case letters\n",
        "  upper_sum = sum(1 for i in password if i.isupper())\n",
        "  lower_sum = sum(1 for i in password if i.islower())\n",
        "  digit_sum = sum(1 for i in password if i.isdigit())\n",
        "  special_char_sum = sum(1 for i in password if i in '!@#$%^&*+=')\n",
        "\n",
        "  if upper_sum < 2:\n",
        "    return \"Invalid Password! - Password Must Contain Atleast 2 Uppercase Char\"\n",
        "\n",
        "  if lower_sum < 2:\n",
        "    return \"Invalid Password! - Password Must Contain Atleast 2 Lowercase Char\"\n",
        "\n",
        "  if digit_sum < 1:\n",
        "    return \"Invalid Password! - Password Must Contain Atleast 1 Number\"\n",
        "\n",
        "  if special_char_sum < 3:\n",
        "    return \"Invalid Password! - Password Must Contain Atleast 3 Special Char\"\n",
        "\n",
        "  return \"Valid Password\"\n",
        "\n",
        "# checked for 'Ab1@Cdefgh'\n",
        "check_pass(pswrd)\n"
      ],
      "metadata": {
        "colab": {
          "base_uri": "https://localhost:8080/",
          "height": 53
        },
        "id": "1Voxbc3LvkrL",
        "outputId": "3ce7f928-5bc2-466a-82de-eeb07a193fed"
      },
      "execution_count": 2,
      "outputs": [
        {
          "name": "stdout",
          "output_type": "stream",
          "text": [
            "Please Enter Your Password Here: Ab1@Cdefgh\n"
          ]
        },
        {
          "output_type": "execute_result",
          "data": {
            "text/plain": [
              "'Invalid Password! - Password Must Contain Atleast 3 Special Char'"
            ],
            "application/vnd.google.colaboratory.intrinsic+json": {
              "type": "string"
            }
          },
          "metadata": {},
          "execution_count": 2
        }
      ]
    },
    {
      "cell_type": "code",
      "source": [
        "# taking the input for password\n",
        "pswrd = str(input(\"Please Enter Your Password Here: \"))\n",
        "\n",
        "# check for '@abCj45*N&'\n",
        "check_pass(pswrd)"
      ],
      "metadata": {
        "colab": {
          "base_uri": "https://localhost:8080/",
          "height": 53
        },
        "id": "-qBjGp0n99Io",
        "outputId": "bb2342f0-cb03-4e3d-f444-610c961c8e1b"
      },
      "execution_count": 4,
      "outputs": [
        {
          "name": "stdout",
          "output_type": "stream",
          "text": [
            "Please Enter Your Password Here: @abCj45*N&\n"
          ]
        },
        {
          "output_type": "execute_result",
          "data": {
            "text/plain": [
              "'Valid Password'"
            ],
            "application/vnd.google.colaboratory.intrinsic+json": {
              "type": "string"
            }
          },
          "metadata": {},
          "execution_count": 4
        }
      ]
    },
    {
      "cell_type": "markdown",
      "source": [
        "Q2. Solve the below-given questions using at least one of the following:\n",
        "1. Lambda functioJ\n",
        "2. Filter functioJ\n",
        "3. Zap functioJ\n",
        "4. List Comprehension\n",
        "\n",
        "* Check if the string starts with a particular letter.\n",
        "* Check if the string is numeric.\n",
        "* Sort a list of tuples having fruit names and their quantity.\n",
        "[(\"mango\",99),(\"orange\",80), (\"grapes\", 1000)]\n",
        "\n",
        "* Find the squares of numbers from 1 to 10.\n",
        "* Find the cube root of numbers from 1 to 10.\n",
        "* Check if a given number is even.\n",
        "* Filter odd numbers from the given list.\n",
        "[1,2,3,4,5,6,7,8,9,10]\n",
        "\n",
        "* Sort a list of integers into positive and negative integers lists.\n",
        "[1,2,3,4,5,6,-1,-2,-3,-4,-5,0]"
      ],
      "metadata": {
        "id": "VkGzzLUjvOVb"
      }
    },
    {
      "cell_type": "code",
      "source": [
        "# Check if the string starts with a particular letter\n",
        "\n",
        "str1 = ['Abiubb', 'Fkjndiuhn', 'abfskaj', 'Asaygbjs']\n",
        "letter = \"A\"\n",
        "\n",
        "string_ini = lambda text, letter: text.startswith(letter)\n",
        "\n",
        "result = [string_ini(string, letter) for string in str1]\n",
        "\n",
        "print(result)\n",
        "\n"
      ],
      "metadata": {
        "colab": {
          "base_uri": "https://localhost:8080/"
        },
        "id": "80ivLTJIvlax",
        "outputId": "2e849f48-4702-4b79-ba75-d9f30b97ee5b"
      },
      "execution_count": 23,
      "outputs": [
        {
          "output_type": "stream",
          "name": "stdout",
          "text": [
            "[True, False, False, True]\n"
          ]
        }
      ]
    },
    {
      "cell_type": "code",
      "source": [
        "# Check if the string is numeric.\n",
        "\n",
        "str2 = ['12623198/', 'ajshfbi', '15735', 'ddts23546']\n",
        "\n",
        "str_isnumeric = lambda string : string.isnumeric()\n",
        "\n",
        "result = [str_isnumeric(string) for string in str2]\n",
        "\n",
        "print(result)"
      ],
      "metadata": {
        "colab": {
          "base_uri": "https://localhost:8080/"
        },
        "id": "ebo9Ir5q-bNu",
        "outputId": "93ed52dd-cb0f-4034-da41-0f8ed31ad1c6"
      },
      "execution_count": 24,
      "outputs": [
        {
          "output_type": "stream",
          "name": "stdout",
          "text": [
            "[False, False, True, False]\n"
          ]
        }
      ]
    },
    {
      "cell_type": "code",
      "source": [
        "# Sort a list of tuples having fruit names and their quantity.\n",
        "\n",
        "str3 = [(\"mango\",99),(\"orange\",80), (\"grapes\", 1000)]\n",
        "\n",
        "filter_str = list(filter(lambda x : x[1] > 90, str3))\n",
        "\n",
        "print(filter_str)"
      ],
      "metadata": {
        "colab": {
          "base_uri": "https://localhost:8080/"
        },
        "id": "U2HXOOc_IYgl",
        "outputId": "f627de43-e2d3-4b8e-8525-ca2733db04ac"
      },
      "execution_count": 31,
      "outputs": [
        {
          "output_type": "stream",
          "name": "stdout",
          "text": [
            "[('mango', 99), ('grapes', 1000)]\n"
          ]
        }
      ]
    },
    {
      "cell_type": "code",
      "source": [
        "# Find the squares of numbers from 1 to 10.\n",
        "\n",
        "square = list(map(lambda x : x**2, range(1,11)))\n",
        "print(list(square))"
      ],
      "metadata": {
        "colab": {
          "base_uri": "https://localhost:8080/"
        },
        "id": "w-eoNPr6IYoE",
        "outputId": "154f6361-22eb-4069-ca4d-4b1ca3abcc7d"
      },
      "execution_count": 38,
      "outputs": [
        {
          "output_type": "stream",
          "name": "stdout",
          "text": [
            "[1, 4, 9, 16, 25, 36, 49, 64, 81, 100]\n"
          ]
        }
      ]
    },
    {
      "cell_type": "code",
      "source": [
        "# Find the cube of numbers from 1 to 10.\n",
        "\n",
        "cube = list(map(lambda x : x**3, range(1,11)))\n",
        "print(list(cube))"
      ],
      "metadata": {
        "colab": {
          "base_uri": "https://localhost:8080/"
        },
        "id": "edzYqXZ-IYtr",
        "outputId": "7e226236-1175-4ee6-fcaa-21bb445701d2"
      },
      "execution_count": 39,
      "outputs": [
        {
          "output_type": "stream",
          "name": "stdout",
          "text": [
            "[1, 8, 27, 64, 125, 216, 343, 512, 729, 1000]\n"
          ]
        }
      ]
    },
    {
      "cell_type": "code",
      "source": [
        "# Check if a given number is even.\n",
        "num = int(input(\"Please add the number here: \"))\n",
        "\n",
        "is_even = lambda x : x%2 == 0\n",
        "\n",
        "is_even(num)"
      ],
      "metadata": {
        "colab": {
          "base_uri": "https://localhost:8080/"
        },
        "id": "09cdicibIYxy",
        "outputId": "f64def10-8e29-481b-e3a2-dedafa8e2e1e"
      },
      "execution_count": 42,
      "outputs": [
        {
          "name": "stdout",
          "output_type": "stream",
          "text": [
            "Please add the number here: 23\n"
          ]
        },
        {
          "output_type": "execute_result",
          "data": {
            "text/plain": [
              "False"
            ]
          },
          "metadata": {},
          "execution_count": 42
        }
      ]
    },
    {
      "cell_type": "code",
      "source": [
        "# Filter odd numbers from the given list. [1,2,3,4,5,6,7,8,9,10]\n",
        "\n",
        "l1 = [1,2,3,4,5,6,7,8,9,10]\n",
        "\n",
        "filter_list = list(filter(lambda x : x%2 != 0, l1))\n",
        "\n",
        "print(filter_list)"
      ],
      "metadata": {
        "colab": {
          "base_uri": "https://localhost:8080/"
        },
        "id": "jglI4fNnIY16",
        "outputId": "5cb9a43e-a5d5-4f92-f57d-389e2f2918cc"
      },
      "execution_count": 45,
      "outputs": [
        {
          "output_type": "stream",
          "name": "stdout",
          "text": [
            "[1, 3, 5, 7, 9]\n"
          ]
        }
      ]
    },
    {
      "cell_type": "code",
      "source": [
        "# Sort a list of integers into positive and negative integers lists. [1,2,3,4,5,6,-1,-2,-3,-4,-5,0]\n",
        "\n",
        "l2 = [1,2,3,4,5,6,-1,-2,-3,-4,-5,0]\n",
        "\n",
        "pos_filter_list = list(filter(lambda x : x > 0, l2))\n",
        "\n",
        "neg_filter_list = list(filter(lambda x : x < 0, l2))\n",
        "\n",
        "print(pos_filter_list)\n",
        "print(neg_filter_list)"
      ],
      "metadata": {
        "colab": {
          "base_uri": "https://localhost:8080/"
        },
        "id": "o3QXHRwsLA7_",
        "outputId": "34f781f0-05ac-48ab-87c0-8631e8c9411c"
      },
      "execution_count": 46,
      "outputs": [
        {
          "output_type": "stream",
          "name": "stdout",
          "text": [
            "[1, 2, 3, 4, 5, 6]\n",
            "[-1, -2, -3, -4, -5]\n"
          ]
        }
      ]
    }
  ]
}