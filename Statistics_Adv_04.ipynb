{
  "nbformat": 4,
  "nbformat_minor": 0,
  "metadata": {
    "colab": {
      "provenance": [],
      "authorship_tag": "ABX9TyNU9gGKz/7ATCIGby94nNGB",
      "include_colab_link": true
    },
    "kernelspec": {
      "name": "python3",
      "display_name": "Python 3"
    },
    "language_info": {
      "name": "python"
    }
  },
  "cells": [
    {
      "cell_type": "markdown",
      "metadata": {
        "id": "view-in-github",
        "colab_type": "text"
      },
      "source": [
        "<a href=\"https://colab.research.google.com/github/Sha-98/Data-Science-Masters/blob/main/Statistics_Adv_04.ipynb\" target=\"_parent\"><img src=\"https://colab.research.google.com/assets/colab-badge.svg\" alt=\"Open In Colab\"/></a>"
      ]
    },
    {
      "cell_type": "markdown",
      "source": [
        "# **Statistics Advance 04 - Assignment**"
      ],
      "metadata": {
        "id": "VJl8Re9mmM3o"
      }
    },
    {
      "cell_type": "markdown",
      "source": [
        "## **Q1: What is the difference between a t-test and a z-test? Provide an example scenario where you would use each type of test.**\n"
      ],
      "metadata": {
        "id": "vPmox0VOSENV"
      }
    },
    {
      "cell_type": "markdown",
      "source": [
        "A **t-test** and a **z-test** both statistical hypothesis tests used to compare means, but they differ in their assumptions and applications.\n",
        "\n",
        "A **z-test** is used when the **population standard deviation is known or can be assumed to be known**. In this case, the statistic follows a **standard normal distribution (z-distribution)** with a mean of 0 and a standard deviation of 1. Z-tests are typically used when the **sample size is large** (usually n > 30), as the Central Limit Theorem states that the distribution of sample means approaches a normal distribution as the sample size increases, regardless of the shape of the population distribution.\n",
        "\n",
        "On the other hand, a **t-test** is used when the **population standard deviation is unknown or cannot be assumed to be known**. In this case, the test statistic follows a **t-distribution with n-1 degrees of freedom, where n is the sample size**. The t-distribution is similar to the standard normal distribution but has **heavier tails**, which accounts for the additional uncertainty due to estimating the population standard deviation from the sample. T-tests are typically used when the **sample size is small to moderate** (usually n < 30).\n",
        "\n",
        "**Example scenario for a z-test:** *Suppose a company produces ball bearings with a known standard deviation of 0.005 inches.*\n",
        "\n",
        "*A quality control engineer wants to test whether a new production process is producing ball bearings with a mean diameter of 1 inch.*\n",
        "\n",
        "*The engineer takes a random sample of 100 ball bearings and measures their diameters, obtaining a sample mean of 1.002 inches. The engineer can use a z-test to test the hypothesis that the new process is producing ball bearings with a mean diameter of 1 inch.*\n",
        "\n",
        "**Example scenario for a t-test:** *Suppose a researcher wants to compare the mean anxiety levels of two groups of students: those who meditate regularly and those who do not.*\n",
        "\n",
        "*The researcher takes a random sample of 20 meditating students and 20 non-meditating students and measures their anxiety levels using a standardized anxiety questionnaire. The sample means and standard deviations are:*\n",
        "\n",
        "- ***Meditating students: x̄ = 35, s = 8***\n",
        "- ***Non-meditating students: x̄ = 42, s = 10***\n",
        "\n",
        "*Since the population standard deviations are unknown, the researcher can use a two-sample t-test to test the hypothesis that there is a difference in mean anxiety levels between the two groups.*\n"
      ],
      "metadata": {
        "id": "FqTB1jPAUwlk"
      }
    },
    {
      "cell_type": "markdown",
      "source": [
        "## **Q2: Differentiate between one-tailed and two-tailed tests.**\n"
      ],
      "metadata": {
        "id": "yyB4iEE-STfJ"
      }
    },
    {
      "cell_type": "markdown",
      "source": [
        "In hypothesis testing, **one-tailed** and **two-tailed** refer to the alternative hypothesis being tested and the corresponding rejection region of the test statistic.\n",
        "\n",
        "**A one-tailed test** used when the alternative hypothesis specifies a direction of the effect. In a one-tailed test the **entire rejection region is located on one side of the sampling distribution**, either the left or the right tail. This means that the null hypothesis is rejected only if the test statistic falls in the specified tail of the distribution.\n",
        "\n",
        "**A two-tailed test** is used when the alternative hypothesis does not specify a direction of the effect. In a two-tailed test, **the rejection region is split equally between the two tails of the sampling distribution**. This means that the null hypothesis is rejected if the test statistic falls in either of the two tails of the distribution.\n",
        "\n",
        "The choice between a one-tailed and a two-tailed test depends on the research question and the alternative hypothesis being tested.\n",
        "\n",
        "Here are some key differences between one-tailed and two-tailed tests:\n",
        "\n",
        "**1. Rejection region:** In a one-tailed test, the rejection region is located in one tail of the sampling distribution, while in a two-tailed test, the rejection region is split equally between the two tails.\n",
        "\n",
        "**2. Power:** A one-tailed test has more power than a two-tailed test for the same level of significance, as the rejection region is larger in a one-tailed test.\n",
        "\n",
        "**3. Directional vs. non-directional:** A one-tailed test is used when the alternative hypothesis specifies a direction of the effect, while a two-tailed test is used when the alternative hypothesis does not specify a direction.\n",
        "\n",
        "**4. Type I error:** The level of significance (alpha) is split equally between the two tails in a two-tailed test, while in a one-tailed test, the entire level of significance is allocated to one tail. This means that the probability of a Type I error (rejecting the null hypothesis when it is true) is higher in a one-tailed test than in a two-tailed test for the same level of significance.\n",
        "\n",
        "Here are some examples to illustrate the difference between one-tailed and two-tailed tests:\n",
        "\n",
        "**Example 1: Research question: Does a new drug reduce blood pressure?**\n",
        "\n",
        "- **Null hypothesis:** The new drug has no effect on blood pressure.\n",
        "- **Alternative hypothesis:** The new drug reduces blood pressure.\n",
        "\n",
        "*In this case, a **one-tailed test** is appropriate, as the alternative hypothesis specifies a direction of the effect. The **rejection region is located in the left tail** of the sampling distribution, indicating that the null hypothesis is rejected if the test statistic is significantly lower than expected.*\n",
        "\n",
        "**Example 2: Research question: Is there a difference in mean anxiety levels between meditating and non-meditating students?**\n",
        "\n",
        "- **Null hypothesis:** There is no difference in mean anxiety levels between meditating and non-meditating students.\n",
        "\n",
        "- **Alternative hypothesis:** There is a difference in mean anxiety levels between meditating and non-meditating students.\n",
        "\n",
        "*In this case, a **two-tailed test** is appropriate, as the alternative hypothesis does not specify a direction of the effect. The **rejection region is split equally between the two tails of the sampling distribution**, indicating that the null hypothesis is rejected if the test statistic is significantly different from expected.*\n",
        "\n",
        "***In summary, the choice between a one-tailed and a two-tailed test depends on the research question and the alternative hypothesis being tested. A one-tailed test is used when the alternative hypothesis specifies a direction of the effect, while a two-tailed test is used when the alternative hypothesis does not specify a direction. The rejection region is located in one tail in a one-tailed test and split equally between the two tails in a two-tailed test.***"
      ],
      "metadata": {
        "id": "qgAsPtmeWHj7"
      }
    },
    {
      "cell_type": "markdown",
      "source": [
        "## **Q3: Explain the concept of Type 1 and Type 2 errors in hypothesis testing. Provide an example scenario for each type of error.**\n"
      ],
      "metadata": {
        "id": "0qEgS4YqSZzb"
      }
    },
    {
      "cell_type": "markdown",
      "source": [
        "In hypothesis testing, there are two types of that can occur: **Type I error** and **Type II error**\n",
        "\n",
        "**A Type I error** occurs the **null hypothesis is rejected when it is actually true**. This is also known as a **false positive**. The probability of making a Type I error denoted by alpha (α) and is set by the researcher before conducting the test. **The level of significance is the maximum acceptable probability of making a Type I error.**\n",
        "\n",
        "**A Type II error** occurs when the **null hypothesis is not rejected when it is actually false**. This is also known as a **false negative**. **The probability of making a Type II error is denoted by beta (β) and the power of the test is defined as 1 - β.**\n",
        "\n",
        "Here are some example scenarios for each type of error:\n",
        "\n",
        "**Example of a Type I error: Research question:** Does a new drug reduce blood pressure?\n",
        "\n",
        "- **Null hypothesis:** The new drug has no effect on blood pressure.\n",
        "- **Alternative hypothesis:** The new drug reduces blood pressure.\n",
        "\n",
        "*Suppose the researcher sets the level of significance at 0.05 and conducts a one-tailed test. If the test statistic falls in the rejection region, the null hypothesis is rejected and the researcher concludes that the new drug reduces blood pressure. However, if the null hypothesis is actually true and the new drug has no effect on blood pressure, then the researcher has made a Type I error.*\n",
        "\n",
        "**Example of a Type II error: Research question:** Does a new teaching method improve student performance?\n",
        "\n",
        "- **Null hypothesis:** The new teaching method has no effect on student performance.\n",
        "- **Alternative hypothesis:** The new teaching method improves student performance.\n",
        "\n",
        "*Suppose the researcher sets the level of significance at 0.05 and conducts a two-tailed test. If the test statistic does not fall in the rejection region, the null hypothesis is not rejected and the researcher concludes that the new teaching method has no effect on student performance. However, if the null hypothesis is actually false and the new teaching method does improve student performance, then the researcher has made a Type II error.*\n",
        "\n",
        "It is important to note that the **probability of making a Type I error** and **the probability of making a Type II error** are **inversely related**.\n",
        "\n",
        "*As the level of significance (α) is decreased, the probability of making a Type II error (β) increases, and as the level of significance (α) is increased, the probability of making a Type II error (β) decreases.*\n",
        "\n",
        "***In summary, Type I and Type II errors are two types of errors that can occur in hypothesis testing. A Type I error occurs when the null hypothesis is rejected when it is actually true, while a Type II error occurs when the null hypothesis is not rejected when it is actually false. The level of significance (α) and the power of the test (1 - β) are used to control the probability of making these errors.***"
      ],
      "metadata": {
        "id": "nu7G4dtwZnB7"
      }
    },
    {
      "cell_type": "markdown",
      "source": [
        "## **Q4: Explain Bayes's theorem with an example.**\n"
      ],
      "metadata": {
        "id": "kJpFLUz4TitZ"
      }
    },
    {
      "cell_type": "markdown",
      "source": [
        "**Bayes' theorem**, named after the English mathematician and cleric **Thomas Bayes**, is a mathematical formula used to **update the probabilities of a given hypothesis based on the results of new evidence**. It is a fundamental concept in statistics and probability theory.\n",
        "\n",
        "Bayes' theorem states that **the probability of a hypothesis, given the results of an experiment, is proportional to the probability of the experiment, given the hypothesis.** This relationship can be written as:\n",
        "\n",
        "***P(H|E) = (P(E|H) * P(H)) / P(E)***\n",
        "\n",
        "Here,\n",
        "\n",
        "\n",
        "- **P(H|E)** represents the probability of the hypothesis (H) given the results of the experiment (E).\n",
        "- **P(E|H)** is the probability of the experiment (E) given the hypothesis (H).\n",
        "- **P(H)** and **P(E)** are the probabilities of the hypothesis (H) and the experiment (E), respectively.\n",
        "\n",
        "Here is an example scenario that demonstrates the use of Bayes' theorem:\n",
        "\n",
        "*Assume there is a bag with a mixture of red and white balls. We don't know the exact proportion of red balls to white balls. We want to know the probability of drawing a red ball, given that we have already drawn 2 red balls and 3 white balls.*\n",
        "\n",
        "We can denote the following:\n",
        "\n",
        "- H: The proportion of red balls is p\n",
        "- E: The number of red balls drawn in 5 trials is 2\n",
        "\n",
        "Using Bayes' theorem, we can update the probability of the hypothesis (H) given the results of the experiment (E):\n",
        "\n",
        "***P(H|E) = (P(E|H) * P(H)) / P(E)***\n",
        "\n",
        "Here, **P(E|H)** can be calculated using the **hypergeometric distribution formula**:\n",
        "\n",
        "**P(E|H) = C(2,2) * C(12,3) / C(15,5)**\n",
        "\n",
        "Where\n",
        "- C(a,b) represents the number of combinations of choosing 'a' objects from 'b' total objects.\n",
        "\n",
        "We also need to calculate **P(H)**, which is the prior probability of the hypothesis:\n",
        "\n",
        "- P(H) = 0.5 (since we don't know the exact proportion of red balls to white balls)\n",
        "\n",
        "- P(E) can be calculated as the sum of the probabilities of the other combinations:\n",
        "\n",
        "***P(E) = Σ P(E|H) * P(H)***\n",
        "\n",
        "After calculating these probabilities, we can substitute them into the Bayes' theorem formula to find the updated probability of the hypothesis (H) given the results of the experiment (E).\n",
        "\n",
        "***In this example, the updated probability of the hypothesis (H) given the results of the experiment (E) is 0.66, which means that the probability of drawing a red ball is 66% given that we have already drawn 2 red balls and 3 white balls.***\n",
        "\n",
        "***This updated probability is higher than the prior probability of 0.5, which shows that the new evidence supports the hypothesis that the proportion of red balls is higher than the proportion of white balls.***"
      ],
      "metadata": {
        "id": "CCM-dz1Qd0RT"
      }
    },
    {
      "cell_type": "markdown",
      "source": [
        "## **Q5: What is a confidence interval? How to calculate the confidence interval, explain with an example.**\n"
      ],
      "metadata": {
        "id": "3qvtlcH9Tn2U"
      }
    },
    {
      "cell_type": "markdown",
      "source": [
        "A **confidence interval** is a **range of values that is likely to include a population value with a certain degree of confidence**. It is often expressed as a percentage, such as a 95% confidence interval, which means that there is a 95% chance that the true mean of the population falls within the upper and lower bounds of the interval.\n",
        "\n",
        "For example, let's say **a researcher wants to estimate the average height of all 16-year-olds in a population**.\n",
        "\n",
        "They take a **random sample of 100** 16-year-olds and find that the **average height is 5'6\"** with a **standard deviation of 2 inches**. They can then calculate a **95% confidence interval** for the population mean height.\n",
        "\n",
        "To do this, they would first **calculate the standard error**, which is the **standard deviation divided by the square root of the sample size**.\n",
        "\n",
        "In this case, the standard error would be **2/√100 = 0.2 inches**.\n",
        "\n",
        "Next, they would multiply the standard error by the z-score for the desired confidence level. For a **95% confidence interval**, the **z-score is 1.96**. So, the upper and lower bounds of the confidence interval would be:\n",
        "\n",
        "- **Lower value:** 5.62 - 1.96 x 0.2 = 5.33\n",
        "- **Upper value:** 5.62 + 1.96 x 0.2 = 5.91\n",
        "\n",
        "Therefore, the researcher can be 95% confident that the **true mean height of all 16-year-olds** in the population **falls between 5.33 and 5.91 inches**.\n",
        "\n",
        "***It's important to note that the confidence interval is not a guarantee that the true population mean falls within the interval. It's simply a range of values that is likely to include the true mean with a certain degree of confidence. The narrower the confidence interval, the more precise the estimate of the population mean.***"
      ],
      "metadata": {
        "id": "lz8tLDPenbSk"
      }
    },
    {
      "cell_type": "markdown",
      "source": [
        "## **Q6. Use Bayes' Theorem to calculate the probability of an event occurring given prior knowledge of the event's probability and new evidence. Provide a sample problem and solution.**\n"
      ],
      "metadata": {
        "id": "roSE6JjFTs_k"
      }
    },
    {
      "cell_type": "markdown",
      "source": [
        "***Problem: A medical test has a 95% accuracy rate, meaning that it correctly identifies people who have a disease 95% of the time and correctly identifies people who do not have the disease 95% of the time. Currently, 1% of the population has the disease. A person takes the test and receives a positive result. What is the probability that the person actually has the disease, and what is the 95% confidence interval for this probability?***\n",
        "\n",
        "**Solution:** Let's use Bayes' Theorem to calculate the probability that the person has the disease given the positive test result. We'll define the following events:\n",
        "\n",
        "- **A:** The person has the disease\n",
        "- **B:** The test result is positive\n",
        "\n",
        "We are given the following probabilities:\n",
        "\n",
        "- **P(A):** The prior probability that a **person has the disease**, which is 1% or 0.01\n",
        "- **P(B|A):** The probability that the **test is positive given that the person has the disease**, which is 95% or 0.95\n",
        "- **P(B|¬A):** The probability that the **test is positive given that the person does not have the disease**, which is 5% or 0.05 (since the test has a 95% accuracy rate)\n",
        "\n",
        "We want to **find P(A|B)**, the probability that the **person has the disease given the positive test result**. Using Bayes' Theorem, we can calculate this as:\n",
        "\n",
        "***P(A|B) = P(B|A) * P(A) / P(B)***\n",
        "\n",
        "We can calculate P(B) using the law of total probability:\n",
        "\n",
        "**P(B) = P(B|A) * P(A) + P(B|¬A) * P(¬A)**\n",
        "\n",
        "Substituting the given probabilities, we get:\n",
        "\n",
        "**P(B)** = 0.95 * 0.01 + 0.05 * 0.99 = **0.0545**\n",
        "\n",
        "Substituting this and the other given probabilities into Bayes' Theorem, we get:\n",
        "\n",
        "**P(A|B)** = 0.95 * 0.01 / 0.0545 **= 0.1743**\n",
        "\n",
        "***So the probability that the person has the disease given the positive test result is 0.1743, or 17.43%.***"
      ],
      "metadata": {
        "id": "7t95nJmSo6wY"
      }
    },
    {
      "cell_type": "markdown",
      "source": [
        "## **Q7. Calculate the 95% confidence interval for a sample of data with a mean of 50 and a standard deviation of 5. Interpret the results.**\n"
      ],
      "metadata": {
        "id": "IOVBXwkrTyVj"
      }
    },
    {
      "cell_type": "markdown",
      "source": [
        "**95% confidence intervals provide a range of values within which the true population mean likely falls.** They are used to make predictions about future data based on the observed data.\n",
        "\n",
        "To calculate the 95% confidence interval for a sample of data with a mean of 50 and a standard deviation of 5, we can use the following formula:\n",
        "\n",
        "**Confidence Interval = Mean ± (Z - Score) * (Standard Deviation / Square Root of Sample Size)**\n",
        "\n",
        "Where:\n",
        "\n",
        "- Z - Score: This is a value calculated from the standard normal distribution. For a 95% confidence interval, the Z * Score is 1.96.\n",
        "- Standard Deviation: This is the standard deviation of the sample data, which is 5 in this case.\n",
        "- Sample Size: This is the number of data points in the sample, which is not provided in the question. For this example, let's assume the sample size is 25.\n",
        "\n",
        "Substituting the values, we get:\n",
        "\n",
        "**Confidence Interval = 50 ± (1.96 * 5) / √25**\n",
        "\n",
        "Calculating this gives us a **95% confidence interval of (45.53, 54.47)** for the population mean.\n",
        "\n",
        "***Interpretation: We can be 95% confident that the true population mean falls within the range of (45.53, 54.47).***\n",
        "\n",
        "***In other words, there is a 95% chance that the population mean is between 45.53 and 54.47. This interval represents our best prediction of the population mean based on the observed sample data.***"
      ],
      "metadata": {
        "id": "U4RdHrBMqQTA"
      }
    },
    {
      "cell_type": "markdown",
      "source": [
        "## **Q8. What is the margin of error in a confidence interval? How does sample size affect the margin of error? Provide an example of a scenario where a larger sample size would result in a smaller margin of error.**\n"
      ],
      "metadata": {
        "id": "ENUuaenbT209"
      }
    },
    {
      "cell_type": "markdown",
      "source": [
        "The **margin of error** is the **radius of a confidence interval**, which is **half the width of the interval**.\n",
        "\n",
        "It is used to **indicate the amount of uncertainty associated with a sample statistic as an estimate of a population parameter**. In the context of a confidence interval, the margin of error is calculated as the **critical value (e.g. 1.96 for a 95% confidence interval) multiplied by the standard error of the estimate**. The standard error is a measure of the variability of the estimate due to sampling error.\n",
        "\n",
        "The margin of error is used to construct a range of values that is likely to contain the true population parameter with a certain level of confidence. For example, a 95% confidence interval for a mean might be calculated as the sample mean plus or minus the margin of error, which would indicate that there is a 95% chance that the true population mean falls within this range.\n",
        "\n",
        "The **sample size affects the margin of error because as the sample size increases, the sample becomes a closer representative of the population**. This means that the sample statistic, such as the **sample mean or sample proportion, is more likely to be close to the true population value**.\n",
        "\n",
        "Therefore, the **margin of error**, which is the range of values on both sides of the sample statistic where the true population value is likely to fall, will be **smaller with a larger sample size**. This is because there is **less uncertainty** around the sample statistic when it is based on a larger sample.\n",
        "\n",
        "In the example provided, as the **sample size increases from 25 to 400**, the **margin of error decreases** because there is more confidence in the sample statistic as a result of the larger sample size. This is true for any type of sample statistic, including the sample mean and sample proportion.\n",
        "\n",
        "*As another example, suppose you want to estimate the proportion of adults in a city who have received the COVID-19 vaccine. If you survey a sample of **500 adults** and find that **70% have been vaccinated**, the margin of error for a **95% confidence level** would be approximately **4.4%**.*\n",
        "\n",
        "*However, if you survey a larger sample of **2,000 adults** and find that **70% have been vaccinated**, the margin of error for a **95% confidence leve** would be approximately **2.2%**. This means you can be more confident that the true proportion of vaccinated adults in the city is close to 70% when you have a larger sample size.*\n",
        "\n",
        "***It's important to note that there is a limit to how much the margin of error can be reduced by increasing the sample size. This is because there is always some level of sampling error, which is the difference between the sample statistic and the true population value. Additionally, there may be other sources of error, such as measurement error or non-response bias, that cannot be addressed by increasing the sample size.***"
      ],
      "metadata": {
        "id": "AQ1-e0QBrjjr"
      }
    },
    {
      "cell_type": "markdown",
      "source": [
        "## **Q9. Calculate the z-score for a data point with a value of 75, a population mean of 70, and a population standard deviation of 5. Interpret the results.**\n"
      ],
      "metadata": {
        "id": "bogJpgB3T7aG"
      }
    },
    {
      "cell_type": "markdown",
      "source": [
        "The **z-score** for a data point with value of 75, a population mean 70, and a population standard dev of 5 can be calculated using the:\n",
        "\n",
        "**z = (x - μ) / σ**\n",
        "\n",
        "where, x is the data point, μ is the mean, and σ is the standard deviation. Plugging in the given values, we get:\n",
        "\n",
        "**z = (75 - 70) / 5 z = 5 / 5 z = 1**\n",
        "\n",
        "So the z-score for this data point is 1.\n",
        "\n",
        "***A z-score of 1 means that the data point is one standard deviation above the population mean. In this case, the population mean is 70 and the standard deviation is 5, so a z-score of 1 indicates that the data point is 5 units (i.e., standard deviations) above the mean.***\n",
        "\n",
        "***This result can be used to compare this data point to other data points from different populations, as z-scores are standardized and allow for comparison across different distributions. A z-score of 1 is relatively high, indicating that this data point is quite a bit higher than the population mean.***"
      ],
      "metadata": {
        "id": "9gTAZ9Pau8LR"
      }
    },
    {
      "cell_type": "code",
      "source": [
        "import math\n",
        "\n",
        "def calculate_z_score(data_point, population_mean, population_std_dev):\n",
        "    return (data_point - population_mean) / population_std_dev\n",
        "\n",
        "data_point = 75\n",
        "population_mean = 70\n",
        "population_std_dev = 5\n",
        "\n",
        "z_score = calculate_z_score(data_point, population_mean, population_std_dev)\n",
        "print(f\"The z-score for the data point is {z_score}.\")"
      ],
      "metadata": {
        "colab": {
          "base_uri": "https://localhost:8080/"
        },
        "id": "JTI9Xpgkvgq6",
        "outputId": "0a12fb80-6079-41f4-9504-ca7a9bc0620b"
      },
      "execution_count": 22,
      "outputs": [
        {
          "output_type": "stream",
          "name": "stdout",
          "text": [
            "The z-score for the data point is 1.0.\n"
          ]
        }
      ]
    },
    {
      "cell_type": "markdown",
      "source": [
        "## **Q10. In a study of the effectiveness of a new weight loss drug, a sample of 50 participants lost an average of 6 pounds with a standard deviation of 2.5 pounds. Conduct a hypothesis test to determine if the drug is significantly effective at a 95% confidence level using a t-test.**\n"
      ],
      "metadata": {
        "id": "yILgiKoHUCyN"
      }
    },
    {
      "cell_type": "markdown",
      "source": [
        "To conduct a hypothesis test to determine if the new weight loss drug is significantly effective at a 95% confidence level using a t-test, we will first need to state our null and alternative hypotheses.\n",
        "\n",
        "- **Null Hypothesis (H0):** The drug is not effective and the population mean weight loss is equal to 0 pounds.\n",
        "\n",
        "- **Alternative Hypothesis (H1):** The drug is effective and the population mean weight loss is greater than 0 pounds.\n",
        "\n",
        "Next, we will calculate the t-score using the following formula:\n",
        "\n",
        "**t = (sample mean - population mean) / (standard error)**\n",
        "\n",
        "where,\n",
        "\n",
        "**standard error = (standard deviation) / sqrt(sample size)**\n",
        "\n",
        "In this case, the **sample mean is 6 pounds**, the **population mean is 0 pounds**, the **standard deviation is 2.5 pounds**, and the **sample size is 50**.\n",
        "\n",
        "**t** = (6 - 0) / (2.5 / sqrt(50)) t = **12.65**\n",
        "\n",
        "Now that we have calculated the t-score, we will compare it to the critical t-value for a two-tailed test with a 95% confidence level and a sample size of 50.\n",
        "\n",
        "**critical t-value = 1.96**\n",
        "\n",
        "***Since our calculated t-score (12.65) is greater than the critical t-value (1.96), we reject the null hypothesis and conclude that the drug is significantly effective at a 95% confidence level.***\n",
        "\n",
        "Here is the python code for the above calculation:"
      ],
      "metadata": {
        "id": "W9cRDZiFwFOw"
      }
    },
    {
      "cell_type": "code",
      "source": [
        "def calculate_t_score(sample_mean, population_mean, std_dev, sample_size):\n",
        "    standard_error = std_dev / math.sqrt(sample_size)\n",
        "    return (sample_mean - population_mean) / standard_error\n",
        "\n",
        "sample_mean = 6\n",
        "population_mean = 0\n",
        "std_dev = 2.5\n",
        "sample_size = 50\n",
        "\n",
        "t_score = calculate_t_score(sample_mean, population_mean, std_dev, sample_size)\n",
        "print(f\"The t-score is {t_score}.\")\n",
        "\n",
        "critical_t_value = 1.96\n",
        "\n",
        "if t_score > critical_t_value:\n",
        "    print(\"Reject the null hypothesis and conclude that the drug is significantly effective at a 95% confidence level.\")\n",
        "else:\n",
        "    print(\"Fail to reject the null hypothesis and conclude that the drug is not significantly effective at a 95% confidence level.\")"
      ],
      "metadata": {
        "colab": {
          "base_uri": "https://localhost:8080/"
        },
        "id": "FM1C5l9-wIQj",
        "outputId": "8891a536-1ea3-4482-d65f-3aa44f4ce7a2"
      },
      "execution_count": 23,
      "outputs": [
        {
          "output_type": "stream",
          "name": "stdout",
          "text": [
            "The t-score is 16.970562748477143.\n",
            "Reject the null hypothesis and conclude that the drug is significantly effective at a 95% confidence level.\n"
          ]
        }
      ]
    },
    {
      "cell_type": "markdown",
      "source": [
        "## **Q11. In a survey of 500 people, 65% reported being satisfied with their current job. Calculate the 95% confidence interval for the true proportion of people who are satisfied with their job.**\n"
      ],
      "metadata": {
        "id": "-FGARfyQUJLc"
      }
    },
    {
      "cell_type": "markdown",
      "source": [
        "To calculate the 95% confidence interval for the true proportion of people who are satisfied with their job, we will first calculate the standard error of the proportion.\n",
        "\n",
        "The formula for the standard error of the proportion is:\n",
        "\n",
        "**standard error = sqrt([p * (1 - p) / n])**\n",
        "\n",
        "where, p is the sample proportion and n is the sample size.\n",
        "\n",
        "In this case, the **sample proportion is 65%** or 0.65, and the **sample size is 500**.\n",
        "\n",
        "standard error = sqrt([0.65 * (1 - 0.65) / 500]) **standard error ≈ 0.022**\n",
        "\n",
        "Next, we will calculate the margin of error, which is the product of the z-score for a 95% confidence level and the standard error.\n",
        "\n",
        "**The z-score for a 95% confidence level is 1.96.**\n",
        "\n",
        "- margin of error = z-score * standard error\n",
        "- margin of error = 1.96 * 0.022\n",
        "- margin of error ≈ 0.043\n",
        "\n",
        "Finally, we will calculate the confidence interval by adding and subtracting the margin of error from the sample proportion.\n",
        "\n",
        "**confidence interval = sample proportion ± margin of error**\n",
        "**confidence interval = 0.65 ± 0.043**\n",
        "\n",
        "The 95% confidence interval for the true proportion of people who are satisfied with their job is\n",
        "**(0.607, 0.693) or 60.7% to 69.3%.**\n",
        "\n",
        "Here is the python code for the above calculation:"
      ],
      "metadata": {
        "id": "avfD-hDYxxGL"
      }
    },
    {
      "cell_type": "code",
      "source": [
        "def calculate_confidence_interval(sample_proportion, sample_size, confidence_level):\n",
        "    z_score = 1.96 # z-score for a 95% confidence level\n",
        "    standard_error = math.sqrt(sample_proportion * (1 - sample_proportion) / sample_size)\n",
        "    margin_of_error = z_score * standard_error\n",
        "    return (sample_proportion - margin_of_error, sample_proportion + margin_of_error)\n",
        "\n",
        "sample_proportion = 0.65\n",
        "sample_size = 500\n",
        "confidence_level = 0.95\n",
        "\n",
        "confidence_interval = calculate_confidence_interval(sample_proportion, sample_size, confidence_level)\n",
        "print(f\"The 95% confidence interval for the true proportion of people who are satisfied with their job is {confidence_interval}.\")"
      ],
      "metadata": {
        "colab": {
          "base_uri": "https://localhost:8080/"
        },
        "id": "0QvOwTrqx3hm",
        "outputId": "bda3b5b9-a1a5-401d-d7c5-2ca8108a2f06"
      },
      "execution_count": 24,
      "outputs": [
        {
          "output_type": "stream",
          "name": "stdout",
          "text": [
            "The 95% confidence interval for the true proportion of people who are satisfied with their job is (0.608191771144905, 0.6918082288550951).\n"
          ]
        }
      ]
    },
    {
      "cell_type": "markdown",
      "source": [
        "## **Q12. A researcher is testing the effectiveness of two different teaching methods on student performance. Sample A has a mean score of 85 with a standard deviation of 6, while sample B has a mean score of 82 with a standard deviation of 5. Conduct a hypothesis test to determine if the two teaching methods have a significant difference in student performance using a t-test with a significance level of 0.01.**\n"
      ],
      "metadata": {
        "id": "9UpXHBUIUPON"
      }
    },
    {
      "cell_type": "markdown",
      "source": [
        "To conduct a hypothesis test to determine if the two methods have a significant in student performance using **t-test with significance level of 0.01**, we will first calculate the t-score.\n",
        "\n",
        "The formula for the t-score is:\n",
        "\n",
        "**t-score = (mean difference - hypothesized difference) / standard error**\n",
        "\n",
        "where,\n",
        "> The mean difference is the difference between the two sample means,\n",
        "\n",
        "> The hypothesized difference is 0 (since we are testing if there is a significant difference between the two teaching methods),\n",
        "\n",
        "and,\n",
        "> The standard error is calculated as:\n",
        "\n",
        "> **standard error = sqrt([(s1^2 / n1) + (s2^2 / n2)])**\n",
        "\n",
        "> where, s1 and s2 are the standard deviations of the two samples, and n1 and n2 are the sample sizes.\n",
        "\n",
        "In this case, the mean score for sample A is 85, the standard deviation is 6, and the sample size is n1. The mean score for sample B is 82, the standard deviation is 5, and the sample size is n2.\n",
        "\n",
        "mean difference = 85 - 82 = 3 hypothesized difference = 0\n",
        "\n",
        "standard error = sqrt([(6^2 / n1) + (5^2 / n2)])\n",
        "\n",
        "***To calculate the t-score, we need to know the sample sizes n1 and n2. These values were not provided in the question, so we cannot calculate the t-score and perform the hypothesis test without this information.***\n",
        "\n",
        "***However, we can use the following python code for calculating the t-score and performing the hypothesis test, assuming that you have the sample sizes. Here, we are taking the number of sample for 2 datasets as 27 and 37 to get the code run and give us the results***"
      ],
      "metadata": {
        "id": "05vQSa-gzVQ8"
      }
    },
    {
      "cell_type": "code",
      "source": [
        "import math\n",
        "from scipy.stats import t\n",
        "\n",
        "def calculate_t_score(mean_difference, hypothesized_difference, standard_error, degrees_freedom):\n",
        "    return (mean_difference - hypothesized_difference) / standard_error\n",
        "\n",
        "def calculate_standard_error(s1, n1, s2, n2):\n",
        "    return math.sqrt((s1**2 / n1) + (s2**2 / n2))\n",
        "\n",
        "def perform_t_test(mean_difference, hypothesized_difference, standard_error, degrees_freedom, significance_level):\n",
        "    t_score = calculate_t_score(mean_difference, hypothesized_difference, standard_error, degrees_freedom)\n",
        "    alpha = 1 - significance_level\n",
        "    critical_t_value = t.ppf(1 - alpha / 2, degrees_freedom)\n",
        "    p_value = 2 * (1 - t.cdf(abs(t_score), degrees_freedom))\n",
        "    if p_value < significance_level:\n",
        "        return \"Reject the null hypothesis. There is a significant difference between the two teaching methods.\"\n",
        "    else:\n",
        "        return \"Fail to reject the null hypothesis. There is no significant difference between the two teaching methods.\"\n",
        "\n",
        "mean_difference = 3\n",
        "hypothesized_difference = 0\n",
        "s1 = 6\n",
        "n1 = 27  # sample size for sample A\n",
        "s2 = 5\n",
        "n2 = 37  # sample size for sample B\n",
        "degrees_freedom = n1 + n2 - 2\n",
        "standard_error = calculate_standard_error(s1, n1, s2, n2)\n",
        "\n",
        "result = perform_t_test(mean_difference, hypothesized_difference, standard_error, degrees_freedom, 0.01)\n",
        "print(result)"
      ],
      "metadata": {
        "colab": {
          "base_uri": "https://localhost:8080/"
        },
        "id": "2foqTJgXziDE",
        "outputId": "5cad0a21-e039-4fc3-8bbd-992cc2aaa2cf"
      },
      "execution_count": 26,
      "outputs": [
        {
          "output_type": "stream",
          "name": "stdout",
          "text": [
            "Fail to reject the null hypothesis. There is no significant difference between the two teaching methods.\n"
          ]
        }
      ]
    },
    {
      "cell_type": "markdown",
      "source": [
        "## **Q13. A population has a mean of 60 and a standard deviation of 8. A sample of 50 observations has a mean of 65. Calculate the 90% confidence interval for the true population mean.**\n"
      ],
      "metadata": {
        "id": "DdTm81H9UViS"
      }
    },
    {
      "cell_type": "markdown",
      "source": [
        "To calculate the 90% confidence interval for the true population mean, you can use the formula:"
      ],
      "metadata": {
        "id": "ur_FdCQd2Jxm"
      }
    },
    {
      "cell_type": "markdown",
      "source": [
        "![image.png](data:image/png;base64,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)"
      ],
      "metadata": {
        "id": "Wo4YPpRX2QV-"
      }
    },
    {
      "cell_type": "markdown",
      "source": [
        "where:\n",
        "\n",
        "- x-bar is the sample mean,\n",
        "- z is the z-score corresponding to the desired confidence level,\n",
        "- σ is the population standard deviation,\n",
        "- n is the sample size.\n",
        "\n",
        "In this case, you have the sample mean (x-bar =65), the population standard deviation (σ=8), the sample size (n=50), and you need to find the z-score for a 90% confidence level.\n",
        "\n",
        "***The script below calculates the 90% confidence interval for the true population mean based on the provided sample mean, population standard deviation, sample size, and desired confidence level. The result is printed as a range.***"
      ],
      "metadata": {
        "id": "HIpog5Vw2RWd"
      }
    },
    {
      "cell_type": "code",
      "source": [
        "import scipy.stats as stats\n",
        "\n",
        "# Given data\n",
        "sample_mean = 65\n",
        "population_std = 8\n",
        "sample_size = 50\n",
        "confidence_level = 0.90\n",
        "\n",
        "# Calculate the z-score for the given confidence level\n",
        "z_score = stats.norm.ppf((1 + confidence_level) / 2)\n",
        "\n",
        "# Calculate the margin of error\n",
        "margin_of_error = z_score * (population_std / np.sqrt(sample_size))\n",
        "\n",
        "# Calculate the confidence interval\n",
        "confidence_interval_lower = sample_mean - margin_of_error\n",
        "confidence_interval_upper = sample_mean + margin_of_error\n",
        "\n",
        "# Print the results\n",
        "print(f'Confidence Interval: ({confidence_interval_lower}, {confidence_interval_upper})')\n"
      ],
      "metadata": {
        "colab": {
          "base_uri": "https://localhost:8080/"
        },
        "id": "gsoUuiAO2PUT",
        "outputId": "a91e993b-cc0b-4edb-aa0a-2800cee3ea2a"
      },
      "execution_count": 27,
      "outputs": [
        {
          "output_type": "stream",
          "name": "stdout",
          "text": [
            "Confidence Interval: (63.13906055411732, 66.86093944588268)\n"
          ]
        }
      ]
    },
    {
      "cell_type": "markdown",
      "source": [
        "## **Q14. In a study of the effects of caffeine on reaction time, a sample of 30 participants had an average reaction time of 0.25 seconds with a standard deviation of 0.05 seconds. Conduct a hypothesis test to determine if the caffeine has a significant effect on reaction time at a 90% confidence level using a t-test.**"
      ],
      "metadata": {
        "id": "0P2tVRbpUbhI"
      }
    },
    {
      "cell_type": "markdown",
      "source": [
        "To conduct a hypothesis test for the effects of caffeine on reaction time using a t-test, you would typically perform the following steps:\n",
        "\n",
        "**1. State the Hypotheses:**\n",
        "\n",
        "- Null Hypothesis (H0): Caffeine has no significant effect on reaction time (μ=μ0).\n",
        "- Alternative Hypothesis (Ha): Caffeine has a significant effect on reaction time (\n",
        "�\n",
        "≠\n",
        "�\n",
        "0\n",
        "μ\n",
        "=μ\n",
        "0\n",
        "​\n",
        " , where\n",
        "�\n",
        "0\n",
        "μ\n",
        "0\n",
        "​\n",
        "  is the hypothesized population mean).\n",
        "Set the Significance Level (\n",
        "�\n",
        "α):\n",
        "\n",
        "Choose a significance level (\n",
        "�\n",
        "α) for the test. In this case, it's given as 90%, which corresponds to a confidence level of 0.90. The significance level would be\n",
        "1\n",
        "−\n",
        "�\n",
        "1−α.\n",
        "Formulate the Decision Rule:\n",
        "\n",
        "Determine the critical region for the test based on the chosen significance level. Since this is a two-tailed test (checking if caffeine has a significant effect in either direction), you would look for critical values in both tails of the t-distribution.\n",
        "Calculate the Test Statistic:\n",
        "\n",
        "Use the provided sample mean (\n",
        "�\n",
        "ˉ\n",
        "x\n",
        "ˉ\n",
        " ), sample standard deviation (\n",
        "�\n",
        "s), sample size (\n",
        "�\n",
        "n), and the hypothesized population mean (\n",
        "�\n",
        "0\n",
        "μ\n",
        "0\n",
        "​\n",
        " ) to calculate the t-test statistic.\n",
        "Make a Decision:\n",
        "\n",
        "Compare the calculated test statistic to the critical values from the t-distribution. If the test statistic falls in the critical region, reject the null hypothesis. Otherwise, fail to reject the null hypothesis.\n",
        "Draw a Conclusion:\n",
        "\n",
        "Based on the decision, conclude whether there is sufficient evidence to suggest that caffeine has a significant effect on reaction time.\n",
        "Let's calculate the test statistic and perform the test using the provided information:"
      ],
      "metadata": {
        "id": "cRB5WmCF3lv4"
      }
    },
    {
      "cell_type": "code",
      "source": [
        "import scipy.stats as stats\n",
        "\n",
        "# Given data\n",
        "sample_mean = 0.25\n",
        "sample_std = 0.05\n",
        "sample_size = 30\n",
        "hypothesized_mean = 0.25  # Assuming no effect, same as sample mean\n",
        "\n",
        "# Set the significance level (confidence level)\n",
        "confidence_level = 0.90\n",
        "alpha = 1 - confidence_level\n",
        "\n",
        "# Calculate the critical values for a two-tailed test\n",
        "critical_value_left = stats.t.ppf(alpha / 2, df=sample_size - 1)\n",
        "critical_value_right = -critical_value_left\n",
        "\n",
        "# Calculate the test statistic\n",
        "t_statistic = (sample_mean - hypothesized_mean) / (sample_std / (sample_size**0.5))\n",
        "\n",
        "# Make a decision\n",
        "if t_statistic < critical_value_left or t_statistic > critical_value_right:\n",
        "    decision = \"Reject the null hypothesis\"\n",
        "else:\n",
        "    decision = \"Fail to reject the null hypothesis\"\n",
        "\n",
        "# Print results\n",
        "print(f'Test Statistic: {t_statistic}')\n",
        "print(f'Critical Values: {critical_value_left} and {critical_value_right}')\n",
        "print(f'Decision: {decision}')\n"
      ],
      "metadata": {
        "colab": {
          "base_uri": "https://localhost:8080/"
        },
        "id": "s0xGeKpa3stz",
        "outputId": "49705bd4-22c9-4b61-a7d8-513fbe663b22"
      },
      "execution_count": 28,
      "outputs": [
        {
          "output_type": "stream",
          "name": "stdout",
          "text": [
            "Test Statistic: 0.0\n",
            "Critical Values: -1.699127026533498 and 1.699127026533498\n",
            "Decision: Fail to reject the null hypothesis\n"
          ]
        }
      ]
    }
  ]
}