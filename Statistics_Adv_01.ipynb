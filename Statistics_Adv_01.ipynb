{
  "nbformat": 4,
  "nbformat_minor": 0,
  "metadata": {
    "colab": {
      "provenance": [],
      "authorship_tag": "ABX9TyNELDgM7QNoDbhkSiQyEwl0",
      "include_colab_link": true
    },
    "kernelspec": {
      "name": "python3",
      "display_name": "Python 3"
    },
    "language_info": {
      "name": "python"
    }
  },
  "cells": [
    {
      "cell_type": "markdown",
      "metadata": {
        "id": "view-in-github",
        "colab_type": "text"
      },
      "source": [
        "<a href=\"https://colab.research.google.com/github/Sha-98/Data-Science-Masters/blob/main/Statistics_Adv_01.ipynb\" target=\"_parent\"><img src=\"https://colab.research.google.com/assets/colab-badge.svg\" alt=\"Open In Colab\"/></a>"
      ]
    },
    {
      "cell_type": "markdown",
      "source": [
        "# **Statistics Advance 01 - Assignment**"
      ],
      "metadata": {
        "id": "VJl8Re9mmM3o"
      }
    },
    {
      "cell_type": "markdown",
      "source": [
        "## **Q1. What is the Probability density function?**\n"
      ],
      "metadata": {
        "id": "ztdRfuD2PUH2"
      }
    },
    {
      "cell_type": "markdown",
      "source": [
        "The Probability Density Function (PDF) is a fundamental concept in probability theory and statistics. It is used to describe the likelihood of a continuous random variable falling within a particular range of values. The PDF provides a way to model the probability distribution of continuous random variables.\n",
        "\n",
        "For a continuous random variable X, the PDF is denoted as f(x), and it satisfies the following properties:\n",
        "\n",
        "* **Non-Negativity:** f(x)≥0 for all x.\n",
        "* **Total Area under the Curve:** The total area under the PDF curve over the entire range of possible values is equal to 1.\n",
        "\n",
        "Mathematically, the probability that X falls in the interval [a,b] is given by the integral of the PDF over that interval:\n"
      ],
      "metadata": {
        "id": "_Q2dbJq3QtT5"
      }
    },
    {
      "cell_type": "markdown",
      "source": [
        "![image.png](data:image/png;base64,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)"
      ],
      "metadata": {
        "id": "AZjc3AHHR8c9"
      }
    },
    {
      "cell_type": "markdown",
      "source": [
        "In other words, the PDF provides a relative measure of the likelihood of the random variable taking a specific value. The probability of X falling in a particular interval is obtained by integrating the PDF over that interval.\n",
        "\n",
        "It's important to note that the concept of a PDF is applicable to continuous random variables, as opposed to probability mass functions (PMF) used for discrete random variables. For discrete random variables, the probability is assigned directly to each possible value."
      ],
      "metadata": {
        "id": "0FEuJnRWR87Q"
      }
    },
    {
      "cell_type": "markdown",
      "source": [
        "## **Q2. What are the types of Probability distribution?**\n"
      ],
      "metadata": {
        "id": "Qxqp-Gv0PUMr"
      }
    },
    {
      "cell_type": "markdown",
      "source": [
        "There are several types of probability distributions, and they can be broadly categorized into two main classes: discrete probability distributions and continuous probability distributions.\n",
        "\n",
        "**1. Discrete Probability Distributions:**\n",
        "\n",
        "> **Bernoulli Distribution:** Describes a random experiment with two possible outcomes (success and failure).\n",
        "\n",
        "> **Binomial Distribution:** Represents the number of successes in a fixed number of independent Bernoulli trials.\n",
        "\n",
        "> **Poisson Distribution:** Models the number of events that occur within a fixed interval of time or space.\n",
        "\n",
        "**2. Continuous Probability Distributions:**\n",
        "\n",
        "> **Uniform Distribution:** All outcomes in the sample space are equally likely to occur.\n",
        "\n",
        "> **Normal Distribution (Gaussian Distribution):** Characterized by a symmetric bell-shaped curve. Many natural phenomena follow a normal distribution.\n",
        "\n",
        "> **Exponential Distribution:** Describes the time between events in a Poisson process, where events occur continuously and independently at a constant average rate.\n",
        "\n",
        "> **Log-Normal Distribution:** Results from the exponential of a normally distributed random variable.\n",
        "\n",
        "**3. Multinomial Distribution:**\n",
        "\n",
        "Generalization of the binomial distribution to more than two categories.\n",
        "\n",
        "**4. Hypergeometric Distribution:**\n",
        "\n",
        "Models the probability of drawing a specific number of successes in a fixed number of draws without replacement.\n",
        "\n",
        "**5. Geometric Distribution:**\n",
        "\n",
        "Describes the number of Bernoulli trials needed to get the first success."
      ],
      "metadata": {
        "id": "Tr1Wk3bRSqUC"
      }
    },
    {
      "cell_type": "markdown",
      "source": [
        "## **Q3. Write a Python function to calculate the probability density function of a normal distribution with given mean and standard deviation at a given point.**\n"
      ],
      "metadata": {
        "id": "vijSl4U_PUP_"
      }
    },
    {
      "cell_type": "markdown",
      "source": [
        "We can use the probability density function (PDF) formula for a normal distribution to create a Python function. The PDF of a normal distribution with mean μ and standard deviation σ at a given point x is given by:"
      ],
      "metadata": {
        "id": "66HSJZy0cht6"
      }
    },
    {
      "cell_type": "markdown",
      "source": [
        "![image.png](data:image/png;base64,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)"
      ],
      "metadata": {
        "id": "O2-aF5ucctHk"
      }
    },
    {
      "cell_type": "code",
      "source": [
        "import math\n",
        "\n",
        "def normal_pdf(x, mean, std_dev):\n",
        "  exponent = -0.5 * ((x - mean) / std_dev) ** 2\n",
        "  coefficient = 1 / (std_dev * math.sqrt(2 * math.pi))\n",
        "  pdf = coefficient * math.exp(exponent)\n",
        "\n",
        "  return pdf\n",
        "\n",
        "# Example usage:\n",
        "mean_value = 0\n",
        "std_dev_value = 1\n",
        "point = 1.5\n",
        "\n",
        "pdf_at_point = normal_pdf(point, mean_value, std_dev_value)\n",
        "print(f\"The PDF at x = {point} is: {pdf_at_point}\")"
      ],
      "metadata": {
        "colab": {
          "base_uri": "https://localhost:8080/"
        },
        "id": "e-tO3IMHU9pf",
        "outputId": "3fba1cc0-c962-4132-b43d-80ea5a6ebc9a"
      },
      "execution_count": 1,
      "outputs": [
        {
          "output_type": "stream",
          "name": "stdout",
          "text": [
            "The PDF at x = 1.5 is: 0.12951759566589174\n"
          ]
        }
      ]
    },
    {
      "cell_type": "markdown",
      "source": [
        "## **Q4. What are the properties of Binomial distribution? Give two examples of events where binomial distribution can be applied.**\n"
      ],
      "metadata": {
        "id": "-9HQjCskPUTR"
      }
    },
    {
      "cell_type": "markdown",
      "source": [
        "The binomial distribution is a discrete probability distribution that describes the number of successes in a fixed number of independent Bernoulli trials, where each trial has two possible outcomes: success or failure. The properties of the binomial distribution are:\n",
        "\n",
        "**Number of Trials (n):** The distribution is based on a fixed number of trials, denoted as n.\n",
        "\n",
        "**Probability of Success (p):** Each trial has a constant probability of success, denoted as p.\n",
        "\n",
        "**Binary Outcomes:** Each trial results in a binary outcome (success or failure).\n",
        "\n",
        "**Independence:** The trials are assumed to be independent of each other.\n",
        "\n",
        "**Discreteness:** The random variable representing the number of successes is discrete.\n",
        "\n",
        "The probability mass function (PMF) of the binomial distribution is given by:"
      ],
      "metadata": {
        "id": "WyjSUuHYdD3R"
      }
    },
    {
      "cell_type": "markdown",
      "source": [
        "![image.png](data:image/png;base64,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)"
      ],
      "metadata": {
        "id": "ceN7ZDqOeMyw"
      }
    },
    {
      "cell_type": "markdown",
      "source": [
        "where X is the random variable representing the number of successes, k is the specific number of successes, n is the number of trials, p is the probability of success, and (nCk) is the binomial coefficient.\n",
        "\n",
        "Examples of events where the binomial distribution can be applied:\n",
        "\n",
        "**Coin Flips:** The number of heads obtained in a fixed number of coin flips (assuming a fair coin) follows a binomial distribution.\n",
        "\n",
        "**Medical Testing:** The number of patients recovering from a particular treatment among a fixed number of patients, where each patient has a probability p of responding positively to the treatment, follows a binomial distribution."
      ],
      "metadata": {
        "id": "C4hBLbBceNjh"
      }
    },
    {
      "cell_type": "markdown",
      "source": [
        "## **Q5. Generate a random sample of size 1000 from a binomial distribution with probability of success 0.4 and plot a histogram of the results using matplotlib.**\n"
      ],
      "metadata": {
        "id": "0dtTLE3-PUWe"
      }
    },
    {
      "cell_type": "code",
      "source": [
        "import numpy as np\n",
        "import matplotlib.pyplot as plt\n",
        "\n",
        "# Parameters for the binomial distribution\n",
        "n = 10  # Number of trials\n",
        "p = 0.4  # Probability of success\n",
        "\n",
        "# Generate a random sample of size 1000 from the binomial distribution\n",
        "random_sample = np.random.binomial(n, p, size=1000)\n",
        "\n",
        "# Plot the histogram\n",
        "plt.hist(random_sample, bins=np.arange(0, n+2)-0.5, edgecolor='black', alpha=0.7)\n",
        "plt.xlabel('Number of Successes')\n",
        "plt.ylabel('Frequency')\n",
        "plt.title(f'Binomial Distribution (n={n}, p={p}) - Random Sample of Size 1000')\n",
        "plt.xticks(np.arange(0, n+1))\n",
        "plt.grid(axis='y', linestyle='--', alpha=0.7)\n",
        "plt.show()"
      ],
      "metadata": {
        "colab": {
          "base_uri": "https://localhost:8080/",
          "height": 472
        },
        "id": "E8QAGFqWgQXs",
        "outputId": "127a248d-8960-41ed-b056-8fec575a2b95"
      },
      "execution_count": 2,
      "outputs": [
        {
          "output_type": "display_data",
          "data": {
            "text/plain": [
              "<Figure size 640x480 with 1 Axes>"
            ],
            "image/png": "[encoded data removed]"
          },
          "metadata": {}
        }
      ]
    },
    {
      "cell_type": "markdown",
      "source": [
        "## **Q6. Write a Python function to calculate the cumulative distribution function of a Poisson distribution with given mean at a given point.**\n"
      ],
      "metadata": {
        "id": "_tC-h-N8Pqz4"
      }
    },
    {
      "cell_type": "markdown",
      "source": [
        "The cumulative distribution function (CDF) of a Poisson distribution with a given mean λ at a given point k is given by the formula:"
      ],
      "metadata": {
        "id": "8Cmd0nj6hFCC"
      }
    },
    {
      "cell_type": "markdown",
      "source": [
        "![image.png](data:image/png;base64,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)"
      ],
      "metadata": {
        "id": "86qPdWvHhLyV"
      }
    },
    {
      "cell_type": "code",
      "source": [
        "import math\n",
        "\n",
        "def poisson_cdf(k, lambd):\n",
        "    \"\"\"\n",
        "    Calculate the cumulative distribution function (CDF) of a Poisson distribution.\n",
        "\n",
        "    Parameters:\n",
        "    - k: The point at which to evaluate the CDF.\n",
        "    - lambd: The mean of the Poisson distribution.\n",
        "\n",
        "    Returns:\n",
        "    - The CDF value at point k.\n",
        "    \"\"\"\n",
        "    cdf = 0.0\n",
        "    for i in range(k + 1):\n",
        "        cdf += math.exp(-lambd) * (lambd**i) / math.factorial(i)\n",
        "    return cdf\n",
        "\n",
        "# Example usage:\n",
        "mean_value = 3.5\n",
        "point_to_evaluate = 2\n",
        "result = poisson_cdf(point_to_evaluate, mean_value)\n",
        "print(f\"P(X <= {point_to_evaluate}) for Poisson(mean={mean_value}) is approximately {result:.4f}\")"
      ],
      "metadata": {
        "colab": {
          "base_uri": "https://localhost:8080/"
        },
        "id": "J5StC97Mg9eX",
        "outputId": "1387eb68-cda5-4dbb-87d2-c08e412ee42c"
      },
      "execution_count": 3,
      "outputs": [
        {
          "output_type": "stream",
          "name": "stdout",
          "text": [
            "P(X <= 2) for Poisson(mean=3.5) is approximately 0.3208\n"
          ]
        }
      ]
    },
    {
      "cell_type": "markdown",
      "source": [
        "This function takes a point k and the mean \\(\\lambda\\) as inputs and returns the cumulative probability P(X≤k) for a Poisson distribution. Adjust the parameters as needed for your specific scenario."
      ],
      "metadata": {
        "id": "xAXfHx6LhP1G"
      }
    },
    {
      "cell_type": "markdown",
      "source": [
        "## **Q7. How Binomial distribution different from Poisson distribution?**\n"
      ],
      "metadata": {
        "id": "7yZJOZq1PwM4"
      }
    },
    {
      "cell_type": "markdown",
      "source": [
        "In probability theory and statistics, the binomial and Poisson distributions are two distinct models with specific characteristics. Let's unravel the differences between these distributions to gain a deeper understanding of their applications.\n",
        "\n",
        "**01. Binomial Distribution:**\n",
        "- Definition: The binomial distribution describes the number of successes in a fixed number of independent and identical Bernoulli trials, where each trial has only two possible outcomes—success or failure.\n",
        "\n",
        "> **Parameters:**\n",
        "n: Number of trials.\n",
        "p: Probability of success in each trial.\n",
        "\n",
        "> **Characteristics:**\n",
        "- Discrete and finite.\n",
        "- Each trial is independent.\n",
        "- Two possible outcomes (binary).\n",
        "\n",
        "> **Example:**\n",
        "Consider flipping a biased coin (p=0.6) five times (n=5). The binomial distribution can model the number of heads obtained.\n",
        "\n",
        "\n",
        "**02. Poisson Distribution:**\n",
        "Definition: The Poisson distribution models the number of events occurring in a fixed interval of time or space. It is often used when the events are rare and random.\n",
        "\n",
        "> **Parameters:**\n",
        "λ: Average rate of event occurrence per interval.\n",
        "\n",
        "> **Characteristics:**\n",
        "Discrete and infinite.\n",
        "Assumes rare events.\n",
        "Events are independent and randomly occurring.\n",
        "\n",
        "> **Example:**\n",
        "Modeling the number of emails received in an hour (λ=3) can be done using a Poisson distribution.\n",
        "\n",
        "**KEY DIFFERENCES**\n",
        "\n",
        "**01. Nature of Events:**\n",
        "- **Binomial Distribution**\n",
        "> Binary Outcomes: The binomial distribution models experiments with two possible outcomes in each trial—success or failure.\n",
        "\n",
        "- **Poisson Distribution**\n",
        "> Count of Events: The Poisson distribution models the number of events occurring in a fixed interval of time or space.\n",
        "\n",
        "**02. Number of Trials**\n",
        "- **Binomial Distribution**\n",
        "> Fixed and Finite: The number of trials (n) is predetermined and finite.\n",
        "\n",
        "- **Poisson Distribution**\n",
        "> Infinite or Continuous Time: The distribution is often applied to situations where the number of trials is not fixed and may continue indefinitely.\n",
        "\n",
        "**03. Assumption**\n",
        "- **Binomial Distribution**\n",
        "> Independence: Each trial is independent of the others.\n",
        "\n",
        "- **Poisson Distribution**\n",
        "> Rare Events: Assumes that events are rare and occur randomly.\n",
        "\n",
        "**04. Application**\n",
        "- **Binomial Distribution**\n",
        "> Commonly applied in scenarios where there are a fixed number of independent trials with two possible outcomes, such as coin flips or yes/no experiments.\n",
        "\n",
        "- **Poisson Distribution**\n",
        "> Used when dealing with rare occurrences or events that happen randomly over time, such as the number of phone calls received at a call center in an hour.\n",
        "\n",
        "\n",
        "**KEY TAKEAWAYS**\n",
        "\n",
        "- Binomial deals with a fixed number of trials with binary outcomes, while Poisson deals with the count of rare and random events.\n",
        "- Binomial is discrete and finite, while Poisson is also discrete but can extend to an infinite number of events.\n",
        "- Binomial is suitable for experiments with a clear number of trials, while Poisson is suited for scenarios with rare and unpredictable events.\n",
        "\n",
        "***Understanding these distinctions helps in choosing the appropriate distribution for modeling different real-world scenarios.***"
      ],
      "metadata": {
        "id": "QR_IuO27mAXB"
      }
    },
    {
      "cell_type": "markdown",
      "source": [
        "## **Q8. Generate a random sample of size 1000 from a Poisson distribution with mean 5 and calculate the sample mean and variance.**\n"
      ],
      "metadata": {
        "id": "oO__A7o4PzGG"
      }
    },
    {
      "cell_type": "markdown",
      "source": [
        "We can use Python and libraries like NumPy to generate a random sample from a Poisson distribution, calculate the sample mean and variance."
      ],
      "metadata": {
        "id": "okgEsudQrKxZ"
      }
    },
    {
      "cell_type": "code",
      "source": [
        "import numpy as np\n",
        "\n",
        "# Set the seed for reproducibility\n",
        "np.random.seed(42)\n",
        "\n",
        "# Generate a random sample of size 1000 from a Poisson distribution with mean 5\n",
        "sample = np.random.poisson(lam=5, size=1000)\n",
        "\n",
        "# Calculate the sample mean and variance\n",
        "sample_mean = np.mean(sample)\n",
        "sample_variance = np.var(sample)\n",
        "\n",
        "# Print the results\n",
        "print(f\"Sample Mean: {sample_mean}\")\n",
        "print(f\"Sample Variance: {sample_variance}\")"
      ],
      "metadata": {
        "colab": {
          "base_uri": "https://localhost:8080/"
        },
        "id": "yM_zgiEerNud",
        "outputId": "b0e48e34-cb84-4681-d9fa-0d925ca6a781"
      },
      "execution_count": 1,
      "outputs": [
        {
          "output_type": "stream",
          "name": "stdout",
          "text": [
            "Sample Mean: 4.985\n",
            "Sample Variance: 4.9967749999999995\n"
          ]
        }
      ]
    },
    {
      "cell_type": "markdown",
      "source": [
        "- np.random.poisson(lam=5, size=1000) generates a random sample of size 1000 from a Poisson distribution with a mean (λ) of 5.\n",
        "- np.mean(sample) calculates the sample mean.\n",
        "- np.var(sample) calculates the sample variance."
      ],
      "metadata": {
        "id": "h6-mesczrUCP"
      }
    },
    {
      "cell_type": "markdown",
      "source": [
        "## **Q9. How mean and variance are related in Binomial distribution and Poisson distribution?**\n"
      ],
      "metadata": {
        "id": "t74wIP3GP2rk"
      }
    },
    {
      "cell_type": "markdown",
      "source": [
        "**01. Binomial Distribution:**\n",
        "\n",
        "- **Mean (Expected Value):** For a binomial distribution with parameters n (number of trials) and p (probability of success in a single trial), the mean (μ) is given by np.\n",
        "\n",
        "- **Variance:** The variance (σ^2) is given by\n",
        " np(1−p).\n",
        "\n",
        "**02. Poisson Distribution:**\n",
        "\n",
        "- **Mean (Expected Value):** For a Poisson distribution with parameter λ (average rate of events in a fixed interval), the mean (μ) is equal to λ.\n",
        "- **Variance:** The variance (σ^2) is also equal to λ."
      ],
      "metadata": {
        "id": "XtqrfWXX-AIe"
      }
    },
    {
      "cell_type": "markdown",
      "source": [
        "## **Q10. In normal distribution with respect to mean position, where does the least frequent data appear?**"
      ],
      "metadata": {
        "id": "xIy0AclPP5et"
      }
    },
    {
      "cell_type": "markdown",
      "source": [
        "In a normal distribution, which is symmetric, the least frequent data appears in the tails, farthest away from the mean. The tails of the distribution represent the extreme values, and they contain the least frequent occurrences.\n",
        "\n",
        "The majority of the data points are concentrated around the mean, and as you move away from the mean towards the tails, the frequency of occurrences decreases. The normal distribution is characterized by a bell-shaped curve, and the tails extend infinitely in both directions."
      ],
      "metadata": {
        "id": "gnNOHb6hP7QV"
      }
    }
  ]
}