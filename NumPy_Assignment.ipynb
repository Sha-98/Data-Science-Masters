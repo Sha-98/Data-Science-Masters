{
  "nbformat": 4,
  "nbformat_minor": 0,
  "metadata": {
    "colab": {
      "provenance": [],
      "authorship_tag": "ABX9TyNwa+2oLzlhP2hq5U6sr27R",
      "include_colab_link": true
    },
    "kernelspec": {
      "name": "python3",
      "display_name": "Python 3"
    },
    "language_info": {
      "name": "python"
    }
  },
  "cells": [
    {
      "cell_type": "markdown",
      "metadata": {
        "id": "view-in-github",
        "colab_type": "text"
      },
      "source": [
        "<a href=\"https://colab.research.google.com/github/Sha-98/Data-Science-Masters/blob/main/NumPy_Assignment.ipynb\" target=\"_parent\"><img src=\"https://colab.research.google.com/assets/colab-badge.svg\" alt=\"Open In Colab\"/></a>"
      ]
    },
    {
      "cell_type": "markdown",
      "source": [
        "# **NumPy - Assignment**"
      ],
      "metadata": {
        "id": "VJl8Re9mmM3o"
      }
    },
    {
      "cell_type": "markdown",
      "source": [
        "## **Consider the below code to answer further questions:**\n",
        "\n"
      ],
      "metadata": {
        "id": "IXcSl1DQHOsM"
      }
    },
    {
      "cell_type": "code",
      "source": [
        "import numpy as np\n",
        "list_ = ['1' , '2' , '3' , '4' , '5']\n",
        "array_list = np.array(object = list_)"
      ],
      "metadata": {
        "id": "ERdSlf1SLe4V"
      },
      "execution_count": 8,
      "outputs": []
    },
    {
      "cell_type": "code",
      "source": [
        "array_list"
      ],
      "metadata": {
        "colab": {
          "base_uri": "https://localhost:8080/"
        },
        "id": "a5JCCjzNU0or",
        "outputId": "5b41ac75-6ade-48b4-ad27-d7b8e7d46b49"
      },
      "execution_count": 9,
      "outputs": [
        {
          "output_type": "execute_result",
          "data": {
            "text/plain": [
              "array(['1', '2', '3', '4', '5'], dtype='<U1')"
            ]
          },
          "metadata": {},
          "execution_count": 9
        }
      ]
    },
    {
      "cell_type": "markdown",
      "source": [
        "## **Q1. Is there any difference in the data type of variables list_ and array_list? If there is then write a code to print the data types of both the variables.**\n"
      ],
      "metadata": {
        "id": "ZTiTiS9ULiXE"
      }
    },
    {
      "cell_type": "markdown",
      "source": [
        " In Python, a list is a built-in data type, while an array might be created using a library like NumPy. So, Yes, there can be a difference in the data type of variables list_ and array_list if they are created using different methods.\n",
        "\n",
        " A simple code snippet to print the data types of both variables is as follows:"
      ],
      "metadata": {
        "id": "qHjCGkosUFt6"
      }
    },
    {
      "cell_type": "code",
      "source": [
        "list_ = ['1' , '2' , '3' , '4' , '5']\n",
        "array_list = np.array(object = list_)\n",
        "array_list"
      ],
      "metadata": {
        "colab": {
          "base_uri": "https://localhost:8080/"
        },
        "id": "oEHQZkqkWEVl",
        "outputId": "82898f91-5896-4466-b5ac-04d5ec5dd2c3"
      },
      "execution_count": 17,
      "outputs": [
        {
          "output_type": "execute_result",
          "data": {
            "text/plain": [
              "array(['1', '2', '3', '4', '5'], dtype='<U1')"
            ]
          },
          "metadata": {},
          "execution_count": 17
        }
      ]
    },
    {
      "cell_type": "code",
      "source": [
        "array_l = np.array([1, 2, 3, 4, 5])\n",
        "# print(\"Data type of array_list:\", array_list)\n",
        "array_l"
      ],
      "metadata": {
        "colab": {
          "base_uri": "https://localhost:8080/"
        },
        "id": "lGwyNRHqUuYT",
        "outputId": "fd4cdbfc-51c2-47ca-fc1b-3cbf9aff1b39"
      },
      "execution_count": 18,
      "outputs": [
        {
          "output_type": "execute_result",
          "data": {
            "text/plain": [
              "array([1, 2, 3, 4, 5])"
            ]
          },
          "metadata": {},
          "execution_count": 18
        }
      ]
    },
    {
      "cell_type": "code",
      "source": [
        "print(\"Data type of array_list with list_ :\", type(array_list))\n",
        "print(\"Data type of array_list with np.array:\", type(array_l))"
      ],
      "metadata": {
        "colab": {
          "base_uri": "https://localhost:8080/"
        },
        "id": "k6dNa-yXWNGP",
        "outputId": "2c708c73-a506-44cf-9d21-96a58e083aea"
      },
      "execution_count": 19,
      "outputs": [
        {
          "output_type": "stream",
          "name": "stdout",
          "text": [
            "Data type of array_list with list_ : <class 'numpy.ndarray'>\n",
            "Data type of array_list with np.array: <class 'numpy.ndarray'>\n"
          ]
        }
      ]
    },
    {
      "cell_type": "markdown",
      "source": [
        "* **array(['1', '2', '3', '4', '5'], dtype='<U1'):** In this case, the elements inside the array are represented as strings, not integers. Notice the quotes around each element ('1', '2', '3', '4', '5'). This happens when you create an array with elements defined as strings, as we did for our variable ***array_list***\n",
        "\n",
        "* **array([1, 2, 3, 4, 5]):** In this case, the elements inside the array are represented as integers. This is the typical behavior when you create an array with elements defined as integers, as we did for variable ***array_l***\n",
        "\n",
        "***If we want the elements to be treated as integers, make sure you provide them without quotes when creating the array. If we provide them as strings, the array will consider them as string data.***"
      ],
      "metadata": {
        "id": "mWJrqn38W1H0"
      }
    },
    {
      "cell_type": "markdown",
      "source": [
        "## **Q2. Write a code to print the data type of each and every element of both the variables list_ and arra_list.**\n"
      ],
      "metadata": {
        "id": "gpV4vV4RLnZ4"
      }
    },
    {
      "cell_type": "code",
      "source": [
        "for i in array_list:\n",
        "  print(type(i))"
      ],
      "metadata": {
        "colab": {
          "base_uri": "https://localhost:8080/"
        },
        "id": "xfw0VzsCYVKV",
        "outputId": "af5f7062-3052-4d62-f37c-19a5886f48b5"
      },
      "execution_count": 21,
      "outputs": [
        {
          "output_type": "stream",
          "name": "stdout",
          "text": [
            "<class 'numpy.str_'>\n",
            "<class 'numpy.str_'>\n",
            "<class 'numpy.str_'>\n",
            "<class 'numpy.str_'>\n",
            "<class 'numpy.str_'>\n"
          ]
        }
      ]
    },
    {
      "cell_type": "code",
      "source": [
        "for i in array_l:\n",
        "  print(type(i))"
      ],
      "metadata": {
        "colab": {
          "base_uri": "https://localhost:8080/"
        },
        "id": "PaOnAkx-YgeR",
        "outputId": "393dc35b-0327-4619-ee18-03577f129d6a"
      },
      "execution_count": 22,
      "outputs": [
        {
          "output_type": "stream",
          "name": "stdout",
          "text": [
            "<class 'numpy.int64'>\n",
            "<class 'numpy.int64'>\n",
            "<class 'numpy.int64'>\n",
            "<class 'numpy.int64'>\n",
            "<class 'numpy.int64'>\n"
          ]
        }
      ]
    },
    {
      "cell_type": "markdown",
      "source": [
        "## **Q3. Considering the following changes in the variable, array_list:**\n"
      ],
      "metadata": {
        "id": "VQAZYDrlLrjQ"
      }
    },
    {
      "cell_type": "code",
      "source": [
        "array_list = np.array(object = list_, dtype = int)"
      ],
      "metadata": {
        "id": "DjYNwP2eLvTV"
      },
      "execution_count": 23,
      "outputs": []
    },
    {
      "cell_type": "markdown",
      "source": [
        "**Will there be any difference in the data type of the elements present in both the variables, list_ and arra_list? If so then print the data types of each and every element present in both the variables, list_ and arra_list.**"
      ],
      "metadata": {
        "id": "LGhHdUznLzUs"
      }
    },
    {
      "cell_type": "code",
      "source": [
        "for i in array_list:\n",
        "  print(type(i))"
      ],
      "metadata": {
        "colab": {
          "base_uri": "https://localhost:8080/"
        },
        "id": "PsoT4woLYrYT",
        "outputId": "9e981b93-3ceb-43ee-b555-a1072f6a78ad"
      },
      "execution_count": 24,
      "outputs": [
        {
          "output_type": "stream",
          "name": "stdout",
          "text": [
            "<class 'numpy.int64'>\n",
            "<class 'numpy.int64'>\n",
            "<class 'numpy.int64'>\n",
            "<class 'numpy.int64'>\n",
            "<class 'numpy.int64'>\n"
          ]
        }
      ]
    },
    {
      "cell_type": "code",
      "source": [
        "for i in array_l:\n",
        "  print(type(i))"
      ],
      "metadata": {
        "colab": {
          "base_uri": "https://localhost:8080/"
        },
        "id": "HyC8j9NDYuiT",
        "outputId": "ca279551-7cfe-408f-d2fd-a9a03e17c412"
      },
      "execution_count": 25,
      "outputs": [
        {
          "output_type": "stream",
          "name": "stdout",
          "text": [
            "<class 'numpy.int64'>\n",
            "<class 'numpy.int64'>\n",
            "<class 'numpy.int64'>\n",
            "<class 'numpy.int64'>\n",
            "<class 'numpy.int64'>\n"
          ]
        }
      ]
    },
    {
      "cell_type": "markdown",
      "source": [
        "As observed, now the data type of each element for both the array is int64. This is because we changes the data type of elements of *array_list*."
      ],
      "metadata": {
        "id": "lQAqxAgRYvkZ"
      }
    },
    {
      "cell_type": "markdown",
      "source": [
        "## ***Consider the below code to answer further questions:***"
      ],
      "metadata": {
        "id": "2ho38jaPL7eu"
      }
    },
    {
      "cell_type": "code",
      "source": [
        "num_list = [ [ 1 , 2 , 3 ] , [ 4 , 5 , 6 ] ]\n",
        "num_array = np.array(object = num_list)"
      ],
      "metadata": {
        "id": "UmH1SHfpL_e6"
      },
      "execution_count": 26,
      "outputs": []
    },
    {
      "cell_type": "code",
      "source": [
        "num_array"
      ],
      "metadata": {
        "colab": {
          "base_uri": "https://localhost:8080/"
        },
        "id": "awCHGiwZY_2T",
        "outputId": "e58ae6aa-92aa-4704-8fb6-72779d8d2f4c"
      },
      "execution_count": 27,
      "outputs": [
        {
          "output_type": "execute_result",
          "data": {
            "text/plain": [
              "array([[1, 2, 3],\n",
              "       [4, 5, 6]])"
            ]
          },
          "metadata": {},
          "execution_count": 27
        }
      ]
    },
    {
      "cell_type": "markdown",
      "source": [
        "## **Q4. Write a code to find the following characteristics of variable, num_array:**\n",
        "\n",
        "**(i) shape**\n",
        "**(ii) size**\n"
      ],
      "metadata": {
        "id": "8bJONz5hMB3P"
      }
    },
    {
      "cell_type": "code",
      "source": [
        "num_array.shape"
      ],
      "metadata": {
        "colab": {
          "base_uri": "https://localhost:8080/"
        },
        "id": "xNKX__y2aFTp",
        "outputId": "ab51f292-4e6f-4a83-a374-26dd482d39d1"
      },
      "execution_count": 28,
      "outputs": [
        {
          "output_type": "execute_result",
          "data": {
            "text/plain": [
              "(2, 3)"
            ]
          },
          "metadata": {},
          "execution_count": 28
        }
      ]
    },
    {
      "cell_type": "code",
      "source": [
        "num_array.size"
      ],
      "metadata": {
        "colab": {
          "base_uri": "https://localhost:8080/"
        },
        "id": "SGynkwofaTVl",
        "outputId": "7ac84edb-f4ae-4243-8252-282fca8cebec"
      },
      "execution_count": 29,
      "outputs": [
        {
          "output_type": "execute_result",
          "data": {
            "text/plain": [
              "6"
            ]
          },
          "metadata": {},
          "execution_count": 29
        }
      ]
    },
    {
      "cell_type": "markdown",
      "source": [
        "## **Q5. Write a code to create numpy array of 3*3 matrix containing zeros only, using a numpy array creation function.**\n",
        "\n",
        "**[Hint: The size of the array will be 9 and the shape will be (3,3).]**\n"
      ],
      "metadata": {
        "id": "yIK6yjPSMHse"
      }
    },
    {
      "cell_type": "code",
      "source": [
        "zero_matrix = np.zeros((3, 3))\n",
        "zero_matrix"
      ],
      "metadata": {
        "colab": {
          "base_uri": "https://localhost:8080/"
        },
        "id": "Lab81veMaX4Y",
        "outputId": "c87af6ec-00f5-4f2e-b3fd-82496171f553"
      },
      "execution_count": 30,
      "outputs": [
        {
          "output_type": "execute_result",
          "data": {
            "text/plain": [
              "array([[0., 0., 0.],\n",
              "       [0., 0., 0.],\n",
              "       [0., 0., 0.]])"
            ]
          },
          "metadata": {},
          "execution_count": 30
        }
      ]
    },
    {
      "cell_type": "markdown",
      "source": [
        "## **Q6. Create an identity matrix of shape (5,5) using numpy functions?**\n",
        "\n",
        "**[Hint: An identity matrix is a matrix containing 1 diagonally and other elements will be 0.]**"
      ],
      "metadata": {
        "id": "e4EOfHLkMM3x"
      }
    },
    {
      "cell_type": "code",
      "source": [
        "identity_matrix = np.eye(5)\n",
        "identity_matrix"
      ],
      "metadata": {
        "colab": {
          "base_uri": "https://localhost:8080/"
        },
        "id": "hOxLCP0lMP6j",
        "outputId": "b124c782-4945-4e8d-c2f3-e5afa46459f5"
      },
      "execution_count": 31,
      "outputs": [
        {
          "output_type": "execute_result",
          "data": {
            "text/plain": [
              "array([[1., 0., 0., 0., 0.],\n",
              "       [0., 1., 0., 0., 0.],\n",
              "       [0., 0., 1., 0., 0.],\n",
              "       [0., 0., 0., 1., 0.],\n",
              "       [0., 0., 0., 0., 1.]])"
            ]
          },
          "metadata": {},
          "execution_count": 31
        }
      ]
    }
  ]
}