{
 "cells": [
  {
   "cell_type": "markdown",
   "id": "465a046e-0f0c-497a-b6d5-602c9d9e3299",
   "metadata": {},
   "source": [
    "## Type Casting"
   ]
  },
  {
   "cell_type": "markdown",
   "id": "d7408264-0891-4cd5-a74a-284851b7f643",
   "metadata": {
    "tags": []
   },
   "source": [
    "### What do we understand about type casting?\n",
    "The conversion of variables from one data type to another is called type casting. Python supports wide variety of functions and methods like int(), float(), str(), bool(), list(), dict(), tuple(), ord(), hex() and many more.\n",
    "Type Casting is the one word for the taks of converting one of these types into another form. This jupytor notebook explains the method of type casting through practical code, which can be helpful for all the beginners learning python programming language."
   ]
  },
  {
   "cell_type": "code",
   "execution_count": 1,
   "id": "4142525a-d2f5-486d-821c-6ce5e5f02891",
   "metadata": {},
   "outputs": [
    {
     "data": {
      "text/plain": [
       "int"
      ]
     },
     "execution_count": 1,
     "metadata": {},
     "output_type": "execute_result"
    }
   ],
   "source": [
    "# an example of typecasting\n",
    "a = 5\n",
    "type(a)"
   ]
  },
  {
   "cell_type": "markdown",
   "id": "99aab4cb-8770-4736-9380-5d2a3bfdefc4",
   "metadata": {},
   "source": [
    "#### 1. In following 2 blocks of code, there is a difference in the way output is being given\n",
    "If we use \"print()\" statement, the result is printed in the output console, which means we are actually printing on the screen. However, if we are directly executing any operation, we do get the result but it is not in the output console, we are just seeing what is happening when we execute our code.\n",
    "\n",
    "This is a small but important difference for understanding."
   ]
  },
  {
   "cell_type": "code",
   "execution_count": 2,
   "id": "c581fa1c-4bd6-4cee-b9ea-9c4cab1941d0",
   "metadata": {},
   "outputs": [
    {
     "data": {
      "text/plain": [
       "11"
      ]
     },
     "execution_count": 2,
     "metadata": {},
     "output_type": "execute_result"
    }
   ],
   "source": [
    "a = 5    # a is automatically assigned as an int variable\n",
    "b = 6    # b is automatically assigned as an integer variable\n",
    "a + b"
   ]
  },
  {
   "cell_type": "code",
   "execution_count": 3,
   "id": "b4c13b14-4661-427c-bc1e-2a5567b6ceec",
   "metadata": {},
   "outputs": [
    {
     "name": "stdout",
     "output_type": "stream",
     "text": [
      "11\n"
     ]
    }
   ],
   "source": [
    "a = 5\n",
    "b = 6\n",
    "# print(a + b)\n",
    "\n",
    "c = a + b      # c is now also an integer as a and b are integer\n",
    "print(c)"
   ]
  },
  {
   "cell_type": "markdown",
   "id": "31e89f70-c1bd-47e5-8fb2-6fea0fa8f104",
   "metadata": {},
   "source": [
    "#### 2. Following cells will show some of the examples of type casting in python\n",
    "In this example, we are initiating a string variable and passing a number in it withing quotes. Later on we are converting this variable into integer using int() method in python. The data type if both the variable is then printed and also their values, to check the difference among them.\n"
   ]
  },
  {
   "cell_type": "code",
   "execution_count": 4,
   "id": "4832a4ae-bec3-408f-a5e1-71a9419ed0e5",
   "metadata": {},
   "outputs": [],
   "source": [
    "# initiating a string variable\n",
    "string = \"56\"\n",
    "\n",
    "# converting the string variable into integer\n",
    "number = int(string)"
   ]
  },
  {
   "cell_type": "code",
   "execution_count": 5,
   "id": "dab226b6-e472-4f57-8e09-42fd630f8c02",
   "metadata": {},
   "outputs": [
    {
     "data": {
      "text/plain": [
       "str"
      ]
     },
     "execution_count": 5,
     "metadata": {},
     "output_type": "execute_result"
    }
   ],
   "source": [
    "type(string)"
   ]
  },
  {
   "cell_type": "code",
   "execution_count": 6,
   "id": "08e1e870-4a23-49e6-a23d-d08e1921c1ce",
   "metadata": {},
   "outputs": [
    {
     "data": {
      "text/plain": [
       "int"
      ]
     },
     "execution_count": 6,
     "metadata": {},
     "output_type": "execute_result"
    }
   ],
   "source": [
    "type(number)"
   ]
  },
  {
   "cell_type": "code",
   "execution_count": 7,
   "id": "053f4e4f-74a1-452e-83da-248c162885d8",
   "metadata": {},
   "outputs": [
    {
     "data": {
      "text/plain": [
       "'56'"
      ]
     },
     "execution_count": 7,
     "metadata": {},
     "output_type": "execute_result"
    }
   ],
   "source": [
    "string "
   ]
  },
  {
   "cell_type": "code",
   "execution_count": 8,
   "id": "ab5e1f07-28bc-4cb1-981d-1e7a1a56c3e8",
   "metadata": {},
   "outputs": [
    {
     "data": {
      "text/plain": [
       "56"
      ]
     },
     "execution_count": 8,
     "metadata": {},
     "output_type": "execute_result"
    }
   ],
   "source": [
    "number"
   ]
  },
  {
   "cell_type": "markdown",
   "id": "d4bd658d-7c3f-4101-b134-41af9244196b",
   "metadata": {},
   "source": [
    "#### 3. Following cells shows how to perform mathematical operations and involve typecasting.\n",
    "We can perform mathematical operations on the variables storing numbers in the string format. And this can be done in two different ways as shown below. However, there is only one condition that the adding variable must all be of int or float type. This is also applicable for substraction.\n",
    "\n",
    "The condition is little different for multiplication. One of the digits being integer can give you the result, but it is not necessary that the obtained result is the desired result.\n",
    "In the last cell, when we multiplied integer '7' with string '2', we got '77', instead of '14'. Though, we got the result and no syntax error, but we encountered a semantic error here, and thus we should always use typecasting in a right and responsible way to get the desired results."
   ]
  },
  {
   "cell_type": "code",
   "execution_count": 12,
   "id": "e6f22413-20e1-454b-8f87-72d5a3665220",
   "metadata": {},
   "outputs": [
    {
     "name": "stdout",
     "output_type": "stream",
     "text": [
      "The sum of numbers is calculated as 100 .\n"
     ]
    }
   ],
   "source": [
    "# initiate two variables having numbers but have type as 'string'\n",
    "num1 = '21'\n",
    "num2 = '79'\n",
    "\n",
    "#add these two number to get the sum\n",
    "int_num1 = int(num1)\n",
    "int_num2 = int(num2)\n",
    "\n",
    "sum_num = int_num1 + int_num2\n",
    "print(\"The sum of numbers is calculated as\", sum_num, \".\")"
   ]
  },
  {
   "cell_type": "code",
   "execution_count": 13,
   "id": "19f0b504-a647-4fe3-8f34-c4d8b54a3da0",
   "metadata": {},
   "outputs": [
    {
     "name": "stdout",
     "output_type": "stream",
     "text": [
      "The sum of numbers is calculated as 100 .\n"
     ]
    }
   ],
   "source": [
    "# this can also be done in other way, where we are typecasting inside our final formula\n",
    "# keeping the code restricted to one line\n",
    "\n",
    "addition = int(num1) + int(num2)\n",
    "print(\"The sum of numbers is calculated as\", addition, \".\")"
   ]
  },
  {
   "cell_type": "code",
   "execution_count": 20,
   "id": "537441fc-958d-41dc-b6c6-413c360d8eb6",
   "metadata": {},
   "outputs": [
    {
     "name": "stdout",
     "output_type": "stream",
     "text": [
      "The sum of numbers is calculated as 14 .\n"
     ]
    }
   ],
   "source": [
    "# for multiplication\n",
    "num1 = '2'\n",
    "num2 = '7'\n",
    "\n",
    "#add these two number to get the sum\n",
    "int_num1 = int(num1)\n",
    "int_num2 = int(num2)\n",
    "\n",
    "multiple_num = int_num1 * int_num2\n",
    "print(\"The sum of numbers is calculated as\", multiple_num, \".\")"
   ]
  },
  {
   "cell_type": "code",
   "execution_count": 21,
   "id": "3d02f187-fd7f-43f0-b1d9-2d868b59b16c",
   "metadata": {},
   "outputs": [
    {
     "name": "stdout",
     "output_type": "stream",
     "text": [
      "The sum of numbers is calculated as 77 .\n"
     ]
    }
   ],
   "source": [
    "multi_num = int(num1) * num2\n",
    "print(\"The sum of numbers is calculated as\", multi_num, \".\")"
   ]
  },
  {
   "cell_type": "markdown",
   "id": "1faec3b2-4a3c-40fd-bc66-810a621f493e",
   "metadata": {},
   "source": [
    "#### 4. Following cells will showcase typecasting on float.\n",
    "The float variable can be converted into interger using the int() method, and this results in giving us the nearest whole number of the float we just converted into int. We can also conver the string into float and integer into float, this will add a decimal point into the previous value."
   ]
  },
  {
   "cell_type": "code",
   "execution_count": 31,
   "id": "58b81fb4-e03f-4843-b68f-54fc31c9bd10",
   "metadata": {},
   "outputs": [],
   "source": [
    "base = 2.5 \n",
    "salary = base * 100000  # multiplying a float with int gives us float"
   ]
  },
  {
   "cell_type": "code",
   "execution_count": 27,
   "id": "73a4e245-b869-4aa6-b468-021e9eb21293",
   "metadata": {},
   "outputs": [
    {
     "data": {
      "text/plain": [
       "250000.0"
      ]
     },
     "execution_count": 27,
     "metadata": {},
     "output_type": "execute_result"
    }
   ],
   "source": [
    "salary"
   ]
  },
  {
   "cell_type": "code",
   "execution_count": 23,
   "id": "bd1e7be9-f98c-4473-bf04-245abd8d7473",
   "metadata": {},
   "outputs": [
    {
     "data": {
      "text/plain": [
       "float"
      ]
     },
     "execution_count": 23,
     "metadata": {},
     "output_type": "execute_result"
    }
   ],
   "source": [
    "type(base)"
   ]
  },
  {
   "cell_type": "code",
   "execution_count": 24,
   "id": "98b86e82-10c5-45b8-b37c-9e268157ceda",
   "metadata": {},
   "outputs": [
    {
     "data": {
      "text/plain": [
       "float"
      ]
     },
     "execution_count": 24,
     "metadata": {},
     "output_type": "execute_result"
    }
   ],
   "source": [
    "type(salary)"
   ]
  },
  {
   "cell_type": "code",
   "execution_count": 25,
   "id": "170292bb-c67a-41bf-abff-f750f3761d2a",
   "metadata": {},
   "outputs": [
    {
     "data": {
      "text/plain": [
       "2"
      ]
     },
     "execution_count": 25,
     "metadata": {},
     "output_type": "execute_result"
    }
   ],
   "source": [
    "int(base)"
   ]
  },
  {
   "cell_type": "code",
   "execution_count": 26,
   "id": "2f48c274-c090-479f-a1d6-c1e4294b1d25",
   "metadata": {},
   "outputs": [
    {
     "data": {
      "text/plain": [
       "250000"
      ]
     },
     "execution_count": 26,
     "metadata": {},
     "output_type": "execute_result"
    }
   ],
   "source": [
    "int(salary)"
   ]
  },
  {
   "cell_type": "code",
   "execution_count": 32,
   "id": "416b526a-1116-4d3d-80d8-57b8500d1a28",
   "metadata": {},
   "outputs": [
    {
     "data": {
      "text/plain": [
       "2500.0"
      ]
     },
     "execution_count": 32,
     "metadata": {},
     "output_type": "execute_result"
    }
   ],
   "source": [
    "# converting an int to float adds a decimal point\n",
    "a = 2500\n",
    "float_num = float(a)\n",
    "float_num"
   ]
  },
  {
   "cell_type": "markdown",
   "id": "3f69a22c-3ab6-4728-869c-0c607f69b53a",
   "metadata": {},
   "source": [
    "#### 5. Typecasting Boolean Values\n",
    "Boolean values are just 'True' and 'False', where '0' is marked as 'False' and anything else is marked as 'True'. Following cells shows the typecasting and operations on boolean objects."
   ]
  },
  {
   "cell_type": "code",
   "execution_count": 34,
   "id": "41b1e346-d60b-43c3-b2c8-2808f5e04bc0",
   "metadata": {},
   "outputs": [
    {
     "data": {
      "text/plain": [
       "False"
      ]
     },
     "execution_count": 34,
     "metadata": {},
     "output_type": "execute_result"
    }
   ],
   "source": [
    "bool(0)"
   ]
  },
  {
   "cell_type": "code",
   "execution_count": 35,
   "id": "d2bd934b-1920-4554-9238-3247bf4c8f12",
   "metadata": {},
   "outputs": [
    {
     "data": {
      "text/plain": [
       "True"
      ]
     },
     "execution_count": 35,
     "metadata": {},
     "output_type": "execute_result"
    }
   ],
   "source": [
    "bool(1)"
   ]
  },
  {
   "cell_type": "code",
   "execution_count": 36,
   "id": "307d3a15-27ad-4584-b17a-eb2395602642",
   "metadata": {},
   "outputs": [
    {
     "data": {
      "text/plain": [
       "True"
      ]
     },
     "execution_count": 36,
     "metadata": {},
     "output_type": "execute_result"
    }
   ],
   "source": [
    "bool(5)"
   ]
  },
  {
   "cell_type": "code",
   "execution_count": 37,
   "id": "75c76053-813f-42f2-bca3-30f0cf48f746",
   "metadata": {},
   "outputs": [
    {
     "data": {
      "text/plain": [
       "True"
      ]
     },
     "execution_count": 37,
     "metadata": {},
     "output_type": "execute_result"
    }
   ],
   "source": [
    "bool(-2)"
   ]
  },
  {
   "cell_type": "markdown",
   "id": "f1333066-1113-4e6b-9497-5ed8c48fea51",
   "metadata": {},
   "source": [
    "### CONCLUSION"
   ]
  },
  {
   "cell_type": "markdown",
   "id": "2907f45a-7809-490e-9eea-45d3e572aad2",
   "metadata": {},
   "source": [
    "1. The conversion of one data type to another is known as type casting or type conversion.\n",
    "\n",
    "2. Python supports a wide variety of functions or methods like int(), float(), str(), list(), tuple(), set(), dict(), and more.\n",
    "\n",
    "3. There are two variations of type casting in python namely - Explicit Conversiton and Implicit Conversiton\n",
    "\n",
    "a. Explicit Conversion - A conversion which is explicitely defined within a program\n",
    "\n",
    "b. Implicit Conversion - A conversion or dequence of conversitons required to convert a variables data type without defining it explicitely. (We have done example on it in the code blocks above)\n",
    "\n",
    "4. According to the level of data types, one datatype is co\n",
    "\n"
   ]
  },
  {
   "cell_type": "code",
   "execution_count": null,
   "id": "2c9138af-3eba-457d-9557-96887914d9b9",
   "metadata": {},
   "outputs": [],
   "source": []
  },
  {
   "cell_type": "code",
   "execution_count": null,
   "id": "2a551b31-bab7-4851-becb-d4ff16420756",
   "metadata": {},
   "outputs": [],
   "source": []
  },
  {
   "cell_type": "code",
   "execution_count": null,
   "id": "7658de6b-80aa-458b-a9e9-c86fbfc6aa01",
   "metadata": {},
   "outputs": [],
   "source": []
  }
 ],
 "metadata": {
  "kernelspec": {
   "display_name": "Python 3 (ipykernel)",
   "language": "python",
   "name": "python3"
  },
  "language_info": {
   "codemirror_mode": {
    "name": "ipython",
    "version": 3
   },
   "file_extension": ".py",
   "mimetype": "text/x-python",
   "name": "python",
   "nbconvert_exporter": "python",
   "pygments_lexer": "ipython3",
   "version": "3.10.8"
  }
 },
 "nbformat": 4,
 "nbformat_minor": 5
}
