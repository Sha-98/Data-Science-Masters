{
  "nbformat": 4,
  "nbformat_minor": 0,
  "metadata": {
    "colab": {
      "provenance": [],
      "authorship_tag": "ABX9TyPgibHbXsk5RYCE4H60hscn",
      "include_colab_link": true
    },
    "kernelspec": {
      "name": "python3",
      "display_name": "Python 3"
    },
    "language_info": {
      "name": "python"
    }
  },
  "cells": [
    {
      "cell_type": "markdown",
      "metadata": {
        "id": "view-in-github",
        "colab_type": "text"
      },
      "source": [
        "<a href=\"https://colab.research.google.com/github/Sha-98/Data-Science-Masters/blob/main/Practice(7-9-23).ipynb\" target=\"_parent\"><img src=\"https://colab.research.google.com/assets/colab-badge.svg\" alt=\"Open In Colab\"/></a>"
      ]
    },
    {
      "cell_type": "markdown",
      "source": [
        "### Generator Functions (e.g. Fibonacci Series)\n",
        "\n",
        "Generator functions are different from normal functions and are specifically created with a vision of using minimum memory possible during run time. The main difference in the code among the normal function and the generator function is the use of key words \"return\" and \"yield\".\n",
        "\n",
        "One of the best and famous examples of the generator functions is the Fibonacci Series."
      ],
      "metadata": {
        "id": "_cETpuWoO5OW"
      }
    },
    {
      "cell_type": "code",
      "execution_count": null,
      "metadata": {
        "id": "_pzeF2moNr7u"
      },
      "outputs": [],
      "source": [
        "##Fibonacci Series\n",
        "\n",
        "def febb(n):\n",
        "  a,b = 0,1\n",
        "  for i in range(n):\n",
        "    yield a\n",
        "    a,b = b, a+b"
      ]
    },
    {
      "cell_type": "code",
      "source": [
        "febb(5)"
      ],
      "metadata": {
        "colab": {
          "base_uri": "https://localhost:8080/"
        },
        "id": "VthfNSiqOs3Q",
        "outputId": "e3f3f1c0-775c-4e3e-92ea-5d3bb7935dcd"
      },
      "execution_count": null,
      "outputs": [
        {
          "output_type": "execute_result",
          "data": {
            "text/plain": [
              "<generator object febb at 0x7e44c4216e30>"
            ]
          },
          "metadata": {},
          "execution_count": 2
        }
      ]
    },
    {
      "cell_type": "code",
      "source": [
        "for i in febb(15):\n",
        "  print(i)"
      ],
      "metadata": {
        "colab": {
          "base_uri": "https://localhost:8080/"
        },
        "id": "srG9c6HcOs5-",
        "outputId": "8edc0a05-3a38-4748-d959-e393ca4c8388"
      },
      "execution_count": null,
      "outputs": [
        {
          "output_type": "stream",
          "name": "stdout",
          "text": [
            "0\n",
            "1\n",
            "1\n",
            "2\n",
            "3\n",
            "5\n",
            "8\n",
            "13\n",
            "21\n",
            "34\n",
            "55\n",
            "89\n",
            "144\n",
            "233\n",
            "377\n"
          ]
        }
      ]
    },
    {
      "cell_type": "markdown",
      "source": [
        "### Lambdaa Function\n",
        "\n",
        "Lambdaa function is a unique kind of function we get to see in python. This is also called a one line function where you can define a function in just one line. This is used in ad-hoc tasks to get the desired results faster in lesser lines of code. We can perform various kinds of tasks using the lambdaa function."
      ],
      "metadata": {
        "id": "0zj3Ve5cSq_k"
      }
    },
    {
      "cell_type": "code",
      "source": [
        "#addition\n",
        "sum = lambda a,b : a+b"
      ],
      "metadata": {
        "id": "rp26Bh-JOs8j"
      },
      "execution_count": null,
      "outputs": []
    },
    {
      "cell_type": "code",
      "source": [
        "sum(1,2)"
      ],
      "metadata": {
        "colab": {
          "base_uri": "https://localhost:8080/"
        },
        "id": "7sfdDbw9Os_W",
        "outputId": "48bcec2c-719f-43eb-a85a-083e0d2dcbc8"
      },
      "execution_count": null,
      "outputs": [
        {
          "output_type": "execute_result",
          "data": {
            "text/plain": [
              "3"
            ]
          },
          "metadata": {},
          "execution_count": 7
        }
      ]
    },
    {
      "cell_type": "code",
      "source": [
        "#square\n",
        "sq = lambda a : a*a"
      ],
      "metadata": {
        "id": "MNkqcgUlOtC2"
      },
      "execution_count": null,
      "outputs": []
    },
    {
      "cell_type": "code",
      "source": [
        "sq(3)"
      ],
      "metadata": {
        "colab": {
          "base_uri": "https://localhost:8080/"
        },
        "id": "zDKBhWp-OtFF",
        "outputId": "2e3bad9b-1671-450f-9875-b447445c8e99"
      },
      "execution_count": null,
      "outputs": [
        {
          "output_type": "execute_result",
          "data": {
            "text/plain": [
              "9"
            ]
          },
          "metadata": {},
          "execution_count": 10
        }
      ]
    },
    {
      "cell_type": "code",
      "source": [
        "#power\n",
        "pow = lambda a,b : a**b"
      ],
      "metadata": {
        "id": "RCh9rnZIOtHu"
      },
      "execution_count": null,
      "outputs": []
    },
    {
      "cell_type": "code",
      "source": [
        "pow(2,3)"
      ],
      "metadata": {
        "colab": {
          "base_uri": "https://localhost:8080/"
        },
        "id": "SY86JMwgOtKQ",
        "outputId": "1ce46415-21af-4ea3-aa64-3ffa95e0b4d8"
      },
      "execution_count": null,
      "outputs": [
        {
          "output_type": "execute_result",
          "data": {
            "text/plain": [
              "8"
            ]
          },
          "metadata": {},
          "execution_count": 12
        }
      ]
    },
    {
      "cell_type": "markdown",
      "source": [
        "#### Map, Reduce and Filter Function\n",
        "\n",
        "Map Function is also a one line function which maps the elements of the selected list and performs the mentioned operation to create a new list. This function can be used to create a new data structure which is to be created on the basis of the already existing data structure, like a list.\n",
        "\n",
        "\n",
        "Reduce function reduces the list to one element by following the mentioned operation on the elements of the list one by one. This is also a one liner function.\n",
        "\n",
        "Filter function is a one liner function we have in python which can be used to filter the data present in a certain data structure based on a condition.\n",
        "\n",
        "Following coding cells showcases the examples of these functions. One thing is to be noted that everytime we are using lambda function, which is making our code clean and short."
      ],
      "metadata": {
        "id": "rMX3F_Aw_Dhb"
      }
    },
    {
      "cell_type": "code",
      "source": [
        "# map function to print square of the elements of a list l\n",
        "\n",
        "l = [1,2,3,4,5,6]\n",
        "\n",
        "a = list(map(lambda x : x**2 , l))\n",
        "print(a)"
      ],
      "metadata": {
        "id": "lr89iyfOOtN1",
        "colab": {
          "base_uri": "https://localhost:8080/"
        },
        "outputId": "5bd95411-8bc2-424b-e599-387f196b17b6"
      },
      "execution_count": 1,
      "outputs": [
        {
          "output_type": "stream",
          "name": "stdout",
          "text": [
            "[1, 4, 9, 16, 25, 36]\n"
          ]
        }
      ]
    },
    {
      "cell_type": "code",
      "source": [
        "# reduce function for addition\n",
        "\n",
        "from functools import reduce\n",
        "\n",
        "b = reduce(lambda x,y : x+y, l)\n",
        "print(b)"
      ],
      "metadata": {
        "colab": {
          "base_uri": "https://localhost:8080/"
        },
        "id": "XdpwoqYlASmc",
        "outputId": "5632b90d-2edb-4c30-a50c-172c326a2643"
      },
      "execution_count": 3,
      "outputs": [
        {
          "output_type": "stream",
          "name": "stdout",
          "text": [
            "21\n"
          ]
        }
      ]
    },
    {
      "cell_type": "code",
      "source": [
        "# filter the given list to only get the numbers divisible by 2\n",
        "\n",
        "c = list(filter(lambda x : x%2 == 0, l))\n",
        "print(c)"
      ],
      "metadata": {
        "colab": {
          "base_uri": "https://localhost:8080/"
        },
        "id": "ktMg2pkTASpU",
        "outputId": "431885f8-5ac6-4914-99ea-eceaffd7487d"
      },
      "execution_count": 7,
      "outputs": [
        {
          "output_type": "stream",
          "name": "stdout",
          "text": [
            "[2, 4, 6]\n"
          ]
        }
      ]
    },
    {
      "cell_type": "code",
      "source": [],
      "metadata": {
        "id": "hiUI769jASsG"
      },
      "execution_count": null,
      "outputs": []
    },
    {
      "cell_type": "code",
      "source": [],
      "metadata": {
        "id": "9CT-JIrAASvM"
      },
      "execution_count": null,
      "outputs": []
    },
    {
      "cell_type": "code",
      "source": [],
      "metadata": {
        "id": "vebVsXkZASyQ"
      },
      "execution_count": null,
      "outputs": []
    },
    {
      "cell_type": "code",
      "source": [],
      "metadata": {
        "id": "kQxHHBIPAS1V"
      },
      "execution_count": null,
      "outputs": []
    },
    {
      "cell_type": "code",
      "source": [],
      "metadata": {
        "id": "P2powfC7AS4x"
      },
      "execution_count": null,
      "outputs": []
    },
    {
      "cell_type": "code",
      "source": [],
      "metadata": {
        "id": "xpmRLpzmAPpq"
      },
      "execution_count": null,
      "outputs": []
    }
  ]
}