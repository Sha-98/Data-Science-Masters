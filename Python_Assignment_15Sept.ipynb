{
  "nbformat": 4,
  "nbformat_minor": 0,
  "metadata": {
    "colab": {
      "provenance": [],
      "include_colab_link": true
    },
    "kernelspec": {
      "name": "python3",
      "display_name": "Python 3"
    },
    "language_info": {
      "name": "python"
    }
  },
  "cells": [
    {
      "cell_type": "markdown",
      "metadata": {
        "id": "view-in-github",
        "colab_type": "text"
      },
      "source": [
        "<a href=\"https://colab.research.google.com/github/Sha-98/Data-Science-Masters/blob/main/Python_Assignment_15Sept.ipynb\" target=\"_parent\"><img src=\"https://colab.research.google.com/assets/colab-badge.svg\" alt=\"Open In Colab\"/></a>"
      ]
    },
    {
      "cell_type": "markdown",
      "source": [
        "# Python Assignment"
      ],
      "metadata": {
        "id": "bJis2SSPKJ6p"
      }
    },
    {
      "cell_type": "markdown",
      "source": [
        "Q1. Create a function which will take a list as an argument and return the product of all the numbers\n",
        "after creating a flat list.\n",
        "Use the below-given list as an argument for your function.\n",
        "\n",
        "list1 = [1,2,3,4, [44,55,66, True], False, (34,56,78,89,34), {1,2,3,3,2,1}, {1:34, \"key2\": [55, 67, 78, 89], 4: (45,\n",
        "22, 61, 34)}, [56, 'data science'], 'Machine Learning']\n",
        "\n",
        "Note: you must extract numeric keys and values of the dictionary also."
      ],
      "metadata": {
        "id": "iXRTmzYNvN5Z"
      }
    },
    {
      "cell_type": "code",
      "source": [
        "# function which multiplies the integers in the list\n",
        "from functools import reduce\n",
        "\n",
        "def product(l):\n",
        "  num = []\n",
        "  for i in l:\n",
        "    if type(i) == int or type(i)== float:\n",
        "      num.append(i)\n",
        "    elif type(i)==list:\n",
        "      for j in i:\n",
        "        if  type(j)==int or type(j)==float:\n",
        "          num.append(j)\n",
        "    elif type(i)==tuple:\n",
        "      for j in i:\n",
        "        if type(j)==int or type(j)==float:\n",
        "          num.append(j)\n",
        "    elif type(i)==set:\n",
        "      for j in i:\n",
        "        if type(j)==int or type(j)==float:\n",
        "          num.append(j)\n",
        "    elif type(i)==dict:\n",
        "      for j in i.keys():\n",
        "        if type(j)==int or type(j)==float:\n",
        "          num.append(j)\n",
        "      for k in i.values():\n",
        "        if type(k)==int or type(k)==float:\n",
        "          num.append(k)\n",
        "        elif type(k)==list:\n",
        "          for p in k:\n",
        "            if type(p)==int or type(p)==float:\n",
        "              num.append(p)\n",
        "        elif type(k)==tuple:\n",
        "          for t in k:\n",
        "            if type(t)==int or type(t)==float:\n",
        "              num.append(t)\n",
        "\n",
        "  print(\"The flatten list from the given list is: \")\n",
        "  print(num)\n",
        "  print(\"\\n\")\n",
        "  # return num\n",
        "\n",
        "  reduced_num = reduce(lambda x,y:x*y, num)\n",
        "  print(\"The product of the flatten list is: \")\n",
        "  return reduced_num\n",
        "\n",
        "l1 = [1,2,3,4, [44,55,66, True], False, (34,56,78,89,34), {1,2,3,3,2,1}, {1:34, \"key2\": [55, 67, 78, 89], 4: (45, 22, 61, 34)}, [56, 'data science'], 'Machine Learning']\n",
        "product(l1)\n"
      ],
      "metadata": {
        "colab": {
          "base_uri": "https://localhost:8080/"
        },
        "id": "1Voxbc3LvkrL",
        "outputId": "a88accc6-76de-4af3-a003-5b07ad1be44b"
      },
      "execution_count": 66,
      "outputs": [
        {
          "output_type": "stream",
          "name": "stdout",
          "text": [
            "The flatten list from the given list is: \n",
            "[1, 2, 3, 4, 44, 55, 66, 34, 56, 78, 89, 34, 1, 2, 3, 1, 4, 34, 55, 67, 78, 89, 45, 22, 61, 34, 56]\n",
            "\n",
            "\n",
            "The product of the flatten list is: \n"
          ]
        },
        {
          "output_type": "execute_result",
          "data": {
            "text/plain": [
              "4134711838987085478833841242112000"
            ]
          },
          "metadata": {},
          "execution_count": 66
        }
      ]
    },
    {
      "cell_type": "markdown",
      "source": [
        "Q2. Write a python program for encrypting a message sent to you by your friend. The logic of encryption\n",
        "should be such that, for a the output should be z. For b, the output should be y. For c, the output should\n",
        "be x respectively. Also, the whitespace should be replaced with a dollar sign. Keep the punctuation\n",
        "marks unchanged.\n",
        "\n",
        "Input Sentence: I want to become a Data Scientist.\n",
        "\n",
        "Encrypt the above input sentence using the program you just created.\n",
        "\n",
        "Note: Convert the given input sentence into lowercase before encrypting. The final output should be\n",
        "lowercase."
      ],
      "metadata": {
        "id": "VkGzzLUjvOVb"
      }
    },
    {
      "cell_type": "code",
      "source": [
        "def encrypted(message):\n",
        "  char_mapping = {\n",
        "        'a': 'z', 'b': 'y', 'c': 'x', 'd': 'w', 'e': 'v',\n",
        "        'f': 'u', 'g': 't', 'h': 's', 'i': 'r', 'j': 'q',\n",
        "        'k': 'p', 'l': 'o', 'm': 'n', 'n': 'm', 'o': 'l',\n",
        "        'p': 'k', 'q': 'j', 'r': 'i', 's': 'h', 't': 'g',\n",
        "        'u': 'f', 'v': 'e', 'w': 'd', 'x': 'c', 'y': 'b',\n",
        "        'z': 'a', ' ': '$'\n",
        "  }\n",
        "\n",
        "  encrypted_msg = \"\"\n",
        "\n",
        "  for char in message:\n",
        "    encrypted_char = char_mapping.get(char.lower(), char)\n",
        "\n",
        "    if char.isupper():\n",
        "      encrypted_char = encrypted_char.upper()\n",
        "\n",
        "    encrypted_msg += encrypted_char\n",
        "\n",
        "  print(\"\\n\")\n",
        "  print(\"The Encrypted Message of the Input Message is: \")\n",
        "  return encrypted_msg\n",
        "\n",
        "msg = str(input(\"Please Enter Your Message Here! \"))\n",
        "\n",
        "encrypted(msg)\n"
      ],
      "metadata": {
        "colab": {
          "base_uri": "https://localhost:8080/",
          "height": 105
        },
        "id": "80ivLTJIvlax",
        "outputId": "4b9a82e8-2f19-4969-fe2d-3870bd923113"
      },
      "execution_count": 70,
      "outputs": [
        {
          "output_type": "stream",
          "name": "stdout",
          "text": [
            "Please Enter Your Message Here! I want to become a Data Scientist.\n",
            "\n",
            "\n",
            "The Encrypted Message of the Input Message is: \n"
          ]
        },
        {
          "output_type": "execute_result",
          "data": {
            "text/plain": [
              "'R$dzmg$gl$yvxlnv$z$Wzgz$Hxrvmgrhg.'"
            ],
            "application/vnd.google.colaboratory.intrinsic+json": {
              "type": "string"
            }
          },
          "metadata": {},
          "execution_count": 70
        }
      ]
    }
  ]
}