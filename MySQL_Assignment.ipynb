{
  "nbformat": 4,
  "nbformat_minor": 0,
  "metadata": {
    "colab": {
      "provenance": [],
      "authorship_tag": "ABX9TyMKPYFuQaH3E5D9lSJnjGPS",
      "include_colab_link": true
    },
    "kernelspec": {
      "name": "python3",
      "display_name": "Python 3"
    },
    "language_info": {
      "name": "python"
    }
  },
  "cells": [
    {
      "cell_type": "markdown",
      "metadata": {
        "id": "view-in-github",
        "colab_type": "text"
      },
      "source": [
        "<a href=\"https://colab.research.google.com/github/Sha-98/Data-Science-Masters/blob/main/MySQL_Assignment.ipynb\" target=\"_parent\"><img src=\"https://colab.research.google.com/assets/colab-badge.svg\" alt=\"Open In Colab\"/></a>"
      ]
    },
    {
      "cell_type": "markdown",
      "source": [
        "## MySQL Assignment"
      ],
      "metadata": {
        "id": "vyJuPJA4wEXS"
      }
    },
    {
      "cell_type": "markdown",
      "source": [
        "### **Q1. What is a database? Differentiate between SQL and NoSQL databases.**\n",
        "\n",
        "A database is a structured collection of data that is organized and stored in a way that facilities efficient retrieval, management, and updating of the data. it serves as a centralized and organized repository for storing and managing information.\n",
        "\n",
        "However, there are certain differences among the SQL and NoSQL databases as listed below:\n",
        "\n",
        "**1. Data Structure-**\n",
        "* ***SQL Databases*** - Tables with fixed schemas\n",
        "* ***NoSQL Databased*** - Flexible and dynamic\n",
        "\n",
        "**2. Query Language-**\n",
        "* ***SQL Databases*** - SQL (Structured Query Language)\n",
        "* ***NoSQL Databased*** - Varies based on the database\n",
        "\n",
        "**3. Schema-**\n",
        "* ***SQL Databases*** - Fixed Schema\n",
        "* ***NoSQL Databased*** - Schema Less\n",
        "\n",
        "**4. Data Storage-**\n",
        "* ***SQL Databases*** - Structured (rows and columns)\n",
        "* ***NoSQL Databased*** - Unstructured or semi-structured (e.g., JSON, BSON)\n",
        "\n",
        "**5. Scaling-**\n",
        "* ***SQL Databases*** - Typically vertical scaling (adding resources to a single server)\n",
        "* ***NoSQL Databased*** - Horizontally scalable (adding more servers to a distributed system)\n",
        "\n",
        "**5. Complex Transactions-**\n",
        "* ***SQL Databases*** - Well-suited for complex transactions involving multiple tables (ACID properties)\n",
        "* ***NoSQL Databased*** - Often sacrifices ACID properties for better performance in distributed systems\n",
        "\n",
        "**6. Use Cases-**\n",
        "* ***SQL Databases*** - Complex queries, transactions, structured data\n",
        "* ***NoSQL Databased*** - Large volumes of diverse data, rapid development, scalability\n",
        "\n"
      ],
      "metadata": {
        "id": "FrJtBCDIa-Wy"
      }
    },
    {
      "cell_type": "markdown",
      "source": [
        "### **Q2. What is DDL? Explain why CREATE, DROP, ALTER, and TRUNCATE are used with an example.**\n",
        "\n",
        "DDL stands for Data Definition Language, and it is a subset of SQL that is used to define and manage the structure of a database. DDL statements are responsible for defining, altering, and deleting database objects such as tables, indexes, and views. Some common DDL statements include CREATE, DROP, ALTER, and TRUNCATE.\n",
        "\n",
        "***1. CREATE:***\n",
        "* **Purpose -** The CREATE statement is used to create a new database object, such as a table, index, or view.\n",
        "\n",
        "* **Example:** Creating a new table named \"employees\" with columns for employee information."
      ],
      "metadata": {
        "id": "eLeCWSo8a-Z0"
      }
    },
    {
      "cell_type": "code",
      "source": [
        "CREATE TABLE employees (\n",
        "    employee_id INT PRIMARY KEY,\n",
        "    first_name VARCHAR(50),\n",
        "    last_name VARCHAR(50),\n",
        "    hire_date DATE\n",
        ")"
      ],
      "metadata": {
        "id": "YxHOLhsQJPqW"
      },
      "execution_count": null,
      "outputs": []
    },
    {
      "cell_type": "markdown",
      "source": [
        "***2. DROP:***\n",
        "\n",
        "* **Purpose:** The DROP statement is used to delete an existing database object, such as a table, index, or view.\n",
        "\n",
        "* **Example:** Dropping the \"employees\" table."
      ],
      "metadata": {
        "id": "dbHp9BiHJUON"
      }
    },
    {
      "cell_type": "code",
      "source": [
        "DROP TABLE employees;"
      ],
      "metadata": {
        "id": "r_bQmUUFJcQN"
      },
      "execution_count": null,
      "outputs": []
    },
    {
      "cell_type": "markdown",
      "source": [
        "***3. ALTER:***\n",
        "\n",
        "* **Purpose:** The ALTER statement is used to modify the structure of an existing database object, such as adding or dropping columns in a table.\n",
        "\n",
        "* **Example:** Adding a new column named \"department\" to the \"employees\" table."
      ],
      "metadata": {
        "id": "IBIij7_ZJeSk"
      }
    },
    {
      "cell_type": "code",
      "source": [
        "ALTER TABLE employees\n",
        "ADD COLUMN department VARCHAR(50);"
      ],
      "metadata": {
        "id": "am666VhUJx5i"
      },
      "execution_count": null,
      "outputs": []
    },
    {
      "cell_type": "markdown",
      "source": [
        "T***4. RUNCATE:***\n",
        "\n",
        "* **Purpose:** The TRUNCATE statement is used to delete all rows from a table but retains the table structure for future use.\n",
        "\n",
        "* **Example:** Removing all records from the \"employees\" table."
      ],
      "metadata": {
        "id": "pkIrXgpOJ2a5"
      }
    },
    {
      "cell_type": "code",
      "source": [
        "TRUNCATE TABLE employees;"
      ],
      "metadata": {
        "id": "vkN4BVymJ94t"
      },
      "execution_count": null,
      "outputs": []
    },
    {
      "cell_type": "markdown",
      "source": [
        "***In summary, these DDL statements are essential for defining and managing the structure of a database. CREATE is used for creating new objects, DROP is used for deleting objects, ALTER is used for modifying the structure of existing objects, and TRUNCATE is used for removing all rows from a table while keeping the table structure intact.***"
      ],
      "metadata": {
        "id": "gVQAdtxDKQRx"
      }
    },
    {
      "cell_type": "markdown",
      "source": [
        "### **Q3. What is DML? Explain INSERT, UPDATE, and DELETE with an example.**\n",
        "\n",
        "DML stands for Data Manipulation Language, and it is a subset of SQL used to manage and manipulate data stored in a database. DML statements are responsible for inserting, updating, and deleting records in database tables. The three main DML statements are INSERT, UPDATE, and DELETE.\n",
        "\n",
        "***1. INSERT:***\n",
        "\n",
        "* **Purpose:** The INSERT statement is used to add new records (rows) into a table.\n",
        "\n",
        "* **Example:** Inserting a new employee into the \"employees\" table."
      ],
      "metadata": {
        "id": "ZKz01PKqa-cc"
      }
    },
    {
      "cell_type": "code",
      "source": [
        "INSERT INTO employees (employee_id, first_name, last_name, hire_date)\n",
        "VALUES (1, 'John', 'Doe', '2023-01-01');"
      ],
      "metadata": {
        "id": "Yen7OuOAKvEe"
      },
      "execution_count": null,
      "outputs": []
    },
    {
      "cell_type": "markdown",
      "source": [
        "In this example, a new record with the specified values for the columns employee_id, first_name, last_name, and hire_date is added to the \"employees\" table.\n",
        "\n",
        "***2. UPDATE:***\n",
        "\n",
        "* **Purpose:** The UPDATE statement is used to modify existing records in a table.\n",
        "\n",
        "* **Example:** Updating the department for the employee with employee_id 1 in the \"employees\" table."
      ],
      "metadata": {
        "id": "R6n-EW66Kwaa"
      }
    },
    {
      "cell_type": "code",
      "source": [
        "UPDATE employees\n",
        "SET department = 'IT'\n",
        "WHERE employee_id = 1;"
      ],
      "metadata": {
        "id": "sabIFXFRK7bO"
      },
      "execution_count": null,
      "outputs": []
    },
    {
      "cell_type": "markdown",
      "source": [
        "This example updates the \"employees\" table by setting the value of the department column to 'IT' for the employee with employee_id 1.\n",
        "\n",
        "***3. DELETE:***\n",
        "\n",
        "* **Purpose:** The DELETE statement is used to remove records from a table.\n",
        "\n",
        "* **Example:** Deleting the employee with employee_id 1 from the \"employees\" table."
      ],
      "metadata": {
        "id": "Q49lMNwJK-b_"
      }
    },
    {
      "cell_type": "code",
      "source": [
        "DELETE FROM employees\n",
        "WHERE employee_id = 1;"
      ],
      "metadata": {
        "id": "88n3u3wOLIjD"
      },
      "execution_count": null,
      "outputs": []
    },
    {
      "cell_type": "markdown",
      "source": [
        "In this example, the record for the employee with employee_id 1 is removed from the \"employees\" table.\n",
        "\n",
        "***These DML statements are crucial for managing the data within a database. INSERT is used to add new data, UPDATE is used to modify existing data, and DELETE is used to remove data from a table. Together, DDL and DML statements form the core components of SQL, allowing for the definition and manipulation of the structure and content of a database.***"
      ],
      "metadata": {
        "id": "_YFcbJfJLHzX"
      }
    },
    {
      "cell_type": "markdown",
      "source": [
        "### **Q4. What is DQL? Explain SELECT with an example.**\n",
        "\n",
        "DQL stands for Data Query Language, and it is a subset of SQL (Structured Query Language) specifically designed for querying and retrieving data from a database. The primary and most commonly used DQL statement is SELECT.\n",
        "\n",
        "***1. SELECT:***\n",
        "\n",
        "* **Purpose:** The SELECT statement is used to retrieve data from one or more tables in a database.\n",
        "\n",
        "* **Example:** Retrieving information about employees from the \"employees\" table."
      ],
      "metadata": {
        "id": "FtvUKx46a-lE"
      }
    },
    {
      "cell_type": "code",
      "source": [
        "SELECT employee_id, first_name, last_name, hire_date\n",
        "FROM employees\n",
        "WHERE department = 'IT';"
      ],
      "metadata": {
        "id": "mqFYE-cpMRz8"
      },
      "execution_count": null,
      "outputs": []
    },
    {
      "cell_type": "markdown",
      "source": [
        "In this example:\n",
        "\n",
        "* SELECT: Specifies the columns to be retrieved.\n",
        "* FROM employees: Specifies the table from which to retrieve the data (\"employees\" table in this case).\n",
        "* WHERE department = 'IT': Specifies a condition to filter the rows based on the value in the \"department\" column.\n",
        "\n",
        "The result of this query would be a set of rows containing the selected columns (employee_id, first_name, last_name, hire_date) where the department is 'IT'.\n",
        "\n",
        "Additional clauses and options can be added to the SELECT statement for more complex queries, such as JOIN clauses to combine data from multiple tables, GROUP BY for aggregating data, and ORDER BY for sorting the result set.\n",
        "\n",
        "***DQL is focused on querying and retrieving data, providing a powerful tool for extracting information from a database.***"
      ],
      "metadata": {
        "id": "lHb8qmNIMU8-"
      }
    },
    {
      "cell_type": "markdown",
      "source": [
        "### **Q5. Explain Primary Key and Foreign Key.**\n",
        "\n",
        "***01. Primary Key -***\n",
        "A primary key is a column or a set of columns in a database table that uniquely identifies each record in that table. The primary key must have a unique value for each record, and it cannot contain NULL values. Its purpose is to ensure the integrity and uniqueness of each row in the table. Typically, the primary key is used as a reference point for relationships with other tables in the database.\n",
        "\n",
        "For example, consider a table named \"employees\" with an \"employee_id\" column as the primary key:\n",
        "\n"
      ],
      "metadata": {
        "id": "DU8tr4WVa-ye"
      }
    },
    {
      "cell_type": "code",
      "source": [
        "CREATE TABLE employees (\n",
        "    employee_id INT PRIMARY KEY,\n",
        "    first_name VARCHAR(50),\n",
        "    last_name VARCHAR(50),\n",
        "    hire_date DATE\n",
        ");"
      ],
      "metadata": {
        "id": "umJwzDDTUtiY"
      },
      "execution_count": null,
      "outputs": []
    },
    {
      "cell_type": "markdown",
      "source": [
        "In this case, the \"employee_id\" column is designated as the primary key. It will ensure that each employee has a unique identifier, and no two employees can have the same \"employee_id.\"\n",
        "\n",
        "***02. Foreign Key -***\n",
        "A foreign key is a column or a set of columns in a database table that refers to the primary key of another table. It establishes a link between the data in two tables, creating a relationship between them. The foreign key constraint ensures that the values in the foreign key column(s) match the values in the primary key column of the referenced table or are NULL.\n",
        "\n",
        "For example, consider another table named \"departments\" with a \"department_id\" column as the primary key. We can create a foreign key relationship between the \"employees\" table and the \"departments\" table based on the \"department_id\" column:"
      ],
      "metadata": {
        "id": "vTZm8jt8UxLZ"
      }
    },
    {
      "cell_type": "code",
      "source": [
        "CREATE TABLE departments (\n",
        "    department_id INT PRIMARY KEY,\n",
        "    department_name VARCHAR(50)\n",
        ");\n",
        "\n",
        "ALTER TABLE employees\n",
        "ADD COLUMN department_id INT,\n",
        "ADD CONSTRAINT fk_department\n",
        "    FOREIGN KEY (department_id)\n",
        "    REFERENCES departments (department_id);"
      ],
      "metadata": {
        "id": "Yt_h0Zq0U786"
      },
      "execution_count": null,
      "outputs": []
    },
    {
      "cell_type": "markdown",
      "source": [
        "In this example, the \"department_id\" column in the \"employees\" table is a foreign key that references the primary key \"department_id\" in the \"departments\" table. This establishes a relationship, ensuring that values in the \"department_id\" column of the \"employees\" table correspond to existing values in the \"department_id\" column of the \"departments\" table."
      ],
      "metadata": {
        "id": "31n_RBSHU9rl"
      }
    },
    {
      "cell_type": "markdown",
      "source": [
        "### **Q6. Write a python code to connect MySQL to python. Explain the cursor() and execute() method.**\n",
        "\n"
      ],
      "metadata": {
        "id": "sbSgxIHPa-44"
      }
    },
    {
      "cell_type": "code",
      "source": [
        "!pip install mysql-connector-python"
      ],
      "metadata": {
        "colab": {
          "base_uri": "https://localhost:8080/"
        },
        "id": "ubakphdWVHfN",
        "outputId": "5c55de47-6269-4747-c417-1dafb3d07ca8"
      },
      "execution_count": null,
      "outputs": [
        {
          "output_type": "stream",
          "name": "stdout",
          "text": [
            "Requirement already satisfied: mysql-connector-python in /usr/local/lib/python3.10/dist-packages (8.2.0)\n",
            "Requirement already satisfied: protobuf<=4.21.12,>=4.21.1 in /usr/local/lib/python3.10/dist-packages (from mysql-connector-python) (4.21.12)\n"
          ]
        }
      ]
    },
    {
      "cell_type": "code",
      "source": [
        "import mysql.connector\n",
        "\n",
        "# Replace these with your MySQL server details\n",
        "host = 'localhost'\n",
        "user = 'root'\n",
        "password = '1234@abcd'\n",
        "database = 'tutorial'\n",
        "\n",
        "# Connect to the MySQL server\n",
        "connection = mysql.connector.connect(\n",
        "    host=host,\n",
        "    user=user,\n",
        "    password=password,\n",
        "    database=database\n",
        ")\n",
        "\n",
        "# Create a cursor object using the cursor() method\n",
        "cursor = connection.cursor()\n",
        "\n",
        "# Example of executing a SQL query using the execute() method\n",
        "query = \"SELECT * FROM my_table\"\n",
        "cursor.execute(query)\n",
        "\n",
        "# Fetch and print the results\n",
        "result = cursor.fetchall()\n",
        "for row in result:\n",
        "    print(row)\n",
        "\n",
        "# Close the cursor and connection\n",
        "cursor.close()\n",
        "connection.close()"
      ],
      "metadata": {
        "id": "iD3doO7HVdKe"
      },
      "execution_count": null,
      "outputs": []
    },
    {
      "cell_type": "markdown",
      "source": [
        "***Connecting to MySQL:***\n",
        "\n",
        "* **mysql.connector.connect():** This function establishes a connection to the MySQL server using the provided host, user, password, and database parameters.\n",
        "Creating a Cursor:\n",
        "\n",
        "* **cursor = connection.cursor():** The cursor() method is called on the connection object to create a cursor. A cursor is an object used to interact with the database. It allows you to execute SQL queries and fetch results.\n",
        "Executing a Query:\n",
        "\n",
        "* **cursor.execute(query):** The execute() method is used to execute a SQL query. In this example, a SELECT query is executed to fetch all records from a table.\n",
        "\n",
        "* **Fetching Results:**\n",
        "***01. cursor.fetchall():*** After executing a SELECT query, you can use\n",
        "***02. fetchall()*** to retrieve all the rows returned by the query.\n",
        "\n",
        "* **Closing Cursor and Connection:**\n",
        "\n",
        "\n",
        "> ***cursor.close()*** and ***connection.close():*** It's good practice to close the cursor and the connection once you're done using them to free up resources."
      ],
      "metadata": {
        "id": "MHPb5x51k003"
      }
    },
    {
      "cell_type": "markdown",
      "source": [
        "## **Q7. Give the order of execution of SQL clauses in an SQL query.**\n",
        "\n",
        "The order of execution of SQL clauses in a query follows a logical sequence, and it generally occurs in the following order:\n",
        "\n",
        "**01. FROM:**\n",
        "\n",
        "Specifies the table or tables from which the data will be retrieved.\n",
        "JOIN:\n",
        "\n",
        "If the query involves multiple tables, the JOIN clause is used to combine rows from two or more tables based on a related column between them.\n",
        "\n",
        "**02. WHERE:**\n",
        "\n",
        "Filters the rows based on a specified condition. Rows that do not satisfy the condition are excluded from the result set.\n",
        "\n",
        "**03. GROUP BY:**\n",
        "\n",
        "Groups the result set by one or more columns. It is often used in conjunction with aggregate functions like SUM, AVG, COUNT, etc.\n",
        "\n",
        "**04. HAVING:**\n",
        "\n",
        "Similar to the WHERE clause, but it is used specifically with the GROUP BY clause to filter the grouped rows based on a condition.\n",
        "\n",
        "**05. SELECT:**\n",
        "\n",
        "Specifies the columns to be included in the result set. This is also the point where expressions, calculations, or aliases for columns are defined.\n",
        "\n",
        "**06. DISTINCT:**\n",
        "\n",
        "Removes duplicate rows from the result set.\n",
        "\n",
        "**07. ORDER BY:**\n",
        "\n",
        "Sorts the result set based on one or more columns in ascending or descending order.\n",
        "\n",
        "**08. LIMIT/OFFSET:**\n",
        "\n",
        "Limits the number of rows returned by the query. OFFSET is often used in conjunction with LIMIT to skip a certain number of rows before starting to return rows.\n",
        "\n",
        "***It's important to note that not every query will include all of these clauses, and some clauses may be optional or used in different combinations depending on the specific requirements of the query. The order of execution ensures that the query is logically processed to produce the desired result set.***"
      ],
      "metadata": {
        "id": "p7LaOs2GbKVE"
      }
    },
    {
      "cell_type": "code",
      "source": [],
      "metadata": {
        "id": "9uEG5iooujY2"
      },
      "execution_count": null,
      "outputs": []
    }
  ]
}