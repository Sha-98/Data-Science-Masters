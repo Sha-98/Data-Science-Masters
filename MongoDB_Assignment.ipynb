{
  "nbformat": 4,
  "nbformat_minor": 0,
  "metadata": {
    "colab": {
      "provenance": [],
      "authorship_tag": "ABX9TyPzxkdwcJ7iG8kL5g7WkPGy",
      "include_colab_link": true
    },
    "kernelspec": {
      "name": "python3",
      "display_name": "Python 3"
    },
    "language_info": {
      "name": "python"
    }
  },
  "cells": [
    {
      "cell_type": "markdown",
      "metadata": {
        "id": "view-in-github",
        "colab_type": "text"
      },
      "source": [
        "<a href=\"https://colab.research.google.com/github/Sha-98/Data-Science-Masters/blob/main/MongoDB_Assignment.ipynb\" target=\"_parent\"><img src=\"https://colab.research.google.com/assets/colab-badge.svg\" alt=\"Open In Colab\"/></a>"
      ]
    },
    {
      "cell_type": "markdown",
      "source": [
        "# **MongoDB Assignment**"
      ],
      "metadata": {
        "id": "vyJuPJA4wEXS"
      }
    },
    {
      "cell_type": "markdown",
      "source": [
        "### **Q1. What is MongoDB? Explain non-relational databases in short. In which scenarios it is preferred to use MongoDB over SQL databases?**\n",
        "\n",
        "MongoDB is a popular NoSQL (non-relational) database management system that stores data in flexible, JSON-like documents called BSON (Binary JSON). It is designed to handle large volumes of data with a flexible, schema-less data model, making it well-suited for a variety of applications and use cases.\n",
        "\n",
        "***Non-Relational Databases:***\n",
        "Non-relational databases, also known as NoSQL databases, do not follow the traditional tabular structure of relational databases. They are designed to handle a variety of data models and are often more flexible and scalable than relational databases. Non-relational databases can be categorized into various types, such as document-oriented (like MongoDB).\n",
        "\n",
        "**Scenarios to Prefer MongoDB over SQL Databases:**\n",
        "\n",
        "* **01. Schema Flexibility:-**\n",
        " MongoDB is schema-less, allowing you to store data without a predefined schema. This flexibility is beneficial when dealing with evolving or unpredictable data structures.\n",
        "\n",
        "* **Scalability:-**\n",
        " MongoDB is designed to scale horizontally across multiple servers, making it well-suited for applications with growing data and traffic. It can handle large amounts of data and high-throughput scenarios.\n",
        "\n",
        "* **Complex Data Structures:-**\n",
        " MongoDB supports nested documents and arrays, making it suitable for storing complex and hierarchical data structures without the need for complex joins.\n",
        "\n",
        "* **Development Speed:-**\n",
        " For projects where development speed and flexibility are critical, MongoDB's document-oriented model allows developers to make changes to the data model without requiring a major database schema update.\n",
        "\n",
        "* **Big Data and Real-Time Applications:-**\n",
        "  MongoDB is commonly used in scenarios involving big data and real-time data processing. Its ability to handle large volumes of data and provide fast read and write operations makes it suitable for these use cases.\n",
        "\n",
        "* **Use of JSON/BSON:-**\n",
        " If your application works with data in JSON/BSON format, MongoDB provides a natural fit, as it stores data in a similar format.\n",
        "\n",
        "***It's important to note that the choice between MongoDB and traditional SQL databases depends on the specific requirements of your application. While MongoDB offers advantages in certain scenarios, relational databases are still well-suited for applications that require a structured, normalized schema and complex transactions. The decision should be based on the specific needs of your project, including data structure, scalability requirements, and development preferences.***"
      ],
      "metadata": {
        "id": "sIs-2xIX-hfG"
      }
    },
    {
      "cell_type": "markdown",
      "source": [
        "### **Q2. State and Explain the features of MongoDB.**"
      ],
      "metadata": {
        "id": "bCl4vZ3l-hiF"
      }
    },
    {
      "cell_type": "markdown",
      "source": [
        "### **Q3. Write a code to connect MongoDB to Python. Also, create a database and a collection in MongoDB.**"
      ],
      "metadata": {
        "id": "m4VRtCaj-hk3"
      }
    },
    {
      "cell_type": "markdown",
      "source": [
        "### **Q4. Using the database and the collection created in question number 3, write a code to insert one record, and insert many records. Use the find() and find_one() methods to print the inserted record.**"
      ],
      "metadata": {
        "id": "mVd7mNZg-hrv"
      }
    },
    {
      "cell_type": "markdown",
      "source": [
        "### **Q5. Explain how you can use the find() method to query the MongoDB database. Write a simple code to demonstrate this.**"
      ],
      "metadata": {
        "id": "X9ASTpPj-hvB"
      }
    },
    {
      "cell_type": "markdown",
      "source": [
        "### **Q6. Explain the sort() method. Give an example to demonstrate sorting in MongoDB.**"
      ],
      "metadata": {
        "id": "SnztQ5JP-h0w"
      }
    },
    {
      "cell_type": "markdown",
      "source": [
        "### **Q7. Explain why delete_one(), delete_many(), and drop() is used.**"
      ],
      "metadata": {
        "id": "rVWRBmNt-h8B"
      }
    },
    {
      "cell_type": "code",
      "source": [],
      "metadata": {
        "id": "9uEG5iooujY2"
      },
      "execution_count": null,
      "outputs": []
    }
  ]
}