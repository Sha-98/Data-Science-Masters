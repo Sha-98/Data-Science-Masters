{
  "nbformat": 4,
  "nbformat_minor": 0,
  "metadata": {
    "colab": {
      "provenance": [],
      "authorship_tag": "ABX9TyMZaWIv+ri1/V5UpGJ4hv9M",
      "include_colab_link": true
    },
    "kernelspec": {
      "name": "python3",
      "display_name": "Python 3"
    },
    "language_info": {
      "name": "python"
    }
  },
  "cells": [
    {
      "cell_type": "markdown",
      "metadata": {
        "id": "view-in-github",
        "colab_type": "text"
      },
      "source": [
        "<a href=\"https://colab.research.google.com/github/Sha-98/Data-Science-Masters/blob/main/MongoDB_Assignment.ipynb\" target=\"_parent\"><img src=\"https://colab.research.google.com/assets/colab-badge.svg\" alt=\"Open In Colab\"/></a>"
      ]
    },
    {
      "cell_type": "markdown",
      "source": [
        "# **MongoDB Assignment**"
      ],
      "metadata": {
        "id": "vyJuPJA4wEXS"
      }
    },
    {
      "cell_type": "markdown",
      "source": [
        "### **Q1. What is MongoDB? Explain non-relational databases in short. In which scenarios it is preferred to use MongoDB over SQL databases?**\n",
        "\n",
        "MongoDB is a popular NoSQL (non-relational) database management system that stores data in flexible, JSON-like documents called BSON (Binary JSON). It is designed to handle large volumes of data with a flexible, schema-less data model, making it well-suited for a variety of applications and use cases.\n",
        "\n",
        "***Non-Relational Databases:***\n",
        "Non-relational databases, also known as NoSQL databases, do not follow the traditional tabular structure of relational databases. They are designed to handle a variety of data models and are often more flexible and scalable than relational databases. Non-relational databases can be categorized into various types, such as document-oriented (like MongoDB).\n",
        "\n",
        "**Scenarios to Prefer MongoDB over SQL Databases:**\n",
        "\n",
        "* **01. Schema Flexibility:-**\n",
        " MongoDB is schema-less, allowing you to store data without a predefined schema. This flexibility is beneficial when dealing with evolving or unpredictable data structures.\n",
        "\n",
        "* **Scalability:-**\n",
        " MongoDB is designed to scale horizontally across multiple servers, making it well-suited for applications with growing data and traffic. It can handle large amounts of data and high-throughput scenarios.\n",
        "\n",
        "* **Complex Data Structures:-**\n",
        " MongoDB supports nested documents and arrays, making it suitable for storing complex and hierarchical data structures without the need for complex joins.\n",
        "\n",
        "* **Development Speed:-**\n",
        " For projects where development speed and flexibility are critical, MongoDB's document-oriented model allows developers to make changes to the data model without requiring a major database schema update.\n",
        "\n",
        "* **Big Data and Real-Time Applications:-**  MongoDB is commonly used in scenarios involving big data and real-time data processing. Its ability to handle large volumes of data and provide fast read and write operations makes it suitable for these use cases.\n",
        "\n",
        "* **Use of JSON/BSON:-**\n",
        " If your application works with data in JSON/BSON format, MongoDB provides a natural fit, as it stores data in a similar format.\n",
        "\n",
        "***It's important to note that the choice between MongoDB and traditional SQL databases depends on the specific requirements of your application. While MongoDB offers advantages in certain scenarios, relational databases are still well-suited for applications that require a structured, normalized schema and complex transactions. The decision should be based on the specific needs of your project, including data structure, scalability requirements, and development preferences.***"
      ],
      "metadata": {
        "id": "sIs-2xIX-hfG"
      }
    },
    {
      "cell_type": "markdown",
      "source": [
        "### **Q2. State and Explain the features of MongoDB.**\n",
        "\n",
        "MongoDB is a widely used NoSQL database in the industry today and is known for its flexibility, scalability, and ease of use. Some key features of MongoDB which makes it so widely used database are explained as follows:\n",
        "\n",
        "**01. Document-Oriented:**\n",
        "MongoDB stores data in flexible, JSON-like BSON (Binary JSON) documents. These documents can contain nested arrays and subdocuments, providing a rich and expressive data model.\n",
        "\n",
        "**02. Schema-less:**\n",
        "MongoDB is schema-less, meaning that documents in a collection can have different fields and structures. This flexibility allows for dynamic and evolving data models without requiring a predefined schema.\n",
        "\n",
        "**03. Dynamic Queries:**\n",
        "MongoDB supports dynamic queries through a rich set of query operators, enabling developers to perform complex queries on documents. This includes querying by field, range queries, and pattern matching.\n",
        "\n",
        "**04. Indexes:**\n",
        "MongoDB supports the creation of indexes on any field in a document. Indexes improve query performance by allowing the database to quickly locate and retrieve data. Common types of indexes include single-field, compound, and multi-key indexes.\n",
        "\n",
        "**05. Aggregation Framework:**\n",
        "MongoDB provides a powerful aggregation framework for performing data transformations and computations on the server side. This includes operations such as grouping, sorting, filtering, and projecting data.\n",
        "\n",
        "**06. Horizontal Scalability:**\n",
        "MongoDB is designed to scale horizontally across multiple servers or nodes. It supports sharding, allowing the distribution of data across clusters to handle increased load and storage requirements.\n",
        "\n",
        "***These features contribute to MongoDB's popularity and make it suitable for a wide range of applications, from small-scale projects to large, distributed systems. The flexibility and scalability of MongoDB make it well-suited for modern, dynamic, and data-intensive applications.***"
      ],
      "metadata": {
        "id": "bCl4vZ3l-hiF"
      }
    },
    {
      "cell_type": "markdown",
      "source": [
        "### **Q3. Write a code to connect MongoDB to Python. Also, create a database and a collection in MongoDB.**\n",
        "\n",
        "To connect MongoDB to Python, you can use the pymongo library. If you haven't installed it yet, you can do so using:"
      ],
      "metadata": {
        "id": "m4VRtCaj-hk3"
      }
    },
    {
      "cell_type": "code",
      "source": [
        "!pip install pymongo"
      ],
      "metadata": {
        "colab": {
          "base_uri": "https://localhost:8080/"
        },
        "id": "x23kxnsvC6kd",
        "outputId": "ac6aa2ed-704d-4774-8569-01d80e4eeac1"
      },
      "execution_count": null,
      "outputs": [
        {
          "output_type": "stream",
          "name": "stdout",
          "text": [
            "Collecting pymongo\n",
            "  Downloading pymongo-4.6.1-cp310-cp310-manylinux_2_17_x86_64.manylinux2014_x86_64.whl (677 kB)\n",
            "\u001b[2K     \u001b[90m━━━━━━━━━━━━━━━━━━━━━━━━━━━━━━━━━━━━━━━━\u001b[0m \u001b[32m677.1/677.1 kB\u001b[0m \u001b[31m6.2 MB/s\u001b[0m eta \u001b[36m0:00:00\u001b[0m\n",
            "\u001b[?25hCollecting dnspython<3.0.0,>=1.16.0 (from pymongo)\n",
            "  Downloading dnspython-2.4.2-py3-none-any.whl (300 kB)\n",
            "\u001b[2K     \u001b[90m━━━━━━━━━━━━━━━━━━━━━━━━━━━━━━━━━━━━━━━━\u001b[0m \u001b[32m300.4/300.4 kB\u001b[0m \u001b[31m29.4 MB/s\u001b[0m eta \u001b[36m0:00:00\u001b[0m\n",
            "\u001b[?25hInstalling collected packages: dnspython, pymongo\n",
            "Successfully installed dnspython-2.4.2 pymongo-4.6.1\n"
          ]
        }
      ]
    },
    {
      "cell_type": "code",
      "source": [
        "import pymongo\n",
        "\n",
        "# Replace these with your MongoDB connection details\n",
        "database_name = 'SignUp'\n",
        "collection_name = 'my_collection'\n",
        "\n",
        "# Connect to MongoDB\n",
        "client = pymongo.MongoClient('mongodb://127.0.0.1:27017/')\n",
        "\n",
        "# Create or get a database\n",
        "database = client[database_name]\n",
        "\n",
        "# Create or get a collection\n",
        "collection = database[collection_name]"
      ],
      "metadata": {
        "id": "ciXenwHqFqen"
      },
      "execution_count": null,
      "outputs": []
    },
    {
      "cell_type": "markdown",
      "source": [
        "### **Q4. Using the database and the collection created in question number 3, write a code to insert one record, and insert many records. Use the find() and find_one() methods to print the inserted record.**"
      ],
      "metadata": {
        "id": "mVd7mNZg-hrv"
      }
    },
    {
      "cell_type": "code",
      "source": [
        "# Example document to insert into the collection\n",
        "document = {\n",
        "    'name': 'John Doe',\n",
        "    'age': 30,\n",
        "    'city': 'New York'\n",
        "}\n",
        "\n",
        "# Insert the document into the collection\n",
        "result = collection.insert_one(document)\n",
        "\n",
        "# Print the inserted document's ID\n",
        "print(f\"Inserted document ID: {result.inserted_id}\")\n",
        "\n",
        "# Insert many records\n",
        "many_records = [\n",
        "    {'name': 'Bob', 'age': 30, 'city': 'Bobville'},\n",
        "    {'name': 'Charlie', 'age': 35, 'city': 'Charlietown'},\n",
        "    {'name': 'David', 'age': 40, 'city': 'David City'}\n",
        "]\n",
        "\n",
        "# Insert many records into the collection\n",
        "result_many = collection.insert_many(many_records)\n",
        "\n",
        "# Print the inserted documents' IDs\n",
        "print(f\"Inserted many records with IDs: {result_many.inserted_ids}\")\n",
        "\n"
      ],
      "metadata": {
        "id": "SZ-4jif3F5mC"
      },
      "execution_count": null,
      "outputs": []
    },
    {
      "cell_type": "markdown",
      "source": [
        "After inserting the records, we can use the find() and find_one() methods to retrieve and print the inserted records. The code for this is given in the block below."
      ],
      "metadata": {
        "id": "kEICx0HxHxrZ"
      }
    },
    {
      "cell_type": "code",
      "source": [
        "# Retrieve and print all records using find()\n",
        "print(\"\\nAll Records:\")\n",
        "for record in collection.find():\n",
        "    print(record)\n",
        "\n",
        "# Retrieve and print one record using find_one()\n",
        "print(\"\\nOne Record:\")\n",
        "one_result = collection.find_one({'name': 'Alice'})\n",
        "print(one_result)\n",
        "\n",
        "# Close the MongoDB connection\n",
        "client.close()"
      ],
      "metadata": {
        "id": "w2rsXC4gIQU3"
      },
      "execution_count": null,
      "outputs": []
    },
    {
      "cell_type": "markdown",
      "source": [
        "### **Q5. Explain how you can use the find() method to query the MongoDB database. Write a simple code to demonstrate this.**"
      ],
      "metadata": {
        "id": "X9ASTpPj-hvB"
      }
    },
    {
      "cell_type": "markdown",
      "source": [
        "We can use the \"find()\" method to query the MongoDB database, we first need to connect to the mongoDB server and select a specific database and collection. Then, we can use the \"find()\" method to retrieve documents based on specified criteria.\n",
        "\n",
        "An example of using \"find()\" via python in MongoDB is as followed:\n",
        "\n",
        "* Note: we need to change the <userid> and <password> with the credential of our MongoDB database"
      ],
      "metadata": {
        "id": "k33DvLLM9JA_"
      }
    },
    {
      "cell_type": "code",
      "source": [
        "from pymongo import MongoClient\n",
        "\n",
        "client = pymongo.MongoClient(\"mongodb+srv://<userid>:<password>@reviews.wxnijjp.mongodb.net/?retryWrites=true&w=majority\")\n",
        "\n",
        "# Select the database\n",
        "db = client[\"mydatabase\"]  # Replace \"mydatabase\" with the name of your database\n",
        "\n",
        "# Select the collection\n",
        "collection = db[\"mycollection\"]  # Replace \"mycollection\" with the name of your collection\n",
        "\n",
        "# Query for documents using find()\n",
        "# In this example, we are finding all documents in the collection\n",
        "cursor = collection.find()\n",
        "\n",
        "# Iterate through the cursor to access the documents\n",
        "for document in cursor:\n",
        "    print(document)\n",
        "\n",
        "# Close the MongoDB connection\n",
        "client.close()\n"
      ],
      "metadata": {
        "id": "ddxq3Ghs9_Z1"
      },
      "execution_count": null,
      "outputs": []
    },
    {
      "cell_type": "markdown",
      "source": [
        "### **Q6. Explain the sort() method. Give an example to demonstrate sorting in MongoDB.**"
      ],
      "metadata": {
        "id": "SnztQ5JP-h0w"
      }
    },
    {
      "cell_type": "markdown",
      "source": [
        "The sort() method in MongoDB is used to sort the result of a query in ascending or descending order based on one or more fields. You can apply sorting to the result set returned by the find() method.\n",
        "\n",
        "An example to demonstrate sorting in MongoDB using the pymongo driver in Python is as follows:\n",
        "\n",
        "* Note: we need to change the and with the credential of our MongoDB database"
      ],
      "metadata": {
        "id": "hQHhHt9k--hn"
      }
    },
    {
      "cell_type": "code",
      "source": [
        "from pymongo import MongoClient\n",
        "\n",
        "# Connect to the MongoDB server\n",
        "client = pymongo.MongoClient(\"mongodb+srv://<userid>:<password>@reviews.wxnijjp.mongodb.net/?retryWrites=true&w=majority\")\n",
        "\n",
        "# Select the database\n",
        "db = client[\"mydatabase\"]  # Replace \"mydatabase\" with the name of your database\n",
        "\n",
        "# Select the collection\n",
        "collection = db[\"mycollection\"]  # Replace \"mycollection\" with the name of your collection\n",
        "\n",
        "# Insert some sample data into the collection\n",
        "data = [\n",
        "    {\"name\": \"Alice\", \"age\": 30},\n",
        "    {\"name\": \"Bob\", \"age\": 25},\n",
        "    {\"name\": \"Charlie\", \"age\": 35},\n",
        "]\n",
        "\n",
        "collection.insert_many(data)\n",
        "\n",
        "# Query for documents and sort by the \"age\" field in ascending order\n",
        "cursor_asc = collection.find().sort(\"age\", 1)\n",
        "\n",
        "print(\"Ascending Order:\")\n",
        "for document in cursor_asc:\n",
        "    print(document)\n",
        "\n",
        "# Query for documents and sort by the \"age\" field in descending order\n",
        "cursor_desc = collection.find().sort(\"age\", -1)\n",
        "\n",
        "print(\"\\nDescending Order:\")\n",
        "for document in cursor_desc:\n",
        "    print(document)\n",
        "\n",
        "# Close the MongoDB connection\n",
        "client.close()\n"
      ],
      "metadata": {
        "id": "3RSFsqf6_bg6"
      },
      "execution_count": null,
      "outputs": []
    },
    {
      "cell_type": "markdown",
      "source": [
        "### **Q7. Explain why delete_one(), delete_many(), and drop() is used.**"
      ],
      "metadata": {
        "id": "rVWRBmNt-h8B"
      }
    },
    {
      "cell_type": "markdown",
      "source": [
        "In MongoDB, the delete_one(), delete_many(), and drop() methods are used for different purposes when it comes to removing documents or collections from a database.\n",
        "\n",
        "**01. 'delete_one(filter)' Method:**\n",
        "This method deletes a single document that matches the specified filter criteria. An example code for this can be seen as follows:"
      ],
      "metadata": {
        "id": "SXLHsOZl_99s"
      }
    },
    {
      "cell_type": "code",
      "source": [
        "result = collection.delete_one({\"name\": \"Alice\"})\n",
        "print(f\"Deleted {result.deleted_count} document.\")"
      ],
      "metadata": {
        "id": "9uEG5iooujY2"
      },
      "execution_count": null,
      "outputs": []
    },
    {
      "cell_type": "markdown",
      "source": [
        "**02. 'delete_many(filter)' Method:**\n",
        "This method deletes multiple documents that match the specified filter criteria. An example is as follows:"
      ],
      "metadata": {
        "id": "pmpYRNn0AVs4"
      }
    },
    {
      "cell_type": "code",
      "source": [
        "result = collection.delete_many({\"age\": {\"$lt\": 30}})\n",
        "print(f\"Deleted {result.deleted_count} documents.\")"
      ],
      "metadata": {
        "id": "qJJ8qFdaA1C4"
      },
      "execution_count": null,
      "outputs": []
    },
    {
      "cell_type": "markdown",
      "source": [
        "**03. 'drop()' Method:**\n",
        "This method drops or deletes the entire collection from the database. An example is as follows:"
      ],
      "metadata": {
        "id": "fQfuGPsOA3MS"
      }
    },
    {
      "cell_type": "code",
      "source": [
        "collection.drop()"
      ],
      "metadata": {
        "id": "EB2zKiaVBFL_"
      },
      "execution_count": null,
      "outputs": []
    },
    {
      "cell_type": "markdown",
      "source": [
        "* **delete_one() and delete_many():** These methods are used when you want to remove specific documents from a collection based on certain criteria. You provide a filter to specify which documents to delete. The delete_one() method deletes a single document that matches the filter, while delete_many() deletes all documents that match the filter.\n",
        "\n",
        "* **drop():** This method is used when you want to delete an entire collection. It removes all documents in the collection and, essentially, the entire collection itself. Be cautious when using drop() as it irreversibly removes all data in the collection."
      ],
      "metadata": {
        "id": "kRkt6PtSBHkP"
      }
    }
  ]
}