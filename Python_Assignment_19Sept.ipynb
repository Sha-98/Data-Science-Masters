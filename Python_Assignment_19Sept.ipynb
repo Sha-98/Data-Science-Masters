{
  "nbformat": 4,
  "nbformat_minor": 0,
  "metadata": {
    "colab": {
      "provenance": [],
      "include_colab_link": true
    },
    "kernelspec": {
      "name": "python3",
      "display_name": "Python 3"
    },
    "language_info": {
      "name": "python"
    }
  },
  "cells": [
    {
      "cell_type": "markdown",
      "metadata": {
        "id": "view-in-github",
        "colab_type": "text"
      },
      "source": [
        "<a href=\"https://colab.research.google.com/github/Sha-98/Data-Science-Masters/blob/main/Python_Assignment_19Sept.ipynb\" target=\"_parent\"><img src=\"https://colab.research.google.com/assets/colab-badge.svg\" alt=\"Open In Colab\"/></a>"
      ]
    },
    {
      "cell_type": "markdown",
      "source": [
        "# Python Assignment"
      ],
      "metadata": {
        "id": "bJis2SSPKJ6p"
      }
    },
    {
      "cell_type": "markdown",
      "source": [
        "Q1. Explain Class and Object with respect to Object-Oriented Programming. Give a suitable example."
      ],
      "metadata": {
        "id": "5YG-qgSs7pkM"
      }
    },
    {
      "cell_type": "markdown",
      "source": [
        "1. Class\n",
        "\n",
        "A class in python is a user defined blue print for which objects are created.\n",
        "While programming, we can define a class by using the 'class' keyword. Inside a class, we define methods which perform certain tasks and can be accessed through the objects of the class.\n",
        "\n",
        "2. Object\n",
        "\n",
        "The object in python is created using the name of the class. It shares all the attributes of the class it is defined on such as variables and methods defined inside the class.\n",
        "\n",
        "Following cells of code shows an example of a class and its object, and how we can access the methods of the class through the object."
      ],
      "metadata": {
        "id": "yD_n894Wd_B3"
      }
    },
    {
      "cell_type": "code",
      "source": [
        "#defining a class\n",
        "class bank_account:\n",
        "\n",
        "  def __init__(self, name, age, typee, balance, interest):\n",
        "    self.__name = name\n",
        "    self.__age = age\n",
        "    self.__typee = typee\n",
        "    self.__balance = balance\n",
        "    self.__interest = interest\n",
        "\n",
        "  def credit(self, amount):\n",
        "    if amount < 0:\n",
        "      return False\n",
        "    else:\n",
        "      self.__balance = self.__balance + amount\n",
        "      return True\n",
        "\n",
        "  def withdraw(self, amount):\n",
        "    if self.__balance >= amount:\n",
        "      self.__balance = self.__balance - amount\n",
        "      return True\n",
        "    else:\n",
        "      return False\n",
        "\n",
        "  def get_balance(self):\n",
        "    return self.__balance"
      ],
      "metadata": {
        "id": "Uyu1c_rU_jgV"
      },
      "execution_count": 78,
      "outputs": []
    },
    {
      "cell_type": "code",
      "source": [
        "# creating an object of this class\n",
        "\n",
        "account01 = bank_account(\"Isha Choudhary\", \"24\", \"Savings\", 15000, 3.25)"
      ],
      "metadata": {
        "id": "YeBs5txT_jjr"
      },
      "execution_count": 79,
      "outputs": []
    },
    {
      "cell_type": "code",
      "source": [
        "# accessing the class methods for the object\n",
        "account01.get_balance()"
      ],
      "metadata": {
        "colab": {
          "base_uri": "https://localhost:8080/"
        },
        "id": "j7llANpy_0Jf",
        "outputId": "23a84358-fd50-4add-f8a0-b66f132bdd9d"
      },
      "execution_count": 80,
      "outputs": [
        {
          "output_type": "execute_result",
          "data": {
            "text/plain": [
              "15000"
            ]
          },
          "metadata": {},
          "execution_count": 80
        }
      ]
    },
    {
      "cell_type": "code",
      "source": [
        "account01.credit(5000)"
      ],
      "metadata": {
        "colab": {
          "base_uri": "https://localhost:8080/"
        },
        "id": "Hyogc90dd7gc",
        "outputId": "679d7606-45e2-4d52-9872-f8d5abfd3f79"
      },
      "execution_count": 81,
      "outputs": [
        {
          "output_type": "execute_result",
          "data": {
            "text/plain": [
              "True"
            ]
          },
          "metadata": {},
          "execution_count": 81
        }
      ]
    },
    {
      "cell_type": "markdown",
      "source": [
        "Q2. Name the four pillars of OOPs."
      ],
      "metadata": {
        "id": "7V2QEmIO7t3P"
      }
    },
    {
      "cell_type": "markdown",
      "source": [
        "Answer: The four pillars of Object Oriented Programming are:\n",
        "\n",
        "1. Abstraction\n",
        "\n",
        "What is abstract class?\n",
        "The methods which do not have body, or is not performing any task or does not possess any logic is called an abstract method. The class consisting the abstract method is called the abstract class. And we cannot create an object of an abstract class. However, python does not support creating an abstract class. To create an abstract class in python we use a library 'abc' and import 'ABC' and 'abstractmethod' from it. Then we have to use a decorator '@abstractmethod' inside a class to define the class as an abastract class.\n",
        "\n",
        "Also, the class inheriting the abstract class must define all the abstract method present in the parent class. This is how we are able to use the abstraction and inheritance in the object oriented programming in python.\n",
        "\n",
        "Why do we need it?\n",
        "The need of an abstract class in the object oriented programming. It makes sense when we are developing a system and writing the code for that in the oops method. It give our code a flow and a systematic structure making the code clean and reusable. Abstraction is a way to create a flow in the code and to create a clean and structured code for our project. Large applications having multiple features, and classes for them, the practice of following oops and using abstraction helps the programmer to design their code in a good and understandable way.\n",
        "\n",
        "2. Encapsulation\n",
        "\n",
        "In one word, \"Encapsulation\" means hiding the stuff from the users to ensure safety of your code and program.\n",
        "\n",
        "In Object Oriented Programming, we have a concept through which we can hide the variables, and objects from the users or restrict them to accessing these directly by creating specific methods for users to use and do their desired tasks, without touching the real variables.\n",
        "\n",
        "The principle of Encapsulation states that all the imporatant information is contained by the objects and as developers, you should only expose the selective, most needed information only.\n",
        "\n",
        "The use of \"Encapsulation\", the idea of hiding provides a greater security to your code and avoids unnecessary or unintended data corruption.\n",
        "\n",
        "In real world, or industry level use cases, \"Encapsulation\" is very important to secure the valuable assets of the company.\n",
        "\n",
        "3. Inheritance\n",
        "\n",
        "In Object Oriented Programming, Inheritance is a concept to connect or establish a relationship between the classes and the objects , or among multiple classes and objects.\n",
        "\n",
        "The literal meaning of inheritance is to inherit the properties from the parent. In OOP, the concept of inheritance allows us to use the properties of the parent class in the child class very easily.\n",
        "\n",
        "The interesting thing here is that along with inheriting the properties and methods from the parent class, the child class can also have its own properties and methods. Also, we can also perform multiple inheritance along with direct and indirect inheritance.\n",
        "\n",
        "The ease in using the properties, objects, and methods defined in the parent class through the child class allows the programmer to write clean, concise, and connected code.\n",
        "\n",
        "4. Polymorphism:\n",
        "\n",
        "Polymorphism is one of the four pillers of Object Oriented Programming. It is a concept where objects are designed in a way to share behaviours with one another but process the data in different way.\n",
        "\n",
        "The simple real life connection here is the humans, we are always the same person, everywhere we go. However, our behaviour and our actions differs in different situation. Same way the class having a function with one logic can process different objects and different data in different ways.\n",
        "\n",
        "In polymorphism, the program determines which meaning or usage is necessary for each execution of the object from a parent class. It reduces the need to duplicate the code for every new possibility and helps the programmer to maintain clean code.\n",
        "\n",
        "Furthermore, a child class is created extending the functionality of the parent class allowing different types of objects to pass through same interface, producing respective results for each different type of object.\n"
      ],
      "metadata": {
        "id": "H87OHOXlZebj"
      }
    },
    {
      "cell_type": "markdown",
      "source": [
        "Q3. Explain why the __init__() function is used. Give a suitable example."
      ],
      "metadata": {
        "id": "eYAAEB117xbG"
      }
    },
    {
      "cell_type": "markdown",
      "source": [
        "Whenever we define a class, we generally tend to create the first method as __init__. This __init__ method is a special method inside a class called as a constructor. This method is automatically called whenever a new object or instance of a class is created. The __init__ method allows us to initialize the attributes or variables of an object.\n",
        "\n",
        "Following cells of code shows an example of a class with __init__ function and how creating an object uses __init__ function to send the data to the class as it works as a constructor."
      ],
      "metadata": {
        "id": "v1uipwMjfgJh"
      }
    },
    {
      "cell_type": "code",
      "source": [
        "class healthcare:\n",
        "\n",
        "  def __init__(self, name, age, weight, height, bp, sugar, history, current_disease):\n",
        "    self.__name = name\n",
        "    self.__age = age\n",
        "    self.__weight = weight\n",
        "    self.__height = height\n",
        "    self.__bp = bp\n",
        "    self.__sugar = sugar\n",
        "    self.__history = history\n",
        "    self.__current_disease = current_disease\n",
        "\n",
        "  def intro_details(self):\n",
        "    print(\"Name: \", self.__name)\n",
        "    print(\"Age: \", self.__age)\n",
        "    print(\"Weight: \", self.__weight)\n",
        "    print(\"Height: \", self.__height)\n",
        "    print(\"Blood Pressure: \", self.__bp)\n",
        "    print(\"Sugar Level: \", self.__sugar )\n",
        "\n",
        "    return\n",
        "\n",
        "  def get_history(self):\n",
        "    return self.__history\n",
        "\n",
        "  def get_problem(self):\n",
        "    return self.__current_disease\n"
      ],
      "metadata": {
        "id": "ztK_qPOV70dH"
      },
      "execution_count": 82,
      "outputs": []
    },
    {
      "cell_type": "code",
      "source": [
        "# sending data to the class through __init__ function\n",
        "patient01 = healthcare(\"Shina\", \"45\", \"79\", \"168\", \"120/90\", \"80/70\", \"heart patient\", \"Anxiety\")"
      ],
      "metadata": {
        "id": "zT4y2JzA71Ct"
      },
      "execution_count": 83,
      "outputs": []
    },
    {
      "cell_type": "code",
      "source": [
        "patient01.intro_details()"
      ],
      "metadata": {
        "colab": {
          "base_uri": "https://localhost:8080/"
        },
        "id": "T71x775_fYF3",
        "outputId": "afb41745-39d4-40e8-ab15-0216c0e9d850"
      },
      "execution_count": 84,
      "outputs": [
        {
          "output_type": "stream",
          "name": "stdout",
          "text": [
            "Name:  Shina\n",
            "Age:  45\n",
            "Weight:  79\n",
            "Height:  168\n",
            "Blood Pressure:  120/90\n",
            "Sugar Level:  80/70\n"
          ]
        }
      ]
    },
    {
      "cell_type": "code",
      "source": [
        "patient01.get_history()"
      ],
      "metadata": {
        "colab": {
          "base_uri": "https://localhost:8080/",
          "height": 35
        },
        "id": "zyVUz-o5faNc",
        "outputId": "a5362993-d4da-4825-bd20-869aff00ba94"
      },
      "execution_count": 85,
      "outputs": [
        {
          "output_type": "execute_result",
          "data": {
            "text/plain": [
              "'heart patient'"
            ],
            "application/vnd.google.colaboratory.intrinsic+json": {
              "type": "string"
            }
          },
          "metadata": {},
          "execution_count": 85
        }
      ]
    },
    {
      "cell_type": "markdown",
      "source": [
        "Q4. Why self is used in OOPs?"
      ],
      "metadata": {
        "id": "ObkIwFon71UZ"
      }
    },
    {
      "cell_type": "markdown",
      "source": [
        "Answer:\n",
        "\n",
        "\"Self\" in python represents the instance of the class. By using 'self', we can assess the attributes of a class, and it binds the attributes with the given arguments. Whenever we define the object of the class, the self argument in __init__(self) represents the class itself."
      ],
      "metadata": {
        "id": "iNphcId3ZRFC"
      }
    },
    {
      "cell_type": "markdown",
      "source": [
        "Q5. What is inheritance? Give an example for each type of inheritance."
      ],
      "metadata": {
        "id": "0YIsSXme73vG"
      }
    },
    {
      "cell_type": "markdown",
      "source": [
        "Answer\n",
        "In Object Oriented Programming, Inheritance is a concept to connect or establish a relationship between the classes and the objects , or among multiple classes and objects.\n",
        "\n",
        "The literal meaning of inheritance is to inherit the properties from the parent. In OOP, the concept of inheritance allows us to use the properties of the parent class in the child class very easily.\n",
        "\n",
        "The interesting thing here is that along with inheriting the properties and methods from the parent class, the child class can also have its own properties and methods. Also, we can also perform multiple inheritance along with direct and indirect inheritance.\n",
        "\n",
        "The ease in using the properties, objects, and methods defined in the parent class through the child class allows the programmer to write clean, concise, and connected code.\n",
        "\n",
        "There are two types of inheritance\n",
        "1. Single inheritance\n",
        "2. Multiple Inheritance\n",
        "3. Multilevel Inheritance\n",
        "4. Heirarchical Inheritance\n",
        "5. Hybrid Inheritance\n",
        "\n",
        "The following cells showcase some examples of inheritance through code in python."
      ],
      "metadata": {
        "id": "tntc79ExZTBq"
      }
    },
    {
      "cell_type": "code",
      "source": [
        "#Single Inheritance\n",
        "\n",
        "# parent class\n",
        "class Parent:\n",
        "    def func1(self):\n",
        "        print(\"I am the Parent.\")\n",
        "\n",
        "#child class\n",
        "class Child(Parent):\n",
        "    def func2(self):\n",
        "        print(\"I am the child.\")\n",
        "\n",
        "\n",
        "#creating the object of child class\n",
        "o1 = Child()\n",
        "o1.func1()\n",
        "o1.func2()"
      ],
      "metadata": {
        "colab": {
          "base_uri": "https://localhost:8080/"
        },
        "id": "dUAMRu-zZTSF",
        "outputId": "60405b57-5c91-4444-9b50-aa2a771d1443"
      },
      "execution_count": 88,
      "outputs": [
        {
          "output_type": "stream",
          "name": "stdout",
          "text": [
            "I am the Parent.\n",
            "I am the child.\n"
          ]
        }
      ]
    },
    {
      "cell_type": "code",
      "source": [
        "# Multiple Inheritance\n",
        "\n",
        "# Parent Class 01\n",
        "class Mom:\n",
        "    mom = \"\"\n",
        "\n",
        "    def mother(self):\n",
        "        print(self.mom)\n",
        "\n",
        "\n",
        "# Parent Class 02\n",
        "class Dad:\n",
        "    dad = \"\"\n",
        "\n",
        "    def father(self):\n",
        "        print(self.dad)\n",
        "\n",
        "\n",
        "# Derived class\n",
        "class Son(Mom, Dad):\n",
        "    def parents(self):\n",
        "        print(\"Father :\", self.dad)\n",
        "        print(\"Mother :\", self.mom)\n",
        "\n",
        "\n",
        "# Driver's code\n",
        "s1 = Son()\n",
        "s1.dad = \"Mr. Singh\"\n",
        "s1.mom = \"Mrs. Singh\"\n",
        "s1.parents()"
      ],
      "metadata": {
        "colab": {
          "base_uri": "https://localhost:8080/"
        },
        "id": "4Ov2rkP7hRq5",
        "outputId": "4ff33f98-5c0d-4aad-9afe-e5a552cd79d0"
      },
      "execution_count": 90,
      "outputs": [
        {
          "output_type": "stream",
          "name": "stdout",
          "text": [
            "Father : Mr. Singh\n",
            "Mother : Mrs. Singh\n"
          ]
        }
      ]
    },
    {
      "cell_type": "code",
      "source": [
        "# Multilevel Inheritance\n",
        "\n",
        "# defining the first class, the first parent class\n",
        "class head:\n",
        "  def head(self):\n",
        "    print(\"At the top we have head. \\n\")\n",
        "\n",
        "# inheriting the properties and methods form head into torso\n",
        "class torso(head):\n",
        "  def torso(self):\n",
        "    print(\"Below head is the torso. The hands are attatched to the torso of a human body. \\n\")\n",
        "\n",
        "# inheriting the properties and method from torso to seat while indirectly inheriting from head also\n",
        "class seat(torso):\n",
        "  def seat(self):\n",
        "    print(\"Below the torso is the private section of a human body. The below belt body starts here. \\n\")\n",
        "\n",
        "# inheriting from all head, torso, and seat indirectly and directly (from seat only)\n",
        "class legs(seat):\n",
        "  def legs(self):\n",
        "    print(\"At the end, the human body has legs, which include the foot and toes. \\n\")\n",
        "\n",
        "# inheriting from all head, torso, seat, and legs\n",
        "class human_body(legs):\n",
        "  def body(self):\n",
        "    print(\"This is the complete human body!\")\n",
        "\n",
        "# creating an object of class human_body only\n",
        "Human = human_body()"
      ],
      "metadata": {
        "id": "doQjf-NahRue"
      },
      "execution_count": 91,
      "outputs": []
    },
    {
      "cell_type": "code",
      "source": [
        "# class human_body possess all the methods from all the classes through direct\n",
        "# and indirect inheritance\n",
        "\n",
        "Human.head()\n",
        "Human.torso()\n",
        "Human.seat()\n",
        "Human.legs()\n",
        "Human.body()"
      ],
      "metadata": {
        "colab": {
          "base_uri": "https://localhost:8080/"
        },
        "id": "21Bg6DvXicxF",
        "outputId": "2d819c35-e2f0-4f1e-e607-f7eb68a12227"
      },
      "execution_count": 92,
      "outputs": [
        {
          "output_type": "stream",
          "name": "stdout",
          "text": [
            "At the top we have head. \n",
            "\n",
            "Below head is the torso. The hands are attatched to the torso of a human body. \n",
            "\n",
            "Below the torso is the private section of a human body. The below belt body starts here. \n",
            "\n",
            "At the end, the human body has legs, which include the foot and toes. \n",
            "\n",
            "This is the complete human body!\n"
          ]
        }
      ]
    },
    {
      "cell_type": "code",
      "source": [
        "# Heirarchical Inheritance\n",
        "\n",
        "# Parent class\n",
        "class Parent:\n",
        "    def parent(self):\n",
        "        print(\"This function is the Parent class.\")\n",
        "\n",
        "# child class 01\n",
        "class Child1(Parent):\n",
        "    def child01(self):\n",
        "        print(\"This function is child class 01.\")\n",
        "\n",
        "# child class 02\n",
        "class Child2(Parent):\n",
        "    def child02(self):\n",
        "        print(\"This function is child class 02.\")\n",
        "\n",
        "\n",
        "# Driver's code\n",
        "object1 = Child1()\n",
        "object2 = Child2()\n",
        "object1.parent()\n",
        "object1.child01()\n",
        "object2.parent()\n",
        "object2.child02()"
      ],
      "metadata": {
        "colab": {
          "base_uri": "https://localhost:8080/"
        },
        "id": "-VSbyWgmicrM",
        "outputId": "159c50e4-c44d-4309-81a0-bb593973cf3b"
      },
      "execution_count": 93,
      "outputs": [
        {
          "output_type": "stream",
          "name": "stdout",
          "text": [
            "This function is the Parent class.\n",
            "This function is child class 01.\n",
            "This function is the Parent class.\n",
            "This function is child class 02.\n"
          ]
        }
      ]
    },
    {
      "cell_type": "code",
      "source": [
        "# Hybrid Inheritance\n",
        "\n",
        "class School:\n",
        "    def func1(self):\n",
        "        print(\"This function is in school.\")\n",
        "\n",
        "\n",
        "class Student1(School):\n",
        "    def func2(self):\n",
        "        print(\"This function is in student 1. \")\n",
        "\n",
        "\n",
        "class Student2(School):\n",
        "    def func3(self):\n",
        "        print(\"This function is in student 2.\")\n",
        "\n",
        "\n",
        "class Student3(Student1, School):\n",
        "    def func4(self):\n",
        "        print(\"This function is in student 3.\")\n",
        "\n",
        "\n",
        "# object\n",
        "O1 = Student3()\n",
        "O1.func1()\n",
        "O1.func2()"
      ],
      "metadata": {
        "colab": {
          "base_uri": "https://localhost:8080/"
        },
        "id": "fgDAAJDaicte",
        "outputId": "99fbfe26-e20d-4445-d896-09e48c2774eb"
      },
      "execution_count": 94,
      "outputs": [
        {
          "output_type": "stream",
          "name": "stdout",
          "text": [
            "This function is in school.\n",
            "This function is in student 1. \n"
          ]
        }
      ]
    }
  ]
}