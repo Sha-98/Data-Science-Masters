{
  "nbformat": 4,
  "nbformat_minor": 0,
  "metadata": {
    "colab": {
      "provenance": [],
      "include_colab_link": true
    },
    "kernelspec": {
      "name": "python3",
      "display_name": "Python 3"
    },
    "language_info": {
      "name": "python"
    }
  },
  "cells": [
    {
      "cell_type": "markdown",
      "metadata": {
        "id": "view-in-github",
        "colab_type": "text"
      },
      "source": [
        "<a href=\"https://colab.research.google.com/github/Sha-98/Data-Science-Masters/blob/main/Python_Assignment_22Sept.ipynb\" target=\"_parent\"><img src=\"https://colab.research.google.com/assets/colab-badge.svg\" alt=\"Open In Colab\"/></a>"
      ]
    },
    {
      "cell_type": "markdown",
      "source": [
        "# Python Assignment"
      ],
      "metadata": {
        "id": "bJis2SSPKJ6p"
      }
    },
    {
      "cell_type": "markdown",
      "source": [
        "Q1, Create a vehicle class with an init method having instance variables as name_of_vehicle, max_speed\n",
        "and average_of_vehicle.\n"
      ],
      "metadata": {
        "id": "iXRTmzYNvN5Z"
      }
    },
    {
      "cell_type": "code",
      "source": [
        "class vehicle:\n",
        "\n",
        "  def __init__(self, name_of_vehicle, max_speed, average_of_vehicle):\n",
        "    self.name = name_of_vehicle\n",
        "    self.speed = max_speed\n",
        "    self.average = average_of_vehicle\n",
        "\n",
        "  def details(self):\n",
        "    return self.name, self.speed, self.average"
      ],
      "metadata": {
        "id": "m1jMpi5BaCtl"
      },
      "execution_count": 51,
      "outputs": []
    },
    {
      "cell_type": "code",
      "source": [
        "bike = vehicle(\"Hero-Honda Splender\", \"120 km/hr\", \"8 km/l\")"
      ],
      "metadata": {
        "id": "2Kapg3mXcDZz"
      },
      "execution_count": 52,
      "outputs": []
    },
    {
      "cell_type": "code",
      "source": [
        "bike.details()"
      ],
      "metadata": {
        "colab": {
          "base_uri": "https://localhost:8080/"
        },
        "id": "vRBMkAcWcS2J",
        "outputId": "c9ee2f7d-052b-44ef-e62d-64c69864b4c3"
      },
      "execution_count": 53,
      "outputs": [
        {
          "output_type": "execute_result",
          "data": {
            "text/plain": [
              "('Hero-Honda Splender', '120 km/hr', '8 km/l')"
            ]
          },
          "metadata": {},
          "execution_count": 53
        }
      ]
    },
    {
      "cell_type": "markdown",
      "source": [
        "Q2. Create a child class car from the vehicle class created in Que 1, which will inherit the vehicle class.\n",
        "\n",
        "Create a method named seating_capacity which takes capacity as an argument and returns the name of\n",
        "the vehicle and its seating capacity.\n"
      ],
      "metadata": {
        "id": "VkGzzLUjvOVb"
      }
    },
    {
      "cell_type": "code",
      "source": [
        "class child(vehicle):\n",
        "\n",
        "  def capacity(self, capacity):\n",
        "    self.capacity = capacity\n",
        "    return self.name, self.capacity\n",
        "\n",
        "car = child('Fortuner', '240 km/hr', '22 km/l')\n",
        "\n",
        "detail = car.capacity('6-8 Person')\n",
        "print(detail)"
      ],
      "metadata": {
        "colab": {
          "base_uri": "https://localhost:8080/"
        },
        "id": "e63u_Ur9aNTE",
        "outputId": "a7ae70ff-a047-41ee-bbd2-72287da012b0"
      },
      "execution_count": 58,
      "outputs": [
        {
          "output_type": "stream",
          "name": "stdout",
          "text": [
            "('Fortuner', '6-8 Person')\n"
          ]
        }
      ]
    },
    {
      "cell_type": "markdown",
      "source": [
        "Q3. What is multiple inheritance? Write a python code to demonstrate multiple inheritance.\n"
      ],
      "metadata": {
        "id": "DcUQp8KNaIeU"
      }
    },
    {
      "cell_type": "markdown",
      "source": [
        "Answer: In Object Oriented Programming, Inheritance is a concept to connect or establish a relationship between the classes and the objects , or among multiple classes and objects.\n",
        "\n",
        "The literal meaning of inheritance is to inherit the properties from the parent. In OOP, the concept of inheritance allows us to use the properties of the parent class in the child class very easily.\n",
        "\n",
        "Multiple Inheritance is one of the many types of inheritance. Multiple Inheritance means inheriting from more than one parent class.\n",
        "\n",
        "The following cells of code shows an example of multiple inheritance.\n"
      ],
      "metadata": {
        "id": "aTTJHWWHe1bQ"
      }
    },
    {
      "cell_type": "code",
      "source": [
        "# Multiple Inheritance\n",
        "\n",
        "# Parent Class 01\n",
        "class Mom:\n",
        "    mom = \"\"\n",
        "\n",
        "    def mother(self):\n",
        "        print(self.mom)\n",
        "\n",
        "\n",
        "# Parent Class 02\n",
        "class Dad:\n",
        "    dad = \"\"\n",
        "\n",
        "    def father(self):\n",
        "        print(self.dad)\n",
        "\n",
        "\n",
        "# Derived class\n",
        "class Son(Mom, Dad):   # inheriting from 2 classes 'Mom' and 'Dad'\n",
        "    def parents(self):\n",
        "        print(\"Father :\", self.dad)\n",
        "        print(\"Mother :\", self.mom)\n",
        "\n",
        "\n",
        "# Driver's code\n",
        "s1 = Son()\n",
        "s1.dad = \"Mr. Singh\"\n",
        "s1.mom = \"Mrs. Singh\"\n",
        "s1.parents()"
      ],
      "metadata": {
        "colab": {
          "base_uri": "https://localhost:8080/"
        },
        "id": "YtTvB_UpaN1l",
        "outputId": "17eada18-4860-4be2-e3cc-e64062e0b512"
      },
      "execution_count": 59,
      "outputs": [
        {
          "output_type": "stream",
          "name": "stdout",
          "text": [
            "Father : Mr. Singh\n",
            "Mother : Mrs. Singh\n"
          ]
        }
      ]
    },
    {
      "cell_type": "markdown",
      "source": [
        "Q4. What are getter and setter in python? Create a class and create a getter and a setter method in this\n",
        "class.\n"
      ],
      "metadata": {
        "id": "hhT2KkqzaJto"
      }
    },
    {
      "cell_type": "markdown",
      "source": [
        "The “Property Decorator” in python is a built in mechanism for defining special methods which control the access, modification, and deletion of attributes or properties of an object.\n",
        "\n",
        "The property decorator allows us to customize the behavior of “getting”, “setting”, and “deleting” the values of the attributes, and making the implementation of computed properties, and data validation possible.\n",
        "\n",
        "This decorator is typically used in conjunction with three methods, i.e, getter, setter, and deleter as defined below.\n",
        "\n",
        "01. Getter Method\n",
        "The getter method is responsible for getting or retrieving the value of the attribute. We decorate this one with ‘@property’. The getter method is called automatically whenever an instance attribute is accessed in order to retrieve the value.\n",
        "\n",
        "02. Setter Method\n",
        "This method is responsible for setting or can say, assigning the value of the attribute. It is decorated using ‘@attribute_name.setter’. When an instance’s attribute is assigned a new value, the setter method is automatically called to handle the assignment."
      ],
      "metadata": {
        "id": "PIf3MpwagbUm"
      }
    },
    {
      "cell_type": "code",
      "source": [
        "#defining the class\n",
        "class Circle:\n",
        "    def __init__(self, radius):\n",
        "        self._radius = radius  # Private attribute with a leading underscore\n",
        "\n",
        "    #defining first property decorator\n",
        "    @property\n",
        "    def radius(self):\n",
        "        return self._radius\n",
        "\n",
        "    #defining setter property for recently created property @radius\n",
        "    @radius.setter\n",
        "    def radius(self, value):\n",
        "        if value < 0:\n",
        "          #defining negative value error\n",
        "            raise ValueError(\"Radius cannot be negative\")\n",
        "        self._radius = value\n",
        "\n",
        "    @radius.deleter\n",
        "    def radius(self):\n",
        "        print(\"Deleting the radius attribute\")\n",
        "        del self._radius\n",
        "\n",
        "    @property\n",
        "    def area(self):\n",
        "        return 3.14159 * self._radius ** 2"
      ],
      "metadata": {
        "id": "evQFnGhTaOjK"
      },
      "execution_count": 60,
      "outputs": []
    },
    {
      "cell_type": "code",
      "source": [
        "# Creating an instance of Circle\n",
        "circle = Circle(5)"
      ],
      "metadata": {
        "id": "T605UCTGgrkj"
      },
      "execution_count": 61,
      "outputs": []
    },
    {
      "cell_type": "code",
      "source": [
        "# Accessing the radius and area properties\n",
        "print(circle.radius)  # Calls the getter method\n",
        "print(circle.area)    # Calls the area property"
      ],
      "metadata": {
        "colab": {
          "base_uri": "https://localhost:8080/"
        },
        "id": "GLmeAj9rgwRe",
        "outputId": "1a3091c2-ffd6-4512-e3db-5473f710be14"
      },
      "execution_count": 62,
      "outputs": [
        {
          "output_type": "stream",
          "name": "stdout",
          "text": [
            "5\n",
            "78.53975\n"
          ]
        }
      ]
    },
    {
      "cell_type": "code",
      "source": [
        "# Setting the radius property\n",
        "circle.radius = 7  # Calls the setter method"
      ],
      "metadata": {
        "id": "q00Fa6KRgwqr"
      },
      "execution_count": 63,
      "outputs": []
    },
    {
      "cell_type": "markdown",
      "source": [
        "Q5.What is method overriding in python? Write a python code to demonstrate method overriding."
      ],
      "metadata": {
        "id": "Xh8klsiGaK6v"
      }
    },
    {
      "cell_type": "markdown",
      "source": [
        "Method overriding in object oriented programming is a concept which allows us to create a subclass to a class, which provides a specific implementation of a method already defined in the parent class/superclass.\n",
        "\n",
        "When a subclass defines a method with the same name, parameters, and return type as defined in the super class, it is said to override the superclass method.\n",
        "\n",
        "Following cells of code shares an example of method overriding."
      ],
      "metadata": {
        "id": "ggT9z2iHhs_j"
      }
    },
    {
      "cell_type": "code",
      "source": [
        "class vehicle:\n",
        "  def wheels(self):\n",
        "    print(\"A vehicle can have 2, 3, or 4 wheels\")\n",
        "\n",
        "class car(vehicle):\n",
        "  def wheels(self):\n",
        "    print(\"A car has 4 wheels\")\n",
        "\n",
        "# creating object of the class\n",
        "Vehicle = vehicle()\n",
        "Cars = car()\n",
        "\n",
        "Vehicle.wheels()\n",
        "Cars.wheels()"
      ],
      "metadata": {
        "colab": {
          "base_uri": "https://localhost:8080/"
        },
        "id": "6JYw3IoxaPJz",
        "outputId": "15658d3b-34e4-4496-a271-8e20eca567a4"
      },
      "execution_count": 65,
      "outputs": [
        {
          "output_type": "stream",
          "name": "stdout",
          "text": [
            "A vehicle can have 2, 3, or 4 wheels\n",
            "A car has 4 wheels\n"
          ]
        }
      ]
    }
  ]
}