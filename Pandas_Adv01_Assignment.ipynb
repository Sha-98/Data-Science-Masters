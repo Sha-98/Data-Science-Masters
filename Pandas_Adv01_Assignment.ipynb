{
  "nbformat": 4,
  "nbformat_minor": 0,
  "metadata": {
    "colab": {
      "provenance": [],
      "authorship_tag": "ABX9TyP8Yv3sABUHNmGlUVtjpV7z",
      "include_colab_link": true
    },
    "kernelspec": {
      "name": "python3",
      "display_name": "Python 3"
    },
    "language_info": {
      "name": "python"
    }
  },
  "cells": [
    {
      "cell_type": "markdown",
      "metadata": {
        "id": "view-in-github",
        "colab_type": "text"
      },
      "source": [
        "<a href=\"https://colab.research.google.com/github/Sha-98/Data-Science-Masters/blob/main/Pandas_Adv01_Assignment.ipynb\" target=\"_parent\"><img src=\"https://colab.research.google.com/assets/colab-badge.svg\" alt=\"Open In Colab\"/></a>"
      ]
    },
    {
      "cell_type": "markdown",
      "source": [
        "# **Pandas Advance 01 - Assignment**"
      ],
      "metadata": {
        "id": "VJl8Re9mmM3o"
      }
    },
    {
      "cell_type": "markdown",
      "source": [
        "## **Q1. List any five functions of the pandas library with execution.**\n",
        "\n"
      ],
      "metadata": {
        "id": "eik2JNzQmX_2"
      }
    },
    {
      "cell_type": "markdown",
      "source": [
        "## **Q2. Given a Pandas DataFrame df with columns 'A', 'B', and 'C', write a Python function to re-index the DataFrame with a new index that starts from 1 and increments by 2 for each row.**\n"
      ],
      "metadata": {
        "id": "RGZVkf-c88U0"
      }
    },
    {
      "cell_type": "markdown",
      "source": [
        "## **Q3. You have a Pandas DataFrame df with a column named 'Values'. Write a Python function that iterates over the DataFrame and calculates the sum of the first three values in the 'Values' column. The function should print the sum to the console. For example, if the 'Values' column of df contains the values [10, 20, 30, 40, 50], your function should calculate and print the sum of the first three values, which is 60.**\n",
        "\n"
      ],
      "metadata": {
        "id": "yLDinsOr9BaO"
      }
    },
    {
      "cell_type": "markdown",
      "source": [
        "## **Q4. Given a Pandas DataFrame df with a column 'Text', write a Python function to create a new column 'Word_Count' that contains the number of words in each row of the 'Text' column.**\n"
      ],
      "metadata": {
        "id": "kBBJKEPf9Hmb"
      }
    },
    {
      "cell_type": "markdown",
      "source": [
        "## **Q5. How are DataFrame.size() and DataFrame.shape() different?**"
      ],
      "metadata": {
        "id": "baAp_ryk9LtC"
      }
    },
    {
      "cell_type": "markdown",
      "source": [
        "## **Q6. Which function of pandas do we use to read an excel file?**\n"
      ],
      "metadata": {
        "id": "Y8Tjh9VC9OMR"
      }
    },
    {
      "cell_type": "markdown",
      "source": [
        "## **Q7. You have a Pandas DataFrame df that contains a column named 'Email' that contains email addresses in the format 'username@domain.com'. Write a Python function that creates a new column 'Username' in df that contains only the username part of each email address.**\n",
        "\n",
        "## **The username is the part of the email address that appears before the '@' symbol. For example, if the email address is 'john.doe@example.com', the 'Username' column should contain 'john.doe'. Your function should extract the username from each email address and store it in the new 'Username' column.**"
      ],
      "metadata": {
        "id": "C6D0BGSv9RlE"
      }
    },
    {
      "cell_type": "markdown",
      "source": [
        "## **Q8. You have a Pandas DataFrame df with columns 'A', 'B', and 'C'. Write a Python function that selects all rows where the value in column 'A' is greater than 5 and the value in column 'B' is less than 10. The function should return a new DataFrame that contains only the selected rows.**\n",
        "\n",
        "**For example, if df contains the following values:**\n",
        "\n",
        "   **A B C**\n",
        "\n",
        " **0 3 5 1**\n",
        "\n",
        " **1 8 2 7**\n",
        "\n",
        " **2 6 9 4**\n",
        "\n",
        " **3 2 3 5**\n",
        "\n",
        "## **Your function should select the following rows:**\n",
        "\n",
        "  **A B C**\n",
        "\n",
        "**1 8 2 7**\n",
        "\n",
        "**4 9 1 2**\n",
        "\n",
        "## **The function should return a new DataFrame that contains only the selected rows.**"
      ],
      "metadata": {
        "id": "48FG0kxi9c8H"
      }
    },
    {
      "cell_type": "markdown",
      "source": [
        "## **Q9. Given a Pandas DataFrame df with a column 'Values', write a Python function to calculate the mean, median, and standard deviation of the values in the 'Values' column.**\n",
        "\n"
      ],
      "metadata": {
        "id": "UsWIfXWzZ5Vs"
      }
    },
    {
      "cell_type": "markdown",
      "source": [
        "## **Q10. Given a Pandas DataFrame df with a column 'Sales' and a column 'Date', write a Python function to create a new column 'MovingAverage' that contains the moving average of the sales for the past 7 days for each row in the DataFrame. The moving average should be calculated using a window of size 7 and should include the current day.**"
      ],
      "metadata": {
        "id": "z77jltMgaQFn"
      }
    },
    {
      "cell_type": "markdown",
      "source": [
        "## **Q11. You have a Pandas DataFrame df with a column 'Date'. Write a Python function that creates a new column 'Weekday' in the DataFrame. The 'Weekday' column should contain the weekday name (e.g. Monday, Tuesday) corresponding to each date in the 'Date' column.**\n",
        "\n",
        "## **For example, if df contains the following values:**\n",
        "\n",
        "**Date**\n",
        "\n",
        "**0 2023-01-01**\n",
        "\n",
        "**1 2023-01-02**\n",
        "\n",
        "**2 2023-01-03**\n",
        "\n",
        "**3 2023-01-04**\n",
        "\n",
        "**4 2023-01-05**\n",
        "\n",
        "## **Your function should create the following DataFrame:**\n",
        "\n",
        "**Date Weekday**\n",
        "\n",
        "**0 2023-01-01 Sunday**\n",
        "\n",
        "**1 2023-01-02 Monday**\n",
        "\n",
        "**2 2023-01-03 Tuesday**\n",
        "\n",
        "**3 2023-01-04 Wednesday**\n",
        "\n",
        "**4 2023-01-05 Thursday**\n",
        "\n",
        "## **The function should return the modified DataFrame.**"
      ],
      "metadata": {
        "id": "s61b6SAlaVbb"
      }
    },
    {
      "cell_type": "markdown",
      "source": [
        "## **Q12. Given a Pandas DataFrame df with a column 'Date' that contains timestamps, write a Python function to select all rows where the date is between '2023-01-01' and '2023-01-31'.**\n"
      ],
      "metadata": {
        "id": "lGD1KPp4a67G"
      }
    },
    {
      "cell_type": "markdown",
      "source": [
        "## **Q13. To use the basic functions of pandas, what is the first and foremost necessary library that needs to be imported?**"
      ],
      "metadata": {
        "id": "p_XdIxtXbA1Y"
      }
    },
    {
      "cell_type": "code",
      "source": [],
      "metadata": {
        "id": "VGXMr380mrlc"
      },
      "execution_count": null,
      "outputs": []
    },
    {
      "cell_type": "code",
      "source": [],
      "metadata": {
        "id": "nFtX0Mh1mXap"
      },
      "execution_count": null,
      "outputs": []
    }
  ]
}