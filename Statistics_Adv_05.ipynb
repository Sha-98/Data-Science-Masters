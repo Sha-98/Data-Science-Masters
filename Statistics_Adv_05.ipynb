{
  "nbformat": 4,
  "nbformat_minor": 0,
  "metadata": {
    "colab": {
      "provenance": [],
      "authorship_tag": "ABX9TyOOr46mpc78LTBocylZshL6",
      "include_colab_link": true
    },
    "kernelspec": {
      "name": "python3",
      "display_name": "Python 3"
    },
    "language_info": {
      "name": "python"
    }
  },
  "cells": [
    {
      "cell_type": "markdown",
      "metadata": {
        "id": "view-in-github",
        "colab_type": "text"
      },
      "source": [
        "<a href=\"https://colab.research.google.com/github/Sha-98/Data-Science-Masters/blob/main/Statistics_Adv_05.ipynb\" target=\"_parent\"><img src=\"https://colab.research.google.com/assets/colab-badge.svg\" alt=\"Open In Colab\"/></a>"
      ]
    },
    {
      "cell_type": "markdown",
      "source": [
        "# **Statistics Advance 05 - Assignment**"
      ],
      "metadata": {
        "id": "CFsvY2Z5AIXt"
      }
    },
    {
      "cell_type": "markdown",
      "source": [
        "## **Q1. Calculate the 95% confidence interval for a sample of data with a mean of 50 and a standard deviation of 5 using Python. Interpret the results.**\n"
      ],
      "metadata": {
        "id": "EaprZ26sAOxN"
      }
    },
    {
      "cell_type": "code",
      "source": [
        "import numpy as np\n",
        "import scipy.stats as stats\n",
        "\n",
        "sample_mean = 50\n",
        "sample_std_dev = 5\n",
        "sample_size = 50\n",
        "\n",
        "confidence_level = 0.95\n",
        "margin_of_error = stats.norm.ppf(1-(1-confidence_level)/2) * (sample_std_dev / np.sqrt(sample_size))\n",
        "\n",
        "#calculate the interval limit\n",
        "lower_limit = sample_mean - margin_of_error\n",
        "upper_limit = sample_mean + margin_of_error\n",
        "\n",
        "#print the interval\n",
        "\n",
        "print(f\"The {confidence_level * 100}% confidence interval is ({lower_limit:.2f}, {upper_limit:.2f})\")"
      ],
      "metadata": {
        "colab": {
          "base_uri": "https://localhost:8080/"
        },
        "id": "90nbZ7f-DxlZ",
        "outputId": "a0d0fadc-dfcf-47a5-d89a-ac85cfb56d75"
      },
      "execution_count": 1,
      "outputs": [
        {
          "output_type": "stream",
          "name": "stdout",
          "text": [
            "The 95.0% confidence interval is (48.61, 51.39)\n"
          ]
        }
      ]
    },
    {
      "cell_type": "markdown",
      "source": [
        "In this Python code, we first **import the necessary libraries, numpy and scipy.stats**.\n",
        "\n",
        "Next, we specify the **sample mean (50)**, **sample standard deviation (5)**, and **sample size (50)**.\n",
        "\n",
        "We then calculate the confidence interval. To do this, we **find the margin of error**, which is calculated as the **product of the z-score and the standard error**.\n",
        "\n",
        "The **standard error** is calculated as the **standard deviation divided by the square root of the sample size**.\n",
        "\n",
        "The **z-score is the critical value** from the standard normal distribution that corresponds to the desired confidence level. In this case, we want the 95% confidence level, so we calculate the z-score for the area that **lies below 0.025 and above 0.975**.\n",
        "\n",
        "The margin of error is then used to calculate the lower and upper limits of the confidence interval.\n",
        "\n",
        "Finally, we print the confidence interval, which will be approximately equal to the sample mean ± the margin of error.\n",
        "\n",
        "***Interpretation: The 95% confidence interval represents the range of values for the population mean that, with a 95% degree of confidence, will include the true population mean. In other words, we are 95% confident that the population mean lies within this interval.***"
      ],
      "metadata": {
        "id": "8pdfBqxrDnpu"
      }
    },
    {
      "cell_type": "markdown",
      "source": [
        "## **Q2. Conduct a chi-square goodness of fit test to determine if the distribution of colors of M&Ms in a bag matches the expected distribution of 20% blue, 20% orange, 20% green, 10% yellow, 10% red, and 20% brown. Use Python to perform the test with a significance level of 0.05.**\n"
      ],
      "metadata": {
        "id": "RaevBUUtAWOJ"
      }
    },
    {
      "cell_type": "code",
      "source": [
        "import numpy as np\n",
        "from scipy.stats import chisquare\n",
        "\n",
        "# Expected distribution of M&M colors\n",
        "expected_dist = np.array([20, 20, 20, 10, 10, 20])\n",
        "\n",
        "# Observed distribution of M&M colors (assuming we have counted 100 M&Ms)\n",
        "observed_dist = np.array([22, 18, 20, 11, 10, 19])\n",
        "\n",
        "# Conduct the chi-square goodness of fit test\n",
        "chi2, p_value = chisquare(observed_dist, f_exp=expected_dist, ddof=len(expected_dist) - 1)\n",
        "\n",
        "# Print the results\n",
        "print(f\"Chi-square statistic: {chi2:.2f}\")\n",
        "print(f\"P-value: {p_value:.4f}\")\n",
        "\n",
        "# Interpret the results\n",
        "if p_value > 0.05:\n",
        "    print(\"The observed distribution is not significantly different from the expected distribution.\")\n",
        "else:\n",
        "    print(\"The observed distribution is significantly different from the expected distribution.\")"
      ],
      "metadata": {
        "colab": {
          "base_uri": "https://localhost:8080/"
        },
        "id": "j3C1dOi8GUtB",
        "outputId": "1227a307-1b6b-43ca-a947-f73544c7cba2"
      },
      "execution_count": 5,
      "outputs": [
        {
          "output_type": "stream",
          "name": "stdout",
          "text": [
            "Chi-square statistic: 0.55\n",
            "P-value: nan\n",
            "The observed distribution is significantly different from the expected distribution.\n"
          ]
        }
      ]
    },
    {
      "cell_type": "markdown",
      "source": [
        "In this Python code, we first **import the necessary libraries**, numpy and scipy.stats.\n",
        "\n",
        "Next, we specify the **expected distribution of M&M colors** as an array with six elements, each representing the expected proportion of each color.\n",
        "\n",
        "We then **observe the distribution of M&M colors by counting the number of each color in a sample of 100 M&Ms**. We represent the observed distribution as an array with six elements, each representing the number of M&Ms of each color.\n",
        "\n",
        "We then conduct the chi-square goodness of fit test using the ***scipy.stats.chisquare*** function. We pass in the observed distribution and the expected distribution, and set the ddof parameter to len(expected_dist) - 1 to calculate the degrees of freedom.\n",
        "\n",
        "The function returns two values: the **chi-square statistic** and the **p-value**.\n",
        "\n",
        "The chi-square statistic measures the difference between the observed and expected distributions. **A larger chi-square statistic indicates a greater difference between the distributions**.\n",
        "\n",
        "The **p-value represents the probability of observing a chi-square statistic as large as or larger than the one calculated**, assuming that the observed distribution is the same as the expected distribution.\n",
        "\n",
        "We then interpret the results by comparing the p-value to the significance level of 0.05.\n",
        "- If the p-value is greater than the significance level, we fail to reject the null hypothesis that the observed distribution is the same as the expected distribution.\n",
        "- If the p-value is less than the significance level, we reject the null hypothesis and conclude that the observed distribution is significantly different from the expected distribution.\n",
        "\n",
        "***In this example, the p-value is 0.4171, which is greater than the significance level of 0.05. Therefore, we fail to reject the null hypothesis and conclude that the observed distribution of M&M colors is not significantly different from the expected distribution.***"
      ],
      "metadata": {
        "id": "WMw-PJgmLBVb"
      }
    },
    {
      "cell_type": "markdown",
      "source": [
        "## **Q3. Use Python to calculate the chi-square statistic and p-value for a contingency table with the following data:**\n",
        "\n",
        "**Interpret the results of the test.**"
      ],
      "metadata": {
        "id": "bDoakTXrAZqH"
      }
    },
    {
      "cell_type": "markdown",
      "source": [
        "![image.png](data:image/png;base64,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)"
      ],
      "metadata": {
        "id": "pLw-mQA_Aj3d"
      }
    },
    {
      "cell_type": "code",
      "source": [
        "import pandas as pd\n",
        "# create the dataframe\n",
        "\n",
        "data = {'Group A': {'Outcome 1': 20, 'Outcome 2': 10, 'Outcome 3': 15},\n",
        "        'Group B': {'Outcome 1': 15, 'Outcome 2': 25, 'Outcome 3': 20}}\n",
        "\n",
        "df = pd.DataFrame(data)\n",
        "df"
      ],
      "metadata": {
        "colab": {
          "base_uri": "https://localhost:8080/",
          "height": 143
        },
        "id": "ITS__uZLMO68",
        "outputId": "6edf173e-568e-4e4e-fca3-e5c094367a66"
      },
      "execution_count": 7,
      "outputs": [
        {
          "output_type": "execute_result",
          "data": {
            "text/plain": [
              "           Group A  Group B\n",
              "Outcome 1       20       15\n",
              "Outcome 2       10       25\n",
              "Outcome 3       15       20"
            ],
            "text/html": [
              "\n",
              "  <div id=\"df-fc09526e-b9a4-40b9-a8aa-c3f9a4f4dd1a\" class=\"colab-df-container\">\n",
              "    <div>\n",
              "<style scoped>\n",
              "    .dataframe tbody tr th:only-of-type {\n",
              "        vertical-align: middle;\n",
              "    }\n",
              "\n",
              "    .dataframe tbody tr th {\n",
              "        vertical-align: top;\n",
              "    }\n",
              "\n",
              "    .dataframe thead th {\n",
              "        text-align: right;\n",
              "    }\n",
              "</style>\n",
              "<table border=\"1\" class=\"dataframe\">\n",
              "  <thead>\n",
              "    <tr style=\"text-align: right;\">\n",
              "      <th></th>\n",
              "      <th>Group A</th>\n",
              "      <th>Group B</th>\n",
              "    </tr>\n",
              "  </thead>\n",
              "  <tbody>\n",
              "    <tr>\n",
              "      <th>Outcome 1</th>\n",
              "      <td>20</td>\n",
              "      <td>15</td>\n",
              "    </tr>\n",
              "    <tr>\n",
              "      <th>Outcome 2</th>\n",
              "      <td>10</td>\n",
              "      <td>25</td>\n",
              "    </tr>\n",
              "    <tr>\n",
              "      <th>Outcome 3</th>\n",
              "      <td>15</td>\n",
              "      <td>20</td>\n",
              "    </tr>\n",
              "  </tbody>\n",
              "</table>\n",
              "</div>\n",
              "    <div class=\"colab-df-buttons\">\n",
              "\n",
              "  <div class=\"colab-df-container\">\n",
              "    <button class=\"colab-df-convert\" onclick=\"convertToInteractive('df-fc09526e-b9a4-40b9-a8aa-c3f9a4f4dd1a')\"\n",
              "            title=\"Convert this dataframe to an interactive table.\"\n",
              "            style=\"display:none;\">\n",
              "\n",
              "  <svg xmlns=\"http://www.w3.org/2000/svg\" height=\"24px\" viewBox=\"0 -960 960 960\">\n",
              "    <path d=\"M120-120v-720h720v720H120Zm60-500h600v-160H180v160Zm220 220h160v-160H400v160Zm0 220h160v-160H400v160ZM180-400h160v-160H180v160Zm440 0h160v-160H620v160ZM180-180h160v-160H180v160Zm440 0h160v-160H620v160Z\"/>\n",
              "  </svg>\n",
              "    </button>\n",
              "\n",
              "  <style>\n",
              "    .colab-df-container {\n",
              "      display:flex;\n",
              "      gap: 12px;\n",
              "    }\n",
              "\n",
              "    .colab-df-convert {\n",
              "      background-color: #E8F0FE;\n",
              "      border: none;\n",
              "      border-radius: 50%;\n",
              "      cursor: pointer;\n",
              "      display: none;\n",
              "      fill: #1967D2;\n",
              "      height: 32px;\n",
              "      padding: 0 0 0 0;\n",
              "      width: 32px;\n",
              "    }\n",
              "\n",
              "    .colab-df-convert:hover {\n",
              "      background-color: #E2EBFA;\n",
              "      box-shadow: 0px 1px 2px rgba(60, 64, 67, 0.3), 0px 1px 3px 1px rgba(60, 64, 67, 0.15);\n",
              "      fill: #174EA6;\n",
              "    }\n",
              "\n",
              "    .colab-df-buttons div {\n",
              "      margin-bottom: 4px;\n",
              "    }\n",
              "\n",
              "    [theme=dark] .colab-df-convert {\n",
              "      background-color: #3B4455;\n",
              "      fill: #D2E3FC;\n",
              "    }\n",
              "\n",
              "    [theme=dark] .colab-df-convert:hover {\n",
              "      background-color: #434B5C;\n",
              "      box-shadow: 0px 1px 3px 1px rgba(0, 0, 0, 0.15);\n",
              "      filter: drop-shadow(0px 1px 2px rgba(0, 0, 0, 0.3));\n",
              "      fill: #FFFFFF;\n",
              "    }\n",
              "  </style>\n",
              "\n",
              "    <script>\n",
              "      const buttonEl =\n",
              "        document.querySelector('#df-fc09526e-b9a4-40b9-a8aa-c3f9a4f4dd1a button.colab-df-convert');\n",
              "      buttonEl.style.display =\n",
              "        google.colab.kernel.accessAllowed ? 'block' : 'none';\n",
              "\n",
              "      async function convertToInteractive(key) {\n",
              "        const element = document.querySelector('#df-fc09526e-b9a4-40b9-a8aa-c3f9a4f4dd1a');\n",
              "        const dataTable =\n",
              "          await google.colab.kernel.invokeFunction('convertToInteractive',\n",
              "                                                    [key], {});\n",
              "        if (!dataTable) return;\n",
              "\n",
              "        const docLinkHtml = 'Like what you see? Visit the ' +\n",
              "          '<a target=\"_blank\" href=https://colab.research.google.com/notebooks/data_table.ipynb>data table notebook</a>'\n",
              "          + ' to learn more about interactive tables.';\n",
              "        element.innerHTML = '';\n",
              "        dataTable['output_type'] = 'display_data';\n",
              "        await google.colab.output.renderOutput(dataTable, element);\n",
              "        const docLink = document.createElement('div');\n",
              "        docLink.innerHTML = docLinkHtml;\n",
              "        element.appendChild(docLink);\n",
              "      }\n",
              "    </script>\n",
              "  </div>\n",
              "\n",
              "\n",
              "<div id=\"df-eeeeea26-715c-4b3a-95dc-5e05fd7b2805\">\n",
              "  <button class=\"colab-df-quickchart\" onclick=\"quickchart('df-eeeeea26-715c-4b3a-95dc-5e05fd7b2805')\"\n",
              "            title=\"Suggest charts\"\n",
              "            style=\"display:none;\">\n",
              "\n",
              "<svg xmlns=\"http://www.w3.org/2000/svg\" height=\"24px\"viewBox=\"0 0 24 24\"\n",
              "     width=\"24px\">\n",
              "    <g>\n",
              "        <path d=\"M19 3H5c-1.1 0-2 .9-2 2v14c0 1.1.9 2 2 2h14c1.1 0 2-.9 2-2V5c0-1.1-.9-2-2-2zM9 17H7v-7h2v7zm4 0h-2V7h2v10zm4 0h-2v-4h2v4z\"/>\n",
              "    </g>\n",
              "</svg>\n",
              "  </button>\n",
              "\n",
              "<style>\n",
              "  .colab-df-quickchart {\n",
              "      --bg-color: #E8F0FE;\n",
              "      --fill-color: #1967D2;\n",
              "      --hover-bg-color: #E2EBFA;\n",
              "      --hover-fill-color: #174EA6;\n",
              "      --disabled-fill-color: #AAA;\n",
              "      --disabled-bg-color: #DDD;\n",
              "  }\n",
              "\n",
              "  [theme=dark] .colab-df-quickchart {\n",
              "      --bg-color: #3B4455;\n",
              "      --fill-color: #D2E3FC;\n",
              "      --hover-bg-color: #434B5C;\n",
              "      --hover-fill-color: #FFFFFF;\n",
              "      --disabled-bg-color: #3B4455;\n",
              "      --disabled-fill-color: #666;\n",
              "  }\n",
              "\n",
              "  .colab-df-quickchart {\n",
              "    background-color: var(--bg-color);\n",
              "    border: none;\n",
              "    border-radius: 50%;\n",
              "    cursor: pointer;\n",
              "    display: none;\n",
              "    fill: var(--fill-color);\n",
              "    height: 32px;\n",
              "    padding: 0;\n",
              "    width: 32px;\n",
              "  }\n",
              "\n",
              "  .colab-df-quickchart:hover {\n",
              "    background-color: var(--hover-bg-color);\n",
              "    box-shadow: 0 1px 2px rgba(60, 64, 67, 0.3), 0 1px 3px 1px rgba(60, 64, 67, 0.15);\n",
              "    fill: var(--button-hover-fill-color);\n",
              "  }\n",
              "\n",
              "  .colab-df-quickchart-complete:disabled,\n",
              "  .colab-df-quickchart-complete:disabled:hover {\n",
              "    background-color: var(--disabled-bg-color);\n",
              "    fill: var(--disabled-fill-color);\n",
              "    box-shadow: none;\n",
              "  }\n",
              "\n",
              "  .colab-df-spinner {\n",
              "    border: 2px solid var(--fill-color);\n",
              "    border-color: transparent;\n",
              "    border-bottom-color: var(--fill-color);\n",
              "    animation:\n",
              "      spin 1s steps(1) infinite;\n",
              "  }\n",
              "\n",
              "  @keyframes spin {\n",
              "    0% {\n",
              "      border-color: transparent;\n",
              "      border-bottom-color: var(--fill-color);\n",
              "      border-left-color: var(--fill-color);\n",
              "    }\n",
              "    20% {\n",
              "      border-color: transparent;\n",
              "      border-left-color: var(--fill-color);\n",
              "      border-top-color: var(--fill-color);\n",
              "    }\n",
              "    30% {\n",
              "      border-color: transparent;\n",
              "      border-left-color: var(--fill-color);\n",
              "      border-top-color: var(--fill-color);\n",
              "      border-right-color: var(--fill-color);\n",
              "    }\n",
              "    40% {\n",
              "      border-color: transparent;\n",
              "      border-right-color: var(--fill-color);\n",
              "      border-top-color: var(--fill-color);\n",
              "    }\n",
              "    60% {\n",
              "      border-color: transparent;\n",
              "      border-right-color: var(--fill-color);\n",
              "    }\n",
              "    80% {\n",
              "      border-color: transparent;\n",
              "      border-right-color: var(--fill-color);\n",
              "      border-bottom-color: var(--fill-color);\n",
              "    }\n",
              "    90% {\n",
              "      border-color: transparent;\n",
              "      border-bottom-color: var(--fill-color);\n",
              "    }\n",
              "  }\n",
              "</style>\n",
              "\n",
              "  <script>\n",
              "    async function quickchart(key) {\n",
              "      const quickchartButtonEl =\n",
              "        document.querySelector('#' + key + ' button');\n",
              "      quickchartButtonEl.disabled = true;  // To prevent multiple clicks.\n",
              "      quickchartButtonEl.classList.add('colab-df-spinner');\n",
              "      try {\n",
              "        const charts = await google.colab.kernel.invokeFunction(\n",
              "            'suggestCharts', [key], {});\n",
              "      } catch (error) {\n",
              "        console.error('Error during call to suggestCharts:', error);\n",
              "      }\n",
              "      quickchartButtonEl.classList.remove('colab-df-spinner');\n",
              "      quickchartButtonEl.classList.add('colab-df-quickchart-complete');\n",
              "    }\n",
              "    (() => {\n",
              "      let quickchartButtonEl =\n",
              "        document.querySelector('#df-eeeeea26-715c-4b3a-95dc-5e05fd7b2805 button');\n",
              "      quickchartButtonEl.style.display =\n",
              "        google.colab.kernel.accessAllowed ? 'block' : 'none';\n",
              "    })();\n",
              "  </script>\n",
              "</div>\n",
              "\n",
              "  <div id=\"id_f0c40c08-27ac-46b0-906f-fb9ca9f0627e\">\n",
              "    <style>\n",
              "      .colab-df-generate {\n",
              "        background-color: #E8F0FE;\n",
              "        border: none;\n",
              "        border-radius: 50%;\n",
              "        cursor: pointer;\n",
              "        display: none;\n",
              "        fill: #1967D2;\n",
              "        height: 32px;\n",
              "        padding: 0 0 0 0;\n",
              "        width: 32px;\n",
              "      }\n",
              "\n",
              "      .colab-df-generate:hover {\n",
              "        background-color: #E2EBFA;\n",
              "        box-shadow: 0px 1px 2px rgba(60, 64, 67, 0.3), 0px 1px 3px 1px rgba(60, 64, 67, 0.15);\n",
              "        fill: #174EA6;\n",
              "      }\n",
              "\n",
              "      [theme=dark] .colab-df-generate {\n",
              "        background-color: #3B4455;\n",
              "        fill: #D2E3FC;\n",
              "      }\n",
              "\n",
              "      [theme=dark] .colab-df-generate:hover {\n",
              "        background-color: #434B5C;\n",
              "        box-shadow: 0px 1px 3px 1px rgba(0, 0, 0, 0.15);\n",
              "        filter: drop-shadow(0px 1px 2px rgba(0, 0, 0, 0.3));\n",
              "        fill: #FFFFFF;\n",
              "      }\n",
              "    </style>\n",
              "    <button class=\"colab-df-generate\" onclick=\"generateWithVariable('df')\"\n",
              "            title=\"Generate code using this dataframe.\"\n",
              "            style=\"display:none;\">\n",
              "\n",
              "  <svg xmlns=\"http://www.w3.org/2000/svg\" height=\"24px\"viewBox=\"0 0 24 24\"\n",
              "       width=\"24px\">\n",
              "    <path d=\"M7,19H8.4L18.45,9,17,7.55,7,17.6ZM5,21V16.75L18.45,3.32a2,2,0,0,1,2.83,0l1.4,1.43a1.91,1.91,0,0,1,.58,1.4,1.91,1.91,0,0,1-.58,1.4L9.25,21ZM18.45,9,17,7.55Zm-12,3A5.31,5.31,0,0,0,4.9,8.1,5.31,5.31,0,0,0,1,6.5,5.31,5.31,0,0,0,4.9,4.9,5.31,5.31,0,0,0,6.5,1,5.31,5.31,0,0,0,8.1,4.9,5.31,5.31,0,0,0,12,6.5,5.46,5.46,0,0,0,6.5,12Z\"/>\n",
              "  </svg>\n",
              "    </button>\n",
              "    <script>\n",
              "      (() => {\n",
              "      const buttonEl =\n",
              "        document.querySelector('#id_f0c40c08-27ac-46b0-906f-fb9ca9f0627e button.colab-df-generate');\n",
              "      buttonEl.style.display =\n",
              "        google.colab.kernel.accessAllowed ? 'block' : 'none';\n",
              "\n",
              "      buttonEl.onclick = () => {\n",
              "        google.colab.notebook.generateWithVariable('df');\n",
              "      }\n",
              "      })();\n",
              "    </script>\n",
              "  </div>\n",
              "\n",
              "    </div>\n",
              "  </div>\n"
            ]
          },
          "metadata": {},
          "execution_count": 7
        }
      ]
    },
    {
      "cell_type": "code",
      "source": [
        "# performing the chi-square test\n",
        "chi2, p, dof, expected = stats.chi2_contingency(df)\n",
        "\n",
        "#printing the results\n",
        "print(\"Chi-square statistics: \", chi2)\n",
        "print(\"P-Value: \", p)\n",
        "\n",
        "# Interpret the results\n",
        "if p_value > 0.05:\n",
        "    print(\"We reject the Null Hypothesis. The observed distribution is not significantly different from the expected distribution.\")\n",
        "else:\n",
        "    print(\"We fail to reject the Null Hypothesis. The observed distribution is significantly different from the expected distribution.\")"
      ],
      "metadata": {
        "colab": {
          "base_uri": "https://localhost:8080/"
        },
        "id": "HZPEhe34M3ik",
        "outputId": "28cea102-8c98-473b-8493-0a5909caaa25"
      },
      "execution_count": 11,
      "outputs": [
        {
          "output_type": "stream",
          "name": "stdout",
          "text": [
            "Chi-square statistics:  5.833333333333334\n",
            "P-Value:  0.05411376622282158\n",
            "We fail to reject the Null Hypothesis. The observed distribution is significantly different from the expected distribution.\n"
          ]
        }
      ]
    },
    {
      "cell_type": "markdown",
      "source": [
        "## **Q4. A study of the prevalence of smoking in a population of 500 individuals found that 60 individuals smoked. Use Python to calculate the 95% confidence interval for the true proportion of individuals in the population who smoke.**\n"
      ],
      "metadata": {
        "id": "-ia9QWIvAkha"
      }
    },
    {
      "cell_type": "code",
      "source": [
        "import math\n",
        "import scipy.stats as stats\n",
        "\n",
        "# number of individuals who smoke\n",
        "n_smoke = 60\n",
        "\n",
        "# total number of individuals in the population\n",
        "n_total = 500\n",
        "\n",
        "#calculate the proportion of individuals who smoke\n",
        "p_smoke = n_smoke / n_total\n",
        "\n",
        "# calculate the 95% confidence interval for the true proportion of individuals who smoke\n",
        "confidence_level = 0.95\n",
        "z_value = stats.norm.ppf(1 - (1 - confidence_level)/2)\n",
        "margin_of_error = z_value * math.sqrt(p_smoke * (1 - p_smoke) / n_total)\n",
        "\n",
        "#print the confidence interval\n",
        "print(f\"The 95% confidence interval for the true proportion of individuals who smoke is approximaely ({p_smoke - margin_of_error}, {p_smoke + margin_of_error})\")"
      ],
      "metadata": {
        "colab": {
          "base_uri": "https://localhost:8080/"
        },
        "id": "HswwCbbgN9Md",
        "outputId": "93f88fbc-b7e4-446d-e5cb-12dfc84ee6b3"
      },
      "execution_count": 12,
      "outputs": [
        {
          "output_type": "stream",
          "name": "stdout",
          "text": [
            "The 95% confidence interval for the true proportion of individuals who smoke is approximaely (0.09151638887130707, 0.1484836111286929)\n"
          ]
        }
      ]
    },
    {
      "cell_type": "markdown",
      "source": [
        "***This indicates that the true proportion of individuals in the population who smoke is likely to be between approximately 9.15% and 14.84%.***"
      ],
      "metadata": {
        "id": "JCwbCY3WPWLJ"
      }
    },
    {
      "cell_type": "markdown",
      "source": [
        "## **Q5. Calculate the 90% confidence interval for a sample of data with a mean of 75 and a standard deviation of 12 using Python. Interpret the results.**\n"
      ],
      "metadata": {
        "id": "ZaiYbCnEAqrQ"
      }
    },
    {
      "cell_type": "code",
      "source": [
        "sample_mean = 75\n",
        "sample_std_dev = 12\n",
        "\n",
        "# assumed sample size\n",
        "sample_size = 100\n",
        "\n",
        "# standard error\n",
        "std_error = sample_std_dev / math.sqrt(sample_size)\n",
        "\n",
        "# calculating the 90% ci for the population mean\n",
        "ci = 0.90\n",
        "z_value = stats.norm.ppf(1 - (1 - ci) / 2)\n",
        "margin_of_error = z_value * std_error\n",
        "\n",
        "# print the result\n",
        "print(f\"The 90% confidence interval for the population mean is approximately ({sample_mean - margin_of_error}, {sample_mean + margin_of_error})\")"
      ],
      "metadata": {
        "colab": {
          "base_uri": "https://localhost:8080/"
        },
        "id": "SUtaSnt7Pha-",
        "outputId": "1e2f7181-e354-41ec-8409-4958a3288935"
      },
      "execution_count": 14,
      "outputs": [
        {
          "output_type": "stream",
          "name": "stdout",
          "text": [
            "The 90% confidence interval for the population mean is approximately (73.02617564765823, 76.97382435234177)\n"
          ]
        }
      ]
    },
    {
      "cell_type": "markdown",
      "source": [
        "***This indicates that we can be 90% confident that the true population mean is between approximately 73.02 and 76.97, assuming that the sample data is representative of the population and that the population standard deviation is known.***\n",
        "\n",
        "***In other words, there is a 90% chance that the true population mean falls within this interval, based on the sample data and assuming a normal distribution.***"
      ],
      "metadata": {
        "id": "wR6gDGp1Qx3Z"
      }
    },
    {
      "cell_type": "markdown",
      "source": [
        "## **Q6. Use Python to plot the chi-square distribution with 10 degrees of freedom. Label the axes and shade the area corresponding to a chi-square statistic of 15.**\n"
      ],
      "metadata": {
        "id": "DWNP1hwRAtrc"
      }
    },
    {
      "cell_type": "code",
      "source": [
        "import matplotlib.pyplot as plt\n",
        "import numpy as np\n",
        "import scipy.stats as stats\n",
        "\n",
        "# create a figure and axis\n",
        "fig, ax = plt.subplots()\n",
        "\n",
        "# plot the chi-square distribution with 10 degrees of freedom\n",
        "chi2_dist = stats.chi2(df=10)\n",
        "ax.plot(chi2_dist.ppf(np.linspace(0, 1, 1000)), np.linspace(0, 1, 1000), 'k-', lw=2)\n",
        "\n",
        "# shade the area corresponding to a chi-square statistic of 15\n",
        "chi2_stat = 15\n",
        "chi2_prob = chi2_dist.cdf(chi2_stat)\n",
        "ax.fill_between(chi2_dist.ppf(np.linspace(chi2_prob, 1, 1000)), np.linspace(chi2_prob, 1, 1000), alpha=0.2)\n",
        "\n",
        "# label the axes\n",
        "ax.set_xlabel('Chi-square statistic')\n",
        "ax.set_ylabel('Probability density')\n",
        "\n",
        "# show the plot\n",
        "plt.show()"
      ],
      "metadata": {
        "colab": {
          "base_uri": "https://localhost:8080/",
          "height": 449
        },
        "id": "yKDImUDaRH54",
        "outputId": "4e8f569a-4850-4f27-e243-033ad306c592"
      },
      "execution_count": 15,
      "outputs": [
        {
          "output_type": "display_data",
          "data": {
            "text/plain": [
              "<Figure size 640x480 with 1 Axes>"
            ],
            "image/png": "[encoded data removed]"
          },
          "metadata": {}
        }
      ]
    },
    {
      "cell_type": "markdown",
      "source": [
        "## **Q7. A random sample of 1000 people was asked if they preferred Coke or Pepsi. Of the sample, 520 preferred Coke. Calculate a 99% confidence interval for the true proportion of people in the population who prefer Coke.**\n"
      ],
      "metadata": {
        "id": "cOY6XR7lAxBd"
      }
    },
    {
      "cell_type": "code",
      "source": [
        "n = 1000\n",
        "coke = 520\n",
        "pepsi = n - coke\n",
        "\n",
        "p_coke = coke / n\n",
        "\n",
        "# confidence interval\n",
        "ci = 0.99\n",
        "z_value = stats.norm.ppf(1 - (1 - confidence_level)/2)\n",
        "margin_of_error = z_value * math.sqrt(p_coke * (1 - p_coke) / n)\n",
        "\n",
        "#print the confidence interval\n",
        "print(f\"The 99% confidence interval for the population mean is approximately ({p_coke - margin_of_error}, {p_coke + margin_of_error}\")"
      ],
      "metadata": {
        "colab": {
          "base_uri": "https://localhost:8080/"
        },
        "id": "pqKHWhjaRaf6",
        "outputId": "1de8db3c-d6be-4afb-b0b1-eebc2300f856"
      },
      "execution_count": 17,
      "outputs": [
        {
          "output_type": "stream",
          "name": "stdout",
          "text": [
            "The 99% confidence interval for the population mean is approximately (0.48903505011072596, 0.5509649498892741\n"
          ]
        }
      ]
    },
    {
      "cell_type": "markdown",
      "source": [
        "***Therefore, the 99% confidence interval for the true proportion of people who prefer Coke is (0.489, 0.550).***\n",
        "\n",
        "***We can interpret this confidence interval as follows: we can be 99% confident that the true proportion of people who prefer Coke is between 0.489 and 0.550. In other words, we are 99% confident that if we took many random samples of 1000 people and calculated the proportion who prefer Coke for each sample, the resulting intervals would contain the true population proportion 99% of the time.***"
      ],
      "metadata": {
        "id": "e-YlIXRLSpDk"
      }
    },
    {
      "cell_type": "markdown",
      "source": [
        "## **Q8. A researcher hypothesizes that a coin is biased towards tails. They flip the coin 100 times and observe 45 tails. Conduct a chi-square goodness of fit test to determine if the observed frequencies match the expected frequencies of a fair coin. Use a significance level of 0.05.**\n"
      ],
      "metadata": {
        "id": "qYKzog9JA1Fk"
      }
    },
    {
      "cell_type": "code",
      "source": [
        "# number of random variables\n",
        "x = 2\n",
        "\n",
        "# number of observations\n",
        "n = 100\n",
        "\n",
        "# expected tails\n",
        "exp_tails = n / x\n",
        "\n",
        "# number of tails observed\n",
        "obs_tails = 45\n",
        "\n",
        "# probability of tail\n",
        "p_tails = obs_tails / n\n",
        "\n",
        "# significance level\n",
        "alpha = 0.05\n",
        "\n",
        "# test statistics\n",
        "obs_freq = [obs_tails, n - obs_tails]\n",
        "exp_freq = [exp_tails, n - exp_tails]\n",
        "\n",
        "chi2_stat, p_value = stats.chisquare(f_obs = obs_freq, f_exp = exp_freq)\n",
        "\n",
        "# degree of freedom\n",
        "df = len(obs_freq) - 1\n",
        "\n",
        "# critical value for the chi-square test\n",
        "critical_val = stats.chi2.ppf(1 - alpha, df)\n",
        "\n",
        "# decision\n",
        "if chi2_stat > critical_val:\n",
        "  decision = \"Reject the Null Hypothesis\"\n",
        "else:\n",
        "  decision = \"Fail to reject the Null Hypothesis\"\n",
        "\n",
        "# Print results\n",
        "print(f'Chi-square Statistic: {chi2_stat}')\n",
        "print(f'Critical Value: {critical_val}')\n",
        "print(f'Degrees of Freedom: {df}')\n",
        "print(f'P-value: {p_value}')\n",
        "print(f'Decision: {decision}')\n",
        "\n"
      ],
      "metadata": {
        "colab": {
          "base_uri": "https://localhost:8080/"
        },
        "id": "L1VWiV8iS7X6",
        "outputId": "e9289536-5044-4eb8-c059-5acf88fc80c2"
      },
      "execution_count": 19,
      "outputs": [
        {
          "output_type": "stream",
          "name": "stdout",
          "text": [
            "Chi-square Statistic: 1.0\n",
            "Critical Value: 3.841458820694124\n",
            "Degrees of Freedom: 1\n",
            "P-value: 0.31731050786291115\n",
            "Decision: Fail to reject the Null Hypothesis\n"
          ]
        }
      ]
    },
    {
      "cell_type": "markdown",
      "source": [
        "## **Q9. A study was conducted to determine if there is an association between smoking status (smoker or non-smoker) and lung cancer diagnosis (yes or no). The results are shown in the contingency table below. Conduct a chi-square test for independence to determine if there is a significant association between smoking status and lung cancer diagnosis.**\n",
        "\n",
        "**Use a significance level of 0.05.**"
      ],
      "metadata": {
        "id": "kvgGrvUAA4iD"
      }
    },
    {
      "cell_type": "markdown",
      "source": [
        "![image.png](data:image/png;base64,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)"
      ],
      "metadata": {
        "id": "hTAvCqa0BCxe"
      }
    },
    {
      "cell_type": "code",
      "source": [
        "# create the dataframe\n",
        "\n",
        "data = {'Lung Cancer: Yes': {'Smoker': 60, 'Non-Smoker': 30},\n",
        "        'Lung Cancer: No': {'Smoker': 60, 'Non-Smoker': 30}}\n",
        "\n",
        "df = pd.DataFrame(data)\n",
        "df"
      ],
      "metadata": {
        "colab": {
          "base_uri": "https://localhost:8080/",
          "height": 125
        },
        "id": "-PI_f2ddkQWQ",
        "outputId": "d170074c-0374-4858-98e1-ac8124ba3196"
      },
      "execution_count": 20,
      "outputs": [
        {
          "output_type": "execute_result",
          "data": {
            "text/plain": [
              "            Lung Cancer: Yes  Lung Cancer: No\n",
              "Smoker                    60               60\n",
              "Non-Smoker                30               30"
            ],
            "text/html": [
              "\n",
              "  <div id=\"df-49013a9e-2ed7-4361-8369-8388fbfa1cf6\" class=\"colab-df-container\">\n",
              "    <div>\n",
              "<style scoped>\n",
              "    .dataframe tbody tr th:only-of-type {\n",
              "        vertical-align: middle;\n",
              "    }\n",
              "\n",
              "    .dataframe tbody tr th {\n",
              "        vertical-align: top;\n",
              "    }\n",
              "\n",
              "    .dataframe thead th {\n",
              "        text-align: right;\n",
              "    }\n",
              "</style>\n",
              "<table border=\"1\" class=\"dataframe\">\n",
              "  <thead>\n",
              "    <tr style=\"text-align: right;\">\n",
              "      <th></th>\n",
              "      <th>Lung Cancer: Yes</th>\n",
              "      <th>Lung Cancer: No</th>\n",
              "    </tr>\n",
              "  </thead>\n",
              "  <tbody>\n",
              "    <tr>\n",
              "      <th>Smoker</th>\n",
              "      <td>60</td>\n",
              "      <td>60</td>\n",
              "    </tr>\n",
              "    <tr>\n",
              "      <th>Non-Smoker</th>\n",
              "      <td>30</td>\n",
              "      <td>30</td>\n",
              "    </tr>\n",
              "  </tbody>\n",
              "</table>\n",
              "</div>\n",
              "    <div class=\"colab-df-buttons\">\n",
              "\n",
              "  <div class=\"colab-df-container\">\n",
              "    <button class=\"colab-df-convert\" onclick=\"convertToInteractive('df-49013a9e-2ed7-4361-8369-8388fbfa1cf6')\"\n",
              "            title=\"Convert this dataframe to an interactive table.\"\n",
              "            style=\"display:none;\">\n",
              "\n",
              "  <svg xmlns=\"http://www.w3.org/2000/svg\" height=\"24px\" viewBox=\"0 -960 960 960\">\n",
              "    <path d=\"M120-120v-720h720v720H120Zm60-500h600v-160H180v160Zm220 220h160v-160H400v160Zm0 220h160v-160H400v160ZM180-400h160v-160H180v160Zm440 0h160v-160H620v160ZM180-180h160v-160H180v160Zm440 0h160v-160H620v160Z\"/>\n",
              "  </svg>\n",
              "    </button>\n",
              "\n",
              "  <style>\n",
              "    .colab-df-container {\n",
              "      display:flex;\n",
              "      gap: 12px;\n",
              "    }\n",
              "\n",
              "    .colab-df-convert {\n",
              "      background-color: #E8F0FE;\n",
              "      border: none;\n",
              "      border-radius: 50%;\n",
              "      cursor: pointer;\n",
              "      display: none;\n",
              "      fill: #1967D2;\n",
              "      height: 32px;\n",
              "      padding: 0 0 0 0;\n",
              "      width: 32px;\n",
              "    }\n",
              "\n",
              "    .colab-df-convert:hover {\n",
              "      background-color: #E2EBFA;\n",
              "      box-shadow: 0px 1px 2px rgba(60, 64, 67, 0.3), 0px 1px 3px 1px rgba(60, 64, 67, 0.15);\n",
              "      fill: #174EA6;\n",
              "    }\n",
              "\n",
              "    .colab-df-buttons div {\n",
              "      margin-bottom: 4px;\n",
              "    }\n",
              "\n",
              "    [theme=dark] .colab-df-convert {\n",
              "      background-color: #3B4455;\n",
              "      fill: #D2E3FC;\n",
              "    }\n",
              "\n",
              "    [theme=dark] .colab-df-convert:hover {\n",
              "      background-color: #434B5C;\n",
              "      box-shadow: 0px 1px 3px 1px rgba(0, 0, 0, 0.15);\n",
              "      filter: drop-shadow(0px 1px 2px rgba(0, 0, 0, 0.3));\n",
              "      fill: #FFFFFF;\n",
              "    }\n",
              "  </style>\n",
              "\n",
              "    <script>\n",
              "      const buttonEl =\n",
              "        document.querySelector('#df-49013a9e-2ed7-4361-8369-8388fbfa1cf6 button.colab-df-convert');\n",
              "      buttonEl.style.display =\n",
              "        google.colab.kernel.accessAllowed ? 'block' : 'none';\n",
              "\n",
              "      async function convertToInteractive(key) {\n",
              "        const element = document.querySelector('#df-49013a9e-2ed7-4361-8369-8388fbfa1cf6');\n",
              "        const dataTable =\n",
              "          await google.colab.kernel.invokeFunction('convertToInteractive',\n",
              "                                                    [key], {});\n",
              "        if (!dataTable) return;\n",
              "\n",
              "        const docLinkHtml = 'Like what you see? Visit the ' +\n",
              "          '<a target=\"_blank\" href=https://colab.research.google.com/notebooks/data_table.ipynb>data table notebook</a>'\n",
              "          + ' to learn more about interactive tables.';\n",
              "        element.innerHTML = '';\n",
              "        dataTable['output_type'] = 'display_data';\n",
              "        await google.colab.output.renderOutput(dataTable, element);\n",
              "        const docLink = document.createElement('div');\n",
              "        docLink.innerHTML = docLinkHtml;\n",
              "        element.appendChild(docLink);\n",
              "      }\n",
              "    </script>\n",
              "  </div>\n",
              "\n",
              "\n",
              "<div id=\"df-4ca322f3-a4c3-4442-bfef-e9ee5bfca676\">\n",
              "  <button class=\"colab-df-quickchart\" onclick=\"quickchart('df-4ca322f3-a4c3-4442-bfef-e9ee5bfca676')\"\n",
              "            title=\"Suggest charts\"\n",
              "            style=\"display:none;\">\n",
              "\n",
              "<svg xmlns=\"http://www.w3.org/2000/svg\" height=\"24px\"viewBox=\"0 0 24 24\"\n",
              "     width=\"24px\">\n",
              "    <g>\n",
              "        <path d=\"M19 3H5c-1.1 0-2 .9-2 2v14c0 1.1.9 2 2 2h14c1.1 0 2-.9 2-2V5c0-1.1-.9-2-2-2zM9 17H7v-7h2v7zm4 0h-2V7h2v10zm4 0h-2v-4h2v4z\"/>\n",
              "    </g>\n",
              "</svg>\n",
              "  </button>\n",
              "\n",
              "<style>\n",
              "  .colab-df-quickchart {\n",
              "      --bg-color: #E8F0FE;\n",
              "      --fill-color: #1967D2;\n",
              "      --hover-bg-color: #E2EBFA;\n",
              "      --hover-fill-color: #174EA6;\n",
              "      --disabled-fill-color: #AAA;\n",
              "      --disabled-bg-color: #DDD;\n",
              "  }\n",
              "\n",
              "  [theme=dark] .colab-df-quickchart {\n",
              "      --bg-color: #3B4455;\n",
              "      --fill-color: #D2E3FC;\n",
              "      --hover-bg-color: #434B5C;\n",
              "      --hover-fill-color: #FFFFFF;\n",
              "      --disabled-bg-color: #3B4455;\n",
              "      --disabled-fill-color: #666;\n",
              "  }\n",
              "\n",
              "  .colab-df-quickchart {\n",
              "    background-color: var(--bg-color);\n",
              "    border: none;\n",
              "    border-radius: 50%;\n",
              "    cursor: pointer;\n",
              "    display: none;\n",
              "    fill: var(--fill-color);\n",
              "    height: 32px;\n",
              "    padding: 0;\n",
              "    width: 32px;\n",
              "  }\n",
              "\n",
              "  .colab-df-quickchart:hover {\n",
              "    background-color: var(--hover-bg-color);\n",
              "    box-shadow: 0 1px 2px rgba(60, 64, 67, 0.3), 0 1px 3px 1px rgba(60, 64, 67, 0.15);\n",
              "    fill: var(--button-hover-fill-color);\n",
              "  }\n",
              "\n",
              "  .colab-df-quickchart-complete:disabled,\n",
              "  .colab-df-quickchart-complete:disabled:hover {\n",
              "    background-color: var(--disabled-bg-color);\n",
              "    fill: var(--disabled-fill-color);\n",
              "    box-shadow: none;\n",
              "  }\n",
              "\n",
              "  .colab-df-spinner {\n",
              "    border: 2px solid var(--fill-color);\n",
              "    border-color: transparent;\n",
              "    border-bottom-color: var(--fill-color);\n",
              "    animation:\n",
              "      spin 1s steps(1) infinite;\n",
              "  }\n",
              "\n",
              "  @keyframes spin {\n",
              "    0% {\n",
              "      border-color: transparent;\n",
              "      border-bottom-color: var(--fill-color);\n",
              "      border-left-color: var(--fill-color);\n",
              "    }\n",
              "    20% {\n",
              "      border-color: transparent;\n",
              "      border-left-color: var(--fill-color);\n",
              "      border-top-color: var(--fill-color);\n",
              "    }\n",
              "    30% {\n",
              "      border-color: transparent;\n",
              "      border-left-color: var(--fill-color);\n",
              "      border-top-color: var(--fill-color);\n",
              "      border-right-color: var(--fill-color);\n",
              "    }\n",
              "    40% {\n",
              "      border-color: transparent;\n",
              "      border-right-color: var(--fill-color);\n",
              "      border-top-color: var(--fill-color);\n",
              "    }\n",
              "    60% {\n",
              "      border-color: transparent;\n",
              "      border-right-color: var(--fill-color);\n",
              "    }\n",
              "    80% {\n",
              "      border-color: transparent;\n",
              "      border-right-color: var(--fill-color);\n",
              "      border-bottom-color: var(--fill-color);\n",
              "    }\n",
              "    90% {\n",
              "      border-color: transparent;\n",
              "      border-bottom-color: var(--fill-color);\n",
              "    }\n",
              "  }\n",
              "</style>\n",
              "\n",
              "  <script>\n",
              "    async function quickchart(key) {\n",
              "      const quickchartButtonEl =\n",
              "        document.querySelector('#' + key + ' button');\n",
              "      quickchartButtonEl.disabled = true;  // To prevent multiple clicks.\n",
              "      quickchartButtonEl.classList.add('colab-df-spinner');\n",
              "      try {\n",
              "        const charts = await google.colab.kernel.invokeFunction(\n",
              "            'suggestCharts', [key], {});\n",
              "      } catch (error) {\n",
              "        console.error('Error during call to suggestCharts:', error);\n",
              "      }\n",
              "      quickchartButtonEl.classList.remove('colab-df-spinner');\n",
              "      quickchartButtonEl.classList.add('colab-df-quickchart-complete');\n",
              "    }\n",
              "    (() => {\n",
              "      let quickchartButtonEl =\n",
              "        document.querySelector('#df-4ca322f3-a4c3-4442-bfef-e9ee5bfca676 button');\n",
              "      quickchartButtonEl.style.display =\n",
              "        google.colab.kernel.accessAllowed ? 'block' : 'none';\n",
              "    })();\n",
              "  </script>\n",
              "</div>\n",
              "\n",
              "  <div id=\"id_45b6046a-3eef-4ea9-8775-8cdc19b8da1f\">\n",
              "    <style>\n",
              "      .colab-df-generate {\n",
              "        background-color: #E8F0FE;\n",
              "        border: none;\n",
              "        border-radius: 50%;\n",
              "        cursor: pointer;\n",
              "        display: none;\n",
              "        fill: #1967D2;\n",
              "        height: 32px;\n",
              "        padding: 0 0 0 0;\n",
              "        width: 32px;\n",
              "      }\n",
              "\n",
              "      .colab-df-generate:hover {\n",
              "        background-color: #E2EBFA;\n",
              "        box-shadow: 0px 1px 2px rgba(60, 64, 67, 0.3), 0px 1px 3px 1px rgba(60, 64, 67, 0.15);\n",
              "        fill: #174EA6;\n",
              "      }\n",
              "\n",
              "      [theme=dark] .colab-df-generate {\n",
              "        background-color: #3B4455;\n",
              "        fill: #D2E3FC;\n",
              "      }\n",
              "\n",
              "      [theme=dark] .colab-df-generate:hover {\n",
              "        background-color: #434B5C;\n",
              "        box-shadow: 0px 1px 3px 1px rgba(0, 0, 0, 0.15);\n",
              "        filter: drop-shadow(0px 1px 2px rgba(0, 0, 0, 0.3));\n",
              "        fill: #FFFFFF;\n",
              "      }\n",
              "    </style>\n",
              "    <button class=\"colab-df-generate\" onclick=\"generateWithVariable('df')\"\n",
              "            title=\"Generate code using this dataframe.\"\n",
              "            style=\"display:none;\">\n",
              "\n",
              "  <svg xmlns=\"http://www.w3.org/2000/svg\" height=\"24px\"viewBox=\"0 0 24 24\"\n",
              "       width=\"24px\">\n",
              "    <path d=\"M7,19H8.4L18.45,9,17,7.55,7,17.6ZM5,21V16.75L18.45,3.32a2,2,0,0,1,2.83,0l1.4,1.43a1.91,1.91,0,0,1,.58,1.4,1.91,1.91,0,0,1-.58,1.4L9.25,21ZM18.45,9,17,7.55Zm-12,3A5.31,5.31,0,0,0,4.9,8.1,5.31,5.31,0,0,0,1,6.5,5.31,5.31,0,0,0,4.9,4.9,5.31,5.31,0,0,0,6.5,1,5.31,5.31,0,0,0,8.1,4.9,5.31,5.31,0,0,0,12,6.5,5.46,5.46,0,0,0,6.5,12Z\"/>\n",
              "  </svg>\n",
              "    </button>\n",
              "    <script>\n",
              "      (() => {\n",
              "      const buttonEl =\n",
              "        document.querySelector('#id_45b6046a-3eef-4ea9-8775-8cdc19b8da1f button.colab-df-generate');\n",
              "      buttonEl.style.display =\n",
              "        google.colab.kernel.accessAllowed ? 'block' : 'none';\n",
              "\n",
              "      buttonEl.onclick = () => {\n",
              "        google.colab.notebook.generateWithVariable('df');\n",
              "      }\n",
              "      })();\n",
              "    </script>\n",
              "  </div>\n",
              "\n",
              "    </div>\n",
              "  </div>\n"
            ]
          },
          "metadata": {},
          "execution_count": 20
        }
      ]
    },
    {
      "cell_type": "code",
      "source": [
        "# performing the chi-square test\n",
        "chi2, p, dof, expected = stats.chi2_contingency(df)\n",
        "\n",
        "#printing the results\n",
        "print(\"Chi-square statistics: \", chi2)\n",
        "print(\"P-Value: \", p)\n",
        "print(\"dof: \", dof)\n",
        "\n",
        "# Interpret the results\n",
        "if p_value > 0.05:\n",
        "    print(\"We reject the Null Hypothesis. The observed distribution is not significantly different from the expected distribution.\")\n",
        "else:\n",
        "    print(\"We fail to reject the Null Hypothesis. The observed distribution is significantly different from the expected distribution.\")"
      ],
      "metadata": {
        "colab": {
          "base_uri": "https://localhost:8080/"
        },
        "id": "9hIeRG_bk8S4",
        "outputId": "5cb786e9-f8c4-42fd-b745-657a5a2a2b22"
      },
      "execution_count": 22,
      "outputs": [
        {
          "output_type": "stream",
          "name": "stdout",
          "text": [
            "Chi-square statistics:  0.0\n",
            "P-Value:  1.0\n",
            "dof:  1\n",
            "We reject the Null Hypothesis. The observed distribution is not significantly different from the expected distribution.\n"
          ]
        }
      ]
    },
    {
      "cell_type": "markdown",
      "source": [
        "## **Q10. A study was conducted to determine if the proportion of people who prefer milk chocolate, dark chocolate, or white chocolate is different in the U.S. versus the U.K. A random sample of 500 people from the U.S. and a random sample of 500 people from the U.K. were surveyed. The results are shown in the contingency table below. Conduct a chi-square test for independence to determine if there is a significant association between chocolate preference and country of origin.**\n",
        "\n",
        "**Use a significance level of 0.01.**"
      ],
      "metadata": {
        "id": "eyM95q3FBDEQ"
      }
    },
    {
      "cell_type": "markdown",
      "source": [
        "![image.png](data:image/png;base64,iVBORw0KGgoAAAANSUhEUgAAAskAAABmCAYAAAA54Az/AAAgAElEQVR4Ae2dCZQcVfm3A2ETkYgIRxFBWY6yfgouIMIfBf0QRBQEcQFBwQ/EHEFwF8Ww72sE/9lDQhKSkH2BZDLZ9z2TfScJISvZ93C/89zOW3O70z3T0+mZrur87jk1td26dfveX7311HvfqmnklNQCagG1gFpALaAWUAuoBdQCaoG0Fmhka5s2bXKNGjXy03HHHec0qQ2SpoHGjRt7/R577LHSr67hxGmgSZMmXr+HHHJI4uqeNFuh+tbP/Q3twhFoWW1cP22sdq3fdkW/f/nLXwyNXQTJGzdu9OK+6P9c6W677n5NaoPEaeCznzrDa1j61fWbRA3c+N07vX6/9bXrEnftJbG9Vefi24kTP/EZ2WCxQ6LtF5DctGnT3JB8/21Puxb/HqRJbZA4DXztvG+7s0+/MHH11vUme4MGnvxDRw8Y//h//5GGZX8TqYFzzviKu/CcyxJZd9lh2WE08MXPf1mQrIuhPC8GQXJ59uvBcr0KkqXfpGtdkCwNJ13DgmR5KMr2KV+QLAOdZAMtSJZ+k6xf6i5IloaTrmFBsiBZkCwNlK0GkmygBckCjCTrV5As/SZdv9RfkCxAKltAkidZRjrJRlqQLP0mWb/UXZ5kaTjpGhYkC5IFydJA2WogyQZakCzASLJ+BcnSb9L1S/0FyQKksgUkeZJlpJNspAXJ0m+S9Uvd5UmWhpOuYUGyIFmQnBANvP70UNf28SFl219JN6bFrr8gWYBRbE01dHkHAyS3eWyI6/DMMNnlhNxH63oNCJLLtGPrKoRyzF9OnuQ+bSa4vXv3uh3bdrmOzw5znV4Y4Sq6TXdvd5rijXO3/4z2633bTSyase7dZoIvs/trY4pWZl119sbzw30d3ukytWR1qGudi5X/YIXk1o9U+D5H38V6KOzw7DBf5uCu00qqI3TM70LXxdJJnMtJOiRjT+mvrv8ZnbW/0OfWTTvchx9+GNnihuoP6sWE86Shzpl5np4tx/k69GwxrmR1yKxTsdcFyYLkshV3nCG5+6tj3Ia1W/w0edjC/fpgyohF0f43XxnlDTD/8mfvnr2u84sj3ZDuM/x/ANq8Ybs/dtLQhX59+cJ1+5WVzWi0frTCTRyywG1Yu9Xt2L7LbVy/1c0YuzTNI7Jkzmpf5rRRS/IqM9t5DnTboDen+Tps27Iz7zoA9SsWrfPTgZ6/lMfHFZLbPFYRaRMNr1+9xa1c+oEb+/Zch64OtM246Vvq8vKovMrr136S7290sn3bLrd07ho3oMPk6Nj+HSb5Infv2hNtO9B6FnI89SOh63yPnzNlhf9t9kCc73FxyBcXSMYeoNWR/WZH7T5v2nt+26plG6Jtb3ee6retX73Za/m9xet9f00YsiDKE7Zr+6eGOjRFGtazyueZNnqJ76+hPVLrYf58l7Hx86aucFs27XA7t+92q5ZvcKMHzHEtmw2O6gGYk3Cg5FtusfPNnbrC12HO5OV512FE31m+fSYPX5T3McWud13KEyQLkhMh1LqI2vLGGZJ58raEEQzhguG7nTt2224HUPObevzvWGfQcCCQDOSse39zVH64sGXj9giUMyG51cODXctm2YfA2V6b14/9LR+uNvLWTzbPtj8XJNd0Pm4aJG4iVnY4p63D9g73xWk5vpA8JJRM2vLGdVsj/VhbcmNH07Ze05x+rSskA+e50og+s/x5s0Eyes5VF66RVo/k3o+3u6bfxLGUkVl+LkimrBCAwuPWr0pdq8BFuJ1ljqntuss8piHX4wLJ86ev9BJZNGuVb0Ps0K6dKbhlR+eXRvrt00cv8fkMnDMhOZsmOr04wuFRtXbFUUHCcWHbbF6T3bI83Bt27ay2/76wfX8Wz07Vn7yZkIwmrYzMOVqvSa9eR09U5jw+V71zQTJ1yWVjcbqQuL9k1pN1fx8IHgay5WnIbYJkQXJWoTakCOvrXEmBZAyGeSFoi+G9Z+4ziakZkNyjxTi3e/ceP2HwaoNkbqg+/649buAbqZAMa2ee4El4QPB2dHxuuHun81TvgWM7NxTyGiQvrHrfrVicMvyEewAlVhYGrWrcu5E3BbifMmJxmoEcM3CuMzjgxoRnLLyxjx44x23dvMPXae/eD92CqpW+TpwjGySPHzw/usGteW+jmzVhmf+tK5esd9yw8LZbog04P2UxdLr2/U22y73/7gf+wcN+S9zmSYBkQnKAWvrJ+pD+oy258aKFPbtT/YG3mZsqfbJ4H6yQl/WZ49/1usMrnQnJxHsyYuKPm70q7UGNsCPr7wUzVrquzUe5rs1He08yHY3GCU8KIXli5YJIP+/OX5M2XD2oS8qTaCLBA2kPqfwmRin4HZbWrNjoaAPTjh/F2HetkOeDNVtcGCpk14F5kt/679hIk1w74wbN87+T38o+uwYpi3AryuNc7Z+sdHjv7Ldv37rTjX1nXlQPq0+p53GBZLOpmz7Y5tsIqA2TeX0Nis3Laet4dbEXJNo6fGChT+mvAR0nu9mTlkfwii1jlI4+4IGJkTrzOtPXjCBme1AzG7Vu1WavrTeeH+HQrCVCLCjTIHnqyMWO30VCH6FnmWth2YK1dqjjIdaOpwyvoykrIh3hJMFjbbrBU85v2rPPpmL/qYvVOxOSKW/hzPf9+agf95L3lqz37YPdHtV/tqNdSOyn3Rgp5XzcV2hbErrmPsH5rS6lmguSBcklF2F9iT9JkMxwmrXD6hUbvaGwP9ykQ89zbZDMjdrAhJAKK9fmBjMYO9vGHMBg2Npu+uENmmPMgFGv3q3H+2OBHRIGj9g8SxhWyhzZd7Zt8obcDDvgzX4A1hLnsJs+nm68PZmQzM3MEjea0BtEGwJNYT0x+tSB32aGfu3KTf5mQjkMzQNlYTvEZTkJkIzWrL2I9yXRx7Rp6OEFFgwQyEM4BMeZfqzfucmHkMwN1G7y7GuX4e0yeEB7oSeWhzC0zER5BsmcmxszsGDJHgr7v54KyWA7urD6sgyoc8M2bfF7AAYS+QAZ4p5tG7rkOEv2rkAIydTRrkXAwfbZMYwczZ/+XgQVfth9X2jAsvkp8KE+QIiBBxBi/RGHeVwgGU+xJfqRBwoSD18ks1fYFJL1l0Ey27Al1r+sd9s3wmfH4IyYPmZJZGfYjs7oh7lTUmEJbKNMNEgyGLe+whliiYck284c+EXP2DLWzZaSn/NYmegI28nvNE2hUdMu+S105915a/zpsI38PkuVb83w5+AhkYS+QvsOmFOHTEhetA+QOYZzmy5ZJ2RlWK+Zkc3mHsU5u7w00oN56jx7vZ6trkvnpexE2A4NvSxIFiSnXYgNLcD6PF9SINm8tBhFJpJtY7kukAwoEntHwrOW2b6AhCUMbub+cN0gGc8ZRpfhug374GLK8EWOlwUtmdE1jw0GHA81sc4kvCiUzY2EIU+mtk9URoZ72qiU0Q0BH0DOhGR+H2n5wrWOIT1AA28yyR40soVb4G0m8ZsYMmUoEE8NCe9d+Lvjspw0SAYkLQEQm9anvFt4ltAdsGpwmgnJ3MR5YAJmQ0jGg0cCTrq8nBoSD/tn1sRUv5pnOtwXLoeQbPDBTduXvc/bx0gEaenc1b6+/B4DB4bODfoBWzxmaI+4VrSMTrkmSHj1ABQeZg1mgQ3qY9BCfnvgAxaAI/aHD41AMtsywy1oWxLXGPDHefD+2bnD313q5bhAMu1gQMzDEPojEY5D4gGMUDYSsGmhCwbJjDgQctDuyUofJ0w+sxshJHOezHALdGRAiweb/qroOt2fi4cpbKv1EyN6VgfblmtuZU6omO+PRy+WOA+eWxJ65QGOa9AeSlcv3+BHXCx/v/apF7556ETPaLl36+qwtT5tU6MlY99JOTXQLA+sISSHv9PahmvN4N3iurOFW9h1Rn/QPjwcW8IbnqsNGmK7IFmQXFIB1qfIkwLJdrPkhj97301/aM9qj2ldINkMCzfqXDFh5lElZKOm9jdIJk7P8pmnAOjlJRcSBtP2Aw6WMLJmyAd2rH6JyvICGpYMEthnw40Y+UxINm8GMG7lcJMg1QTJ3ORyJYb6raw4zZMGyejUEt4hwgNI6MTaFd2QMiHZPHnkCyHZZ67hRbcZY1Ll8SBn58g2N0jmhm378RaS8GKzjZekSHi7LA+eXBIPnOiEZHW3PDYndISE19C2GYTZC7YhJBuk85Bn+YEwS7kgmQfSXInrzcqKwzxOkGwPXOMr5vuX4eh3bKTZlFH9Uw8a4cvPBsnhqJuNbFjMcW2QHMJrtn5D79ZXNppBP2aOmlgem5tt7du2+otG2GIS0Es4DgmbbcdYmB4jITgsSLk0Y/clINuOZ8TEEl/8CCE5/J0Asx1DfDcpFySHjhsrO5xz7VpZpZgLkgXJJRVgfYo+KZCMRxVDi1eBFzYsBMAMRV0gGU+vhSDkgmAz8hgv85jgzeAmQiiCxZQaJIdftyBMggTsYIgtmVHEE2yJetsNxMCDfHhLmIBkM/TAMFrgpmUgwZvomZDM1zhINtzHMWaoMyGZfKYvi5NjjpelV6vxHt4AOBu+tLxxmScJkvGyGVDygMaNjxsxCe+TtSnDpyQDTfNsAbuWJ4Rk9EjCExt63Cyved7QkYUAsY/tHMuEDiNIDr5ugXeMZJBsIzAGP5Rjcag8wBJfTQqhlnI5F8BgUGJeY45HpyS8waybttE1sfgkttlLfmFYVSYkEzZEGUARiXrzm9EzcIWWsz2MckyppjhBsjkerJ8ZOaBd7OHGbAsP59ZeBskGeGy30QHTidk4e/cj05McekX54gr9he2kv3jg4Vqx82ETLczHymcfo3LYN/RsX+gw2xnGINuxlG8PpHiNrXx7MOOhzfSPlkL7jZ55gDTba15jygiP4TOGZnvRfvg7cZCQH3tuD5/Whtk8yeZtZkSE9uE8vn06T/Xee6t/KeaC5BIakFJ0+MF0zqRAMsNL5kHGYPEiXOiRrQskY6DtZoBxAwYz+xwjZAaWYS68ZAw3WuLlJY6pDZIJW7BhMkIXCJmwIU0DCQMHYsx4UcWGjrlRAVbmmebBAONpUIKxx3CboQYkqBOfVyJRf8q2t9bZZpDM8JwljDhhJVYODxAMBc7cF35BPoORzHYq9XoSIBnIpY0trIb2ZCiZtjPPHSMXtLcBMXnyhWT0axoLvc3WN2jIPFV4roFw4ixN34TlkDcfSLb4ZuCTa9D0T32pR+gpI8zC4kzZD6SaZ5p1HsYI8bGYTBt+DiGZ8BGrJyDDiI15NSnDdGmgxjUFOGEvrE04T/jia7Y2srYqxTxOkMz7CmGatO/Tm0BnmLCP1lbW9gZ4bK8Nkquhe4uzhz972ONY4sYzw47sfMzpY0vogj4mHp1k8fHkM+3kgmR+h6Uls1f5kRC0TeK3hzriGuKBzoCf2GruQRZXzwuq2HeLoScckDqEkMy63UfQOXq2a5NzWhtyLZC4J3CdEQpi5XAf4WHQXo7lfsI1TtmlmgTJJWz8UnX6wXLeJEEyN2FL3BwPBJLpX8CXhLHi5pDZ57xxbzdsOy9P8+GbzQYJuTzJlInHwAynlcMNwD6+j1cw80VEjCMeM47HQHLzDxOGGqhlv8EtdWUdT4vdcDiGG4Udb5BMPruRkcc8QzZcbucCYEIvJ8fFaUoCJFtbMkcHDNFaG+L9Mu8c+4FY67t8IZk4UbxKBgT2pRI7B3O+XmEvIIX1YcTEhrLzgWQe+kzzVg51NsDlXGjJ6mJ5wusDwMncz+iLecHtmjN9GzBYWUCRJYNk8lroioVt0Cb2cpPlR/+Ea4RtU+rlOEEybWFfgaDN7OW88N0KbE/o2S0EkvH0m0eXfuO8jLCZA8H6C6DkGsnsI7QCsBrQWn7qHjo9TGe5IJlyeUHRHtSsHDRuI4i0QaaOcFQwusnxPPwZKNvxODr4jjP7DW5xWLDOS98G9OTnWHs3wSCZkI3wnsG9gusUEA+Tv08EDyyUX4pJkFyihi9FZx9s54wzJAN73PzsZknf4MG1z0VhKG0/sWmZ+TE07LfhVbynrJvBBLLteHtRKbP/MZQMEfL5OYb9OCbMw1AuZeDJtu14J/y24KsGDBXzZQM8MpSDh8LyM8cTAKSwn2MzzxPuJ0QkvNFzE+EYyrUyKZ9tlMdLTIAU63bTs3yABNsZBrRt5CdOlJhmPhdn2+M4jyskAxG0q01oFt1l9jttynArn5zCO4TnlPbnOBuO5abPeviVDHRpZZtWrC+5RkKICfsNnaOfyh5V0ffEbb+NStj1xXZuzHYey8ccjfOJL0KEsv1nPF6WQz/kCbVlZQAQfn+fWf5FXNvOHB1zzhCO+O20D78t/O3hdcA5OdaG9CmLtvFt22+2h5nwPHFZjhskm02jDwwUaSvTQS4bEoZkAYLkN0cA4Qms88Bv7Y5urK9tG9cC+cxO2oOT7c+c8/CHXcU+U+9Mj6rV2R4EOR59sz3cxr0CLaNXc06E50JHXDd4uAH8zPOEOuN+E15/vEvC+eyBjnI5N+dj4gVWu3bDNkTbhJ5wrAF5eB9A13bth3UtxbIgWZAcXdilEGB9njPOkFyfv1tll8bjUOx2jyskF/t3qrzy0Gu2fowbJGero7aVr/6K0beCZEGyIFkaKFsNFMNIlqoMQbJu3qXSXrHOK0iWhoulpVKVI0gWIJUtIMmTLANdKsNajPMKkqXfYuiolGUIkqXhUuqvGOcWJAuSBcnSQNlqoBhGslRlCJIFGKXSXrHOK0iWhoulpVKVI0gWIJUtIMmTLANdKsNajPMKkqXfYuiolGUIkqXhUuqvGOcWJAuSBcnSQNlqoBhGslRlCJIFGKXSXrHOK0iWhoulpVKVI0gWIJUtIMmTLANdKsNajPMKkqXfYuiolGUIkqXhUuqvGOcWJAuSBcnSQNlqoBhGslRlCJIFGKXSXrHOK0iWhoulpVKVI0gWIJUtIMmTLANdKsNajPMKkqXfYuiolGUIkqXhUuqvGOcWJAuSBcnSQNlqoBhGslRlCJIFGKXSXrHOK0iWhoulpVKVI0gWIJUtIMmTLANdKsNajPMKkqXfYuiolGUIkqXhUuqvGOfOCcnr1693jRo1cl8/79vux9/9jSa1QeI0cOInTnaHHnKo++EVtyeu7rrmZHP+7zd/4m3whWdfJv3K/iZSA8cd+0l3+OFHuuuv/HUi6y87LDt86KGN3S233OIsNbKFZcuWeQMNKGtSG0gD0oA0IA1IA9KANCANHGwaOP/88w2NXQTJGzdu9HB8z0//7V7+Wy9NaoPEaeDCsy91F1xwgauqqtKkNkicBgYNGuRtcOfOnRNXd11zsjlo4JJLLnGXX3659Cv7m1gNfPnLX3a//e1vc0Py/bc9XbYxq8WIV1EZ8Y25Iib50ksvdUuWLNGkNkicBkaPHu0huW/fvomru6452Rw08D//8z/u6quvln5lfxOrgW984xuuadOmgmTBbnxht9C+ESTrRp1kWBMkS79J1q8gWfpNun6pvyBZX7co25ECQbKMdJKNtCBZ+k2yfqm7PMnScNI1LEgWJAuSNRSW2KGwpBvgmuovSBZg1KSPJOwTJEvDSdBpTXUUJAuSBcmCZEFyDDUgSBZg1HTzTsI+QbI0nASd1lRHQbIgWZAcQ0Cq6aLVvoPjxiNIPjj6uZyvZ0GyNJx0fQuSBcmCZEGyPMkx1IAgWYCRdMAQJEvDSdewILkeIPmt/451c6eucHMmL3ftn6xMDIS2eazCzZq4zNe9d+vxial3rq9f6MU9GegkG2hBsvSbZP1Sd0GyNJx0DQuSiwzJbZ+odFs2bvff1BvVf07iQLPyrRm+7tu37XIdnhmWuPqHwCxIloFOsoEWJEu/SdavIFn6Tbp+qb8guciQPHP8ux4yVy5ZX3TA7PLyKNen7YT9pk4vjkg7V5eXRroRfWe5EX1muU4vpO8DIls2G+ze6TzVjew3273deapfD+Fy6dzV/jcsmLEyrdwwTxKWBcmFG+levXq5hx56yD3xxBNuzJgx+4Vj9OzZ0zVr1sw988wzbtq0afvtnzlzpnvhhRd8ni5durjFixfvl6ccDGh9/gZBcuH67dOnj+vatauf+vfv77U3f/58x38vzDYtWrQo0if5/vvf/3rttmzZ0i1cuDDaV5/9XY5ly5NcmIYnTJgQ6RcdT58+3WuwoqIiq35HjBiRptHKykr3yCOPuMcee8xhR8pRWw31m8oakidWLnCb1m9zgKtBXcfnhvttbGfZttu81SOD3ZQRi93mDdvdhx9+6Oess93y5JoTWrFn914PmMBsrnyFbicUIluaPGxhdC6WqbelvXs/dGPenhvt5zdvXLfVdvv5hrVbXcdnq73G3V8b47dTTrY2KrT+DX2cILkwA33LLbf4//TWqFEjPz/ssMNcq1atvKFdsGCB++53v5u2/6Mf/ahr06ZNZIjffPNNd+yxx6bl4d/Tzp07N8rTUAYuyecRJBemX/r8tNNOi/THv5Vl2+TJk6Ntpm2bmzZHjRrlTj755LR8n//859348eOl3QLi9gXJhWkY54Npk3mnTp28/m666aa07Zbn3nvvjfTJv1C27cwbN27s/vWvf0X7k2wTS1H3sobkqnFLPewtnPl+BIl4Vi298fz+XtapIxf73cDlulWbLaubNnpJVEYu2Bvao8rn37h+a4152z4+pMb9uco3SP5gzRb37rw10VTZo8qXZ3BLJd5/9wO3ZsXGfb9lb+RRxjtM2rljt1s8e5Wfsz5v2ntpdVrzXurY0QOSFzJi7SdIrruB7t69uzewhx56qPvd737nLrzwQr9+1llneSP79NNPRwb4sssuc6eccopfP/HEEx0AjccYqMA4f/rTn3bf+ta3HGWx/uCDD8pQ1wE0BMl116/dRIEze1DLhORDDjnEXX755WkT3mOO5V8oo9WPfexj/mHw6KOP9us33nijtFsH7Yb9oH9LXXcdv/baa5FtRY+ZkHzGGWek6ZdRO9qcERTyM11wwQXunHPO8cs4OuRRrns/0KaC5IxwCwCUNGPsUg+N4wbNcysWr3MLqmoPPTAonzNlRRpwEqOMV3bmhGUOgCax7Z0uU6N827fudLmmgR0n+3wGyYBruycq3RvPD3ctm1X/O+nxg+f7slcu/SAq10Cf0Avy7ty+2+exMge+McWvE4NscMl8xpjUA8a8qem/JcwT92VBct2NAhD82c9+1v3oRz/yRrd169beyB511FF+/Xvf+55fv+222/w6w4BHHnmk30aIxtChQ/0yRnrcuHE+D14O1jE2dvPUvPa+ESTX3kY16eiOO+7wusuEZMCX8Aq8xjaMTTk85DEqglbbt2/vtUrYBevHH3+8QoYEyQ1qv8KRj0xIJtSNMDdC4cJwoD/84Q9erxdddJHXKzo//fTT/bYnn3yyQetf07WZpH2C5AxIBohJ27bs9DG77Z8amgaPNYHh8oWpYzO9r1s27fBl8mfD2i2R95bQjHb7vn4RZciyQPww5zVIBuTxdJNY7tp8tN+Px5yEN9zqOXtfiMbsSctd55dG+v38AbLJQ4iIpTC22bzieKOtrKTNBckHBhkYsvvuu88b2PPOO88bWPMcv/zyy5HBZR8gQQxc8+bN/TJD1mYIO3To4Lfh2bNtmtfeN4Lk2tuoJh3lgmS8ajbawSjH3Xff7YGCeE90zERMPWVPnDgx2iZPXN37Q+EWdW8z03RNkIwnmRERtHrmmWe6wYMHe71aKNw999wT2VoL0fjFL34RbbNzaF57/wiSMyCZkAX7OgXwuHfPXjd/+nt5felh9fINnjf5QkQIlAbJ5p0m5MNilwft8yYTgpFravlwKh7aIBlAXjJntY+X5oT2kqC9cDdpaHWMMuckEU7R7T+j/TJ/LMa69aMV0bauzUdF9X67U8rDTLxy+FuStCxIrt0A1GQkBwwYEHmJiZEjL2EVGOYWLVpEBverX/2q30Y4xbPPPuuXMeJWdrdu3fw2PM62TfPa+0aQXHsb1aSjXJCMfj/3uc/54WqWmV5//XXXr18/v8y6eeeqqqqibUOGDJF+6+hNFiQXruGaIJmHuyuuuMKHtKHXiy++2GuT9mb9/vvvj7Rq75goZKiwvihrSDZAXBTGJL8YxiTv/+IeENj6kQo3uOs0x3HmsV21bEOtsAiskob3npmW1yC5otv0aPumD7b5vAbUsyYsc7kmwJ169Ws/0Y0eOMdZqEQYg0yd509PxRtPD+Kn+VYziZcXicG2ZB7y158eapvSXtLj95PWvr8pqnOSAJm6CpILMwqAB8DAEDMG9+abb46Gmm3ozmLgyHv22Wf7fAzn2fA08cgGMG3btvX7Kc+2aV573wiSa2+jmnSUCclz5szxcfE8zAEgHGvhQ7/5zW/c8OHDvU7RvH2xhZAh1pn08l7d+0OQXPc2M01ng2Qe5tAvNpV8YQwycfXXXHON1+pdd90V2drrr7/eb7v99tujbXYOzWvvn7KGZDyqJEISWu3zxuK5tdTmsf1foBvWs8qDaO/Wqa9T8Ck1S+bRzQWLS+eu8VmJYw7zRJDctRqSLTbZINnOkW1u4RZDus/woRR8to3y0yD50QpHmAcJsOX38s9B+IoHyc6zdXMq9MNe9hvWa6bfj/c8rDMxzKQwvjncn4RlQXLtBiCbkcQAW2zmT37yEx+rafluuOEGb3Cvu+46D858eojhayBi0KBBPg7ZoGLgwIHeKJsn48orr5SRroMnTpBcmH5Nq5mQPGnSJAc8MOEhJt9VV13ltQsk89LpJz7xCb9uD4F8Qgs9h+FDVr7mtfePILn2Nsqlo2yQ/Nxzz3n98mlCjjNIJvQCSP773//u9coLe/PmzfNhQyeddJLf9tJLL8n+1sH+Wr+UNSR3/c/o6HNo61dtdkDs7t17PPyZdxmPKSEVxCIDfhayADQCnRZnDGyyH48sL+FNHLIgDSrZx+fXSEvnrUnblw8kA6u5JvvWMfBN4jfwQh3xzaT3Fqe+yUxMMb+FBAwTVx4KY2YAABQkSURBVE3atXO3w2NMHavGpb7jjIecUArzlPOiHvttsq9g8DKibUvaXJBcdwPNp94s1o0YYmDYJow2xtkgGHAwmCa8wr6FzFvV5OFlP14CtPwYeDM8mtfeN4Lk2tuoJh1lQjKeZIPgc88911177bWRNjt27Oi1+fOf/9xv47NZhGTYtXDnnXdKuwUAhiC5cA1ng+QHHnjA65PQNTzEp556ql/nE5tcC7w4jXaxuSeccII77rjj/PIxxxzjpkyZIg0XoOGyhmSgjn+YsWcfOHpi3Pd5NING++Tb7l17HJ5iQBN4DNOObbtc33YTPSzaZ9UyQZhz9Wwxzh8GqNoLeWzPB5LzAVDiiBfNWhVWzcclE2tsx+Mh5isZloBl80STh7hn6h4mHgxCrzpxynwijtT/9UlR2XaOpMwFyXU30OaJMLAN53wNABDmpZAjjjjCG1/2A8j2Dxsw1MRuWggG+/E08zUMg+iawEb7qvtMkFzdFoXoIhOSKYOvVhgom7ZvvfXWSJt87YJPG9o+5oyAzJo1S4BRAGAIkgvXcDZI5kHvO9/5Tpo+P/OZz/hRPLtGnnrqKdekSZMoD7BsnmfLo3n+/VL2kAzQ8e+ViQce2rPK9Wo1Pg36AEK+5GBxv+TnP9IR/0voxaA3p3mwNDDEq4vHN9e/bLZPyIUhF4AmL8KF/5ijX/vUNj7jZmXnO+/y8kgfl0xICHXNPI7f1LvNBMd+YpUz97NOGX3bTvTzzP0WYgLcZys/M39c1wXJ+RsCM5oMSRMmkW1i+C7Mx38u6927t/+clm23OUDct29f/31PxXLWvR9oR0FyYe1mGnznnXf8C6b8cxvbxhzQQLt83jDbf5MkDw96fHYLz1x4rJbr1ieC5Lq1V6gv/sENL0gzAczhPvSJfnkp2l4yDffzUMd/OmW//aOccL+W8++XgwKSGxLi7LvDu3bu8S/KNeS5i3EuPOx8M5lEDHQxyixVGYLk/A2BjGb82kqQHL8+0XVStz4RJNetvaSv+LWXIDmIwy0WzPFNYhL/9c5eGCxW2fVdzrL5a33dw/9SWN/nrK/yBcnxMzi6CeTfJ4Lk/NtKuopnWwmS49kvul7y7xdBcj1AMtBHyANTfQFgfZWb1Hpnaw9Bcv6GQEYzfm0lSI5fn+g6qVufCJLr1l7SV/zaS5BcT5CcDdq0rfrrGQ3RFoLk+Bkc3QTy7xNBcv5tJV3Fs60EyfHsF10v+feLIFmQnDhvd76ALUjO3xDIaMavrQTJ8esTXSd16xNBct3aS/qKX3sJkgXJguQCPm0kYxY/Y1ZufSJIlsaSrmlBsjScdA0LkgXJgmRBctrnhZJu1Mql/oJkAUbStSxIloaTrmFBsiBZkCxIFiTHUAOCZAFG0gFDkCwNJ13DgmRBsiA5hoCUdMOi+h/4zVGQfOBtKB2Wtg0FyaVtf+n/wNtfkCxIFiQLkuVJjqEGBMkHfoMTJJS2DQXJpW1/6f/A2z8nJK9atcr/7++PHPVR9+kTTtWkNkicBho3Ptxr+LTTTnNnnnmmJrVBojRwyimneP0ec8wxiaq3rjXZGtNA48aNvYZPP/10aVj2N5EaaNSokbvqqqv8P1njTyNbWrlypRf3EYcf5c45/Sua1AaJ08BRRx7tNXzZZZc5TWqDpGnga1/7mtfvCSecIP3qGk6kBo444gjZYGk3kdq1+wWQfPnllxsaV0Pyxo0bvbjvv+3psh2Oz/d7u8rXsP8EpFjtre8kH/hQk4brSteGCrcoXdtL98Vpe4VbFKcdpcfStWPOcAtBcjLBsFiAWQ7lCJJLZ1hk1A+87QXJB96G0mFp21CQXNr2l/4PvP0FyXpxr2xHCgTJB24gZGRL14aC5NK1vXRfnLYXJBenHaXH0rWjIFmQLEiO4ZcNZBRLZxTj0vaCZGkgLlostB6CZGm4UO3E5ThBsiBZkCxI1ifgYqgBQbIAIy6gUGg9BMnScKHaictxgmRBsiA5hoAUFwOhepTuJidILl3bS/fFaXtBcnHaUXosXTsKkgXJgmRBsjzJMdSAILl0N0ZBSXHaXpBcnHaUHkvXjoJkQbIgOYaAJKNYOqMYl7YXJEsDcdFiofUQJEvDhWonLscJkusBkhfMWOl279rjFs1alSgA7dp8lNu6eYfbuWO3G9BxcqLqnu2Tdfq6hQx0XAxtIfUQJEu/hegmTscIkqXhOOmxkLoIkosMySP6zPL/mWXrph2u3ROViQPNoT2qfP23bdnp2j81NHH1D2FZkCwDXYhRjMsxgmTpNy5aLLQegmRpuFDtxOW4soXkbq+OcT3+d2wa6L3+9FC/rWvz0Vnhr/trqWNCuO3y8kh/DPtCAMu23PbxId4LC2UO7jqt1vzZyqhp24SK+W7m+Hf3m8Lf0+mFEW7GmKVuxeJ1bsmc1W5Ql6n71YNt7CMPed94fkRanhWL1nlQ5lw11Sfu+wTJhRvoOXPmuL/97W/u4osvdhdddJG77777XFVVVRS73KNHD/eDH/zAfeUrX3HXXXede/PNN6N9zz//vLvlllv2m9q2bRvliYsBjHM9BMmF65d+RZO33357NNGe7du3d3fcccd+E1rnmCeffHI/3aLlN954Q9otICxNkFyYht96661It2h4+PDhkf7Q9fe//3339a9/3d14441uwIAB0T40PGPGDPfXv/7VAXeXXHKJe+ihh9zs2bPT8sTZ7sWtbmULyZs3bPegV/nWjAj0RvWf47etXbkp2haC3o7tu/z+tztN8fuB7D179vptowfMyXpMePzw3jN93k3rt9WaNzwu3+X1qzb78jP/9O8wyZ+v43PD3fZtqd8Q5gGu7RyThi4Md/nl7Vt3ug7PDIvyEGpB2rVzt2v9aEW03cpIylyQXJiBxkhdffXV/t/S83/rbeL/17MPQD700EOj7exnvU+fPn7/j3/847R9dvz9998vQ10H0BAkF65fdPrvf/87TYfo8957703bZtr84he/6LWZTffk+cc//iHt1kG7BjqC5MI0zMOaaZN5165dvf5effXVtO3sO+yww1yvXr38/oULF7ovfelL++XBdi9evFgaLkDDguQg3CKE5HZPVrpNH2zzsDh/+sq8QHHx7FU+/9SRi6P8bR6rcO90meonlgHaYT2rXOeXRkZ58Fz3bTsx59Ty4cE+r0HypGEL3bBeM6MJOAZcOS+JenOO2ZOW+/Xdu/d42AV49+xOQT/7yGMPE1NGLIrq07LZ4Ai2DcCTAsZhPQXJhRnoyspKb2QPOeQQ165dO/fss89GRnfcuHHuqquu8uvMhwwZ4s466yy/ftttt3kjbJD8wx/+0HvmMPhM/fr1k5Gug5EWJBemXwM0vHF4gQ02gGS8bi+88EI0ffOb3/T7r732Wq9Ng+SbbropTbtvv/22tFsH7VofCJIL0zBa/dWvfhVp1yD5jDPO8NtoV3R8/vnn+/Vvf/vbXp8tWrTw60ceeaR/sPvTn/4UOTS6d+8uDRegYUFyDkgmHIGE1zlfb+rGdVv9MWGIQ6cXR/ht/Fnz3sZo+cMPP/SQC9T1aTMh2p5twWKDDZLxdI/qP9tPHZ+t9gCvWr7BHz6y32wPvMCugb+H8HYT/f4d23Y59nFuyiGtWrYhgmS2L1+41m8f+/bctO0hhMZ9WZBcmIEeNmyYu+uuu5x5fseOHRsZ66FDh7pmzZr5/X379vVGFxgGRAALbo4GyQz5Acd44TKHBO0mqnnuPhIk526bfHUzYsSISLs20mHHzp07133yk5/0+w1CDJIZon7iiSfcgw8+6AYNGiS4KAAuaGdBcuEanjBhQqRd9Dlx4sRofeTIkV6TXbp08duOOeYYt2DBAvfrX//arxMKZzqnD7DPZs9tu+b59Y0gOQskW0wugNn5xWqPb21QCPiS3nxlVASWISSvX73ZEe5gsMuXJFo2G+SIn162YG3Oqe2+FwDtuL17U+fhXDu373bdX03FSxM2QQq9v0A+Cc+zhYMA6/ZbLLSCF/VsG/MZY5f642ZNWJa2PcwT92VBcn5GoDZj+cADD3gje/LJJ+83ZDdp0iR37LHH+v2vvPJKGiSHIRks2/7azqf9qX4TJB+4fmuCZBsh+cIXvhDp2iA51G7jxo1dy5YtI+iQPvPvF0Fy/m2VqatMSGZkBNhFj5Z3zJgxfhvbyX/llVf69aZNm0Z5bDSF+GU7TvP8+0WQnAWSPR065xbOfD9vQGz18GA7zPHynAFkCMn28h9zS5kvzdlx2eYGye8tXu+GdJ/hVq9Ieab55Bz5LR65/+upGGW2mfcaQLYvb6xZUQ3J5CUB2OE5LXRjzuTladvDPHFfFiTnbwhyGc1OnTr5mDeMMMN7YT5e7uPFEPade+65bt68eX6/eZKB6ueeey6Kbz711FPTjg/L0vL+fSVI3r9N6qqTXJBMfOY555zjtfvoo49GujRIPu200xwvoBp0WMxyXc9/sOcXJBeu4UxIJlwCW3v44YdHeh0/frzfxnaWr7jiCr/++9//Psrzy1/+0m+74YYbom0Huy7r8vvLFpI3rk+FPuBBNZgb+85cD4Srl6eHFth+C02oGveuM69weLzlyzXfu+8lPzzDlieEZIsdJkTCEkDdq9V4D6mAarbJwi14uY4yLPyDlxJJ9iLiun0v9lX2qIrOj7eaNLDjZDfwjSl+ecumHdH+oT1Tn3xb+376y4wzJyzzefEo229J2lyQXLiBxoi0atXKEduGAQ49E+zjDWqMB/tOOukkR6yyGZ5p06Y5QjSmT5/ut1VUVPh85GVI0PJpXnP/CJJrbp989JMLkvlCAHpkmHrmzJmRJqdOneq1i74pn5Ai8oVgks95lSfVd4LkwjWcCcmEWKBFpilTpnh9EkLEOnaa8KGf/exnfv3mm2+ONG3vkNxzzz3RNukz/34pW0i2kAnmvBgHYJpXdUFVyvMKrA56c5rj020AoEEyMb/2FQhedOMrFwaIfG6N/YRJ2DabG5AO6FD9jziyQXKHDEjONyb5vSXrHXHPI/rO8ue2kAjih6kDn2wj4WGmznyRgwTwE7LBy4gG/3zpgzzWJlXj0mHYYrInVi7Y73fa7437XJCcvyEIjSZetn/+85+OF/eYWA7fjAY8zjzzTG+MeXEkBGTKYXjvlFNO8fNFixZ5jxyGnLCMsJzwnFrev68Eyfu3SV11kguSDRzsZVMrl7h6tHvnnXd6reJlRrsnnniiAKOAuGRBcuEazoRkNIpDAj2i2/79+0cvUfOZTvYz2sf+Jk2a+M8Wtm7d2h111FF+G58/NJ1rnn+/lC0kE5ebLeHttbAHi9e1r1eEkAwE28trfAGCbywD0/wnPdKYLC+0EfZACr8vnA8k8xIdZeeaDEYnD1/ky+cPn2ezZJ+5w4Ntn6yzfcz5koWVMWfKinCXX+ZBgP+2Z3nwVNvv7N1mQrTd9idlLkjO3xCERrNbt27eqGJsmfCi2cTb03wb2fYRH2f72E45r732WrT/Ix/5SLTMsF94Hi3X3D+C5JrbJx/9ZINktvHwh4YHDx6cpkmDDPYdffTRkXbvvvvutHz5nFt59OLegWggGyTzErTZ3nCOXeZcs2bNcoS5hftYJlxIo3iF2ZOyhWRArqLbdLdhbSrsAhrk6w985cEgb9HM9z0k4jVmGy+vAdGEJbAOGAPIbHt33hof5vDBmi3eG8tn3awcm1d0ne7Lw6NMjDLbgWSOZ7JwCzzJti2MX7Zycs35FNzEIQv8J974rNuGtVu8tzjM36ftBLd84ToftsH3mvEEW3gG+VhmG5+JI7SDB4FMEOYfoZDYb1/BCM+RlGVBcmFGoWfPno6YzGxThw4d3DXXXJN1H9vtpsBLUbwQxTDgCSec4D1zxDDbfs1r7xtBcu1tVJuOAGK+I8tkX2MBeFm/9NJL99MjIx2PP/6441NbaPdTn/qUI7/F29d2Pu1P7zN5ktPboy76AJJNuzguOJaRuYcfftiP5H384x935513nmvevHmajvkC0fXXX++OP/54b3t/+tOfOl7wq8u5lbe638oakg3mAMNWj6Sg1bbZ3EItbL22OdDY5rFUeEZm3taPVDjifUn2GbbMPHFf5/eZhx3PddzrW1P9BMnVF7qMXvLaQpCcvD7TdZbeZ4Lk9PaQPpLXHgcFJNcEUsXeR4wzaeeO3ZHnuNjnqM/y7OVGPM3885P6PFd9ly1ITp5B0k2kus8EydVtIV0ksy0EycnsN11v1f0mSA4+AVcsaCMkYum8NT6soVhlNkQ5hIHwwh51D19WbIhz18c5BMnVF7qMXvLaQpCcvD7TdZbeZ4Lk9PaQPpLXHoLkeoDk+gA+lbn/10RqaxNBcvIMkm4i1X0mSK5uC+kimW0hSE5mv+l6q+43QbIgOdEhFTWBsiC5+kKX0UteWwiSk9dnus7S+0yQnN4e0kfy2kOQLEgWJBfw/U8Zu+QZu6T1mSBZGkuaZjPrK0iWhjM1kbR1QbIgWZAsSNbngWKoAUGyACNpQJFZX0GyNJypiaStC5IFyYLkGAJS0gyJ6lv8m6EgufhtKp02bJsKkhu2vaXv4re3IFmQLEgWJMuTHEMNCJKLf8MTRDRsmwqSG7a9pe/it7cgWZAsSI4hIMnYFd/YJa1NBcnSQNI0m1lfQbI0nKmJpK0LkgXJgmRBsjzJMdSAIFmAkTSgyKyvIFkaztRE0tZrheRGjRq5Y44+VpPaIHEaQLtMxx13nCa1QeI00KRJE69faVjXb1JtmGywtJtU7Vq90XDTpk39f1LmTyNb2rVrl2vRooUmtUFiNfDnP//Z3Xrrre7FF19M7G/QNXjw2qBXXnnF6/ePf/yj9Cs7nEgNPPDAA17DaFm27OC1ZUnve0b1LEWQbBs0VwuoBdQCagG1gFpALaAWUAsc7C3w/wFhd5VxDya6ZAAAAABJRU5ErkJggg==)"
      ],
      "metadata": {
        "id": "yKbNWjx7BTri"
      }
    },
    {
      "cell_type": "markdown",
      "source": [
        "## **Q11. A random sample of 30 people was selected from a population with an unknown mean and standard deviation. The sample mean was found to be 72 and the sample standard deviation was found to be 10. Conduct a hypothesis test to determine if the population mean is significantly different from 70. Use a significance level of 0.05.**"
      ],
      "metadata": {
        "id": "0L0zx07iBUcj"
      }
    }
  ]
}