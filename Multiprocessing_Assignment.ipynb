{
  "nbformat": 4,
  "nbformat_minor": 0,
  "metadata": {
    "colab": {
      "provenance": [],
      "authorship_tag": "ABX9TyPJeSPENltGFycn2azcEyg6",
      "include_colab_link": true
    },
    "kernelspec": {
      "name": "python3",
      "display_name": "Python 3"
    },
    "language_info": {
      "name": "python"
    }
  },
  "cells": [
    {
      "cell_type": "markdown",
      "metadata": {
        "id": "view-in-github",
        "colab_type": "text"
      },
      "source": [
        "<a href=\"https://colab.research.google.com/github/Sha-98/Data-Science-Masters/blob/main/Multiprocessing_Assignment.ipynb\" target=\"_parent\"><img src=\"https://colab.research.google.com/assets/colab-badge.svg\" alt=\"Open In Colab\"/></a>"
      ]
    },
    {
      "cell_type": "markdown",
      "source": [
        "## Multiprocessing Assignment"
      ],
      "metadata": {
        "id": "vyJuPJA4wEXS"
      }
    },
    {
      "cell_type": "markdown",
      "source": [
        "**Q1. What is multiprocessing in python? Why is it useful?**\n"
      ],
      "metadata": {
        "id": "WDCHK7YmL6ba"
      }
    },
    {
      "cell_type": "markdown",
      "source": [
        "Multiprocessing is a programming paradigm in which multiple processes, each with its own memory space, run concurrently in a computer system. Multiprocessing allows different processes to operate independently, each process runs its own instance of the program and communication between processes is typically achieved through inter-process communication (IPC) mechanisms.\n",
        "\n",
        "The key reason for why multiprocessing is useful are listed as follows:\n",
        "\n",
        "1. Processes: Each task or unit of work or process is encapsulated within a separate process, which is an independent program execution unit. These processes can run concurrently and independently of each other.\n",
        "\n",
        "2. Parallel Execution: Multiple processes like computations, data processing, or multiple request handling are able to be executed parallelly through multiprocessing, allowing them to perform tasks concurrently.\n",
        "\n",
        "3. Resource Utilization: Multiprocessing is a technique developed and used to efficiently utilize the processing power of modern computers, especially multi-core processors (such as quad core or octa core), by distributing tasks across multiple CPU cores.\n",
        "\n",
        "4. Isolation: In multiprocessing, processes are isolated from each other. Which means, that one process’s actions or failures are not affecting other processes directly. This isolated processing enhances system stability.\n",
        "\n",
        "5. Inter-Process Communication (IPC): Mechanisms for inter-process communication, such as shared memory, pipes, queues, and sockets (we will be discussing these with code later in the article), allow processes to exchange data and coordinate their activities.\n",
        "\n",
        "6. Scalability: Multiprocessing can be scaled to harness the power of many processors or even distributed computing clusters for solving computationally intensive problems."
      ],
      "metadata": {
        "id": "N_hnqJCiNF9v"
      }
    },
    {
      "cell_type": "markdown",
      "source": [
        "**Q2. What are the differences between multiprocessing and multithreading?**"
      ],
      "metadata": {
        "id": "GLZElaraL8QU"
      }
    },
    {
      "cell_type": "markdown",
      "source": [
        "Multiprocessing and multithreading are two different approaches to concurrented programming and differ in how they achieve this concurrency. The difference among these approaches at some key features are listed below:\n",
        "\n",
        "**1. Independence**\n",
        "\n",
        "* **Multiprocessing -** In multiprocessing, each process has its own memory space and runs independently. Processes do not share memory, which means that one process cannot directly access the variables or data structure of another process.\n",
        "\n",
        "* **Multithreading -** In multithreading, multiple threads share the same memory space within a process. Threads within a process can directly access shared data,but this requires a careful synchronization in order to avoid data corruption.\n",
        "\n",
        "**2. Resource Utilization -**\n",
        "\n",
        "* **Multiprocessing:** Each process in multiprocessing runs independently and can be scheduled to run on different processors or cores. This allows for better utilization of multiple CPU cores.\n",
        "\n",
        "* **Multithreading:** Threads within a process share the same resources, including CPU time. While multithreading can improve responsiveness in I/O-bound tasks, it may not fully exploit multiple CPU cores for CPU-bound tasks.\n",
        "\n",
        "**3. Communication:**\n",
        "\n",
        "* **Multiprocessing:** Communication between processes is typically achieved through inter-process communication (IPC) mechanisms, such as message passing, shared files, or network protocols.\n",
        "\n",
        "* **Multithreading:** Threads within a process communicate through shared data structures. However, this requires careful synchronization mechanisms, like locks or semaphores, to avoid race conditions and ensure data integrity.\n",
        "\n",
        "**4. Fault Isolation:**\n",
        "\n",
        "Multiprocessing: Processes are isolated from each other in terms of memory space. If one process crashes, it does not affect others.\n",
        "Multithreading: Threads within a process share the same memory space. If one thread writes to shared data without proper synchronization, it can lead to data corruption or crashes affecting other threads.\n",
        "\n",
        "**5. Complexity:**\n",
        "\n",
        "* **Multiprocessing:** Writing concurrent programs using multiprocessing may involve more overhead due to the need for IPC and coordination between processes.\n",
        "\n",
        "* **Multithreading:** Multithreading within a single process is often considered more lightweight, but it requires careful attention to synchronization to avoid threading issues.\n",
        "\n",
        "**6. Use Cases:**\n",
        "\n",
        "* **Multiprocessing:** Well-suited for CPU-bound tasks that can be parallelized. Useful when running on systems with multiple processors or cores.\n",
        "\n",
        "* **Multithreading:** Effective for I/O-bound tasks where threads can overlap I/O operations. Suitable for improving responsiveness in applications that involve waiting for external resources.\n"
      ],
      "metadata": {
        "id": "_iS1S5S6O7-5"
      }
    },
    {
      "cell_type": "markdown",
      "source": [
        "Q3. Write a python code to create a process using the multiprocessing module.\n"
      ],
      "metadata": {
        "id": "awSFAOTfL9w7"
      }
    },
    {
      "cell_type": "code",
      "source": [
        "import multiprocessing\n",
        "import time\n",
        "\n",
        "def print_numbers():\n",
        "    for i in range(5):\n",
        "        time.sleep(1)  # Simulate some work\n",
        "        print(i)\n",
        "\n",
        "if __name__ == \"__main__\":\n",
        "    # Create a new process\n",
        "    new_process = multiprocessing.Process(target=print_numbers)\n",
        "\n",
        "    # Start the process\n",
        "    new_process.start()\n",
        "\n",
        "    # Wait for the process to finish\n",
        "    new_process.join()\n",
        "\n",
        "    print(\"Main process continues...\")"
      ],
      "metadata": {
        "id": "E5TXiU6fXuSt"
      },
      "execution_count": null,
      "outputs": []
    },
    {
      "cell_type": "markdown",
      "source": [
        "Q4. What is a multiprocessing pool in python? Why is it used?\n"
      ],
      "metadata": {
        "id": "GTGPC8RvL_UM"
      }
    },
    {
      "cell_type": "markdown",
      "source": [
        "Q5. How can we create a pool of worker processes in python using the multiprocessing module?\n"
      ],
      "metadata": {
        "id": "KCCsW--bMAej"
      }
    },
    {
      "cell_type": "markdown",
      "source": [
        "Q6. Write a python program to create 4 processes, each process should print a different number using the\n",
        "multiprocessing module in python."
      ],
      "metadata": {
        "id": "lSitjYvgMBuB"
      }
    },
    {
      "cell_type": "code",
      "source": [],
      "metadata": {
        "id": "cjmFgO-gdNhJ"
      },
      "execution_count": null,
      "outputs": []
    },
    {
      "cell_type": "code",
      "source": [],
      "metadata": {
        "id": "-pMGIrcjujVT"
      },
      "execution_count": null,
      "outputs": []
    },
    {
      "cell_type": "code",
      "source": [],
      "metadata": {
        "id": "9uEG5iooujY2"
      },
      "execution_count": null,
      "outputs": []
    }
  ]
}