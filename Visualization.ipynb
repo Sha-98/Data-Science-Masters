{
  "nbformat": 4,
  "nbformat_minor": 0,
  "metadata": {
    "colab": {
      "provenance": [],
      "authorship_tag": "ABX9TyNgTWmCM7uspho460UWgO7H",
      "include_colab_link": true
    },
    "kernelspec": {
      "name": "python3",
      "display_name": "Python 3"
    },
    "language_info": {
      "name": "python"
    }
  },
  "cells": [
    {
      "cell_type": "markdown",
      "metadata": {
        "id": "view-in-github",
        "colab_type": "text"
      },
      "source": [
        "<a href=\"https://colab.research.google.com/github/Sha-98/Data-Science-Masters/blob/main/Visualization.ipynb\" target=\"_parent\"><img src=\"https://colab.research.google.com/assets/colab-badge.svg\" alt=\"Open In Colab\"/></a>"
      ]
    },
    {
      "cell_type": "markdown",
      "source": [
        "# **Visualization**\n"
      ],
      "metadata": {
        "id": "69n0wGAZ683u"
      }
    },
    {
      "cell_type": "markdown",
      "source": [
        "## **Matplotlib.pyplot**"
      ],
      "metadata": {
        "id": "oUcHHCiQfuxp"
      }
    },
    {
      "cell_type": "code",
      "source": [],
      "metadata": {
        "id": "3c_qXzKTfo_E"
      },
      "execution_count": null,
      "outputs": []
    }
  ]
}